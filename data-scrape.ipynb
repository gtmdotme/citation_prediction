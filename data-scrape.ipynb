{
 "cells": [
  {
   "cell_type": "markdown",
   "id": "1c4fc31c-5ba0-49dd-aa4c-3d610ad0fa71",
   "metadata": {},
   "source": [
    "## OpenAlex API - Fetching Data"
   ]
  },
  {
   "cell_type": "code",
   "execution_count": 1,
   "id": "53a9cad9-4a42-4e2b-b9eb-a4caffcae30f",
   "metadata": {},
   "outputs": [
    {
     "name": "stderr",
     "output_type": "stream",
     "text": [
      "[nltk_data] Downloading package punkt to\n",
      "[nltk_data]     /Users/gautamchoudhary/nltk_data...\n",
      "[nltk_data]   Package punkt is already up-to-date!\n"
     ]
    }
   ],
   "source": [
    "# basic\n",
    "import sys\n",
    "import os\n",
    "import json\n",
    "import requests\n",
    "from tqdm import tqdm\n",
    "import ast\n",
    "import numpy as np\n",
    "import pandas as pd\n",
    "\n",
    "# debug\n",
    "import pdb\n",
    "from loguru import logger\n",
    "\n",
    "# custom\n",
    "from parser import work_parser, author_parser, venue_parser, institution_parser, concept_parser\n",
    "from scraper import oa_work_scraper, oa_author_scraper\n",
    "from utils import *"
   ]
  },
  {
   "cell_type": "code",
   "execution_count": 2,
   "id": "1b286401-da04-4e03-9833-47ca303413fa",
   "metadata": {},
   "outputs": [],
   "source": [
    "# 0. OpenAlex API Docs: https://docs.openalex.org/api\n",
    "# 0. OpenAlex API Tutorials: https://github.com/ourresearch/openalex-api-tutorials\n",
    "# 1. additional request packages: https://stackoverflow.com/a/18579484\n",
    "# 2. custom tqdm: https://stackoverflow.com/questions/45808140/using-tqdm-progress-bar-in-a-while-loop \n",
    "# 3. loguru tutorial: https://medium.com/analytics-vidhya/a-quick-guide-to-using-loguru-4042dc5437a5\n",
    "# 3.1 multiple loggers: https://github.com/Delgan/loguru/issues/333"
   ]
  },
  {
   "cell_type": "code",
   "execution_count": 3,
   "id": "d5e13eba-648f-4a2b-af01-f14eb4a600f5",
   "metadata": {},
   "outputs": [
    {
     "name": "stdout",
     "output_type": "stream",
     "text": [
      "Directory already exists!\n"
     ]
    }
   ],
   "source": [
    "YEAR = 2017\n",
    "\n",
    "make_dirs(f'./data/{YEAR}')"
   ]
  },
  {
   "cell_type": "markdown",
   "id": "59fa8030-c1ec-480e-9ebe-e37f78117fb3",
   "metadata": {},
   "source": [
    "### Works"
   ]
  },
  {
   "cell_type": "code",
   "execution_count": 3,
   "id": "c3cea04f-56c1-4a6e-b600-2cf061a0d6ad",
   "metadata": {},
   "outputs": [
    {
     "name": "stdout",
     "output_type": "stream",
     "text": [
      "dry run: {'count': 199293, 'db_response_time_ms': 84, 'page': 1, 'per_page': 25}\n"
     ]
    }
   ],
   "source": [
    "# INIT_PAGE, INIT_CURSOR = 0, '*'\n",
    "INIT_PAGE, INIT_CURSOR = 482, 'IlsyLCAnaHR0cHM6Ly9vcGVuYWxleC5vcmcvVzI3NzAzMTMyMDknXSI='\n",
    "\n",
    "DATA_URL = 'https://api.openalex.org/works?'\\\n",
    "                f'filter=from_publication_date:{YEAR}-01-01,'\\\n",
    "                f'to_publication_date:{YEAR}-12-31,'\\\n",
    "                'has_abstract:true,'\\\n",
    "                'has_references:true,'\\\n",
    "                'is_paratext:false,'\\\n",
    "                'is_retracted:false,'\\\n",
    "                'type:proceedings-article,'\\\n",
    "                'concepts.id:C41008148'\n",
    "\n",
    "# concept id - computer science: https://api.openalex.org/C41008148\n",
    "\n",
    "oa_work_scraper(\n",
    "    data_url = DATA_URL,\n",
    "    parser = work_parser,\n",
    "    email = 'dial.19@simon.edu',\n",
    "    LOG_PATH = f'./data/{YEAR}/log.works.{YEAR}.v1.txt', \n",
    "    DATA_PATH = f'./data/{YEAR}/data.works.{YEAR}.v1.txt', \n",
    "    PER_PAGE = 200,\n",
    "    INIT_PAGE = INIT_PAGE,\n",
    "    INIT_CURSOR = INIT_CURSOR,\n",
    "    dry_run = False,\n",
    ")"
   ]
  },
  {
   "cell_type": "markdown",
   "id": "3ab800d5-e240-4c50-a350-40765cfe1855",
   "metadata": {},
   "source": [
    "### Concepts"
   ]
  },
  {
   "cell_type": "code",
   "execution_count": 4,
   "id": "66782013-ebe7-4ce5-8744-3f39c54287a4",
   "metadata": {},
   "outputs": [
    {
     "name": "stdout",
     "output_type": "stream",
     "text": [
      "dry run: {'count': 65073, 'db_response_time_ms': 38, 'page': 1, 'per_page': 25}\n"
     ]
    },
    {
     "name": "stderr",
     "output_type": "stream",
     "text": [
      "100%|███████████████████████████████████████████████████████████████████████████| 65073/65073 [04:15<00:00, 255.05it/s]"
     ]
    },
    {
     "name": "stdout",
     "output_type": "stream",
     "text": [
      "Last log: \n",
      "  - page: 326, \n",
      "  - cursor: IlswLCAnaHR0cHM6Ly9vcGVuYWxleC5vcmcvQzkzMDk3OTkyJ10i, \n",
      "  - hit_url: https://api.openalex.org/concepts?filter=level:0|1|2|3|4|5&per_page=200&cursor=Ils0NSwgJ2h0dHBzOi8vb3BlbmFsZXgub3JnL0MyNzc3NjkwNjY1J10i\n",
      "Logs saved to file: ./data/2017/log.concepts.2017.v2.txt\n",
      "Data saved to file: ./data/2017/data.concepts.2017.v2.txt\n"
     ]
    },
    {
     "name": "stderr",
     "output_type": "stream",
     "text": [
      "\n"
     ]
    }
   ],
   "source": [
    "INIT_PAGE, INIT_CURSOR = 0, '*'\n",
    "# INIT_PAGE, INIT_CURSOR = 482, 'IlsyLCAnaHR0cHM6Ly9vcGVuYWxleC5vcmcvVzI3NzAzMTMyMDknXSI='\n",
    "\n",
    "DATA_URL = 'https://api.openalex.org/concepts?filter=level:0|1|2|3|4|5'\n",
    "\n",
    "# concept id - computer science: https://api.openalex.org/C41008148\n",
    "\n",
    "oa_work_scraper(\n",
    "    data_url = DATA_URL,\n",
    "    parser = concept_parser,\n",
    "    email = 'dial.19@simon.edu',\n",
    "    LOG_PATH = f'./data/{YEAR}/log.concepts.{YEAR}.v2.txt', \n",
    "    DATA_PATH = f'./data/{YEAR}/data.concepts.{YEAR}.v2.txt', \n",
    "    PER_PAGE = 200,\n",
    "    INIT_PAGE = INIT_PAGE,\n",
    "    INIT_CURSOR = INIT_CURSOR,\n",
    "    dry_run = False,\n",
    ")"
   ]
  },
  {
   "cell_type": "code",
   "execution_count": 4,
   "id": "deb54671-cfc1-447d-937a-367475237fe1",
   "metadata": {},
   "outputs": [],
   "source": [
    "## to resume, check line of log file for {cursor, page, hit_url}"
   ]
  },
  {
   "cell_type": "markdown",
   "id": "95d5a7da-a880-48e3-ae87-0de748b06690",
   "metadata": {},
   "source": [
    "### Reading Data"
   ]
  },
  {
   "cell_type": "code",
   "execution_count": 6,
   "id": "45dd12af-c0fc-46dc-b2a3-e2575964c345",
   "metadata": {},
   "outputs": [],
   "source": [
    "def read_data(file_name):\n",
    "    with open(file_name, 'r', encoding='utf8') as f:\n",
    "        data = [ast.literal_eval(result) for result in tqdm(f.readlines(), desc=f'Reading {file_name}')]\n",
    "    return pd.DataFrame.from_dict(flatten(data))"
   ]
  },
  {
   "cell_type": "code",
   "execution_count": 16,
   "id": "306654b3-67b9-4c92-8141-b4cda6d81856",
   "metadata": {},
   "outputs": [
    {
     "name": "stderr",
     "output_type": "stream",
     "text": [
      "Reading ./data/2017/data.works.2017.v1.txt: 100%|████████████████████████████████████████████████████████████| 997/997 [01:32<00:00, 10.76it/s]\n"
     ]
    }
   ],
   "source": [
    "df = read_data(f'./data/{YEAR}/data.works.{YEAR}.v1.txt')"
   ]
  },
  {
   "cell_type": "code",
   "execution_count": 17,
   "id": "0123f3d8-f7b2-4648-8abd-0737505fefd6",
   "metadata": {},
   "outputs": [
    {
     "name": "stdout",
     "output_type": "stream",
     "text": [
      "(147235, 15)\n"
     ]
    },
    {
     "data": {
      "text/html": [
       "<div>\n",
       "<style scoped>\n",
       "    .dataframe tbody tr th:only-of-type {\n",
       "        vertical-align: middle;\n",
       "    }\n",
       "\n",
       "    .dataframe tbody tr th {\n",
       "        vertical-align: top;\n",
       "    }\n",
       "\n",
       "    .dataframe thead th {\n",
       "        text-align: right;\n",
       "    }\n",
       "</style>\n",
       "<table border=\"1\" class=\"dataframe\">\n",
       "  <thead>\n",
       "    <tr style=\"text-align: right;\">\n",
       "      <th></th>\n",
       "      <th>id</th>\n",
       "      <th>doi</th>\n",
       "      <th>title</th>\n",
       "      <th>type</th>\n",
       "      <th>publication_date</th>\n",
       "      <th>host_venue</th>\n",
       "      <th>open_access_is_oa</th>\n",
       "      <th>open_access_oa_status</th>\n",
       "      <th>authorships</th>\n",
       "      <th>page_count</th>\n",
       "      <th>cited_by_count</th>\n",
       "      <th>concepts</th>\n",
       "      <th>referenced_works</th>\n",
       "      <th>abstract</th>\n",
       "      <th>counts_by_year</th>\n",
       "    </tr>\n",
       "  </thead>\n",
       "  <tbody>\n",
       "    <tr>\n",
       "      <th>0</th>\n",
       "      <td>W2963446712</td>\n",
       "      <td>https://doi.org/10.1109/cvpr.2017.243</td>\n",
       "      <td>Densely Connected Convolutional Networks</td>\n",
       "      <td>proceedings-article</td>\n",
       "      <td>2017-07-21</td>\n",
       "      <td>V4306400194</td>\n",
       "      <td>True</td>\n",
       "      <td>green</td>\n",
       "      <td>[[A2114281204, [I205783295]], [A2566736780, [I...</td>\n",
       "      <td>-1</td>\n",
       "      <td>16035</td>\n",
       "      <td>[[C41008148, 0.8167397], [C185798385, 0.806655...</td>\n",
       "      <td>[W1677182931, W1903029394, W2097117768, W21020...</td>\n",
       "      <td>Recent work has shown that convolutional netwo...</td>\n",
       "      <td>[[2022, 2671], [2021, 4520], [2020, 4269], [20...</td>\n",
       "    </tr>\n",
       "    <tr>\n",
       "      <th>1</th>\n",
       "      <td>W2963150697</td>\n",
       "      <td>https://doi.org/10.1109/iccv.2017.322</td>\n",
       "      <td>Mask R-CNN</td>\n",
       "      <td>proceedings-article</td>\n",
       "      <td>2017-03-20</td>\n",
       "      <td>V4306402512</td>\n",
       "      <td>False</td>\n",
       "      <td>closed</td>\n",
       "      <td>[[A2164292938, [I4210114444]], [A102740216, [I...</td>\n",
       "      <td>-1</td>\n",
       "      <td>11067</td>\n",
       "      <td>[[C41008148, 0.60304093], [C154945302, 0.41181...</td>\n",
       "      <td>[W1536680647, W1903029394, W1923115158, W19602...</td>\n",
       "      <td>We present a conceptually simple, flexible, an...</td>\n",
       "      <td>[[2022, 1721], [2021, 3369], [2020, 3040], [20...</td>\n",
       "    </tr>\n",
       "    <tr>\n",
       "      <th>2</th>\n",
       "      <td>W2962793481</td>\n",
       "      <td>https://doi.org/10.1109/iccv.2017.244</td>\n",
       "      <td>Unpaired Image-to-Image Translation Using Cycl...</td>\n",
       "      <td>proceedings-article</td>\n",
       "      <td>2017-10-01</td>\n",
       "      <td>V4306419272</td>\n",
       "      <td>True</td>\n",
       "      <td>green</td>\n",
       "      <td>[[A2112232458, [I95457486]], [A2604325483, [I9...</td>\n",
       "      <td>-1</td>\n",
       "      <td>9368</td>\n",
       "      <td>[[C2779757391, 0.87979054], [C115961682, 0.661...</td>\n",
       "      <td>[W845365781, W1530781137, W1896934482, W190302...</td>\n",
       "      <td>Image-to-image translation is a class of visio...</td>\n",
       "      <td>[[2022, 1278], [2021, 2657], [2020, 2620], [20...</td>\n",
       "    </tr>\n",
       "    <tr>\n",
       "      <th>3</th>\n",
       "      <td>W2963073614</td>\n",
       "      <td>https://doi.org/10.1109/cvpr.2017.632</td>\n",
       "      <td>Image-to-Image Translation with Conditional Ad...</td>\n",
       "      <td>proceedings-article</td>\n",
       "      <td>2017-07-21</td>\n",
       "      <td>V4306417987</td>\n",
       "      <td>True</td>\n",
       "      <td>green</td>\n",
       "      <td>[[A2077136294, [I95457486]], [A2112232458, [I9...</td>\n",
       "      <td>-1</td>\n",
       "      <td>9104</td>\n",
       "      <td>[[C2779757391, 0.80383134], [C115961682, 0.735...</td>\n",
       "      <td>[W845365781, W1903029394, W1905829557, W197242...</td>\n",
       "      <td>We investigate conditional adversarial network...</td>\n",
       "      <td>[[2022, 1118], [2021, 2501], [2020, 2440], [20...</td>\n",
       "    </tr>\n",
       "    <tr>\n",
       "      <th>4</th>\n",
       "      <td>W2963351448</td>\n",
       "      <td>https://doi.org/10.1109/iccv.2017.324</td>\n",
       "      <td>Focal Loss for Dense Object Detection</td>\n",
       "      <td>proceedings-article</td>\n",
       "      <td>2017-08-07</td>\n",
       "      <td>V4306400194</td>\n",
       "      <td>True</td>\n",
       "      <td>green</td>\n",
       "      <td>[[A2618037599, [I205783295]], [A2642611022, [I...</td>\n",
       "      <td>-1</td>\n",
       "      <td>7809</td>\n",
       "      <td>[[C94915269, 0.8226304], [C41008148, 0.777915]...</td>\n",
       "      <td>[W1536680647, W1903029394, W2031489346, W20369...</td>\n",
       "      <td>The highest accuracy object detectors to date ...</td>\n",
       "      <td>[[2022, 1549], [2021, 2795], [2020, 2048], [20...</td>\n",
       "    </tr>\n",
       "  </tbody>\n",
       "</table>\n",
       "</div>"
      ],
      "text/plain": [
       "            id                                    doi  \\\n",
       "0  W2963446712  https://doi.org/10.1109/cvpr.2017.243   \n",
       "1  W2963150697  https://doi.org/10.1109/iccv.2017.322   \n",
       "2  W2962793481  https://doi.org/10.1109/iccv.2017.244   \n",
       "3  W2963073614  https://doi.org/10.1109/cvpr.2017.632   \n",
       "4  W2963351448  https://doi.org/10.1109/iccv.2017.324   \n",
       "\n",
       "                                               title                 type  \\\n",
       "0           Densely Connected Convolutional Networks  proceedings-article   \n",
       "1                                         Mask R-CNN  proceedings-article   \n",
       "2  Unpaired Image-to-Image Translation Using Cycl...  proceedings-article   \n",
       "3  Image-to-Image Translation with Conditional Ad...  proceedings-article   \n",
       "4              Focal Loss for Dense Object Detection  proceedings-article   \n",
       "\n",
       "  publication_date   host_venue  open_access_is_oa open_access_oa_status  \\\n",
       "0       2017-07-21  V4306400194               True                 green   \n",
       "1       2017-03-20  V4306402512              False                closed   \n",
       "2       2017-10-01  V4306419272               True                 green   \n",
       "3       2017-07-21  V4306417987               True                 green   \n",
       "4       2017-08-07  V4306400194               True                 green   \n",
       "\n",
       "                                         authorships page_count  \\\n",
       "0  [[A2114281204, [I205783295]], [A2566736780, [I...         -1   \n",
       "1  [[A2164292938, [I4210114444]], [A102740216, [I...         -1   \n",
       "2  [[A2112232458, [I95457486]], [A2604325483, [I9...         -1   \n",
       "3  [[A2077136294, [I95457486]], [A2112232458, [I9...         -1   \n",
       "4  [[A2618037599, [I205783295]], [A2642611022, [I...         -1   \n",
       "\n",
       "   cited_by_count                                           concepts  \\\n",
       "0           16035  [[C41008148, 0.8167397], [C185798385, 0.806655...   \n",
       "1           11067  [[C41008148, 0.60304093], [C154945302, 0.41181...   \n",
       "2            9368  [[C2779757391, 0.87979054], [C115961682, 0.661...   \n",
       "3            9104  [[C2779757391, 0.80383134], [C115961682, 0.735...   \n",
       "4            7809  [[C94915269, 0.8226304], [C41008148, 0.777915]...   \n",
       "\n",
       "                                    referenced_works  \\\n",
       "0  [W1677182931, W1903029394, W2097117768, W21020...   \n",
       "1  [W1536680647, W1903029394, W1923115158, W19602...   \n",
       "2  [W845365781, W1530781137, W1896934482, W190302...   \n",
       "3  [W845365781, W1903029394, W1905829557, W197242...   \n",
       "4  [W1536680647, W1903029394, W2031489346, W20369...   \n",
       "\n",
       "                                            abstract  \\\n",
       "0  Recent work has shown that convolutional netwo...   \n",
       "1  We present a conceptually simple, flexible, an...   \n",
       "2  Image-to-image translation is a class of visio...   \n",
       "3  We investigate conditional adversarial network...   \n",
       "4  The highest accuracy object detectors to date ...   \n",
       "\n",
       "                                      counts_by_year  \n",
       "0  [[2022, 2671], [2021, 4520], [2020, 4269], [20...  \n",
       "1  [[2022, 1721], [2021, 3369], [2020, 3040], [20...  \n",
       "2  [[2022, 1278], [2021, 2657], [2020, 2620], [20...  \n",
       "3  [[2022, 1118], [2021, 2501], [2020, 2440], [20...  \n",
       "4  [[2022, 1549], [2021, 2795], [2020, 2048], [20...  "
      ]
     },
     "execution_count": 17,
     "metadata": {},
     "output_type": "execute_result"
    }
   ],
   "source": [
    "print (df.shape)\n",
    "df.head()"
   ]
  },
  {
   "cell_type": "code",
   "execution_count": 18,
   "id": "64ae1a95-0336-495f-8a18-3accae2da19b",
   "metadata": {},
   "outputs": [
    {
     "data": {
      "text/plain": [
       "344607"
      ]
     },
     "execution_count": 18,
     "metadata": {},
     "output_type": "execute_result"
    }
   ],
   "source": [
    "# no. of unique authors\n",
    "authors = np.unique([j \n",
    "                     for i in df['authorships'].map(lambda x: [i[0] for i in x]).tolist() \n",
    "                        for j in i\n",
    "                    ])\n",
    "len(authors)"
   ]
  },
  {
   "cell_type": "code",
   "execution_count": 19,
   "id": "cd9ddcfe-6650-4fe2-a9af-98d2013104d7",
   "metadata": {},
   "outputs": [
    {
     "data": {
      "text/plain": [
       "13227"
      ]
     },
     "execution_count": 19,
     "metadata": {},
     "output_type": "execute_result"
    }
   ],
   "source": [
    "# institutions\n",
    "insts = np.unique([k\n",
    "                   for i in df['authorships'].map(lambda x: [i[1] for i in x]).tolist() \n",
    "                       for j in i\n",
    "                           for k in j\n",
    "                  ])\n",
    "len(insts)"
   ]
  },
  {
   "cell_type": "code",
   "execution_count": 20,
   "id": "d5f46c7e-d882-4f75-ab39-fdb8aaedc00c",
   "metadata": {},
   "outputs": [
    {
     "data": {
      "text/plain": [
       "1854"
      ]
     },
     "execution_count": 20,
     "metadata": {},
     "output_type": "execute_result"
    }
   ],
   "source": [
    "# host venues\n",
    "venues = np.unique(df['host_venue'].tolist())\n",
    "len(venues)"
   ]
  },
  {
   "cell_type": "markdown",
   "id": "96547b95-6389-41a8-ab95-6ffac2e4ae25",
   "metadata": {},
   "source": [
    "### Authors"
   ]
  },
  {
   "cell_type": "code",
   "execution_count": 17,
   "id": "31c0d1c2-daf7-4edd-b8d1-2e247d097dab",
   "metadata": {},
   "outputs": [
    {
     "name": "stderr",
     "output_type": "stream",
     "text": [
      "100%|███████████████████████████████████████████████████████████████████████████████████████████████████▉| 74585/74607 [14:01<00:00, 88.59it/s]"
     ]
    },
    {
     "name": "stdout",
     "output_type": "stream",
     "text": [
      "Last log: \n",
      "  - page: 1492, \n",
      "  - hit_url: https://api.openalex.org/authors?filter=openalex:A9985198|A998713140|A9988965|A998909512|A99930888|A999725237|A999784343&per_page=50\n",
      "Logs saved to file: log.authors.2017.v1.part1.txt\n",
      "Data saved to file: data.authors.2017.v1.part1.txt\n"
     ]
    },
    {
     "name": "stderr",
     "output_type": "stream",
     "text": [
      "\n"
     ]
    }
   ],
   "source": [
    "# authors\n",
    "oa_author_scraper(\n",
    "    data_url='https://api.openalex.org/authors?filter=openalex:',\n",
    "    author_ids=authors[270000:],\n",
    "    parser=author_parser,\n",
    "    email='keyb.1297@wisco.edu',\n",
    "    LOG_PATH=f'./data/{YEAR}/log.authors.{YEAR}.v1.part1.txt', \n",
    "    DATA_PATH=f'./data/{YEAR}/data.authors.{YEAR}.v1.part1.txt'\n",
    ")"
   ]
  },
  {
   "cell_type": "markdown",
   "id": "1ce371d1-38a6-4aba-bd0e-1b3e7a440ea7",
   "metadata": {},
   "source": [
    "### Venues"
   ]
  },
  {
   "cell_type": "code",
   "execution_count": 12,
   "id": "319ebfba-318d-4017-abf7-7cc846420683",
   "metadata": {},
   "outputs": [
    {
     "name": "stderr",
     "output_type": "stream",
     "text": [
      "100%|██████████████████████████████████████████████████████████████████████████████████████████████████████| 1854/1854 [00:19<00:00, 97.04it/s]"
     ]
    },
    {
     "name": "stdout",
     "output_type": "stream",
     "text": [
      "Last log: \n",
      "  - page: 37, \n",
      "  - hit_url: https://api.openalex.org/venues?filter=openalex:V89276529|V8962223|V9551102|V96331937&per_page=50\n",
      "Logs saved to file: log.venues.2017.v1.txt\n",
      "Data saved to file: data.venues.2017.v1.txt\n"
     ]
    },
    {
     "name": "stderr",
     "output_type": "stream",
     "text": [
      "\n"
     ]
    }
   ],
   "source": [
    "# venues\n",
    "oa_author_scraper(\n",
    "    data_url='https://api.openalex.org/venues?filter=openalex:',\n",
    "    author_ids=venues,\n",
    "    parser=venue_parser,\n",
    "    email='watcher.1997@cs.iitr.ac.in',\n",
    "    LOG_PATH=f'./data/{YEAR}/log.venues.{YEAR}.v1.txt', \n",
    "    DATA_PATH=f'./data/{YEAR}/data.venues.{YEAR}.v1.txt'\n",
    ")"
   ]
  },
  {
   "cell_type": "markdown",
   "id": "58069723-2f1e-4786-af09-48e7edefdd52",
   "metadata": {},
   "source": [
    "### Institutions"
   ]
  },
  {
   "cell_type": "code",
   "execution_count": 13,
   "id": "d22cc5a6-1e97-4b65-a4e0-3976b3ea4bfd",
   "metadata": {},
   "outputs": [
    {
     "name": "stderr",
     "output_type": "stream",
     "text": [
      "100%|████████████████████████████████████████████████████████████████████████████████████████████████████| 13227/13227 [02:22<00:00, 92.81it/s]"
     ]
    },
    {
     "name": "stdout",
     "output_type": "stream",
     "text": [
      "Last log: \n",
      "  - page: 264, \n",
      "  - hit_url: https://api.openalex.org/institutions?filter=openalex:I99399873|I99412970|I99418890|I99434035|I99464096|I99490713|I99501251|I99507834|I99542240|I99552915|I99555447|I99561568|I99568074|I99601430|I99613584|I99682543|I99686982|I99712911|I99714305|I99729588|I99731219|I99840328|I99861883|I99908691|I99942243|I99944750|I99977706&per_page=50\n",
      "Logs saved to file: log.insts.2017.v1.txt\n",
      "Data saved to file: data.insts.2017.v1.txt\n"
     ]
    },
    {
     "name": "stderr",
     "output_type": "stream",
     "text": [
      "\n"
     ]
    }
   ],
   "source": [
    "# institutions\n",
    "oa_author_scraper(\n",
    "    data_url='https://api.openalex.org/institutions?filter=openalex:',\n",
    "    author_ids=insts,\n",
    "    parser=institution_parser,\n",
    "    email='watcher.1997@cs.iitr.ac.in',\n",
    "    LOG_PATH=f'./data/{YEAR}/log.insts.{YEAR}.v1.txt', \n",
    "    DATA_PATH=f'./data/{YEAR}/data.insts.{YEAR}.v1.txt'\n",
    ")"
   ]
  },
  {
   "cell_type": "markdown",
   "id": "ad35d1e8-d282-402a-a630-2c4fde11af83",
   "metadata": {},
   "source": [
    "### Converting to DataFrame"
   ]
  },
  {
   "cell_type": "code",
   "execution_count": 21,
   "id": "6624f462-338d-49ee-8d54-faea2fb23c08",
   "metadata": {
    "tags": []
   },
   "outputs": [
    {
     "name": "stderr",
     "output_type": "stream",
     "text": [
      "Reading ./data/2017/raw/data.works.2017.v1.txt: 100%|█| 997/997 [01:31<00:00, 10\n",
      "Reading ./data/2017/raw/data.authors.2017.v1.txt: 100%|█| 6893/6893 [01:24<00:00\n",
      "Reading ./data/2017/raw/data.venues.2017.v1.txt: 100%|█| 38/38 [00:00<00:00, 186\n",
      "Reading ./data/2017/raw/data.insts.2017.v1.txt: 100%|█| 265/265 [00:15<00:00, 17\n"
     ]
    },
    {
     "name": "stdout",
     "output_type": "stream",
     "text": [
      "duplicate works, dropping 163 records\n"
     ]
    }
   ],
   "source": [
    "# Saving to DataFrame for quick loading\n",
    "\n",
    "works = read_data(f'./data/{YEAR}/data.works.{YEAR}.v1.txt')\n",
    "authors = read_data(f'./data/{YEAR}/data.authors.{YEAR}.v1.txt')\n",
    "venues = read_data(f'./data/{YEAR}/data.venues.{YEAR}.v1.txt')\n",
    "insts = read_data(f'./data/{YEAR}/data.insts.{YEAR}.v1.txt')\n",
    "concepts = read_data(f'./data/{YEAR}/data.concepts.{YEAR}.v1.txt')\n",
    "\n",
    "# remove duplicate records\n",
    "if works['id'].nunique() < len(works):\n",
    "    print (f\"duplicate works, dropping {len(works) - works['id'].nunique()} records\")\n",
    "    works.drop_duplicates(['id'], inplace=True)\n",
    "if authors['id'].nunique() < len(authors):\n",
    "    print (f\"duplicate authors, dropping {len(authors) - authors['id'].nunique()} records\")\n",
    "    authors.drop_duplicates(['id'], inplace=True)\n",
    "if venues['id'].nunique() < len(venues):\n",
    "    print (f\"duplicate venues, dropping {len(venues) - venues['id'].nunique()} records\")\n",
    "    venues.drop_duplicates(['id'], inplace=True)\n",
    "if insts['id'].nunique() < len(insts):\n",
    "    print (f\"duplicate insts, dropping {len(insts) - insts['id'].nunique()} records\")\n",
    "    insts.drop_duplicates(['id'], inplace=True)\n",
    "if concepts['id'].nunique() < len(concepts):\n",
    "    print (f\"duplicate concepts, dropping {len(concepts) - concepts['id'].nunique()} records\")\n",
    "    concepts.drop_duplicates(['id'], inplace=True)\n",
    "\n",
    "# save csv\n",
    "works.to_csv(f'./data/{YEAR}/works.{YEAR}.v2.csv', index=None)\n",
    "authors.to_csv(f'./data/{YEAR}/authors.{YEAR}.v2.csv', index=None)\n",
    "venues.to_csv(f'./data/{YEAR}/venues.{YEAR}.v2.csv', index=None)\n",
    "insts.to_csv(f'./data/{YEAR}/insts.{YEAR}.v2.csv', index=None)\n",
    "concepts.to_csv(f'./data/{YEAR}/concepts.{YEAR}.v2.csv', index=None)\n",
    "\n",
    "# save pickle\n",
    "works.to_pickle(f'./data/{YEAR}/works.{YEAR}.v2.pkl')\n",
    "authors.to_pickle(f'./data/{YEAR}/authors.{YEAR}.v2.pkl')\n",
    "venues.to_pickle(f'./data/{YEAR}/venues.{YEAR}.v2.pkl')\n",
    "insts.to_pickle(f'./data/{YEAR}/insts.{YEAR}.v2.pkl')\n",
    "concepts.to_pickle(f'./data/{YEAR}/concepts.{YEAR}.v2.pkl')"
   ]
  },
  {
   "cell_type": "code",
   "execution_count": null,
   "id": "b6cca7f5-a250-450b-961c-e0fa6e0146f1",
   "metadata": {},
   "outputs": [],
   "source": []
  },
  {
   "cell_type": "code",
   "execution_count": null,
   "id": "f5593f03-2fad-4e80-8e1d-2f589f31058b",
   "metadata": {},
   "outputs": [],
   "source": []
  }
 ],
 "metadata": {
  "kernelspec": {
   "display_name": "Python (myenv)",
   "language": "python",
   "name": "myenv"
  },
  "language_info": {
   "codemirror_mode": {
    "name": "ipython",
    "version": 3
   },
   "file_extension": ".py",
   "mimetype": "text/x-python",
   "name": "python",
   "nbconvert_exporter": "python",
   "pygments_lexer": "ipython3",
   "version": "3.9.15"
  }
 },
 "nbformat": 4,
 "nbformat_minor": 5
}
