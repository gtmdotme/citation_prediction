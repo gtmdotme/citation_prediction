{
 "cells": [
  {
   "cell_type": "markdown",
   "id": "1c4fc31c-5ba0-49dd-aa4c-3d610ad0fa71",
   "metadata": {},
   "source": [
    "## OpenAlex API - Fetching Data"
   ]
  },
  {
   "cell_type": "code",
   "execution_count": 1,
   "id": "53a9cad9-4a42-4e2b-b9eb-a4caffcae30f",
   "metadata": {},
   "outputs": [],
   "source": [
    "# basic\n",
    "import sys\n",
    "import os\n",
    "import json\n",
    "import requests\n",
    "from tqdm import tqdm\n",
    "import ast\n",
    "import numpy as np\n",
    "import pandas as pd\n",
    "\n",
    "# debug\n",
    "import pdb\n",
    "from loguru import logger\n",
    "\n",
    "# custom\n",
    "from parser import work_parser, author_parser, venue_parser, institution_parser\n",
    "from scraper import oa_work_scraper, oa_author_scraper"
   ]
  },
  {
   "cell_type": "code",
   "execution_count": 2,
   "id": "1b286401-da04-4e03-9833-47ca303413fa",
   "metadata": {},
   "outputs": [],
   "source": [
    "# 0. OpenAlex API Docs: https://docs.openalex.org/api\n",
    "# 0. OpenAlex API Tutorials: https://github.com/ourresearch/openalex-api-tutorials\n",
    "# 1. additional request packages: https://stackoverflow.com/a/18579484\n",
    "# 2. custom tqdm: https://stackoverflow.com/questions/45808140/using-tqdm-progress-bar-in-a-while-loop \n",
    "# 3. loguru tutorial: https://medium.com/analytics-vidhya/a-quick-guide-to-using-loguru-4042dc5437a5\n",
    "# 3.1 multiple loggers: https://github.com/Delgan/loguru/issues/333"
   ]
  },
  {
   "cell_type": "markdown",
   "id": "59fa8030-c1ec-480e-9ebe-e37f78117fb3",
   "metadata": {},
   "source": [
    "### Works"
   ]
  },
  {
   "cell_type": "code",
   "execution_count": 3,
   "id": "c3cea04f-56c1-4a6e-b600-2cf061a0d6ad",
   "metadata": {},
   "outputs": [
    {
     "name": "stdout",
     "output_type": "stream",
     "text": [
      "dry run: {'count': 164444, 'db_response_time_ms': 297, 'page': 1, 'per_page': 25}\n"
     ]
    },
    {
     "name": "stderr",
     "output_type": "stream",
     "text": [
      "100%|█████████████████████████████████████████████████████████████████████████████████████████████████| 164444/164444 [17:26<00:00, 157.11it/s]"
     ]
    },
    {
     "name": "stdout",
     "output_type": "stream",
     "text": [
      "Last log: \n",
      "  - page: 823, \n",
      "  - cursor: IlswLCAnaHR0cHM6Ly9vcGVuYWxleC5vcmcvVzk5OTM2NDYwNyddIg==, \n",
      "  - hit_url: https://api.openalex.org/works?filter=from_publication_date:2012-01-01,to_publication_date:2012-12-31,has_abstract:true,has_references:true,is_paratext:false,is_retracted:false,type:proceedings-article,concepts.id:C41008148&per_page=200&cursor=IlswLCAnaHR0cHM6Ly9vcGVuYWxleC5vcmcvVzc1ODQ3OTc0NiddIg==\n",
      "Logs saved to file: ./log.works.2012.v1.txt\n",
      "Data saved to file: ./data.works.2012.v1.txt\n"
     ]
    },
    {
     "name": "stderr",
     "output_type": "stream",
     "text": [
      "\n"
     ]
    }
   ],
   "source": [
    "INIT_PAGE, INIT_CURSOR = 0, '*'\n",
    "# INIT_PAGE, INIT_CURSOR = 298, 'Ils5MCwgJ2h0dHBzOi8vb3BlbmFsZXgub3JnL1cyNjI0MTg2MjY4J10i'\n",
    "\n",
    "DATA_URL = 'https://api.openalex.org/works?'\\\n",
    "                'filter=from_publication_date:2012-01-01,'\\\n",
    "                'to_publication_date:2012-12-31,'\\\n",
    "                'has_abstract:true,'\\\n",
    "                'has_references:true,'\\\n",
    "                'is_paratext:false,'\\\n",
    "                'is_retracted:false,'\\\n",
    "                'type:proceedings-article,'\\\n",
    "                'concepts.id:C41008148'\n",
    "\n",
    "# concept id - computer science: https://api.openalex.org/C41008148\n",
    "\n",
    "oa_work_scraper(\n",
    "    data_url = DATA_URL,\n",
    "    parser = work_parser,\n",
    "    email = 'watcher.1997@cs.iitr.ac.in',\n",
    "    LOG_PATH = './log.works.2012.v1.txt', \n",
    "    DATA_PATH = './data.works.2012.v1.txt', \n",
    "    PER_PAGE = 200,\n",
    "    INIT_PAGE = INIT_PAGE,\n",
    "    INIT_CURSOR = INIT_CURSOR,\n",
    "    dry_run = False,\n",
    ")"
   ]
  },
  {
   "cell_type": "code",
   "execution_count": null,
   "id": "deb54671-cfc1-447d-937a-367475237fe1",
   "metadata": {},
   "outputs": [],
   "source": [
    "## to resume, check line of log file for {cursor, page, hit_url}"
   ]
  },
  {
   "cell_type": "markdown",
   "id": "95d5a7da-a880-48e3-ae87-0de748b06690",
   "metadata": {},
   "source": [
    "### Reading Data"
   ]
  },
  {
   "cell_type": "code",
   "execution_count": 2,
   "id": "306654b3-67b9-4c92-8141-b4cda6d81856",
   "metadata": {},
   "outputs": [
    {
     "name": "stderr",
     "output_type": "stream",
     "text": [
      "100%|████████████████████████████████████████████████████████████████████████████████████████████████████████| 823/823 [00:24<00:00, 33.83it/s]\n"
     ]
    }
   ],
   "source": [
    "DATA_FILE = './data.works.2012.v1.txt'\n",
    "with open(DATA_FILE, 'r') as f:\n",
    "    works = [ast.literal_eval(work) for work in tqdm(f.readlines())]"
   ]
  },
  {
   "cell_type": "code",
   "execution_count": 3,
   "id": "0123f3d8-f7b2-4648-8abd-0737505fefd6",
   "metadata": {},
   "outputs": [
    {
     "name": "stdout",
     "output_type": "stream",
     "text": [
      "(128097, 15)\n"
     ]
    },
    {
     "data": {
      "text/html": [
       "<div>\n",
       "<style scoped>\n",
       "    .dataframe tbody tr th:only-of-type {\n",
       "        vertical-align: middle;\n",
       "    }\n",
       "\n",
       "    .dataframe tbody tr th {\n",
       "        vertical-align: top;\n",
       "    }\n",
       "\n",
       "    .dataframe thead th {\n",
       "        text-align: right;\n",
       "    }\n",
       "</style>\n",
       "<table border=\"1\" class=\"dataframe\">\n",
       "  <thead>\n",
       "    <tr style=\"text-align: right;\">\n",
       "      <th></th>\n",
       "      <th>id</th>\n",
       "      <th>doi</th>\n",
       "      <th>title</th>\n",
       "      <th>type</th>\n",
       "      <th>publication_date</th>\n",
       "      <th>host_venue</th>\n",
       "      <th>open_access_is_oa</th>\n",
       "      <th>open_access_oa_status</th>\n",
       "      <th>authorships</th>\n",
       "      <th>page_count</th>\n",
       "      <th>cited_by_count</th>\n",
       "      <th>concepts</th>\n",
       "      <th>referenced_works</th>\n",
       "      <th>abstract</th>\n",
       "      <th>counts_by_year</th>\n",
       "    </tr>\n",
       "  </thead>\n",
       "  <tbody>\n",
       "    <tr>\n",
       "      <th>0</th>\n",
       "      <td>W2150066425</td>\n",
       "      <td>https://doi.org/10.1109/cvpr.2012.6248074</td>\n",
       "      <td>Are we ready for autonomous driving? The KITTI...</td>\n",
       "      <td>proceedings-article</td>\n",
       "      <td>2012-06-16</td>\n",
       "      <td>V4306417987</td>\n",
       "      <td>False</td>\n",
       "      <td>closed</td>\n",
       "      <td>[[A2182886034, [I102335020]], [A2167431718, [I...</td>\n",
       "      <td>-1</td>\n",
       "      <td>6636</td>\n",
       "      <td>[[C154945302, 0.7994821], [C5799516, 0.7514366...</td>\n",
       "      <td>[W1578985305, W1964814179, W1968799614, W19903...</td>\n",
       "      <td>Today, visual recognition systems are still ra...</td>\n",
       "      <td>[[2022, 570], [2021, 1427], [2020, 1363], [201...</td>\n",
       "    </tr>\n",
       "    <tr>\n",
       "      <th>1</th>\n",
       "      <td>W2158782408</td>\n",
       "      <td>https://doi.org/10.1109/iros.2012.6386109</td>\n",
       "      <td>MuJoCo: A physics engine for model-based control</td>\n",
       "      <td>proceedings-article</td>\n",
       "      <td>2012-12-24</td>\n",
       "      <td>V4306418941</td>\n",
       "      <td>False</td>\n",
       "      <td>closed</td>\n",
       "      <td>[[A2028747364, [I201448701]], [A2086424281, [I...</td>\n",
       "      <td>-1</td>\n",
       "      <td>2177</td>\n",
       "      <td>[[C190390380, 0.9146959], [C169590947, 0.71768...</td>\n",
       "      <td>[W154144259, W639693478, W1992116952, W2004116...</td>\n",
       "      <td>We describe a new physics engine tailored to m...</td>\n",
       "      <td>[[2022, 155], [2021, 616], [2020, 601], [2019,...</td>\n",
       "    </tr>\n",
       "    <tr>\n",
       "      <th>2</th>\n",
       "      <td>W2141125852</td>\n",
       "      <td>https://doi.org/10.1109/cvpr.2012.6248110</td>\n",
       "      <td>Multi-column deep neural networks for image cl...</td>\n",
       "      <td>proceedings-article</td>\n",
       "      <td>2012-06-16</td>\n",
       "      <td>V4306417987</td>\n",
       "      <td>True</td>\n",
       "      <td>green</td>\n",
       "      <td>[[A1966905718, [I2614128279]], [A2343548174, [...</td>\n",
       "      <td>-1</td>\n",
       "      <td>1970</td>\n",
       "      <td>[[C190502265, 0.8540422], [C41008148, 0.794758...</td>\n",
       "      <td>[W1601963269, W1968995181, W1987778624, W20268...</td>\n",
       "      <td>Traditional methods of computer vision and mac...</td>\n",
       "      <td>[[2022, 126], [2021, 237], [2020, 269], [2019,...</td>\n",
       "    </tr>\n",
       "    <tr>\n",
       "      <th>3</th>\n",
       "      <td>W2021851106</td>\n",
       "      <td>https://doi.org/10.1109/iros.2012.6385773</td>\n",
       "      <td>A benchmark for the evaluation of RGB-D SLAM s...</td>\n",
       "      <td>proceedings-article</td>\n",
       "      <td>2012-12-24</td>\n",
       "      <td>V4306418941</td>\n",
       "      <td>True</td>\n",
       "      <td>green</td>\n",
       "      <td>[[A2973958393, [I62916508]], [A1927103669, [I3...</td>\n",
       "      <td>-1</td>\n",
       "      <td>1901</td>\n",
       "      <td>[[C31972630, 0.78334284], [C154945302, 0.75840...</td>\n",
       "      <td>[W1514909517, W1556098723, W1656165940, W19652...</td>\n",
       "      <td>In this paper, we present a novel benchmark fo...</td>\n",
       "      <td>[[2022, 142], [2021, 317], [2020, 330], [2019,...</td>\n",
       "    </tr>\n",
       "    <tr>\n",
       "      <th>4</th>\n",
       "      <td>W2100960835</td>\n",
       "      <td>https://doi.org/10.1145/2090236.2090255</td>\n",
       "      <td>Fairness through awareness</td>\n",
       "      <td>proceedings-article</td>\n",
       "      <td>2012-01-08</td>\n",
       "      <td>V4306418069</td>\n",
       "      <td>True</td>\n",
       "      <td>green</td>\n",
       "      <td>[[A208343995, [I1290206253]], [A2301637896, [I...</td>\n",
       "      <td>-1</td>\n",
       "      <td>1655</td>\n",
       "      <td>[[C41008148, 0.59133285], [C95623464, 0.542300...</td>\n",
       "      <td>[W178579835, W632002811, W1599656298, W1873763...</td>\n",
       "      <td>We study fairness in classification, where ind...</td>\n",
       "      <td>[[2022, 229], [2021, 453], [2020, 353], [2019,...</td>\n",
       "    </tr>\n",
       "  </tbody>\n",
       "</table>\n",
       "</div>"
      ],
      "text/plain": [
       "            id                                        doi  \\\n",
       "0  W2150066425  https://doi.org/10.1109/cvpr.2012.6248074   \n",
       "1  W2158782408  https://doi.org/10.1109/iros.2012.6386109   \n",
       "2  W2141125852  https://doi.org/10.1109/cvpr.2012.6248110   \n",
       "3  W2021851106  https://doi.org/10.1109/iros.2012.6385773   \n",
       "4  W2100960835    https://doi.org/10.1145/2090236.2090255   \n",
       "\n",
       "                                               title                 type  \\\n",
       "0  Are we ready for autonomous driving? The KITTI...  proceedings-article   \n",
       "1   MuJoCo: A physics engine for model-based control  proceedings-article   \n",
       "2  Multi-column deep neural networks for image cl...  proceedings-article   \n",
       "3  A benchmark for the evaluation of RGB-D SLAM s...  proceedings-article   \n",
       "4                         Fairness through awareness  proceedings-article   \n",
       "\n",
       "  publication_date   host_venue  open_access_is_oa open_access_oa_status  \\\n",
       "0       2012-06-16  V4306417987              False                closed   \n",
       "1       2012-12-24  V4306418941              False                closed   \n",
       "2       2012-06-16  V4306417987               True                 green   \n",
       "3       2012-12-24  V4306418941               True                 green   \n",
       "4       2012-01-08  V4306418069               True                 green   \n",
       "\n",
       "                                         authorships page_count  \\\n",
       "0  [[A2182886034, [I102335020]], [A2167431718, [I...         -1   \n",
       "1  [[A2028747364, [I201448701]], [A2086424281, [I...         -1   \n",
       "2  [[A1966905718, [I2614128279]], [A2343548174, [...         -1   \n",
       "3  [[A2973958393, [I62916508]], [A1927103669, [I3...         -1   \n",
       "4  [[A208343995, [I1290206253]], [A2301637896, [I...         -1   \n",
       "\n",
       "   cited_by_count                                           concepts  \\\n",
       "0            6636  [[C154945302, 0.7994821], [C5799516, 0.7514366...   \n",
       "1            2177  [[C190390380, 0.9146959], [C169590947, 0.71768...   \n",
       "2            1970  [[C190502265, 0.8540422], [C41008148, 0.794758...   \n",
       "3            1901  [[C31972630, 0.78334284], [C154945302, 0.75840...   \n",
       "4            1655  [[C41008148, 0.59133285], [C95623464, 0.542300...   \n",
       "\n",
       "                                    referenced_works  \\\n",
       "0  [W1578985305, W1964814179, W1968799614, W19903...   \n",
       "1  [W154144259, W639693478, W1992116952, W2004116...   \n",
       "2  [W1601963269, W1968995181, W1987778624, W20268...   \n",
       "3  [W1514909517, W1556098723, W1656165940, W19652...   \n",
       "4  [W178579835, W632002811, W1599656298, W1873763...   \n",
       "\n",
       "                                            abstract  \\\n",
       "0  Today, visual recognition systems are still ra...   \n",
       "1  We describe a new physics engine tailored to m...   \n",
       "2  Traditional methods of computer vision and mac...   \n",
       "3  In this paper, we present a novel benchmark fo...   \n",
       "4  We study fairness in classification, where ind...   \n",
       "\n",
       "                                      counts_by_year  \n",
       "0  [[2022, 570], [2021, 1427], [2020, 1363], [201...  \n",
       "1  [[2022, 155], [2021, 616], [2020, 601], [2019,...  \n",
       "2  [[2022, 126], [2021, 237], [2020, 269], [2019,...  \n",
       "3  [[2022, 142], [2021, 317], [2020, 330], [2019,...  \n",
       "4  [[2022, 229], [2021, 453], [2020, 353], [2019,...  "
      ]
     },
     "execution_count": 3,
     "metadata": {},
     "output_type": "execute_result"
    }
   ],
   "source": [
    "works_x = [j for i in works for j in i]\n",
    "df = pd.DataFrame.from_dict(works_x)\n",
    "print (df.shape)\n",
    "df.head()"
   ]
  },
  {
   "cell_type": "code",
   "execution_count": 4,
   "id": "64ae1a95-0336-495f-8a18-3accae2da19b",
   "metadata": {},
   "outputs": [
    {
     "data": {
      "text/plain": [
       "282636"
      ]
     },
     "execution_count": 4,
     "metadata": {},
     "output_type": "execute_result"
    }
   ],
   "source": [
    "# no. of unique authors\n",
    "authors = np.unique([j \n",
    "                     for i in df['authorships'].map(lambda x: [i[0] for i in x]).tolist() \n",
    "                        for j in i\n",
    "                    ])\n",
    "len(authors)"
   ]
  },
  {
   "cell_type": "code",
   "execution_count": 5,
   "id": "cd9ddcfe-6650-4fe2-a9af-98d2013104d7",
   "metadata": {},
   "outputs": [
    {
     "data": {
      "text/plain": [
       "12015"
      ]
     },
     "execution_count": 5,
     "metadata": {},
     "output_type": "execute_result"
    }
   ],
   "source": [
    "# institutions\n",
    "insts = np.unique([k\n",
    "                   for i in df['authorships'].map(lambda x: [i[1] for i in x]).tolist() \n",
    "                       for j in i\n",
    "                           for k in j\n",
    "                  ])\n",
    "len(insts)"
   ]
  },
  {
   "cell_type": "code",
   "execution_count": 6,
   "id": "d5f46c7e-d882-4f75-ab39-fdb8aaedc00c",
   "metadata": {},
   "outputs": [
    {
     "data": {
      "text/plain": [
       "1713"
      ]
     },
     "execution_count": 6,
     "metadata": {},
     "output_type": "execute_result"
    }
   ],
   "source": [
    "# host venues\n",
    "venues = np.unique(df['host_venue'].tolist())\n",
    "len(venues)"
   ]
  },
  {
   "cell_type": "markdown",
   "id": "96547b95-6389-41a8-ab95-6ffac2e4ae25",
   "metadata": {},
   "source": [
    "### Authors"
   ]
  },
  {
   "cell_type": "code",
   "execution_count": 13,
   "id": "31c0d1c2-daf7-4edd-b8d1-2e247d097dab",
   "metadata": {},
   "outputs": [
    {
     "name": "stderr",
     "output_type": "stream",
     "text": [
      "100%|███████████████████████████████████████████████████████████████████████████████████████████████████▉| 92588/92636 [18:08<00:00, 85.08it/s]"
     ]
    },
    {
     "name": "stdout",
     "output_type": "stream",
     "text": [
      "Last log: \n",
      "  - page: 1852, \n",
      "  - hit_url: https://api.openalex.org/authors?filter=openalex:A99512508|A99531987|A99533699|A995615555|A99562039|A995647421|A995685755|A995843601|A996043393|A996076943|A99634055|A99643244|A996611473|A997073975|A99770489|A997748992|A997878525|A997880244|A998162854|A99825556|A998286317|A99843963|A9985198|A99871570|A99883087|A998882806|A998909512|A99906037|A999226360|A999235383|A999507011|A999665357|A99967126|A99975585|A999838833|A9999165&per_page=50\n",
      "Logs saved to file: log.authors.2012.v3.part3.txt\n",
      "Data saved to file: data.authors.2012.v3.part3.txt\n"
     ]
    },
    {
     "name": "stderr",
     "output_type": "stream",
     "text": [
      "\n"
     ]
    }
   ],
   "source": [
    "# authors\n",
    "oa_author_scraper(\n",
    "    data_url='https://api.openalex.org/authors?filter=openalex:',\n",
    "    author_ids=authors[190000:],\n",
    "    parser=author_parser,\n",
    "    email='laptop.1997@wisconsin.edu',\n",
    "    LOG_PATH='log.authors.2012.v3.part3.txt', \n",
    "    DATA_PATH='data.authors.2012.v3.part3.txt'\n",
    ")"
   ]
  },
  {
   "cell_type": "markdown",
   "id": "1ce371d1-38a6-4aba-bd0e-1b3e7a440ea7",
   "metadata": {},
   "source": [
    "### Venues"
   ]
  },
  {
   "cell_type": "code",
   "execution_count": 11,
   "id": "319ebfba-318d-4017-abf7-7cc846420683",
   "metadata": {},
   "outputs": [
    {
     "name": "stderr",
     "output_type": "stream",
     "text": [
      "100%|██████████████████████████████████████████████████████████████████████████████████████████████████████| 1713/1713 [00:18<00:00, 91.71it/s]"
     ]
    },
    {
     "name": "stdout",
     "output_type": "stream",
     "text": [
      "Last log: \n",
      "  - page: 34, \n",
      "  - hit_url: https://api.openalex.org/venues?filter=openalex:V4306534857|V4306534858|V4306534922|V43295729|V44569693|V46576051|V49974971|V50690046|V5240358|V61861333|V80171551|V897311980|V998850158&per_page=50\n",
      "Logs saved to file: log.venues.2012.v1.txt\n",
      "Data saved to file: data.venues.2012.v1.txt\n"
     ]
    },
    {
     "name": "stderr",
     "output_type": "stream",
     "text": [
      "\n"
     ]
    }
   ],
   "source": [
    "# venues\n",
    "oa_author_scraper(\n",
    "    data_url='https://api.openalex.org/venues?filter=openalex:',\n",
    "    author_ids=venues,\n",
    "    parser=venue_parser,\n",
    "    email='watcher.1997@cs.iitr.ac.in',\n",
    "    LOG_PATH='log.venues.2012.v1.txt', \n",
    "    DATA_PATH='data.venues.2012.v1.txt'\n",
    ")"
   ]
  },
  {
   "cell_type": "markdown",
   "id": "58069723-2f1e-4786-af09-48e7edefdd52",
   "metadata": {},
   "source": [
    "### Institutions"
   ]
  },
  {
   "cell_type": "code",
   "execution_count": 12,
   "id": "d22cc5a6-1e97-4b65-a4e0-3976b3ea4bfd",
   "metadata": {},
   "outputs": [
    {
     "name": "stderr",
     "output_type": "stream",
     "text": [
      "100%|████████████████████████████████████████████████████████████████████████████████████████████████████| 12015/12015 [02:15<00:00, 88.78it/s]"
     ]
    },
    {
     "name": "stdout",
     "output_type": "stream",
     "text": [
      "Last log: \n",
      "  - page: 240, \n",
      "  - hit_url: https://api.openalex.org/institutions?filter=openalex:I99568074|I99601430|I99613584|I99677737|I99682543|I99686982|I99712911|I99729588|I99731219|I99861883|I99908691|I99939339|I99942243|I99977706|I99978038&per_page=50\n",
      "Logs saved to file: log.insts.2012.v1.txt\n",
      "Data saved to file: data.insts.2012.v1.txt\n"
     ]
    },
    {
     "name": "stderr",
     "output_type": "stream",
     "text": [
      "\n"
     ]
    }
   ],
   "source": [
    "# institutions\n",
    "oa_author_scraper(\n",
    "    data_url='https://api.openalex.org/institutions?filter=openalex:',\n",
    "    author_ids=insts,\n",
    "    parser=institution_parser,\n",
    "    email='watcher.1997@cs.iitr.ac.in',\n",
    "    LOG_PATH='log.insts.2012.v1.txt', \n",
    "    DATA_PATH='data.insts.2012.v1.txt'\n",
    ")"
   ]
  },
  {
   "cell_type": "code",
   "execution_count": null,
   "id": "24f4ab0e-5a32-42ef-a42c-eefaf07a3aec",
   "metadata": {},
   "outputs": [],
   "source": []
  },
  {
   "cell_type": "code",
   "execution_count": null,
   "id": "6624f462-338d-49ee-8d54-faea2fb23c08",
   "metadata": {},
   "outputs": [],
   "source": []
  }
 ],
 "metadata": {
  "kernelspec": {
   "display_name": "Python (myenv)",
   "language": "python",
   "name": "myenv"
  },
  "language_info": {
   "codemirror_mode": {
    "name": "ipython",
    "version": 3
   },
   "file_extension": ".py",
   "mimetype": "text/x-python",
   "name": "python",
   "nbconvert_exporter": "python",
   "pygments_lexer": "ipython3",
   "version": "3.9.13"
  }
 },
 "nbformat": 4,
 "nbformat_minor": 5
}
