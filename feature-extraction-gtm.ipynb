{
 "cells": [
  {
   "cell_type": "markdown",
   "id": "e2f68347-52ca-4197-bd25-1c7c2e91e99c",
   "metadata": {},
   "source": [
    "## Modeling - Citation Prediction"
   ]
  },
  {
   "cell_type": "code",
   "execution_count": 1,
   "id": "bdf867e6-99b7-4450-9e25-1f4ab648b89b",
   "metadata": {},
   "outputs": [
    {
     "name": "stderr",
     "output_type": "stream",
     "text": [
      "/Users/gautamchoudhary/miniconda3/envs/myenv/lib/python3.9/site-packages/xgboost/compat.py:36: FutureWarning: pandas.Int64Index is deprecated and will be removed from pandas in a future version. Use pandas.Index with the appropriate dtype instead.\n",
      "  from pandas import MultiIndex, Int64Index\n",
      "[nltk_data] Downloading package punkt to\n",
      "[nltk_data]     /Users/gautamchoudhary/nltk_data...\n",
      "[nltk_data]   Package punkt is already up-to-date!\n"
     ]
    }
   ],
   "source": [
    "# basic\n",
    "import sys\n",
    "import os\n",
    "import json\n",
    "import pdb\n",
    "import ast\n",
    "import time\n",
    "import requests\n",
    "from tqdm import tqdm\n",
    "from collections import Counter, defaultdict, namedtuple\n",
    "\n",
    "# debug\n",
    "import pdb\n",
    "from loguru import logger\n",
    "\n",
    "import numpy as np\n",
    "import pandas as pd\n",
    "\n",
    "# plotting\n",
    "from matplotlib import pyplot as plt\n",
    "%matplotlib inline\n",
    "import seaborn as sns\n",
    "\n",
    "# sklearn\n",
    "from sklearn.metrics import mean_squared_error\n",
    "from sklearn.model_selection import KFold, StratifiedKFold, train_test_split\n",
    "from sklearn.preprocessing import StandardScaler, MinMaxScaler\n",
    "from sklearn import metrics\n",
    "from sklearn.mixture import GaussianMixture as GMM\n",
    "\n",
    "# regression models\n",
    "from sklearn.linear_model import LinearRegression\n",
    "from sklearn.ensemble import GradientBoostingRegressor\n",
    "from sklearn.linear_model import SGDRegressor\n",
    "from sklearn.svm import SVR\n",
    "from sklearn.neural_network import MLPRegressor\n",
    "import xgboost\n",
    "from xgboost.sklearn import XGBRegressor\n",
    "\n",
    "# classification models\n",
    "from sklearn.linear_model import LogisticRegression\n",
    "from sklearn.neighbors import KNeighborsClassifier\n",
    "from sklearn.naive_bayes import GaussianNB\n",
    "from sklearn.tree import DecisionTreeClassifier\n",
    "from sklearn.svm import SVC\n",
    "from sklearn.neural_network import MLPClassifier\n",
    "\n",
    "# from warnings import filterwarnings\n",
    "# filterwarnings(action='ignore', category=DeprecationWarning,  message='`np.bool` is a deprecated alias')\n",
    "# filterwarnings(action='ignore', category=DeprecationWarning,  message='`np.int` is a deprecated alias' )\n",
    "# filterwarnings(action='ignore', category=DeprecationWarning,  message='`np.object` is a deprecated alias')\n",
    "\n",
    "\n",
    "# custom\n",
    "from utils import *\n",
    "\n",
    "SEED = 0"
   ]
  },
  {
   "cell_type": "markdown",
   "id": "a5c03694-29ab-41e2-a37f-b332ada74a4e",
   "metadata": {},
   "source": [
    "### Load Data"
   ]
  },
  {
   "cell_type": "code",
   "execution_count": 2,
   "id": "1156dfba-9a75-4be6-85dc-16a0fdfb23ac",
   "metadata": {},
   "outputs": [
    {
     "name": "stdout",
     "output_type": "stream",
     "text": [
      "CPU times: user 4.44 s, sys: 3.63 s, total: 8.07 s\n",
      "Wall time: 9.58 s\n"
     ]
    }
   ],
   "source": [
    "%%time\n",
    "YEAR = 2017\n",
    "\n",
    "works = pd.read_pickle(f'./data/{YEAR}/works.{YEAR}.v2.pkl').set_index('id')\n",
    "authors = pd.read_pickle(f'./data/{YEAR}/authors.{YEAR}.v2.pkl').set_index('id')\n",
    "venues = pd.read_pickle(f'./data/{YEAR}/venues.{YEAR}.v2.pkl').set_index('id')\n",
    "insts = pd.read_pickle(f'./data/{YEAR}/insts.{YEAR}.v2.pkl').set_index('id')"
   ]
  },
  {
   "cell_type": "code",
   "execution_count": 3,
   "id": "83c76c8c-fff0-4fcc-9d45-cb0ba83349b7",
   "metadata": {},
   "outputs": [
    {
     "name": "stdout",
     "output_type": "stream",
     "text": [
      "CPU times: user 1.41 s, sys: 339 ms, total: 1.75 s\n",
      "Wall time: 1.88 s\n"
     ]
    }
   ],
   "source": [
    "%%time\n",
    "works, authors, venues, insts = preprocess_data(works, YEAR, 2022, authors, venues, insts)"
   ]
  },
  {
   "cell_type": "code",
   "execution_count": 4,
   "id": "86eb96af-a8a5-4f4c-9295-932ca418f35a",
   "metadata": {},
   "outputs": [],
   "source": [
    "# Train Test Split: based on `works`\n",
    "TEST_SIZE = 0.2\n",
    "train_index, test_index = train_test_split(range(len(works)),\n",
    "                                           test_size=TEST_SIZE, random_state=SEED)"
   ]
  },
  {
   "cell_type": "markdown",
   "id": "6a319f52-9f1c-48f6-a3cb-c249fefa8cc4",
   "metadata": {},
   "source": [
    "### Feature Extraction"
   ]
  },
  {
   "cell_type": "code",
   "execution_count": 5,
   "id": "b6814a85-fb89-4ee6-9e99-10556add5ef9",
   "metadata": {},
   "outputs": [
    {
     "data": {
      "text/plain": [
       "(135369, 15)"
      ]
     },
     "execution_count": 5,
     "metadata": {},
     "output_type": "execute_result"
    }
   ],
   "source": [
    "df = get_features(works, authors, venues, insts, YEAR, N_CLASSES=2, seed=SEED)\n",
    "df.shape"
   ]
  },
  {
   "cell_type": "code",
   "execution_count": 6,
   "id": "25704dc4-937b-4b5f-b99f-85474df28d31",
   "metadata": {},
   "outputs": [
    {
     "name": "stdout",
     "output_type": "stream",
     "text": [
      "count    135369.000000\n",
      "mean          2.563881\n",
      "std           8.177346\n",
      "min           0.000000\n",
      "50%           1.000000\n",
      "90%           6.000000\n",
      "91%           6.000000\n",
      "92%           7.000000\n",
      "93%           7.000000\n",
      "94%           8.000000\n",
      "95%          10.000000\n",
      "96%          11.000000\n",
      "97%          14.000000\n",
      "98%          18.000000\n",
      "99%          29.000000\n",
      "max         662.000000\n",
      "Name: y_reg, dtype: float64\n"
     ]
    },
    {
     "data": {
      "text/plain": [
       "<AxesSubplot:xlabel='y_reg', ylabel='Count'>"
      ]
     },
     "execution_count": 6,
     "metadata": {},
     "output_type": "execute_result"
    },
    {
     "data": {
      "image/png": "[encoded data removed]",
      "text/plain": [
       "<Figure size 640x480 with 1 Axes>"
      ]
     },
     "metadata": {},
     "output_type": "display_data"
    }
   ],
   "source": [
    "# check distribution of citations - target variable\n",
    "temp = df['y_reg']\n",
    "print(temp.describe(percentiles=[i/100 for i in range(90, 100, 1)]))\n",
    "sns.histplot(temp[temp>50], bins=100)"
   ]
  },
  {
   "cell_type": "markdown",
   "id": "a0a35d15-f71e-4319-a1f9-ca4c29132b31",
   "metadata": {
    "tags": []
   },
   "source": [
    "## Concept Features"
   ]
  },
  {
   "cell_type": "code",
   "execution_count": 41,
   "id": "0841a3b1-fead-4939-be69-3ddd64badaeb",
   "metadata": {},
   "outputs": [
    {
     "name": "stderr",
     "output_type": "stream",
     "text": [
      "/var/folders/xw/2zvdx8_94cgd_c7qxhnvgq9c0000gn/T/ipykernel_44542/69673674.py:16: DeprecationWarning: `np.float` is a deprecated alias for the builtin `float`. To silence this warning, use `float` by itself. Doing this will not modify any behavior and is safe. If you specifically wanted the numpy scalar type, use `np.float64` here.\n",
      "Deprecated in NumPy 1.20; for more details and guidance: https://numpy.org/devdocs/release/1.20.0-notes.html#deprecations\n",
      "  edge_list.append((work_id, concept_id, np.float(score)))\n"
     ]
    },
    {
     "name": "stdout",
     "output_type": "stream",
     "text": [
      "536887 [('W2771456258', 'C41008148', 0.7595465), ('W2771456258', 'C153083717', 0.72854745), ('W2771456258', 'C124101348', 0.6389492), ('W2771456258', 'C2776214188', 0.6055116), ('W2771456258', 'C26517878', 0.56039643)]\n"
     ]
    }
   ],
   "source": [
    "import networkx as nx\n",
    "from collections import Counter\n",
    "\n",
    "# EDGES = [\n",
    "#     ('A', 'B'),\n",
    "#     ('B', 'C'),\n",
    "#     ('A', 'C'),\n",
    "#     ('C', 'D'),\n",
    "#     ('A', 'B')\n",
    "# ]\n",
    "\n",
    "temp = works.iloc[train_index]['concepts']\n",
    "edge_list = []\n",
    "for work_id, concepts in temp.items():\n",
    "    for concept_id, score in concepts:\n",
    "        edge_list.append((work_id, concept_id, np.float(score)))\n",
    "\n",
    "print (len(edge_list), edge_list[:5])\n",
    "\n",
    "\n",
    "\n",
    "g = nx.Graph((x, y, {'weight': v}) for x, y, v in edge_list)\n",
    "# print(*g.edges(data=True), sep='\\n')"
   ]
  },
  {
   "cell_type": "code",
   "execution_count": null,
   "id": "c8e5427f-0741-4390-94c1-568751516a19",
   "metadata": {},
   "outputs": [],
   "source": [
    "# with open('./node2vec-master/graph/input_concepts_graph.txt', 'w') as f:\n",
    "#     f.write('\\n'.join(edge_list))"
   ]
  },
  {
   "cell_type": "code",
   "execution_count": null,
   "id": "9d2f17af-a5d1-48de-b6cc-b4bb14c180ee",
   "metadata": {},
   "outputs": [
    {
     "name": "stderr",
     "output_type": "stream",
     "text": [
      "Computing transition probabilities:   6%|██▏                                   | 7288/126829 [04:01<1:21:05, 24.57it/s]/Users/gautamchoudhary/miniconda3/envs/myenv/lib/python3.9/site-packages/node2vec/node2vec.py:125: RuntimeWarning: invalid value encountered in true_divide\n",
      "  source] = unnormalized_weights / unnormalized_weights.sum()\n",
      "/Users/gautamchoudhary/miniconda3/envs/myenv/lib/python3.9/site-packages/node2vec/node2vec.py:129: RuntimeWarning: invalid value encountered in true_divide\n",
      "  d_graph[current_node][self.FIRST_TRAVEL_KEY] = unnormalized_weights / unnormalized_weights.sum()\n",
      "Computing transition probabilities:  68%|█████████████████████████▎           | 86846/126829 [2:09:55<40:49, 16.33it/s]"
     ]
    }
   ],
   "source": [
    "import networkx as nx\n",
    "from node2vec import Node2Vec\n",
    "\n",
    "# Create a graph\n",
    "# graph = nx.fast_gnp_random_graph(n=100, p=0.5)\n",
    "\n",
    "# Precompute probabilities and generate walks - **ON WINDOWS ONLY WORKS WITH workers=1**\n",
    "node2vec = Node2Vec(g, dimensions=8, walk_length=10, num_walks=10, workers=8)  # Use temp_folder for big graphs\n",
    "\n",
    "# Embed nodes\n",
    "model = node2vec.fit(window=4, min_count=1, batch_words=4)  # Any keywords acceptable by gensim.Word2Vec can be passed, `dimensions` and `workers` are automatically passed (from the Node2Vec constructor)\n",
    "\n",
    "# Look for most similar nodes\n",
    "model.wv.most_similar('2')  # Output node names are always strings\n",
    "\n",
    "# # Save embeddings for later use\n",
    "# model.wv.save_word2vec_format(EMBEDDING_FILENAME)\n",
    "\n",
    "# # Save model for later use\n",
    "# model.save(EMBEDDING_MODEL_FILENAME)\n",
    "\n",
    "# # Embed edges using Hadamard method\n",
    "# from node2vec.edges import HadamardEmbedder\n",
    "\n",
    "# edges_embs = HadamardEmbedder(keyed_vectors=model.wv)\n",
    "\n",
    "# # Look for embeddings on the fly - here we pass normal tuples\n",
    "# edges_embs[('1', '2')]\n",
    "# ''' OUTPUT\n",
    "# array([ 5.75068220e-03, -1.10937878e-02,  3.76693785e-01,  2.69105062e-02,\n",
    "#        ... ... ....\n",
    "#        ..................................................................],\n",
    "#       dtype=float32)\n",
    "# '''\n",
    "\n",
    "# # Get all edges in a separate KeyedVectors instance - use with caution could be huge for big networks\n",
    "# edges_kv = edges_embs.as_keyed_vectors()\n",
    "\n",
    "# # Look for most similar edges - this time tuples must be sorted and as str\n",
    "# edges_kv.most_similar(str(('1', '2')))\n",
    "\n",
    "# # Save embeddings for later use\n",
    "# edges_kv.save_word2vec_format(EDGES_EMBEDDING_FILENAME)"
   ]
  },
  {
   "cell_type": "code",
   "execution_count": 1,
   "id": "4d94c6bd-9223-4ab4-8247-910b486e01e1",
   "metadata": {},
   "outputs": [
    {
     "ename": "NameError",
     "evalue": "name 'model' is not defined",
     "output_type": "error",
     "traceback": [
      "\u001b[0;31m---------------------------------------------------------------------------\u001b[0m",
      "\u001b[0;31mNameError\u001b[0m                                 Traceback (most recent call last)",
      "Cell \u001b[0;32mIn [1], line 2\u001b[0m\n\u001b[1;32m      1\u001b[0m my_dict \u001b[38;5;241m=\u001b[39m \u001b[38;5;28mdict\u001b[39m({})\n\u001b[0;32m----> 2\u001b[0m \u001b[38;5;28;01mfor\u001b[39;00m idx, key \u001b[38;5;129;01min\u001b[39;00m \u001b[38;5;28menumerate\u001b[39m(\u001b[43mmodel\u001b[49m\u001b[38;5;241m.\u001b[39mwv\u001b[38;5;241m.\u001b[39mkey_to_index):\n\u001b[1;32m      3\u001b[0m     my_dict[key] \u001b[38;5;241m=\u001b[39m model\u001b[38;5;241m.\u001b[39mwv[key]\n",
      "\u001b[0;31mNameError\u001b[0m: name 'model' is not defined"
     ]
    }
   ],
   "source": [
    "my_dict = dict({})\n",
    "for idx, key in enumerate(model.wv.key_to_index):\n",
    "    my_dict[key] = model.wv[key]\n",
    "    # Or my_dict[key] = model.wv.get_vector(key)\n",
    "    # Or my_dict[key] = model.wv.word_vec(key, use_norm=False)"
   ]
  },
  {
   "cell_type": "code",
   "execution_count": 14,
   "id": "cd158b9f-fe99-492b-a722-d18717446873",
   "metadata": {},
   "outputs": [
    {
     "data": {
      "text/plain": [
       "100"
      ]
     },
     "execution_count": 14,
     "metadata": {},
     "output_type": "execute_result"
    }
   ],
   "source": [
    "len(my_dict)"
   ]
  },
  {
   "cell_type": "code",
   "execution_count": null,
   "id": "cc4b9d74-220c-4423-8aae-334ca4c89d71",
   "metadata": {},
   "outputs": [],
   "source": []
  },
  {
   "cell_type": "markdown",
   "id": "40a18aa3-4fdb-4333-8928-141b7c34ffca",
   "metadata": {},
   "source": [
    "## Textual Features"
   ]
  },
  {
   "cell_type": "markdown",
   "id": "c2cf2b26-94a3-41a7-a7f3-93f130a96060",
   "metadata": {},
   "source": [
    "#### Sentence Transformers "
   ]
  },
  {
   "cell_type": "code",
   "execution_count": 7,
   "id": "65b49c9e-25bf-46d0-a441-7b4df8b294a8",
   "metadata": {},
   "outputs": [
    {
     "name": "stderr",
     "output_type": "stream",
     "text": [
      "/Users/gautamchoudhary/miniconda3/envs/myenv/lib/python3.9/site-packages/tqdm/auto.py:22: TqdmWarning: IProgress not found. Please update jupyter and ipywidgets. See https://ipywidgets.readthedocs.io/en/stable/user_install.html\n",
      "  from .autonotebook import tqdm as notebook_tqdm\n"
     ]
    },
    {
     "name": "stdout",
     "output_type": "stream",
     "text": [
      "dimensions of embedding:  384\n"
     ]
    }
   ],
   "source": [
    "# ref (tutorial): https://www.analyticsvidhya.com/blog/2020/08/top-4-sentence-embedding-techniques-using-python/\n",
    "# ref (docs): https://www.sbert.net/examples/training/distillation/README.html\n",
    "# ref (for pretrained models): https://www.sbert.net/docs/pretrained_models.html\n",
    "# ref (dim reduction): https://github.com/UKPLab/sentence-transformers/blob/master/examples/training/distillation/dimensionality_reduction.py\n",
    "\n",
    "# `$ conda install -c conda-forge sentence-transformers`\n",
    "from sentence_transformers import SentenceTransformer\n",
    "model = SentenceTransformer('all-MiniLM-L6-v2')\n",
    "# ref: https://huggingface.co/sentence-transformers/all-MiniLM-L6-v2\n",
    "\n",
    "sentences = [\"I ate dinner.\", \n",
    "       \"We had a three-course meal.\", \n",
    "       \"Brad came to dinner with us.\",\n",
    "       \"He loves fish tacos.\",\n",
    "       \"In the end, we all felt like we ate too much.\",\n",
    "       \"We all agreed; it was a magnificent evening.\"]\n",
    "sentence_embeddings = model.encode(sentences)\n",
    "\n",
    "print ('dimensions of embedding: ', sentence_embeddings.shape[1])\n",
    "#print('Sample BERT embedding vector - length', len(sentence_embeddings[0]))\n",
    "#print('Sample BERT embedding vector - note includes negative values', sentence_embeddings[0])"
   ]
  },
  {
   "cell_type": "code",
   "execution_count": 26,
   "id": "5f4b4352-34b0-45a1-bdf0-8307c05dac25",
   "metadata": {
    "tags": []
   },
   "outputs": [
    {
     "name": "stdout",
     "output_type": "stream",
     "text": [
      "(10000, 384)\n",
      "CPU times: user 25min 3s, sys: 8min 50s, total: 33min 54s\n",
      "Wall time: 4min 50s\n"
     ]
    }
   ],
   "source": [
    "%%time\n",
    "embeds = model.encode(works['abstract'].tolist()[:10000])\n",
    "print (embeds.shape)"
   ]
  },
  {
   "cell_type": "code",
   "execution_count": 20,
   "id": "c241f59c-72c4-4cc9-a4a7-4aca5203e73c",
   "metadata": {},
   "outputs": [
    {
     "data": {
      "text/plain": [
       "(1000, 1)"
      ]
     },
     "execution_count": 20,
     "metadata": {},
     "output_type": "execute_result"
    }
   ],
   "source": [
    "temp = works[['abstract']][:1000]\n",
    "temp.shape"
   ]
  },
  {
   "cell_type": "code",
   "execution_count": 25,
   "id": "45f2b7fb-cba3-419f-8f61-1470d30e0cf8",
   "metadata": {},
   "outputs": [
    {
     "name": "stdout",
     "output_type": "stream",
     "text": [
      "CPU times: user 3min 8s, sys: 1min 24s, total: 4min 32s\n",
      "Wall time: 38.9 s\n"
     ]
    }
   ],
   "source": [
    "%%time\n",
    "temp['embed'] = temp['abstract'].map(lambda x: model.encode([x])[0])"
   ]
  },
  {
   "cell_type": "code",
   "execution_count": null,
   "id": "f89c47bb-c88c-4599-a241-38c559dde4d6",
   "metadata": {},
   "outputs": [],
   "source": []
  },
  {
   "cell_type": "markdown",
   "id": "4f7d5fde-44d2-43ae-8fd2-e34172a4c525",
   "metadata": {},
   "source": [
    "#### Doc2Vec"
   ]
  },
  {
   "cell_type": "code",
   "execution_count": 77,
   "id": "4573cb19-3814-4c3a-8235-56fdc736d79c",
   "metadata": {},
   "outputs": [
    {
     "name": "stderr",
     "output_type": "stream",
     "text": [
      "\n",
      "Tagging: 0it [00:00, ?it/s]\u001b[A\n",
      "Tagging: 205it [00:00, 2046.26it/s]\u001b[A\n",
      "Tagging: 417it [00:00, 2086.89it/s]\u001b[A\n",
      "Tagging: 638it [00:00, 2142.69it/s]\u001b[A\n",
      "Tagging: 1000it [00:00, 2119.65it/s][A\n",
      "\n",
      "Training: 100%|███████████████████████████████████████████████████████████████████████| 10/10 [00:00<00:00, 230.92it/s]\u001b[A"
     ]
    },
    {
     "name": "stdout",
     "output_type": "stream",
     "text": [
      "Model Saved: d2v.abstract.model\n"
     ]
    },
    {
     "name": "stderr",
     "output_type": "stream",
     "text": [
      "\n"
     ]
    }
   ],
   "source": [
    "# train doc2vec\n",
    "docs = works.iloc[train_index]['abstract'].tolist()[:1000]\n",
    "train_doc2vec(docs, dims=16, saved_model_name='d2v.abstract.model')"
   ]
  },
  {
   "cell_type": "code",
   "execution_count": 78,
   "id": "0250e0d2-4fe6-4d97-9304-bbf2de7c7445",
   "metadata": {},
   "outputs": [
    {
     "name": "stderr",
     "output_type": "stream",
     "text": [
      "\n",
      "Inferencing:   0%|                                                                            | 0/1000 [00:00<?, ?it/s]\u001b[A\n",
      "Inferencing:   6%|████                                                              | 62/1000 [00:00<00:01, 607.34it/s]\u001b[A\n",
      "Inferencing:  12%|████████▏                                                        | 125/1000 [00:00<00:01, 616.45it/s]\u001b[A\n",
      "Inferencing:  19%|████████████▏                                                    | 187/1000 [00:00<00:01, 613.79it/s]\u001b[A\n",
      "Inferencing:  25%|████████████████▏                                                | 249/1000 [00:00<00:01, 614.84it/s]\u001b[A\n",
      "Inferencing:  31%|████████████████████▎                                            | 313/1000 [00:00<00:01, 623.26it/s]\u001b[A\n",
      "Inferencing:  38%|████████████████████████▋                                        | 380/1000 [00:00<00:00, 636.52it/s]\u001b[A\n",
      "Inferencing:  44%|████████████████████████████▊                                    | 444/1000 [00:00<00:00, 636.07it/s]\u001b[A\n",
      "Inferencing:  51%|█████████████████████████████████                                | 508/1000 [00:00<00:00, 632.44it/s]\u001b[A\n",
      "Inferencing:  57%|█████████████████████████████████████▏                           | 572/1000 [00:00<00:00, 631.99it/s]\u001b[A\n",
      "Inferencing:  64%|█████████████████████████████████████████▎                       | 636/1000 [00:01<00:00, 631.81it/s]\u001b[A\n",
      "Inferencing:  70%|█████████████████████████████████████████████▌                   | 700/1000 [00:01<00:00, 626.26it/s]\u001b[A\n",
      "Inferencing:  76%|█████████████████████████████████████████████████▋               | 764/1000 [00:01<00:00, 629.68it/s]\u001b[A\n",
      "Inferencing:  83%|█████████████████████████████████████████████████████▊           | 827/1000 [00:01<00:00, 628.27it/s]\u001b[A\n",
      "Inferencing:  89%|█████████████████████████████████████████████████████████▉       | 891/1000 [00:01<00:00, 629.30it/s]\u001b[A\n",
      "Inferencing: 100%|████████████████████████████████████████████████████████████████| 1000/1000 [00:01<00:00, 627.31it/s]\u001b[A\n"
     ]
    }
   ],
   "source": [
    "# infer doc2vec\n",
    "abs_feats = infer_doc2vec(works, 'abstract', df.index[:1000], dims=16, saved_model='d2v.abstract.model')"
   ]
  },
  {
   "cell_type": "code",
   "execution_count": 79,
   "id": "99f957e1-b84f-4d37-a698-aee532454de0",
   "metadata": {},
   "outputs": [
    {
     "data": {
      "text/plain": [
       "(1000, 16)"
      ]
     },
     "execution_count": 79,
     "metadata": {},
     "output_type": "execute_result"
    }
   ],
   "source": [
    "abs_feats.shape"
   ]
  },
  {
   "cell_type": "code",
   "execution_count": 85,
   "id": "35eb674d-993b-460d-8306-63d7d34f57ce",
   "metadata": {},
   "outputs": [
    {
     "data": {
      "text/plain": [
       "(136369, 47)"
      ]
     },
     "execution_count": 85,
     "metadata": {},
     "output_type": "execute_result"
    }
   ],
   "source": [
    "combined_df = pd.concat([df, abs_feats]).shape"
   ]
  },
  {
   "cell_type": "code",
   "execution_count": 72,
   "id": "3065a235-0dd4-4940-b660-6274797b3f37",
   "metadata": {},
   "outputs": [
    {
     "data": {
      "text/plain": [
       "array([-0.01438257, -0.02732935, -0.02846311,  0.00823997,  0.02541846,\n",
       "        0.0278702 ,  0.02188501,  0.00544634,  0.02018293, -0.0026605 ,\n",
       "       -0.0178687 , -0.01131115,  0.01179136, -0.02247644,  0.02942068,\n",
       "        0.01227852], dtype=float32)"
      ]
     },
     "execution_count": 72,
     "metadata": {},
     "output_type": "execute_result"
    }
   ],
   "source": [
    "model= Doc2Vec.load(saved_model)\n",
    "model.infer_vector(word_tokenize(works.loc['W2964260135', 'abstract'].lower()))"
   ]
  },
  {
   "cell_type": "code",
   "execution_count": 69,
   "id": "65929b4c-03c9-458b-ada7-542dd969d4b0",
   "metadata": {},
   "outputs": [
    {
     "data": {
      "text/html": [
       "<div>\n",
       "<style scoped>\n",
       "    .dataframe tbody tr th:only-of-type {\n",
       "        vertical-align: middle;\n",
       "    }\n",
       "\n",
       "    .dataframe tbody tr th {\n",
       "        vertical-align: top;\n",
       "    }\n",
       "\n",
       "    .dataframe thead th {\n",
       "        text-align: right;\n",
       "    }\n",
       "</style>\n",
       "<table border=\"1\" class=\"dataframe\">\n",
       "  <thead>\n",
       "    <tr style=\"text-align: right;\">\n",
       "      <th></th>\n",
       "      <th>abs_0</th>\n",
       "      <th>abs_1</th>\n",
       "      <th>abs_2</th>\n",
       "      <th>abs_3</th>\n",
       "      <th>abs_4</th>\n",
       "      <th>abs_5</th>\n",
       "      <th>abs_6</th>\n",
       "      <th>abs_7</th>\n",
       "      <th>abs_8</th>\n",
       "      <th>abs_9</th>\n",
       "      <th>abs_10</th>\n",
       "      <th>abs_11</th>\n",
       "      <th>abs_12</th>\n",
       "      <th>abs_13</th>\n",
       "      <th>abs_14</th>\n",
       "      <th>abs_15</th>\n",
       "    </tr>\n",
       "    <tr>\n",
       "      <th>id</th>\n",
       "      <th></th>\n",
       "      <th></th>\n",
       "      <th></th>\n",
       "      <th></th>\n",
       "      <th></th>\n",
       "      <th></th>\n",
       "      <th></th>\n",
       "      <th></th>\n",
       "      <th></th>\n",
       "      <th></th>\n",
       "      <th></th>\n",
       "      <th></th>\n",
       "      <th></th>\n",
       "      <th></th>\n",
       "      <th></th>\n",
       "      <th></th>\n",
       "    </tr>\n",
       "  </thead>\n",
       "  <tbody>\n",
       "    <tr>\n",
       "      <th>W2555618208</th>\n",
       "      <td>-0.031209</td>\n",
       "      <td>-0.013547</td>\n",
       "      <td>-0.007729</td>\n",
       "      <td>-0.005980</td>\n",
       "      <td>-0.026215</td>\n",
       "      <td>0.028280</td>\n",
       "      <td>0.022289</td>\n",
       "      <td>0.015979</td>\n",
       "      <td>-0.027817</td>\n",
       "      <td>-0.014571</td>\n",
       "      <td>0.018843</td>\n",
       "      <td>-0.006797</td>\n",
       "      <td>0.025485</td>\n",
       "      <td>-0.000516</td>\n",
       "      <td>0.010233</td>\n",
       "      <td>0.019156</td>\n",
       "    </tr>\n",
       "    <tr>\n",
       "      <th>W2557641257</th>\n",
       "      <td>-0.027458</td>\n",
       "      <td>-0.021472</td>\n",
       "      <td>0.008528</td>\n",
       "      <td>-0.027202</td>\n",
       "      <td>-0.012704</td>\n",
       "      <td>0.030775</td>\n",
       "      <td>-0.010573</td>\n",
       "      <td>-0.008720</td>\n",
       "      <td>-0.029577</td>\n",
       "      <td>-0.018689</td>\n",
       "      <td>0.007815</td>\n",
       "      <td>0.028343</td>\n",
       "      <td>0.012058</td>\n",
       "      <td>-0.006893</td>\n",
       "      <td>0.010031</td>\n",
       "      <td>-0.004055</td>\n",
       "    </tr>\n",
       "    <tr>\n",
       "      <th>W2963709863</th>\n",
       "      <td>-0.029792</td>\n",
       "      <td>-0.023372</td>\n",
       "      <td>0.012738</td>\n",
       "      <td>0.030597</td>\n",
       "      <td>0.028282</td>\n",
       "      <td>0.029465</td>\n",
       "      <td>-0.005610</td>\n",
       "      <td>0.007742</td>\n",
       "      <td>-0.001815</td>\n",
       "      <td>0.010166</td>\n",
       "      <td>0.015990</td>\n",
       "      <td>-0.030223</td>\n",
       "      <td>0.026768</td>\n",
       "      <td>-0.018059</td>\n",
       "      <td>-0.002249</td>\n",
       "      <td>-0.028647</td>\n",
       "    </tr>\n",
       "    <tr>\n",
       "      <th>W2594519801</th>\n",
       "      <td>-0.006590</td>\n",
       "      <td>0.000413</td>\n",
       "      <td>0.002018</td>\n",
       "      <td>0.003888</td>\n",
       "      <td>-0.005115</td>\n",
       "      <td>-0.008804</td>\n",
       "      <td>-0.029865</td>\n",
       "      <td>-0.025737</td>\n",
       "      <td>-0.022867</td>\n",
       "      <td>0.027330</td>\n",
       "      <td>-0.006566</td>\n",
       "      <td>-0.026142</td>\n",
       "      <td>0.019250</td>\n",
       "      <td>0.024849</td>\n",
       "      <td>0.007187</td>\n",
       "      <td>-0.011878</td>\n",
       "    </tr>\n",
       "    <tr>\n",
       "      <th>W2561715562</th>\n",
       "      <td>0.026548</td>\n",
       "      <td>-0.017629</td>\n",
       "      <td>0.025802</td>\n",
       "      <td>-0.019822</td>\n",
       "      <td>0.025197</td>\n",
       "      <td>0.027862</td>\n",
       "      <td>0.014930</td>\n",
       "      <td>-0.019636</td>\n",
       "      <td>-0.006094</td>\n",
       "      <td>0.019028</td>\n",
       "      <td>0.029887</td>\n",
       "      <td>-0.022509</td>\n",
       "      <td>-0.013593</td>\n",
       "      <td>-0.030331</td>\n",
       "      <td>-0.029080</td>\n",
       "      <td>0.022159</td>\n",
       "    </tr>\n",
       "    <tr>\n",
       "      <th>...</th>\n",
       "      <td>...</td>\n",
       "      <td>...</td>\n",
       "      <td>...</td>\n",
       "      <td>...</td>\n",
       "      <td>...</td>\n",
       "      <td>...</td>\n",
       "      <td>...</td>\n",
       "      <td>...</td>\n",
       "      <td>...</td>\n",
       "      <td>...</td>\n",
       "      <td>...</td>\n",
       "      <td>...</td>\n",
       "      <td>...</td>\n",
       "      <td>...</td>\n",
       "      <td>...</td>\n",
       "      <td>...</td>\n",
       "    </tr>\n",
       "    <tr>\n",
       "      <th>W2787667267</th>\n",
       "      <td>0.014699</td>\n",
       "      <td>-0.020097</td>\n",
       "      <td>0.027668</td>\n",
       "      <td>-0.024690</td>\n",
       "      <td>-0.007483</td>\n",
       "      <td>-0.014791</td>\n",
       "      <td>-0.010474</td>\n",
       "      <td>0.029818</td>\n",
       "      <td>0.020939</td>\n",
       "      <td>0.030733</td>\n",
       "      <td>-0.010385</td>\n",
       "      <td>0.000579</td>\n",
       "      <td>0.019351</td>\n",
       "      <td>-0.011458</td>\n",
       "      <td>-0.018720</td>\n",
       "      <td>-0.015985</td>\n",
       "    </tr>\n",
       "    <tr>\n",
       "      <th>W2962741298</th>\n",
       "      <td>-0.019752</td>\n",
       "      <td>0.030724</td>\n",
       "      <td>0.006428</td>\n",
       "      <td>-0.031127</td>\n",
       "      <td>-0.013054</td>\n",
       "      <td>-0.004673</td>\n",
       "      <td>0.029530</td>\n",
       "      <td>-0.015712</td>\n",
       "      <td>-0.030850</td>\n",
       "      <td>0.010215</td>\n",
       "      <td>0.005554</td>\n",
       "      <td>0.017435</td>\n",
       "      <td>0.017984</td>\n",
       "      <td>0.014597</td>\n",
       "      <td>-0.030878</td>\n",
       "      <td>-0.017687</td>\n",
       "    </tr>\n",
       "    <tr>\n",
       "      <th>W2964260135</th>\n",
       "      <td>-0.014383</td>\n",
       "      <td>-0.027329</td>\n",
       "      <td>-0.028463</td>\n",
       "      <td>0.008240</td>\n",
       "      <td>0.025418</td>\n",
       "      <td>0.027870</td>\n",
       "      <td>0.021885</td>\n",
       "      <td>0.005446</td>\n",
       "      <td>0.020183</td>\n",
       "      <td>-0.002661</td>\n",
       "      <td>-0.017869</td>\n",
       "      <td>-0.011311</td>\n",
       "      <td>0.011791</td>\n",
       "      <td>-0.022476</td>\n",
       "      <td>0.029421</td>\n",
       "      <td>0.012279</td>\n",
       "    </tr>\n",
       "    <tr>\n",
       "      <th>W2529546376</th>\n",
       "      <td>-0.024974</td>\n",
       "      <td>0.027581</td>\n",
       "      <td>0.017300</td>\n",
       "      <td>-0.006976</td>\n",
       "      <td>0.012885</td>\n",
       "      <td>0.006498</td>\n",
       "      <td>-0.005269</td>\n",
       "      <td>-0.026431</td>\n",
       "      <td>0.014160</td>\n",
       "      <td>-0.024296</td>\n",
       "      <td>-0.022030</td>\n",
       "      <td>-0.013628</td>\n",
       "      <td>0.021242</td>\n",
       "      <td>0.021089</td>\n",
       "      <td>-0.025114</td>\n",
       "      <td>-0.020285</td>\n",
       "    </tr>\n",
       "    <tr>\n",
       "      <th>W2604521289</th>\n",
       "      <td>0.027466</td>\n",
       "      <td>-0.002954</td>\n",
       "      <td>-0.018162</td>\n",
       "      <td>0.017656</td>\n",
       "      <td>0.005230</td>\n",
       "      <td>-0.001926</td>\n",
       "      <td>-0.022479</td>\n",
       "      <td>-0.020263</td>\n",
       "      <td>0.008690</td>\n",
       "      <td>-0.002435</td>\n",
       "      <td>-0.023414</td>\n",
       "      <td>0.009234</td>\n",
       "      <td>0.013871</td>\n",
       "      <td>-0.025375</td>\n",
       "      <td>0.027156</td>\n",
       "      <td>0.014007</td>\n",
       "    </tr>\n",
       "  </tbody>\n",
       "</table>\n",
       "<p>1000 rows × 16 columns</p>\n",
       "</div>"
      ],
      "text/plain": [
       "                abs_0     abs_1     abs_2     abs_3     abs_4     abs_5  \\\n",
       "id                                                                        \n",
       "W2555618208 -0.031209 -0.013547 -0.007729 -0.005980 -0.026215  0.028280   \n",
       "W2557641257 -0.027458 -0.021472  0.008528 -0.027202 -0.012704  0.030775   \n",
       "W2963709863 -0.029792 -0.023372  0.012738  0.030597  0.028282  0.029465   \n",
       "W2594519801 -0.006590  0.000413  0.002018  0.003888 -0.005115 -0.008804   \n",
       "W2561715562  0.026548 -0.017629  0.025802 -0.019822  0.025197  0.027862   \n",
       "...               ...       ...       ...       ...       ...       ...   \n",
       "W2787667267  0.014699 -0.020097  0.027668 -0.024690 -0.007483 -0.014791   \n",
       "W2962741298 -0.019752  0.030724  0.006428 -0.031127 -0.013054 -0.004673   \n",
       "W2964260135 -0.014383 -0.027329 -0.028463  0.008240  0.025418  0.027870   \n",
       "W2529546376 -0.024974  0.027581  0.017300 -0.006976  0.012885  0.006498   \n",
       "W2604521289  0.027466 -0.002954 -0.018162  0.017656  0.005230 -0.001926   \n",
       "\n",
       "                abs_6     abs_7     abs_8     abs_9    abs_10    abs_11  \\\n",
       "id                                                                        \n",
       "W2555618208  0.022289  0.015979 -0.027817 -0.014571  0.018843 -0.006797   \n",
       "W2557641257 -0.010573 -0.008720 -0.029577 -0.018689  0.007815  0.028343   \n",
       "W2963709863 -0.005610  0.007742 -0.001815  0.010166  0.015990 -0.030223   \n",
       "W2594519801 -0.029865 -0.025737 -0.022867  0.027330 -0.006566 -0.026142   \n",
       "W2561715562  0.014930 -0.019636 -0.006094  0.019028  0.029887 -0.022509   \n",
       "...               ...       ...       ...       ...       ...       ...   \n",
       "W2787667267 -0.010474  0.029818  0.020939  0.030733 -0.010385  0.000579   \n",
       "W2962741298  0.029530 -0.015712 -0.030850  0.010215  0.005554  0.017435   \n",
       "W2964260135  0.021885  0.005446  0.020183 -0.002661 -0.017869 -0.011311   \n",
       "W2529546376 -0.005269 -0.026431  0.014160 -0.024296 -0.022030 -0.013628   \n",
       "W2604521289 -0.022479 -0.020263  0.008690 -0.002435 -0.023414  0.009234   \n",
       "\n",
       "               abs_12    abs_13    abs_14    abs_15  \n",
       "id                                                   \n",
       "W2555618208  0.025485 -0.000516  0.010233  0.019156  \n",
       "W2557641257  0.012058 -0.006893  0.010031 -0.004055  \n",
       "W2963709863  0.026768 -0.018059 -0.002249 -0.028647  \n",
       "W2594519801  0.019250  0.024849  0.007187 -0.011878  \n",
       "W2561715562 -0.013593 -0.030331 -0.029080  0.022159  \n",
       "...               ...       ...       ...       ...  \n",
       "W2787667267  0.019351 -0.011458 -0.018720 -0.015985  \n",
       "W2962741298  0.017984  0.014597 -0.030878 -0.017687  \n",
       "W2964260135  0.011791 -0.022476  0.029421  0.012279  \n",
       "W2529546376  0.021242  0.021089 -0.025114 -0.020285  \n",
       "W2604521289  0.013871 -0.025375  0.027156  0.014007  \n",
       "\n",
       "[1000 rows x 16 columns]"
      ]
     },
     "execution_count": 69,
     "metadata": {},
     "output_type": "execute_result"
    }
   ],
   "source": [
    "abs_feats"
   ]
  },
  {
   "cell_type": "code",
   "execution_count": null,
   "id": "772aefe2-14b3-4900-9456-5572aac6e52c",
   "metadata": {},
   "outputs": [],
   "source": []
  },
  {
   "cell_type": "code",
   "execution_count": 60,
   "id": "ef7b034e-70fc-41fa-92bd-8195108a2348",
   "metadata": {},
   "outputs": [
    {
     "data": {
      "text/html": [
       "<div>\n",
       "<style scoped>\n",
       "    .dataframe tbody tr th:only-of-type {\n",
       "        vertical-align: middle;\n",
       "    }\n",
       "\n",
       "    .dataframe tbody tr th {\n",
       "        vertical-align: top;\n",
       "    }\n",
       "\n",
       "    .dataframe thead th {\n",
       "        text-align: right;\n",
       "    }\n",
       "</style>\n",
       "<table border=\"1\" class=\"dataframe\">\n",
       "  <thead>\n",
       "    <tr style=\"text-align: right;\">\n",
       "      <th></th>\n",
       "      <th>no_of_authors</th>\n",
       "      <th>no_of_referenced_works</th>\n",
       "      <th>open_access_is_oa</th>\n",
       "      <th>publication_month</th>\n",
       "      <th>author_prominency</th>\n",
       "      <th>authors_mean_citations</th>\n",
       "      <th>authors_mean_works</th>\n",
       "      <th>venue_citations</th>\n",
       "      <th>venue_works</th>\n",
       "      <th>venue_significance</th>\n",
       "      <th>...</th>\n",
       "      <th>abs_6</th>\n",
       "      <th>abs_7</th>\n",
       "      <th>abs_8</th>\n",
       "      <th>abs_9</th>\n",
       "      <th>abs_10</th>\n",
       "      <th>abs_11</th>\n",
       "      <th>abs_12</th>\n",
       "      <th>abs_13</th>\n",
       "      <th>abs_14</th>\n",
       "      <th>abs_15</th>\n",
       "    </tr>\n",
       "    <tr>\n",
       "      <th>id</th>\n",
       "      <th></th>\n",
       "      <th></th>\n",
       "      <th></th>\n",
       "      <th></th>\n",
       "      <th></th>\n",
       "      <th></th>\n",
       "      <th></th>\n",
       "      <th></th>\n",
       "      <th></th>\n",
       "      <th></th>\n",
       "      <th></th>\n",
       "      <th></th>\n",
       "      <th></th>\n",
       "      <th></th>\n",
       "      <th></th>\n",
       "      <th></th>\n",
       "      <th></th>\n",
       "      <th></th>\n",
       "      <th></th>\n",
       "      <th></th>\n",
       "      <th></th>\n",
       "    </tr>\n",
       "  </thead>\n",
       "  <tbody>\n",
       "    <tr>\n",
       "      <th>W2555618208</th>\n",
       "      <td>4</td>\n",
       "      <td>18</td>\n",
       "      <td>True</td>\n",
       "      <td>7</td>\n",
       "      <td>1</td>\n",
       "      <td>165.250000</td>\n",
       "      <td>15.250000</td>\n",
       "      <td>270395</td>\n",
       "      <td>3422</td>\n",
       "      <td>79.016657</td>\n",
       "      <td>...</td>\n",
       "      <td>0.022289</td>\n",
       "      <td>0.015979</td>\n",
       "      <td>-0.027817</td>\n",
       "      <td>-0.014571</td>\n",
       "      <td>0.018843</td>\n",
       "      <td>-0.006797</td>\n",
       "      <td>0.025485</td>\n",
       "      <td>-0.000516</td>\n",
       "      <td>0.010233</td>\n",
       "      <td>0.019156</td>\n",
       "    </tr>\n",
       "    <tr>\n",
       "      <th>W2557641257</th>\n",
       "      <td>4</td>\n",
       "      <td>24</td>\n",
       "      <td>True</td>\n",
       "      <td>7</td>\n",
       "      <td>1</td>\n",
       "      <td>711.000000</td>\n",
       "      <td>36.250000</td>\n",
       "      <td>270395</td>\n",
       "      <td>3422</td>\n",
       "      <td>79.016657</td>\n",
       "      <td>...</td>\n",
       "      <td>-0.010573</td>\n",
       "      <td>-0.008720</td>\n",
       "      <td>-0.029577</td>\n",
       "      <td>-0.018689</td>\n",
       "      <td>0.007815</td>\n",
       "      <td>0.028343</td>\n",
       "      <td>0.012058</td>\n",
       "      <td>-0.006893</td>\n",
       "      <td>0.010031</td>\n",
       "      <td>-0.004055</td>\n",
       "    </tr>\n",
       "    <tr>\n",
       "      <th>W2963709863</th>\n",
       "      <td>6</td>\n",
       "      <td>20</td>\n",
       "      <td>True</td>\n",
       "      <td>7</td>\n",
       "      <td>1</td>\n",
       "      <td>522.166667</td>\n",
       "      <td>10.666667</td>\n",
       "      <td>270395</td>\n",
       "      <td>3422</td>\n",
       "      <td>79.016657</td>\n",
       "      <td>...</td>\n",
       "      <td>-0.005610</td>\n",
       "      <td>0.007742</td>\n",
       "      <td>-0.001815</td>\n",
       "      <td>0.010166</td>\n",
       "      <td>0.015990</td>\n",
       "      <td>-0.030223</td>\n",
       "      <td>0.026768</td>\n",
       "      <td>-0.018059</td>\n",
       "      <td>-0.002249</td>\n",
       "      <td>-0.028647</td>\n",
       "    </tr>\n",
       "    <tr>\n",
       "      <th>W2594519801</th>\n",
       "      <td>6</td>\n",
       "      <td>71</td>\n",
       "      <td>True</td>\n",
       "      <td>7</td>\n",
       "      <td>1</td>\n",
       "      <td>881.000000</td>\n",
       "      <td>13.833333</td>\n",
       "      <td>270395</td>\n",
       "      <td>3422</td>\n",
       "      <td>79.016657</td>\n",
       "      <td>...</td>\n",
       "      <td>-0.029865</td>\n",
       "      <td>-0.025737</td>\n",
       "      <td>-0.022867</td>\n",
       "      <td>0.027330</td>\n",
       "      <td>-0.006566</td>\n",
       "      <td>-0.026142</td>\n",
       "      <td>0.019250</td>\n",
       "      <td>0.024849</td>\n",
       "      <td>0.007187</td>\n",
       "      <td>-0.011878</td>\n",
       "    </tr>\n",
       "    <tr>\n",
       "      <th>W2561715562</th>\n",
       "      <td>6</td>\n",
       "      <td>25</td>\n",
       "      <td>True</td>\n",
       "      <td>7</td>\n",
       "      <td>1</td>\n",
       "      <td>5601.666667</td>\n",
       "      <td>57.333333</td>\n",
       "      <td>270395</td>\n",
       "      <td>3422</td>\n",
       "      <td>79.016657</td>\n",
       "      <td>...</td>\n",
       "      <td>0.014930</td>\n",
       "      <td>-0.019636</td>\n",
       "      <td>-0.006094</td>\n",
       "      <td>0.019028</td>\n",
       "      <td>0.029887</td>\n",
       "      <td>-0.022509</td>\n",
       "      <td>-0.013593</td>\n",
       "      <td>-0.030331</td>\n",
       "      <td>-0.029080</td>\n",
       "      <td>0.022159</td>\n",
       "    </tr>\n",
       "  </tbody>\n",
       "</table>\n",
       "<p>5 rows × 31 columns</p>\n",
       "</div>"
      ],
      "text/plain": [
       "             no_of_authors  no_of_referenced_works  open_access_is_oa  \\\n",
       "id                                                                      \n",
       "W2555618208              4                      18               True   \n",
       "W2557641257              4                      24               True   \n",
       "W2963709863              6                      20               True   \n",
       "W2594519801              6                      71               True   \n",
       "W2561715562              6                      25               True   \n",
       "\n",
       "             publication_month  author_prominency  authors_mean_citations  \\\n",
       "id                                                                          \n",
       "W2555618208                  7                  1              165.250000   \n",
       "W2557641257                  7                  1              711.000000   \n",
       "W2963709863                  7                  1              522.166667   \n",
       "W2594519801                  7                  1              881.000000   \n",
       "W2561715562                  7                  1             5601.666667   \n",
       "\n",
       "             authors_mean_works  venue_citations  venue_works  \\\n",
       "id                                                              \n",
       "W2555618208           15.250000           270395         3422   \n",
       "W2557641257           36.250000           270395         3422   \n",
       "W2963709863           10.666667           270395         3422   \n",
       "W2594519801           13.833333           270395         3422   \n",
       "W2561715562           57.333333           270395         3422   \n",
       "\n",
       "             venue_significance  ...     abs_6     abs_7     abs_8     abs_9  \\\n",
       "id                               ...                                           \n",
       "W2555618208           79.016657  ...  0.022289  0.015979 -0.027817 -0.014571   \n",
       "W2557641257           79.016657  ... -0.010573 -0.008720 -0.029577 -0.018689   \n",
       "W2963709863           79.016657  ... -0.005610  0.007742 -0.001815  0.010166   \n",
       "W2594519801           79.016657  ... -0.029865 -0.025737 -0.022867  0.027330   \n",
       "W2561715562           79.016657  ...  0.014930 -0.019636 -0.006094  0.019028   \n",
       "\n",
       "               abs_10    abs_11    abs_12    abs_13    abs_14    abs_15  \n",
       "id                                                                       \n",
       "W2555618208  0.018843 -0.006797  0.025485 -0.000516  0.010233  0.019156  \n",
       "W2557641257  0.007815  0.028343  0.012058 -0.006893  0.010031 -0.004055  \n",
       "W2963709863  0.015990 -0.030223  0.026768 -0.018059 -0.002249 -0.028647  \n",
       "W2594519801 -0.006566 -0.026142  0.019250  0.024849  0.007187 -0.011878  \n",
       "W2561715562  0.029887 -0.022509 -0.013593 -0.030331 -0.029080  0.022159  \n",
       "\n",
       "[5 rows x 31 columns]"
      ]
     },
     "execution_count": 60,
     "metadata": {},
     "output_type": "execute_result"
    }
   ],
   "source": [
    "df_new.head()"
   ]
  },
  {
   "cell_type": "markdown",
   "id": "5e93ff75-d949-48d5-9c5c-694e511aab6b",
   "metadata": {},
   "source": [
    "### GMM - unsupervised clustering"
   ]
  },
  {
   "cell_type": "code",
   "execution_count": 7,
   "id": "09128363-9799-417e-9aad-49690565ad0d",
   "metadata": {},
   "outputs": [
    {
     "name": "stderr",
     "output_type": "stream",
     "text": [
      "100%|██████████████████████████████████████████████████████████████████████████████████| 10/10 [00:03<00:00,  2.72it/s]\n"
     ]
    }
   ],
   "source": [
    "# ref: https://jakevdp.github.io/PythonDataScienceHandbook/05.12-gaussian-mixtures.html\n",
    "# ref: https://towardsdatascience.com/gaussian-mixture-model-clusterization-how-to-select-the-number-of-components-clusters-553bef45f6e4\n",
    "\n",
    "x = df['y_reg'].to_numpy().reshape(-1, 1)\n",
    "n_components = np.arange(1, 11)\n",
    "models = [GMM(n, covariance_type='full', random_state=SEED).fit(x)\n",
    "          for n in tqdm(n_components)]"
   ]
  },
  {
   "cell_type": "code",
   "execution_count": 10,
   "id": "e1a1a931-ca78-4ce0-b337-b261937d93b7",
   "metadata": {},
   "outputs": [
    {
     "data": {
      "image/png": "[encoded data removed]",
      "text/plain": [
       "<Figure size 500x300 with 2 Axes>"
      ]
     },
     "metadata": {},
     "output_type": "display_data"
    }
   ],
   "source": [
    "plt.rcParams.update({'font.size': 13})\n",
    "fig, ax = plt.subplots(ncols=1, figsize=(5,3))\n",
    "\n",
    "# bic score\n",
    "ax.plot(n_components, [m.bic(x) for m in models], 'r-', label=r'BIC $\\downarrow$')\n",
    "ax.set_xlabel('n_clusters')\n",
    "ax.set_ylabel('BIC Score')\n",
    "\n",
    "# silhouette score\n",
    "ax1 = ax.twinx()\n",
    "s = [0] + [metrics.silhouette_score(x, m.predict(x), metric='euclidean', sample_size=1000) for m in models[1:]]\n",
    "ax1.plot(n_components, s, 'g-', label=r'Silhouette Score $\\uparrow$')\n",
    "ax1.set_xlabel('n_clusters')\n",
    "ax1.set_ylabel('Silhouette Score')\n",
    "fig.legend(loc='upper right', bbox_to_anchor=(1,1), bbox_transform=ax.transAxes)\n",
    "\n",
    "# optimal cluster line\n",
    "ax.axvline(2, color = 'b', linestyle='--')\n",
    "\n",
    "plt.savefig('bic-sil-score.png', dpi=350, bbox_inches='tight')\n",
    "plt.show()"
   ]
  },
  {
   "cell_type": "code",
   "execution_count": 19,
   "id": "97aca1f5-3f1e-432b-a60b-bd028bc1f48b",
   "metadata": {},
   "outputs": [
    {
     "name": "stdout",
     "output_type": "stream",
     "text": [
      "cluster 0 citations: [0, 5], #samples=121307 (0.8961209730440499)\n",
      "cluster 1 citations: [6, 662], #samples=14062 (0.10387902695595003)\n"
     ]
    }
   ],
   "source": [
    "# optimal clusters, n=2\n",
    "model = GMM(n_components=2, covariance_type='full', random_state=SEED)\n",
    "model.fit(x)\n",
    "y = model.predict(x)\n",
    "\n",
    "y0 = pd.Series(x.ravel())[y==0]\n",
    "y1 = pd.Series(x.ravel())[y==1]\n",
    "print (f'cluster 0 citations: [{y0.min()}, {y0.max()}], #samples={len(y0)} ({len(y0)/len(y)})')\n",
    "print (f'cluster 1 citations: [{y1.min()}, {y1.max()}], #samples={len(y1)} ({len(y1)/len(y)})')"
   ]
  },
  {
   "cell_type": "code",
   "execution_count": null,
   "id": "9beebc8f-edc0-41f2-b7bd-a7fc4d51d325",
   "metadata": {},
   "outputs": [],
   "source": []
  }
 ],
 "metadata": {
  "kernelspec": {
   "display_name": "Python (myenv)",
   "language": "python",
   "name": "myenv"
  },
  "language_info": {
   "codemirror_mode": {
    "name": "ipython",
    "version": 3
   },
   "file_extension": ".py",
   "mimetype": "text/x-python",
   "name": "python",
   "nbconvert_exporter": "python",
   "pygments_lexer": "ipython3",
   "version": "3.9.15"
  }
 },
 "nbformat": 4,
 "nbformat_minor": 5
}
