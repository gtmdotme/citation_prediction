{
 "cells": [
  {
   "cell_type": "markdown",
   "id": "e2f68347-52ca-4197-bd25-1c7c2e91e99c",
   "metadata": {},
   "source": [
    "## Modeling - Citation Prediction"
   ]
  },
  {
   "cell_type": "code",
   "execution_count": 1,
   "id": "bdf867e6-99b7-4450-9e25-1f4ab648b89b",
   "metadata": {},
   "outputs": [
    {
     "name": "stderr",
     "output_type": "stream",
     "text": [
      "/Users/gautamchoudhary/miniconda3/envs/myenv/lib/python3.9/site-packages/xgboost/compat.py:36: FutureWarning: pandas.Int64Index is deprecated and will be removed from pandas in a future version. Use pandas.Index with the appropriate dtype instead.\n",
      "  from pandas import MultiIndex, Int64Index\n",
      "[nltk_data] Downloading package punkt to\n",
      "[nltk_data]     /Users/gautamchoudhary/nltk_data...\n",
      "[nltk_data]   Package punkt is already up-to-date!\n"
     ]
    }
   ],
   "source": [
    "# basic\n",
    "import sys\n",
    "import os\n",
    "import json\n",
    "import pdb\n",
    "import ast\n",
    "import time\n",
    "import requests\n",
    "from tqdm import tqdm\n",
    "from collections import Counter, defaultdict, namedtuple\n",
    "\n",
    "# debug\n",
    "import pdb\n",
    "from loguru import logger\n",
    "\n",
    "import numpy as np\n",
    "import pandas as pd\n",
    "\n",
    "# plotting\n",
    "from matplotlib import pyplot as plt\n",
    "%matplotlib inline\n",
    "import seaborn as sns\n",
    "\n",
    "# sklearn\n",
    "from sklearn.metrics import mean_squared_error\n",
    "from sklearn.model_selection import KFold, StratifiedKFold, train_test_split\n",
    "from sklearn.preprocessing import StandardScaler, MinMaxScaler\n",
    "from sklearn import metrics\n",
    "from sklearn.mixture import GaussianMixture as GMM\n",
    "\n",
    "# regression models\n",
    "from sklearn.linear_model import LinearRegression\n",
    "from sklearn.ensemble import GradientBoostingRegressor\n",
    "from sklearn.linear_model import SGDRegressor\n",
    "from sklearn.svm import SVR\n",
    "from sklearn.neural_network import MLPRegressor\n",
    "import xgboost\n",
    "from xgboost.sklearn import XGBRegressor\n",
    "\n",
    "# classification models\n",
    "from sklearn.linear_model import LogisticRegression\n",
    "from sklearn.neighbors import KNeighborsClassifier\n",
    "from sklearn.naive_bayes import GaussianNB\n",
    "from sklearn.tree import DecisionTreeClassifier\n",
    "from sklearn.svm import SVC\n",
    "from sklearn.neural_network import MLPClassifier\n",
    "\n",
    "# from warnings import filterwarnings\n",
    "# filterwarnings(action='ignore', category=DeprecationWarning,  message='`np.bool` is a deprecated alias')\n",
    "# filterwarnings(action='ignore', category=DeprecationWarning,  message='`np.int` is a deprecated alias' )\n",
    "# filterwarnings(action='ignore', category=DeprecationWarning,  message='`np.object` is a deprecated alias')\n",
    "\n",
    "\n",
    "# custom\n",
    "from utils import *\n",
    "\n",
    "SEED = 0"
   ]
  },
  {
   "cell_type": "markdown",
   "id": "a5c03694-29ab-41e2-a37f-b332ada74a4e",
   "metadata": {},
   "source": [
    "### Load Data"
   ]
  },
  {
   "cell_type": "code",
   "execution_count": 2,
   "id": "1156dfba-9a75-4be6-85dc-16a0fdfb23ac",
   "metadata": {},
   "outputs": [
    {
     "name": "stdout",
     "output_type": "stream",
     "text": [
      "CPU times: user 4.27 s, sys: 1.56 s, total: 5.82 s\n",
      "Wall time: 6.3 s\n"
     ]
    }
   ],
   "source": [
    "%%time\n",
    "YEAR = 2017\n",
    "\n",
    "works = pd.read_pickle(f'./data/{YEAR}/works.{YEAR}.v2.pkl').set_index('id')\n",
    "authors = pd.read_pickle(f'./data/{YEAR}/authors.{YEAR}.v2.pkl').set_index('id')\n",
    "venues = pd.read_pickle(f'./data/{YEAR}/venues.{YEAR}.v2.pkl').set_index('id')\n",
    "insts = pd.read_pickle(f'./data/{YEAR}/insts.{YEAR}.v2.pkl').set_index('id')"
   ]
  },
  {
   "cell_type": "code",
   "execution_count": 3,
   "id": "83c76c8c-fff0-4fcc-9d45-cb0ba83349b7",
   "metadata": {},
   "outputs": [
    {
     "name": "stdout",
     "output_type": "stream",
     "text": [
      "CPU times: user 1.37 s, sys: 259 ms, total: 1.63 s\n",
      "Wall time: 1.72 s\n"
     ]
    }
   ],
   "source": [
    "%%time\n",
    "works, authors, venues, insts = preprocess_data(works, YEAR, 2022, authors, venues, insts)"
   ]
  },
  {
   "cell_type": "code",
   "execution_count": 4,
   "id": "86eb96af-a8a5-4f4c-9295-932ca418f35a",
   "metadata": {},
   "outputs": [],
   "source": [
    "# Train Test Split: based on `works`\n",
    "TEST_SIZE = 0.2\n",
    "train_index, test_index = train_test_split(range(len(works)),\n",
    "                                           test_size=TEST_SIZE, random_state=SEED)"
   ]
  },
  {
   "cell_type": "markdown",
   "id": "6a319f52-9f1c-48f6-a3cb-c249fefa8cc4",
   "metadata": {},
   "source": [
    "### Feature Extraction"
   ]
  },
  {
   "cell_type": "code",
   "execution_count": 5,
   "id": "b6814a85-fb89-4ee6-9e99-10556add5ef9",
   "metadata": {},
   "outputs": [
    {
     "data": {
      "text/plain": [
       "(135369, 14)"
      ]
     },
     "execution_count": 5,
     "metadata": {},
     "output_type": "execute_result"
    }
   ],
   "source": [
    "df = get_features(works, authors, venues, insts, YEAR, N_CLASSES=2, seed=SEED)\n",
    "df.shape"
   ]
  },
  {
   "cell_type": "code",
   "execution_count": 6,
   "id": "25704dc4-937b-4b5f-b99f-85474df28d31",
   "metadata": {},
   "outputs": [
    {
     "name": "stdout",
     "output_type": "stream",
     "text": [
      "count    135369.000000\n",
      "mean          2.563881\n",
      "std           8.177346\n",
      "min           0.000000\n",
      "50%           1.000000\n",
      "90%           6.000000\n",
      "91%           6.000000\n",
      "92%           7.000000\n",
      "93%           7.000000\n",
      "94%           8.000000\n",
      "95%          10.000000\n",
      "96%          11.000000\n",
      "97%          14.000000\n",
      "98%          18.000000\n",
      "99%          29.000000\n",
      "max         662.000000\n",
      "Name: y_reg, dtype: float64\n"
     ]
    },
    {
     "data": {
      "text/plain": [
       "<AxesSubplot:xlabel='y_reg', ylabel='Count'>"
      ]
     },
     "execution_count": 6,
     "metadata": {},
     "output_type": "execute_result"
    },
    {
     "data": {
      "image/png": "[encoded data removed]",
      "text/plain": [
       "<Figure size 640x480 with 1 Axes>"
      ]
     },
     "metadata": {},
     "output_type": "display_data"
    }
   ],
   "source": [
    "# check distribution of citations - target variable\n",
    "temp = df['y_reg']\n",
    "print(temp.describe(percentiles=[i/100 for i in range(90, 100, 1)]))\n",
    "sns.histplot(temp[temp>50], bins=100)"
   ]
  },
  {
   "cell_type": "markdown",
   "id": "5e93ff75-d949-48d5-9c5c-694e511aab6b",
   "metadata": {},
   "source": [
    "### GMM - unsupervised clustering"
   ]
  },
  {
   "cell_type": "code",
   "execution_count": 7,
   "id": "09128363-9799-417e-9aad-49690565ad0d",
   "metadata": {},
   "outputs": [
    {
     "name": "stderr",
     "output_type": "stream",
     "text": [
      "100%|██████████████████████████████████████████████████████████████████████████████████| 10/10 [00:06<00:00,  1.58it/s]\n"
     ]
    }
   ],
   "source": [
    "# ref: https://jakevdp.github.io/PythonDataScienceHandbook/05.12-gaussian-mixtures.html\n",
    "# ref: https://towardsdatascience.com/gaussian-mixture-model-clusterization-how-to-select-the-number-of-components-clusters-553bef45f6e4\n",
    "\n",
    "x = df['y_reg'].to_numpy().reshape(-1, 1)\n",
    "n_components = np.arange(1, 11)\n",
    "models = [GMM(n, covariance_type='full', random_state=SEED).fit(x)\n",
    "          for n in tqdm(n_components)]"
   ]
  },
  {
   "cell_type": "code",
   "execution_count": 9,
   "id": "e1a1a931-ca78-4ce0-b337-b261937d93b7",
   "metadata": {},
   "outputs": [
    {
     "data": {
      "text/plain": [
       "<matplotlib.lines.Line2D at 0x29c3ee6d0>"
      ]
     },
     "execution_count": 9,
     "metadata": {},
     "output_type": "execute_result"
    },
    {
     "data": {
      "image/png": "[encoded data removed]",
      "text/plain": [
       "<Figure size 500x300 with 2 Axes>"
      ]
     },
     "metadata": {},
     "output_type": "display_data"
    }
   ],
   "source": [
    "fig, ax = plt.subplots(ncols=1, figsize=(5,3))\n",
    "\n",
    "# bic score\n",
    "ax.plot(n_components, [m.bic(x) for m in models], 'r-', label=r'BIC $\\downarrow$')\n",
    "ax.set_xlabel('n_clusters')\n",
    "\n",
    "# silhouette score\n",
    "ax1 = ax.twinx()\n",
    "s = [0] + [metrics.silhouette_score(x, m.predict(x), metric='euclidean', sample_size=1000) for m in models[1:]]\n",
    "ax1.plot(n_components, s, 'g-', label=r'Silhouette Score $\\uparrow$')\n",
    "ax1.set_xlabel('n_clusters')\n",
    "fig.legend(loc='upper right', bbox_to_anchor=(1,1), bbox_transform=ax.transAxes)\n",
    "\n",
    "# optimal cluster line\n",
    "ax.axvline(2, color = 'b', linestyle='--')"
   ]
  },
  {
   "cell_type": "code",
   "execution_count": null,
   "id": "97aca1f5-3f1e-432b-a60b-bd028bc1f48b",
   "metadata": {},
   "outputs": [],
   "source": []
  },
  {
   "cell_type": "code",
   "execution_count": null,
   "id": "9beebc8f-edc0-41f2-b7bd-a7fc4d51d325",
   "metadata": {},
   "outputs": [],
   "source": []
  }
 ],
 "metadata": {
  "kernelspec": {
   "display_name": "Python (myenv)",
   "language": "python",
   "name": "myenv"
  },
  "language_info": {
   "codemirror_mode": {
    "name": "ipython",
    "version": 3
   },
   "file_extension": ".py",
   "mimetype": "text/x-python",
   "name": "python",
   "nbconvert_exporter": "python",
   "pygments_lexer": "ipython3",
   "version": "3.9.15"
  }
 },
 "nbformat": 4,
 "nbformat_minor": 5
}
