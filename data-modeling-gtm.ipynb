{
 "cells": [
  {
   "cell_type": "markdown",
   "id": "e2f68347-52ca-4197-bd25-1c7c2e91e99c",
   "metadata": {},
   "source": [
    "## Modeling - Citation Prediction"
   ]
  },
  {
   "cell_type": "code",
   "execution_count": 1,
   "id": "bdf867e6-99b7-4450-9e25-1f4ab648b89b",
   "metadata": {},
   "outputs": [
    {
     "name": "stderr",
     "output_type": "stream",
     "text": [
      "/Users/gautamchoudhary/miniconda3/envs/myenv/lib/python3.9/site-packages/xgboost/compat.py:36: FutureWarning: pandas.Int64Index is deprecated and will be removed from pandas in a future version. Use pandas.Index with the appropriate dtype instead.\n",
      "  from pandas import MultiIndex, Int64Index\n"
     ]
    }
   ],
   "source": [
    "# basic\n",
    "import json\n",
    "import pdb\n",
    "import ast\n",
    "from tqdm import tqdm\n",
    "from collections import Counter\n",
    "\n",
    "import numpy as np\n",
    "import pandas as pd\n",
    "\n",
    "# plotting\n",
    "from matplotlib import pyplot as plt\n",
    "%matplotlib inline\n",
    "import seaborn as sns\n",
    "\n",
    "# sklearn\n",
    "from sklearn.metrics import mean_squared_error\n",
    "from sklearn.model_selection import KFold, StratifiedKFold\n",
    "from sklearn.preprocessing import StandardScaler, MinMaxScaler\n",
    "from sklearn import metrics\n",
    "\n",
    "# regression models\n",
    "from sklearn.linear_model import LinearRegression\n",
    "from sklearn.ensemble import GradientBoostingRegressor\n",
    "from sklearn.linear_model import SGDRegressor\n",
    "from sklearn.svm import SVR\n",
    "from xgboost.sklearn import XGBRegressor\n",
    "from sklearn.neural_network import MLPRegressor\n",
    "\n",
    "# classification models\n",
    "from sklearn.linear_model import LogisticRegression\n",
    "from sklearn.neighbors import KNeighborsClassifier\n",
    "from sklearn.naive_bayes import GaussianNB\n",
    "from sklearn.tree import DecisionTreeClassifier\n",
    "from sklearn.svm import SVC\n",
    "from sklearn.neural_network import MLPClassifier\n",
    "\n",
    "# custom\n",
    "from utils import *\n",
    "\n",
    "SEED = 0"
   ]
  },
  {
   "cell_type": "markdown",
   "id": "a5c03694-29ab-41e2-a37f-b332ada74a4e",
   "metadata": {},
   "source": [
    "### Load Data"
   ]
  },
  {
   "cell_type": "code",
   "execution_count": 2,
   "id": "1156dfba-9a75-4be6-85dc-16a0fdfb23ac",
   "metadata": {},
   "outputs": [],
   "source": [
    "YEAR = 2017\n",
    "\n",
    "works = pd.read_csv(f'./data/{YEAR}/works.{YEAR}.v1.csv')\n",
    "authors = pd.read_csv(f'./data/{YEAR}/authors.{YEAR}.v1.csv')\n",
    "venues = pd.read_csv(f'./data/{YEAR}/venues.{YEAR}.v1.csv')\n",
    "insts = pd.read_csv(f'./data/{YEAR}/insts.{YEAR}.v1.csv')"
   ]
  },
  {
   "cell_type": "code",
   "execution_count": 3,
   "id": "2282039c-d564-4b32-8a03-073a03bffa9c",
   "metadata": {},
   "outputs": [],
   "source": [
    "works = preprocess_works(works, YEAR, 2022)"
   ]
  },
  {
   "cell_type": "code",
   "execution_count": 4,
   "id": "b1f2614f-a723-4bc2-9182-96d377f8b4d6",
   "metadata": {},
   "outputs": [
    {
     "name": "stdout",
     "output_type": "stream",
     "text": [
      "(145694, 15)\n"
     ]
    },
    {
     "data": {
      "text/html": [
       "<div>\n",
       "<style scoped>\n",
       "    .dataframe tbody tr th:only-of-type {\n",
       "        vertical-align: middle;\n",
       "    }\n",
       "\n",
       "    .dataframe tbody tr th {\n",
       "        vertical-align: top;\n",
       "    }\n",
       "\n",
       "    .dataframe thead th {\n",
       "        text-align: right;\n",
       "    }\n",
       "</style>\n",
       "<table border=\"1\" class=\"dataframe\">\n",
       "  <thead>\n",
       "    <tr style=\"text-align: right;\">\n",
       "      <th></th>\n",
       "      <th>id</th>\n",
       "      <th>doi</th>\n",
       "      <th>title</th>\n",
       "      <th>type</th>\n",
       "      <th>publication_date</th>\n",
       "      <th>host_venue</th>\n",
       "      <th>open_access_is_oa</th>\n",
       "      <th>open_access_oa_status</th>\n",
       "      <th>authorships</th>\n",
       "      <th>page_count</th>\n",
       "      <th>cited_by_count</th>\n",
       "      <th>concepts</th>\n",
       "      <th>referenced_works</th>\n",
       "      <th>abstract</th>\n",
       "      <th>counts_by_year</th>\n",
       "    </tr>\n",
       "  </thead>\n",
       "  <tbody>\n",
       "    <tr>\n",
       "      <th>0</th>\n",
       "      <td>W2555618208</td>\n",
       "      <td>https://doi.org/10.1109/cvpr.2017.691</td>\n",
       "      <td>Multi-view 3D Object Detection Network for Aut...</td>\n",
       "      <td>proceedings-article</td>\n",
       "      <td>2017-07-21</td>\n",
       "      <td>V4306417987</td>\n",
       "      <td>True</td>\n",
       "      <td>green</td>\n",
       "      <td>[[A2119051707, [I99065089]], [A2151001937, [I9...</td>\n",
       "      <td>-1</td>\n",
       "      <td>1409</td>\n",
       "      <td>[[C131979681, 0.86888766], [C41008148, 0.77201...</td>\n",
       "      <td>[W7746136, W1536680647, W1914646313, W19466097...</td>\n",
       "      <td>This paper aims at high-accuracy 3D object det...</td>\n",
       "      <td>[(2017, 13), (2018, 109), (2019, 308), (2020, ...</td>\n",
       "    </tr>\n",
       "    <tr>\n",
       "      <th>1</th>\n",
       "      <td>W2557641257</td>\n",
       "      <td>https://doi.org/10.1109/cvpr.2017.733</td>\n",
       "      <td>ECO: Efficient Convolution Operators for Tracking</td>\n",
       "      <td>proceedings-article</td>\n",
       "      <td>2017-07-21</td>\n",
       "      <td>V4306417987</td>\n",
       "      <td>True</td>\n",
       "      <td>green</td>\n",
       "      <td>[[A260882311, [I102134673]], [A2557978175, [I1...</td>\n",
       "      <td>-1</td>\n",
       "      <td>1322</td>\n",
       "      <td>[[C63479239, 0.8030945], [C68339613, 0.7788200...</td>\n",
       "      <td>[W1857884451, W1892578678, W1904671147, W19157...</td>\n",
       "      <td>In recent years, Discriminative Correlation Fi...</td>\n",
       "      <td>[(2017, 9), (2018, 133), (2019, 303), (2020, 3...</td>\n",
       "    </tr>\n",
       "    <tr>\n",
       "      <th>2</th>\n",
       "      <td>W2963709863</td>\n",
       "      <td>https://doi.org/10.1109/cvpr.2017.241</td>\n",
       "      <td>Learning from Simulated and Unsupervised Image...</td>\n",
       "      <td>proceedings-article</td>\n",
       "      <td>2017-07-21</td>\n",
       "      <td>V4306417987</td>\n",
       "      <td>True</td>\n",
       "      <td>green</td>\n",
       "      <td>[[A2183241032, [I1311269955]], [A2798413642, [...</td>\n",
       "      <td>-1</td>\n",
       "      <td>1277</td>\n",
       "      <td>[[C41008148, 0.8212265], [C2779803651, 0.78661...</td>\n",
       "      <td>[W1922126009, W1950149599, W1995694455, W20012...</td>\n",
       "      <td>With recent progress in graphics, it has becom...</td>\n",
       "      <td>[(2017, 55), (2018, 251), (2019, 356), (2020, ...</td>\n",
       "    </tr>\n",
       "    <tr>\n",
       "      <th>3</th>\n",
       "      <td>W2594519801</td>\n",
       "      <td>https://doi.org/10.1109/cvpr.2017.261</td>\n",
       "      <td>ScanNet: Richly-Annotated 3D Reconstructions o...</td>\n",
       "      <td>proceedings-article</td>\n",
       "      <td>2017-07-21</td>\n",
       "      <td>V4306417987</td>\n",
       "      <td>True</td>\n",
       "      <td>green</td>\n",
       "      <td>[[A2158018495, [I97018004]], [A2111957820, [I2...</td>\n",
       "      <td>-1</td>\n",
       "      <td>1116</td>\n",
       "      <td>[[C41008148, 0.8516614], [C82990744, 0.6491697...</td>\n",
       "      <td>[W218762409, W1509835260, W1565402342, W159436...</td>\n",
       "      <td>A key requirement for leveraging supervised de...</td>\n",
       "      <td>[(2017, 12), (2018, 76), (2019, 226), (2020, 3...</td>\n",
       "    </tr>\n",
       "    <tr>\n",
       "      <th>4</th>\n",
       "      <td>W2561715562</td>\n",
       "      <td>https://doi.org/10.1109/cvpr.2017.215</td>\n",
       "      <td>CLEVR: A Diagnostic Dataset for Compositional ...</td>\n",
       "      <td>proceedings-article</td>\n",
       "      <td>2017-07-01</td>\n",
       "      <td>V4306417987</td>\n",
       "      <td>True</td>\n",
       "      <td>green</td>\n",
       "      <td>[[A2345205178, [I97018004]], [A1988254826, [I2...</td>\n",
       "      <td>-1</td>\n",
       "      <td>1085</td>\n",
       "      <td>[[C41008148, 0.7745689], [C130440534, 0.751482...</td>\n",
       "      <td>[W1933349210, W1983927101, W1996418862, W20646...</td>\n",
       "      <td>When building artificial intelligence systems ...</td>\n",
       "      <td>[(2017, 38), (2018, 146), (2019, 232), (2020, ...</td>\n",
       "    </tr>\n",
       "  </tbody>\n",
       "</table>\n",
       "</div>"
      ],
      "text/plain": [
       "            id                                    doi  \\\n",
       "0  W2555618208  https://doi.org/10.1109/cvpr.2017.691   \n",
       "1  W2557641257  https://doi.org/10.1109/cvpr.2017.733   \n",
       "2  W2963709863  https://doi.org/10.1109/cvpr.2017.241   \n",
       "3  W2594519801  https://doi.org/10.1109/cvpr.2017.261   \n",
       "4  W2561715562  https://doi.org/10.1109/cvpr.2017.215   \n",
       "\n",
       "                                               title                 type  \\\n",
       "0  Multi-view 3D Object Detection Network for Aut...  proceedings-article   \n",
       "1  ECO: Efficient Convolution Operators for Tracking  proceedings-article   \n",
       "2  Learning from Simulated and Unsupervised Image...  proceedings-article   \n",
       "3  ScanNet: Richly-Annotated 3D Reconstructions o...  proceedings-article   \n",
       "4  CLEVR: A Diagnostic Dataset for Compositional ...  proceedings-article   \n",
       "\n",
       "  publication_date   host_venue  open_access_is_oa open_access_oa_status  \\\n",
       "0       2017-07-21  V4306417987               True                 green   \n",
       "1       2017-07-21  V4306417987               True                 green   \n",
       "2       2017-07-21  V4306417987               True                 green   \n",
       "3       2017-07-21  V4306417987               True                 green   \n",
       "4       2017-07-01  V4306417987               True                 green   \n",
       "\n",
       "                                         authorships page_count  \\\n",
       "0  [[A2119051707, [I99065089]], [A2151001937, [I9...         -1   \n",
       "1  [[A260882311, [I102134673]], [A2557978175, [I1...         -1   \n",
       "2  [[A2183241032, [I1311269955]], [A2798413642, [...         -1   \n",
       "3  [[A2158018495, [I97018004]], [A2111957820, [I2...         -1   \n",
       "4  [[A2345205178, [I97018004]], [A1988254826, [I2...         -1   \n",
       "\n",
       "   cited_by_count                                           concepts  \\\n",
       "0            1409  [[C131979681, 0.86888766], [C41008148, 0.77201...   \n",
       "1            1322  [[C63479239, 0.8030945], [C68339613, 0.7788200...   \n",
       "2            1277  [[C41008148, 0.8212265], [C2779803651, 0.78661...   \n",
       "3            1116  [[C41008148, 0.8516614], [C82990744, 0.6491697...   \n",
       "4            1085  [[C41008148, 0.7745689], [C130440534, 0.751482...   \n",
       "\n",
       "                                    referenced_works  \\\n",
       "0  [W7746136, W1536680647, W1914646313, W19466097...   \n",
       "1  [W1857884451, W1892578678, W1904671147, W19157...   \n",
       "2  [W1922126009, W1950149599, W1995694455, W20012...   \n",
       "3  [W218762409, W1509835260, W1565402342, W159436...   \n",
       "4  [W1933349210, W1983927101, W1996418862, W20646...   \n",
       "\n",
       "                                            abstract  \\\n",
       "0  This paper aims at high-accuracy 3D object det...   \n",
       "1  In recent years, Discriminative Correlation Fi...   \n",
       "2  With recent progress in graphics, it has becom...   \n",
       "3  A key requirement for leveraging supervised de...   \n",
       "4  When building artificial intelligence systems ...   \n",
       "\n",
       "                                      counts_by_year  \n",
       "0  [(2017, 13), (2018, 109), (2019, 308), (2020, ...  \n",
       "1  [(2017, 9), (2018, 133), (2019, 303), (2020, 3...  \n",
       "2  [(2017, 55), (2018, 251), (2019, 356), (2020, ...  \n",
       "3  [(2017, 12), (2018, 76), (2019, 226), (2020, 3...  \n",
       "4  [(2017, 38), (2018, 146), (2019, 232), (2020, ...  "
      ]
     },
     "execution_count": 4,
     "metadata": {},
     "output_type": "execute_result"
    }
   ],
   "source": [
    "# works\n",
    "print (works.shape)\n",
    "works.head()"
   ]
  },
  {
   "cell_type": "markdown",
   "id": "6a319f52-9f1c-48f6-a3cb-c249fefa8cc4",
   "metadata": {},
   "source": [
    "### Feature Extraction"
   ]
  },
  {
   "cell_type": "code",
   "execution_count": 5,
   "id": "cd0b29de-b834-4a81-90f1-1fd72fe92954",
   "metadata": {},
   "outputs": [],
   "source": [
    "df = pd.DataFrame()\n",
    "# features\n",
    "df['publication_month'] = works['publication_date'].map(lambda x: int(x.split('-')[1]))\n",
    "df['open_access_is_oa'] = works['open_access_is_oa']\n",
    "df['no_of_authors'] = works['authorships'].map(lambda x: len(x))\n",
    "df['no_of_referenced_works'] = works['referenced_works'].map(len)\n",
    "df['avg_counts_by_year'] = works['counts_by_year'].map(lambda x: np.mean(np.array(x)[:, 1] if len(x) else 0))\n",
    "\n",
    "# target variable\n",
    "df['cited_by_count'] = works['cited_by_count']"
   ]
  },
  {
   "cell_type": "code",
   "execution_count": 5,
   "id": "07d3246c-823c-487e-b6eb-473cad66a90e",
   "metadata": {},
   "outputs": [
    {
     "data": {
      "text/html": [
       "<div>\n",
       "<style scoped>\n",
       "    .dataframe tbody tr th:only-of-type {\n",
       "        vertical-align: middle;\n",
       "    }\n",
       "\n",
       "    .dataframe tbody tr th {\n",
       "        vertical-align: top;\n",
       "    }\n",
       "\n",
       "    .dataframe thead th {\n",
       "        text-align: right;\n",
       "    }\n",
       "</style>\n",
       "<table border=\"1\" class=\"dataframe\">\n",
       "  <thead>\n",
       "    <tr style=\"text-align: right;\">\n",
       "      <th></th>\n",
       "      <th>publication_month</th>\n",
       "      <th>open_access_is_oa</th>\n",
       "      <th>no_of_authors</th>\n",
       "      <th>no_of_referenced_works</th>\n",
       "      <th>avg_counts_by_year</th>\n",
       "      <th>cited_by_count</th>\n",
       "    </tr>\n",
       "  </thead>\n",
       "  <tbody>\n",
       "    <tr>\n",
       "      <th>0</th>\n",
       "      <td>6</td>\n",
       "      <td>False</td>\n",
       "      <td>3</td>\n",
       "      <td>31</td>\n",
       "      <td>602.909091</td>\n",
       "      <td>6636</td>\n",
       "    </tr>\n",
       "    <tr>\n",
       "      <th>1</th>\n",
       "      <td>12</td>\n",
       "      <td>False</td>\n",
       "      <td>3</td>\n",
       "      <td>11</td>\n",
       "      <td>197.727273</td>\n",
       "      <td>2177</td>\n",
       "    </tr>\n",
       "    <tr>\n",
       "      <th>2</th>\n",
       "      <td>6</td>\n",
       "      <td>True</td>\n",
       "      <td>3</td>\n",
       "      <td>21</td>\n",
       "      <td>179.000000</td>\n",
       "      <td>1970</td>\n",
       "    </tr>\n",
       "    <tr>\n",
       "      <th>3</th>\n",
       "      <td>12</td>\n",
       "      <td>True</td>\n",
       "      <td>5</td>\n",
       "      <td>29</td>\n",
       "      <td>171.545455</td>\n",
       "      <td>1888</td>\n",
       "    </tr>\n",
       "    <tr>\n",
       "      <th>4</th>\n",
       "      <td>1</td>\n",
       "      <td>True</td>\n",
       "      <td>5</td>\n",
       "      <td>16</td>\n",
       "      <td>150.090909</td>\n",
       "      <td>1655</td>\n",
       "    </tr>\n",
       "  </tbody>\n",
       "</table>\n",
       "</div>"
      ],
      "text/plain": [
       "   publication_month  open_access_is_oa  no_of_authors  \\\n",
       "0                  6              False              3   \n",
       "1                 12              False              3   \n",
       "2                  6               True              3   \n",
       "3                 12               True              5   \n",
       "4                  1               True              5   \n",
       "\n",
       "   no_of_referenced_works  avg_counts_by_year  cited_by_count  \n",
       "0                      31          602.909091            6636  \n",
       "1                      11          197.727273            2177  \n",
       "2                      21          179.000000            1970  \n",
       "3                      29          171.545455            1888  \n",
       "4                      16          150.090909            1655  "
      ]
     },
     "execution_count": 5,
     "metadata": {},
     "output_type": "execute_result"
    }
   ],
   "source": [
    "df.head()"
   ]
  },
  {
   "cell_type": "code",
   "execution_count": 45,
   "id": "06490f93-5e82-4e98-a071-e29ea76f8c48",
   "metadata": {},
   "outputs": [],
   "source": [
    "# # normalize\n",
    "# scaler = StandardScaler()\n",
    "# X_normalized = scaler.fit_transform(X)"
   ]
  },
  {
   "cell_type": "code",
   "execution_count": null,
   "id": "26c336d0-5d1a-427b-a621-68579ba955de",
   "metadata": {},
   "outputs": [],
   "source": []
  },
  {
   "cell_type": "markdown",
   "id": "ed17fdcb-07ca-4b78-b9c1-73a473cdbb81",
   "metadata": {},
   "source": [
    "### Regression"
   ]
  },
  {
   "cell_type": "code",
   "execution_count": 66,
   "id": "310ba4c2-36a8-462a-844c-67d53f52699c",
   "metadata": {},
   "outputs": [],
   "source": [
    "X = df.drop(columns=['cited_by_count'])\n",
    "y = df['cited_by_count']\n",
    "SEED = 0"
   ]
  },
  {
   "cell_type": "code",
   "execution_count": 67,
   "id": "20959006-f3ff-4e07-a69d-3daf9a0cebdf",
   "metadata": {},
   "outputs": [
    {
     "name": "stdout",
     "output_type": "stream",
     "text": [
      "Linear Regression:\n",
      "  - Train RMSE: 5.623 +/- 0.085\n",
      "  - Test RMSE: 5.896 +/- 0.619\n"
     ]
    }
   ],
   "source": [
    "# regression analysis\n",
    "\n",
    "def print_metric(metric_name, metric_list):\n",
    "    mean, std = np.mean(metric_list), np.std(metric_list)\n",
    "    print (f\"  - {metric_name}: {np.round(mean, 3)} +/- {np.round(std, 3)}\")\n",
    "    return\n",
    "\n",
    "reg_models = {\n",
    "    'Linear Regression': LinearRegression(),\n",
    "    # 'GradientBoostingRegressor': GradientBoostingRegressor(),\n",
    "    # 'SGDRegressor': SGDRegressor(),\n",
    "    # 'XGBRegressor': XGBRegressor(),\n",
    "    # 'MLPRegressor': MLPRegressor(random_state=SEED, max_iter=100),\n",
    "}\n",
    "\n",
    "for model_name, model in reg_models.items():\n",
    "    kf = KFold(n_splits=5, random_state=2, shuffle=True)\n",
    "    train_rmse, test_rmse = [], []\n",
    "    for train_index, test_index in kf.split(X):\n",
    "        X_train, X_test = X.iloc[train_index], X.iloc[test_index]\n",
    "        y_train, y_test = y.iloc[train_index], y.iloc[test_index]\n",
    "\n",
    "        model.fit(X_train, y_train)\n",
    "\n",
    "        y_pred = model.predict(X_train)\n",
    "        rmse = mean_squared_error(y_true=y_train, y_pred=y_pred, squared=False)\n",
    "        train_rmse.append(rmse)\n",
    "\n",
    "        y_pred = model.predict(X_test)\n",
    "        rmse = mean_squared_error(y_true=y_test, y_pred=y_pred, squared=False)\n",
    "        test_rmse.append(rmse)\n",
    "\n",
    "    print (f\"{model_name}:\")\n",
    "    print_metric('Train RMSE', train_rmse)\n",
    "    print_metric('Test RMSE', test_rmse)"
   ]
  },
  {
   "cell_type": "code",
   "execution_count": 72,
   "id": "89e8b642-e442-487c-816f-bb895aa73586",
   "metadata": {},
   "outputs": [
    {
     "name": "stdout",
     "output_type": "stream",
     "text": [
      "Feature: 0  Score: ('publication_month', -0.013388896463560361)\n",
      "Feature: 1  Score: ('open_access_is_oa', -0.21489938785071327)\n",
      "Feature: 2  Score: ('no_of_authors', -0.08140742553037128)\n",
      "Feature: 3  Score: ('no_of_referenced_works', -0.05855078592689508)\n",
      "Feature: 4  Score: ('avg_counts_by_year', 10.430028947845738)\n",
      "Feature: 5  Score: ('cited_by_count_class', 3.695162046982413)\n"
     ]
    },
    {
     "data": {
      "image/png": "[encoded data removed]",
      "text/plain": [
       "<Figure size 640x480 with 1 Axes>"
      ]
     },
     "metadata": {},
     "output_type": "display_data"
    }
   ],
   "source": [
    "# get importance for linear regression\n",
    "importance = model.coef_\n",
    "for i,v in enumerate(zip(X.columns, importance)):\n",
    "    print('Feature: {}  Score: {}' .format(i,v))\n",
    "# plot feature importance\n",
    "plt.bar([x for x in range(len(importance))] ,importance)\n",
    "plt.show()"
   ]
  },
  {
   "cell_type": "code",
   "execution_count": null,
   "id": "bdf0143d-6dbc-4d56-b6da-4a8d83f4690c",
   "metadata": {},
   "outputs": [],
   "source": []
  },
  {
   "cell_type": "code",
   "execution_count": null,
   "id": "c681002b-6e8f-4b0f-a117-cdf6453c78b7",
   "metadata": {},
   "outputs": [],
   "source": []
  },
  {
   "cell_type": "markdown",
   "id": "0727e09d-e02f-48f1-aea2-65864bdf6035",
   "metadata": {},
   "source": [
    "### Classification"
   ]
  },
  {
   "cell_type": "code",
   "execution_count": 46,
   "id": "a878aff6-9685-4edb-ae2e-34faa6660c61",
   "metadata": {},
   "outputs": [],
   "source": [
    "def bin_citation_count(count):\n",
    "    if count <= 25:\n",
    "        return 0\n",
    "    elif count <= 50:\n",
    "        return 1\n",
    "    elif count <= 100:\n",
    "        return 2\n",
    "    elif count <= 200:\n",
    "        return 3\n",
    "    elif count > 200:\n",
    "        return 4\n",
    "    \n",
    "df['cited_by_count_class'] = df['cited_by_count'].map(bin_citation_count)"
   ]
  },
  {
   "cell_type": "code",
   "execution_count": 47,
   "id": "425aa262-be29-4aff-b0d1-dc89b939c96f",
   "metadata": {},
   "outputs": [],
   "source": [
    "X = df.drop(columns=['cited_by_count'])\n",
    "y = df['cited_by_count_class']"
   ]
  },
  {
   "cell_type": "code",
   "execution_count": 61,
   "id": "651355f3-a5ef-4bab-865f-3889e1c8685c",
   "metadata": {},
   "outputs": [
    {
     "name": "stderr",
     "output_type": "stream",
     "text": [
      "0it [00:00, ?it/s]/Users/gautamchoudhary/miniconda3/envs/myenv/lib/python3.9/site-packages/sklearn/linear_model/_logistic.py:444: ConvergenceWarning: lbfgs failed to converge (status=1):\n",
      "STOP: TOTAL NO. of ITERATIONS REACHED LIMIT.\n",
      "\n",
      "Increase the number of iterations (max_iter) or scale the data as shown in:\n",
      "    https://scikit-learn.org/stable/modules/preprocessing.html\n",
      "Please also refer to the documentation for alternative solver options:\n",
      "    https://scikit-learn.org/stable/modules/linear_model.html#logistic-regression\n",
      "  n_iter_i = _check_optimize_result(\n",
      "1it [00:01,  1.91s/it]/Users/gautamchoudhary/miniconda3/envs/myenv/lib/python3.9/site-packages/sklearn/linear_model/_logistic.py:444: ConvergenceWarning: lbfgs failed to converge (status=1):\n",
      "STOP: TOTAL NO. of ITERATIONS REACHED LIMIT.\n",
      "\n",
      "Increase the number of iterations (max_iter) or scale the data as shown in:\n",
      "    https://scikit-learn.org/stable/modules/preprocessing.html\n",
      "Please also refer to the documentation for alternative solver options:\n",
      "    https://scikit-learn.org/stable/modules/linear_model.html#logistic-regression\n",
      "  n_iter_i = _check_optimize_result(\n",
      "2it [00:03,  1.54s/it]/Users/gautamchoudhary/miniconda3/envs/myenv/lib/python3.9/site-packages/sklearn/linear_model/_logistic.py:444: ConvergenceWarning: lbfgs failed to converge (status=1):\n",
      "STOP: TOTAL NO. of ITERATIONS REACHED LIMIT.\n",
      "\n",
      "Increase the number of iterations (max_iter) or scale the data as shown in:\n",
      "    https://scikit-learn.org/stable/modules/preprocessing.html\n",
      "Please also refer to the documentation for alternative solver options:\n",
      "    https://scikit-learn.org/stable/modules/linear_model.html#logistic-regression\n",
      "  n_iter_i = _check_optimize_result(\n",
      "3it [00:04,  1.41s/it]/Users/gautamchoudhary/miniconda3/envs/myenv/lib/python3.9/site-packages/sklearn/linear_model/_logistic.py:444: ConvergenceWarning: lbfgs failed to converge (status=1):\n",
      "STOP: TOTAL NO. of ITERATIONS REACHED LIMIT.\n",
      "\n",
      "Increase the number of iterations (max_iter) or scale the data as shown in:\n",
      "    https://scikit-learn.org/stable/modules/preprocessing.html\n",
      "Please also refer to the documentation for alternative solver options:\n",
      "    https://scikit-learn.org/stable/modules/linear_model.html#logistic-regression\n",
      "  n_iter_i = _check_optimize_result(\n",
      "4it [00:05,  1.37s/it]/Users/gautamchoudhary/miniconda3/envs/myenv/lib/python3.9/site-packages/sklearn/linear_model/_logistic.py:444: ConvergenceWarning: lbfgs failed to converge (status=1):\n",
      "STOP: TOTAL NO. of ITERATIONS REACHED LIMIT.\n",
      "\n",
      "Increase the number of iterations (max_iter) or scale the data as shown in:\n",
      "    https://scikit-learn.org/stable/modules/preprocessing.html\n",
      "Please also refer to the documentation for alternative solver options:\n",
      "    https://scikit-learn.org/stable/modules/linear_model.html#logistic-regression\n",
      "  n_iter_i = _check_optimize_result(\n",
      "5it [00:07,  1.41s/it]"
     ]
    },
    {
     "name": "stdout",
     "output_type": "stream",
     "text": [
      "LogisticRegression:\n",
      "  - Train Accuracy (in %): 99.485 +/- 0.01\n",
      "  - Train F1 : 0.995 +/- 0.0\n",
      "  - Test Accuracy (in %): 99.493 +/- 0.031\n",
      "  - Test F1 : 0.995 +/- 0.0\n"
     ]
    },
    {
     "name": "stderr",
     "output_type": "stream",
     "text": [
      "\n"
     ]
    }
   ],
   "source": [
    "# classification analysis\n",
    "\n",
    "clf_models = {\n",
    "    'LogisticRegression': LogisticRegression(n_jobs=-1),\n",
    "    # 'KNeighborsClassifier': KNeighborsClassifier(n_jobs=-1),\n",
    "    # 'GaussianNB': GaussianNB(),\n",
    "    # 'DecisionTreeClassifier': DecisionTreeClassifier(),\n",
    "    # 'SVC': SVC(random_state=SEED, max_iter=100),\n",
    "    # 'MLPClassifier': MLPClassifier(random_state=SEED, max_iter=100),\n",
    "}\n",
    "\n",
    "for model_name, model in clf_models.items():\n",
    "    kf = StratifiedKFold(n_splits=5, random_state=SEED, shuffle=True)\n",
    "    train_acc, test_acc = [], []\n",
    "    train_f1, test_f1 = [], []\n",
    "    for train_index, test_index in tqdm(kf.split(X, y)):\n",
    "        X_train, X_test = X.iloc[train_index], X.iloc[test_index]\n",
    "        y_train, y_test = y.iloc[train_index], y.iloc[test_index]\n",
    "\n",
    "        model.fit(X_train, y_train)\n",
    "\n",
    "        y_pred = model.predict(X_train)\n",
    "        acc = metrics.accuracy_score(y_true=y_train, y_pred=y_pred)\n",
    "        f1 = metrics.f1_score(y_true=y_train, y_pred=y_pred, average='weighted')\n",
    "        train_acc.append(acc*100)\n",
    "        train_f1.append(f1)\n",
    "\n",
    "        y_pred = model.predict(X_test)\n",
    "        acc = metrics.accuracy_score(y_true=y_test, y_pred=y_pred)\n",
    "        f1 = metrics.f1_score(y_true=y_test, y_pred=y_pred, average='weighted')\n",
    "        test_acc.append(acc*100)\n",
    "        test_f1.append(f1)\n",
    "    print (f\"{model_name}:\")\n",
    "    print_metric('Train Accuracy (in %)', train_acc)\n",
    "    print_metric('Train F1 ', train_f1)\n",
    "    print_metric('Test Accuracy (in %)', test_acc)\n",
    "    print_metric('Test F1 ', test_f1)"
   ]
  },
  {
   "cell_type": "code",
   "execution_count": null,
   "id": "77bccfc2-4698-468b-943d-3e021510c263",
   "metadata": {},
   "outputs": [],
   "source": []
  },
  {
   "cell_type": "code",
   "execution_count": null,
   "id": "3a82b489-6106-4daa-bafc-3a8a3fcd396d",
   "metadata": {},
   "outputs": [],
   "source": []
  },
  {
   "cell_type": "code",
   "execution_count": null,
   "id": "d4fb8417-b495-4fe0-be89-813e209e3760",
   "metadata": {},
   "outputs": [],
   "source": []
  },
  {
   "cell_type": "markdown",
   "id": "f28454bb-a614-4f99-b4f1-e58601e309dc",
   "metadata": {},
   "source": [
    "## rough"
   ]
  },
  {
   "cell_type": "code",
   "execution_count": null,
   "id": "0405301a-0efe-4c58-bd68-42ca7a30d3c3",
   "metadata": {},
   "outputs": [],
   "source": []
  },
  {
   "cell_type": "code",
   "execution_count": 33,
   "id": "ac7bd2f2-c361-4227-a47f-1a4baaf20643",
   "metadata": {},
   "outputs": [
    {
     "data": {
      "text/plain": [
       "<AxesSubplot:xlabel='cited_by_count', ylabel='Count'>"
      ]
     },
     "execution_count": 33,
     "metadata": {},
     "output_type": "execute_result"
    },
    {
     "data": {
      "image/png": "[encoded data removed]",
      "text/plain": [
       "<Figure size 640x480 with 1 Axes>"
      ]
     },
     "metadata": {},
     "output_type": "display_data"
    }
   ],
   "source": [
    "temp = df[df['cited_by_count']<200]\n",
    "sns.histplot(data=temp, x=\"cited_by_count\", bins=100)"
   ]
  },
  {
   "cell_type": "code",
   "execution_count": 38,
   "id": "5993869e-d742-4bcc-a153-d384c2e6bd77",
   "metadata": {},
   "outputs": [
    {
     "data": {
      "text/plain": [
       "<AxesSubplot:xlabel='cited_by_count', ylabel='Count'>"
      ]
     },
     "execution_count": 38,
     "metadata": {},
     "output_type": "execute_result"
    },
    {
     "data": {
      "image/png": "[encoded data removed]",
      "text/plain": [
       "<Figure size 640x480 with 1 Axes>"
      ]
     },
     "metadata": {},
     "output_type": "display_data"
    }
   ],
   "source": [
    "temp = df[df['cited_by_count']>200]\n",
    "sns.histplot(data=temp, x=\"cited_by_count\", bins=100)"
   ]
  },
  {
   "cell_type": "code",
   "execution_count": null,
   "id": "87279a72-6fd0-455d-8352-1ceed6266389",
   "metadata": {},
   "outputs": [],
   "source": []
  },
  {
   "cell_type": "code",
   "execution_count": null,
   "id": "371f5c40-f5ec-48ef-a1d1-92bd2649ce2a",
   "metadata": {},
   "outputs": [],
   "source": []
  }
 ],
 "metadata": {
  "kernelspec": {
   "display_name": "Python (myenv)",
   "language": "python",
   "name": "myenv"
  },
  "language_info": {
   "codemirror_mode": {
    "name": "ipython",
    "version": 3
   },
   "file_extension": ".py",
   "mimetype": "text/x-python",
   "name": "python",
   "nbconvert_exporter": "python",
   "pygments_lexer": "ipython3",
   "version": "3.9.13"
  }
 },
 "nbformat": 4,
 "nbformat_minor": 5
}
