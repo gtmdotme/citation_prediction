{
 "cells": [
  {
   "cell_type": "markdown",
   "id": "e2f68347-52ca-4197-bd25-1c7c2e91e99c",
   "metadata": {},
   "source": [
    "## Modeling - Citation Prediction"
   ]
  },
  {
   "cell_type": "code",
   "execution_count": 1,
   "id": "bdf867e6-99b7-4450-9e25-1f4ab648b89b",
   "metadata": {},
   "outputs": [
    {
     "name": "stderr",
     "output_type": "stream",
     "text": [
      "/Users/gautamchoudhary/miniconda3/envs/myenv/lib/python3.9/site-packages/xgboost/compat.py:36: FutureWarning: pandas.Int64Index is deprecated and will be removed from pandas in a future version. Use pandas.Index with the appropriate dtype instead.\n",
      "  from pandas import MultiIndex, Int64Index\n",
      "[nltk_data] Downloading package punkt to\n",
      "[nltk_data]     /Users/gautamchoudhary/nltk_data...\n",
      "[nltk_data]   Package punkt is already up-to-date!\n"
     ]
    }
   ],
   "source": [
    "# basic\n",
    "import sys\n",
    "import os\n",
    "import json\n",
    "import pdb\n",
    "import ast\n",
    "import time\n",
    "import requests\n",
    "from tqdm import tqdm\n",
    "from collections import Counter, defaultdict, namedtuple\n",
    "\n",
    "# debug\n",
    "import pdb\n",
    "from loguru import logger\n",
    "\n",
    "import numpy as np\n",
    "import pandas as pd\n",
    "\n",
    "# plotting\n",
    "from matplotlib import pyplot as plt\n",
    "%matplotlib inline\n",
    "import seaborn as sns\n",
    "\n",
    "# sklearn\n",
    "from sklearn.metrics import mean_squared_error\n",
    "from sklearn.model_selection import KFold, StratifiedKFold, train_test_split\n",
    "from sklearn.preprocessing import StandardScaler, MinMaxScaler\n",
    "from sklearn import metrics\n",
    "\n",
    "# regression models\n",
    "from sklearn.linear_model import LinearRegression\n",
    "from sklearn.ensemble import GradientBoostingRegressor\n",
    "from sklearn.linear_model import SGDRegressor\n",
    "from sklearn.svm import SVR\n",
    "from sklearn.neural_network import MLPRegressor\n",
    "import xgboost\n",
    "from xgboost.sklearn import XGBRegressor\n",
    "\n",
    "# classification models\n",
    "from sklearn.linear_model import LogisticRegression\n",
    "from sklearn.neighbors import KNeighborsClassifier\n",
    "from sklearn.naive_bayes import GaussianNB\n",
    "from sklearn.tree import DecisionTreeClassifier\n",
    "from sklearn.svm import SVC\n",
    "from sklearn.neural_network import MLPClassifier\n",
    "\n",
    "# from warnings import filterwarnings\n",
    "# filterwarnings(action='ignore', category=DeprecationWarning,  message='`np.bool` is a deprecated alias')\n",
    "# filterwarnings(action='ignore', category=DeprecationWarning,  message='`np.int` is a deprecated alias' )\n",
    "# filterwarnings(action='ignore', category=DeprecationWarning,  message='`np.object` is a deprecated alias')\n",
    "\n",
    "\n",
    "# custom\n",
    "from utils import *\n",
    "# from parser import work_parser, author_parser, venue_parser, institution_parser\n",
    "# from scraper import oa_work_scraper, oa_author_scraper\n",
    "\n",
    "SEED = 0"
   ]
  },
  {
   "cell_type": "markdown",
   "id": "a5c03694-29ab-41e2-a37f-b332ada74a4e",
   "metadata": {},
   "source": [
    "### Load Data"
   ]
  },
  {
   "cell_type": "code",
   "execution_count": 2,
   "id": "1156dfba-9a75-4be6-85dc-16a0fdfb23ac",
   "metadata": {},
   "outputs": [],
   "source": [
    "YEAR = 2017\n",
    "\n",
    "works = pd.read_csv(f'./data/{YEAR}/works.{YEAR}.v1.csv', index_col='id')\n",
    "authors = pd.read_csv(f'./data/{YEAR}/authors.{YEAR}.v1.csv', index_col='id')\n",
    "venues = pd.read_csv(f'./data/{YEAR}/venues.{YEAR}.v1.csv', index_col='id')\n",
    "insts = pd.read_csv(f'./data/{YEAR}/insts.{YEAR}.v1.csv', index_col='id')"
   ]
  },
  {
   "cell_type": "code",
   "execution_count": 3,
   "id": "2282039c-d564-4b32-8a03-073a03bffa9c",
   "metadata": {},
   "outputs": [
    {
     "name": "stdout",
     "output_type": "stream",
     "text": [
      "CPU times: user 9.45 s, sys: 160 ms, total: 9.61 s\n",
      "Wall time: 9.61 s\n"
     ]
    }
   ],
   "source": [
    "%%time\n",
    "works = preprocess_works(works, YEAR, 2022)"
   ]
  },
  {
   "cell_type": "code",
   "execution_count": 4,
   "id": "6ee0a9ed",
   "metadata": {},
   "outputs": [
    {
     "name": "stdout",
     "output_type": "stream",
     "text": [
      "works \n",
      " - shape=(145531, 14) \n",
      " - columns=['doi', 'title', 'type', 'publication_date', 'host_venue', 'open_access_is_oa', 'open_access_oa_status', 'authorships', 'page_count', 'cited_by_count', 'concepts', 'referenced_works', 'abstract', 'counts_by_year'] \n",
      "\n",
      "\n",
      "authors \n",
      " - shape=(344470, 7) \n",
      " - columns=['orcid', 'display_name', 'works_count', 'cited_by_count', 'created_date', 'concepts', 'counts_by_year'] \n",
      "\n",
      "\n",
      "venues \n",
      " - shape=(1854, 8) \n",
      " - columns=['display_name', 'works_count', 'cited_by_count', 'is_oa', 'type', 'created_date', 'concepts', 'counts_by_year'] \n",
      "\n",
      "\n",
      "insts \n",
      " - shape=(13227, 10) \n",
      " - columns=['display_name', 'country_code', 'type', 'homepage_url', 'works_count', 'cited_by_count', 'associated_institutions', 'concepts', 'counts_by_year', 'created_date'] \n",
      "\n",
      "\n"
     ]
    }
   ],
   "source": [
    "print (f'works \\n - shape={works.shape} \\n - columns={works.columns.tolist()} \\n\\n')\n",
    "print (f'authors \\n - shape={authors.shape} \\n - columns={authors.columns.tolist()} \\n\\n')\n",
    "print (f'venues \\n - shape={venues.shape} \\n - columns={venues.columns.tolist()} \\n\\n')\n",
    "print (f'insts \\n - shape={insts.shape} \\n - columns={insts.columns.tolist()} \\n\\n')"
   ]
  },
  {
   "cell_type": "code",
   "execution_count": 5,
   "id": "b1f2614f-a723-4bc2-9182-96d377f8b4d6",
   "metadata": {},
   "outputs": [
    {
     "name": "stdout",
     "output_type": "stream",
     "text": [
      "(145531, 14)\n"
     ]
    },
    {
     "data": {
      "text/html": [
       "<div>\n",
       "<style scoped>\n",
       "    .dataframe tbody tr th:only-of-type {\n",
       "        vertical-align: middle;\n",
       "    }\n",
       "\n",
       "    .dataframe tbody tr th {\n",
       "        vertical-align: top;\n",
       "    }\n",
       "\n",
       "    .dataframe thead th {\n",
       "        text-align: right;\n",
       "    }\n",
       "</style>\n",
       "<table border=\"1\" class=\"dataframe\">\n",
       "  <thead>\n",
       "    <tr style=\"text-align: right;\">\n",
       "      <th></th>\n",
       "      <th>doi</th>\n",
       "      <th>title</th>\n",
       "      <th>type</th>\n",
       "      <th>publication_date</th>\n",
       "      <th>host_venue</th>\n",
       "      <th>open_access_is_oa</th>\n",
       "      <th>open_access_oa_status</th>\n",
       "      <th>authorships</th>\n",
       "      <th>page_count</th>\n",
       "      <th>cited_by_count</th>\n",
       "      <th>concepts</th>\n",
       "      <th>referenced_works</th>\n",
       "      <th>abstract</th>\n",
       "      <th>counts_by_year</th>\n",
       "    </tr>\n",
       "    <tr>\n",
       "      <th>id</th>\n",
       "      <th></th>\n",
       "      <th></th>\n",
       "      <th></th>\n",
       "      <th></th>\n",
       "      <th></th>\n",
       "      <th></th>\n",
       "      <th></th>\n",
       "      <th></th>\n",
       "      <th></th>\n",
       "      <th></th>\n",
       "      <th></th>\n",
       "      <th></th>\n",
       "      <th></th>\n",
       "      <th></th>\n",
       "    </tr>\n",
       "  </thead>\n",
       "  <tbody>\n",
       "    <tr>\n",
       "      <th>W2555618208</th>\n",
       "      <td>https://doi.org/10.1109/cvpr.2017.691</td>\n",
       "      <td>Multi-view 3D Object Detection Network for Aut...</td>\n",
       "      <td>proceedings-article</td>\n",
       "      <td>2017-07-21</td>\n",
       "      <td>V4306417987</td>\n",
       "      <td>True</td>\n",
       "      <td>green</td>\n",
       "      <td>[[A2119051707, [I99065089]], [A2151001937, [I9...</td>\n",
       "      <td>-1</td>\n",
       "      <td>1409</td>\n",
       "      <td>[[C131979681, 0.86888766], [C41008148, 0.77201...</td>\n",
       "      <td>[W7746136, W1536680647, W1914646313, W19466097...</td>\n",
       "      <td>This paper aims at high-accuracy 3D object det...</td>\n",
       "      <td>[(2017, 13), (2018, 109), (2019, 308), (2020, ...</td>\n",
       "    </tr>\n",
       "    <tr>\n",
       "      <th>W2557641257</th>\n",
       "      <td>https://doi.org/10.1109/cvpr.2017.733</td>\n",
       "      <td>ECO: Efficient Convolution Operators for Tracking</td>\n",
       "      <td>proceedings-article</td>\n",
       "      <td>2017-07-21</td>\n",
       "      <td>V4306417987</td>\n",
       "      <td>True</td>\n",
       "      <td>green</td>\n",
       "      <td>[[A260882311, [I102134673]], [A2557978175, [I1...</td>\n",
       "      <td>-1</td>\n",
       "      <td>1322</td>\n",
       "      <td>[[C63479239, 0.8030945], [C68339613, 0.7788200...</td>\n",
       "      <td>[W1857884451, W1892578678, W1904671147, W19157...</td>\n",
       "      <td>In recent years, Discriminative Correlation Fi...</td>\n",
       "      <td>[(2017, 9), (2018, 133), (2019, 303), (2020, 3...</td>\n",
       "    </tr>\n",
       "    <tr>\n",
       "      <th>W2963709863</th>\n",
       "      <td>https://doi.org/10.1109/cvpr.2017.241</td>\n",
       "      <td>Learning from Simulated and Unsupervised Image...</td>\n",
       "      <td>proceedings-article</td>\n",
       "      <td>2017-07-21</td>\n",
       "      <td>V4306417987</td>\n",
       "      <td>True</td>\n",
       "      <td>green</td>\n",
       "      <td>[[A2183241032, [I1311269955]], [A2798413642, [...</td>\n",
       "      <td>-1</td>\n",
       "      <td>1277</td>\n",
       "      <td>[[C41008148, 0.8212265], [C2779803651, 0.78661...</td>\n",
       "      <td>[W1922126009, W1950149599, W1995694455, W20012...</td>\n",
       "      <td>With recent progress in graphics, it has becom...</td>\n",
       "      <td>[(2017, 55), (2018, 251), (2019, 356), (2020, ...</td>\n",
       "    </tr>\n",
       "    <tr>\n",
       "      <th>W2594519801</th>\n",
       "      <td>https://doi.org/10.1109/cvpr.2017.261</td>\n",
       "      <td>ScanNet: Richly-Annotated 3D Reconstructions o...</td>\n",
       "      <td>proceedings-article</td>\n",
       "      <td>2017-07-21</td>\n",
       "      <td>V4306417987</td>\n",
       "      <td>True</td>\n",
       "      <td>green</td>\n",
       "      <td>[[A2158018495, [I97018004]], [A2111957820, [I2...</td>\n",
       "      <td>-1</td>\n",
       "      <td>1116</td>\n",
       "      <td>[[C41008148, 0.8516614], [C82990744, 0.6491697...</td>\n",
       "      <td>[W218762409, W1509835260, W1565402342, W159436...</td>\n",
       "      <td>A key requirement for leveraging supervised de...</td>\n",
       "      <td>[(2017, 12), (2018, 76), (2019, 226), (2020, 3...</td>\n",
       "    </tr>\n",
       "    <tr>\n",
       "      <th>W2561715562</th>\n",
       "      <td>https://doi.org/10.1109/cvpr.2017.215</td>\n",
       "      <td>CLEVR: A Diagnostic Dataset for Compositional ...</td>\n",
       "      <td>proceedings-article</td>\n",
       "      <td>2017-07-01</td>\n",
       "      <td>V4306417987</td>\n",
       "      <td>True</td>\n",
       "      <td>green</td>\n",
       "      <td>[[A2345205178, [I97018004]], [A1988254826, [I2...</td>\n",
       "      <td>-1</td>\n",
       "      <td>1085</td>\n",
       "      <td>[[C41008148, 0.7745689], [C130440534, 0.751482...</td>\n",
       "      <td>[W1933349210, W1983927101, W1996418862, W20646...</td>\n",
       "      <td>When building artificial intelligence systems ...</td>\n",
       "      <td>[(2017, 38), (2018, 146), (2019, 232), (2020, ...</td>\n",
       "    </tr>\n",
       "  </tbody>\n",
       "</table>\n",
       "</div>"
      ],
      "text/plain": [
       "                                               doi  \\\n",
       "id                                                   \n",
       "W2555618208  https://doi.org/10.1109/cvpr.2017.691   \n",
       "W2557641257  https://doi.org/10.1109/cvpr.2017.733   \n",
       "W2963709863  https://doi.org/10.1109/cvpr.2017.241   \n",
       "W2594519801  https://doi.org/10.1109/cvpr.2017.261   \n",
       "W2561715562  https://doi.org/10.1109/cvpr.2017.215   \n",
       "\n",
       "                                                         title  \\\n",
       "id                                                               \n",
       "W2555618208  Multi-view 3D Object Detection Network for Aut...   \n",
       "W2557641257  ECO: Efficient Convolution Operators for Tracking   \n",
       "W2963709863  Learning from Simulated and Unsupervised Image...   \n",
       "W2594519801  ScanNet: Richly-Annotated 3D Reconstructions o...   \n",
       "W2561715562  CLEVR: A Diagnostic Dataset for Compositional ...   \n",
       "\n",
       "                            type publication_date   host_venue  \\\n",
       "id                                                               \n",
       "W2555618208  proceedings-article       2017-07-21  V4306417987   \n",
       "W2557641257  proceedings-article       2017-07-21  V4306417987   \n",
       "W2963709863  proceedings-article       2017-07-21  V4306417987   \n",
       "W2594519801  proceedings-article       2017-07-21  V4306417987   \n",
       "W2561715562  proceedings-article       2017-07-01  V4306417987   \n",
       "\n",
       "             open_access_is_oa open_access_oa_status  \\\n",
       "id                                                     \n",
       "W2555618208               True                 green   \n",
       "W2557641257               True                 green   \n",
       "W2963709863               True                 green   \n",
       "W2594519801               True                 green   \n",
       "W2561715562               True                 green   \n",
       "\n",
       "                                                   authorships page_count  \\\n",
       "id                                                                          \n",
       "W2555618208  [[A2119051707, [I99065089]], [A2151001937, [I9...         -1   \n",
       "W2557641257  [[A260882311, [I102134673]], [A2557978175, [I1...         -1   \n",
       "W2963709863  [[A2183241032, [I1311269955]], [A2798413642, [...         -1   \n",
       "W2594519801  [[A2158018495, [I97018004]], [A2111957820, [I2...         -1   \n",
       "W2561715562  [[A2345205178, [I97018004]], [A1988254826, [I2...         -1   \n",
       "\n",
       "             cited_by_count  \\\n",
       "id                            \n",
       "W2555618208            1409   \n",
       "W2557641257            1322   \n",
       "W2963709863            1277   \n",
       "W2594519801            1116   \n",
       "W2561715562            1085   \n",
       "\n",
       "                                                      concepts  \\\n",
       "id                                                               \n",
       "W2555618208  [[C131979681, 0.86888766], [C41008148, 0.77201...   \n",
       "W2557641257  [[C63479239, 0.8030945], [C68339613, 0.7788200...   \n",
       "W2963709863  [[C41008148, 0.8212265], [C2779803651, 0.78661...   \n",
       "W2594519801  [[C41008148, 0.8516614], [C82990744, 0.6491697...   \n",
       "W2561715562  [[C41008148, 0.7745689], [C130440534, 0.751482...   \n",
       "\n",
       "                                              referenced_works  \\\n",
       "id                                                               \n",
       "W2555618208  [W7746136, W1536680647, W1914646313, W19466097...   \n",
       "W2557641257  [W1857884451, W1892578678, W1904671147, W19157...   \n",
       "W2963709863  [W1922126009, W1950149599, W1995694455, W20012...   \n",
       "W2594519801  [W218762409, W1509835260, W1565402342, W159436...   \n",
       "W2561715562  [W1933349210, W1983927101, W1996418862, W20646...   \n",
       "\n",
       "                                                      abstract  \\\n",
       "id                                                               \n",
       "W2555618208  This paper aims at high-accuracy 3D object det...   \n",
       "W2557641257  In recent years, Discriminative Correlation Fi...   \n",
       "W2963709863  With recent progress in graphics, it has becom...   \n",
       "W2594519801  A key requirement for leveraging supervised de...   \n",
       "W2561715562  When building artificial intelligence systems ...   \n",
       "\n",
       "                                                counts_by_year  \n",
       "id                                                              \n",
       "W2555618208  [(2017, 13), (2018, 109), (2019, 308), (2020, ...  \n",
       "W2557641257  [(2017, 9), (2018, 133), (2019, 303), (2020, 3...  \n",
       "W2963709863  [(2017, 55), (2018, 251), (2019, 356), (2020, ...  \n",
       "W2594519801  [(2017, 12), (2018, 76), (2019, 226), (2020, 3...  \n",
       "W2561715562  [(2017, 38), (2018, 146), (2019, 232), (2020, ...  "
      ]
     },
     "execution_count": 5,
     "metadata": {},
     "output_type": "execute_result"
    }
   ],
   "source": [
    "# works\n",
    "print (works.shape)\n",
    "works.head()"
   ]
  },
  {
   "cell_type": "code",
   "execution_count": 6,
   "id": "2ab02a9e-e2ea-4a71-9592-23b82573fe49",
   "metadata": {},
   "outputs": [],
   "source": [
    "# works['page_count'].unique()\n",
    "# # TODO: error\n",
    "# works[works['page_count']=='(10,)']"
   ]
  },
  {
   "cell_type": "markdown",
   "id": "6a319f52-9f1c-48f6-a3cb-c249fefa8cc4",
   "metadata": {},
   "source": [
    "### Feature Extraction"
   ]
  },
  {
   "cell_type": "code",
   "execution_count": 7,
   "id": "b6814a85-fb89-4ee6-9e99-10556add5ef9",
   "metadata": {},
   "outputs": [
    {
     "name": "stderr",
     "output_type": "stream",
     "text": [
      "/Users/gautamchoudhary/miniconda3/envs/myenv/lib/python3.9/site-packages/numpy/core/fromnumeric.py:3474: RuntimeWarning: Mean of empty slice.\n",
      "  return _methods._mean(a, axis=axis, dtype=dtype,\n",
      "/Users/gautamchoudhary/miniconda3/envs/myenv/lib/python3.9/site-packages/numpy/core/_methods.py:189: RuntimeWarning: invalid value encountered in double_scalars\n",
      "  ret = ret.dtype.type(ret / rcount)\n",
      "/Users/gautamchoudhary/miniconda3/envs/myenv/lib/python3.9/site-packages/numpy/core/fromnumeric.py:3474: RuntimeWarning: Mean of empty slice.\n",
      "  return _methods._mean(a, axis=axis, dtype=dtype,\n",
      "/Users/gautamchoudhary/miniconda3/envs/myenv/lib/python3.9/site-packages/numpy/core/_methods.py:189: RuntimeWarning: invalid value encountered in double_scalars\n",
      "  ret = ret.dtype.type(ret / rcount)\n"
     ]
    }
   ],
   "source": [
    "def bin_citations(cc):\n",
    "    if cc < 6:\n",
    "        return 0\n",
    "    else:\n",
    "        return 1\n",
    "\n",
    "\n",
    "def get_features(works, authors, venues, insts):\n",
    "    '''\n",
    "    Feature generate given the data for both regression and classification\n",
    "    '''\n",
    "    df = pd.DataFrame()\n",
    "\n",
    "    # `WORK`: Paper meta-data features\n",
    "    df['no_of_authors'] = works['authorships'].map(lambda x: len(x))\n",
    "    df['no_of_referenced_works'] = works['referenced_works'].map(len)\n",
    "    df['open_access_is_oa'] = works['open_access_is_oa']\n",
    "    df['publication_month'] = works['publication_date'].map(lambda x: int(x.split('-')[1]))\n",
    "    # df['page_count'] = works['page_count'].map(lambda x: x if isinstance(x, int ) else x[0])\n",
    "\n",
    "    # `AUTHOR`: Author-specific Features\n",
    "    thresh_author_citation_prominent = authors['cited_by_count'].mean()\n",
    "    author_citation = defaultdict(lambda: 0, authors['cited_by_count'].to_dict())\n",
    "    df['author_prominency'] = works['authorships'].map(lambda x: 1 if max([author_citation[i[0]] for i in x]) >= thresh_author_citation_prominent else 0)\n",
    "    df['authors_mean_citations'] = works['authorships'].map(lambda x: np.mean([author_citation[i[0]] for i in x]))\n",
    "    author_work_count = defaultdict(lambda: 0, authors['works_count'].to_dict())\n",
    "    df['authors_mean_works'] = works['authorships'].map(lambda x: np.mean([author_work_count[i[0]] for i in x]))\n",
    "\n",
    "    # `VENUE`: Journal and Publisher relevant features\n",
    "    venue_significance = defaultdict(lambda: 0, (venues['cited_by_count']/venues['works_count']).to_dict())\n",
    "    df['venue_significance'] = works['host_venue'].map(lambda x: venue_significance[x])\n",
    "    venue_works = defaultdict(lambda: 0, venues['works_count'].to_dict())\n",
    "    df['venue_works'] = works['host_venue'].map(lambda x: venue_works[x])\n",
    "    venue_citations = defaultdict(lambda: 0, venues['cited_by_count'].to_dict())\n",
    "    df['venue_citations'] = works['host_venue'].map(lambda x: venue_citations[x])\n",
    "\n",
    "    # `INSTITUTION`: Insti-specific Features\n",
    "    insts_citation = defaultdict(lambda: 0, insts['cited_by_count'].to_dict())\n",
    "    df['insts_mean_citations'] = works['authorships'].map(\n",
    "        lambda x: np.mean([insts_citation[i[1][0]] for i in x if len(i[1])>0], ))\n",
    "    insts_work_count = defaultdict(lambda: 0, insts['works_count'].to_dict())\n",
    "    df['insts_mean_works'] = works['authorships'].map(lambda x: np.mean([insts_work_count[i[1][0]] for i in x if len(i[1])>0]))    \n",
    "    \n",
    "    # TODO: needs to be corrected\n",
    "    df.fillna(0, inplace=True)\n",
    "    \n",
    "    # target variable - regression\n",
    "    ## cumulative citation count\n",
    "    df['y_reg'] = works['counts_by_year'].map(lambda x: np.sum([v for k, v in x if k in [2017, 2018, 2019]]))\n",
    "    \n",
    "    # target variable - classification\n",
    "    df['y_clf'] = df['y_reg'].map(bin_citations)\n",
    "    \n",
    "    return df\n",
    "\n",
    "df = get_features(works, authors, venues, insts)"
   ]
  },
  {
   "cell_type": "markdown",
   "id": "4e205dc2-6e41-4af4-b371-6b665e558930",
   "metadata": {},
   "source": [
    "### Regression"
   ]
  },
  {
   "cell_type": "code",
   "execution_count": 8,
   "id": "310ba4c2-36a8-462a-844c-67d53f52699c",
   "metadata": {},
   "outputs": [],
   "source": [
    "X = df.drop(columns=['y_reg', 'y_clf'])\n",
    "y = df['y_reg']"
   ]
  },
  {
   "cell_type": "code",
   "execution_count": 9,
   "id": "a919c428-fd75-4ebd-af98-d27d1114524e",
   "metadata": {},
   "outputs": [],
   "source": [
    "# train - test split\n",
    "TEST_SIZE = 0.2\n",
    "train_index, test_index = train_test_split(range(len(X)), test_size=TEST_SIZE, random_state=SEED)\n",
    "\n",
    "X_train, X_test = X.iloc[train_index], X.iloc[test_index]\n",
    "y_train, y_test = y.iloc[train_index], y.iloc[test_index]"
   ]
  },
  {
   "cell_type": "code",
   "execution_count": 10,
   "id": "06490f93-5e82-4e98-a071-e29ea76f8c48",
   "metadata": {},
   "outputs": [
    {
     "data": {
      "text/html": [
       "<style>#sk-container-id-1 {color: black;background-color: white;}#sk-container-id-1 pre{padding: 0;}#sk-container-id-1 div.sk-toggleable {background-color: white;}#sk-container-id-1 label.sk-toggleable__label {cursor: pointer;display: block;width: 100%;margin-bottom: 0;padding: 0.3em;box-sizing: border-box;text-align: center;}#sk-container-id-1 label.sk-toggleable__label-arrow:before {content: \"▸\";float: left;margin-right: 0.25em;color: #696969;}#sk-container-id-1 label.sk-toggleable__label-arrow:hover:before {color: black;}#sk-container-id-1 div.sk-estimator:hover label.sk-toggleable__label-arrow:before {color: black;}#sk-container-id-1 div.sk-toggleable__content {max-height: 0;max-width: 0;overflow: hidden;text-align: left;background-color: #f0f8ff;}#sk-container-id-1 div.sk-toggleable__content pre {margin: 0.2em;color: black;border-radius: 0.25em;background-color: #f0f8ff;}#sk-container-id-1 input.sk-toggleable__control:checked~div.sk-toggleable__content {max-height: 200px;max-width: 100%;overflow: auto;}#sk-container-id-1 input.sk-toggleable__control:checked~label.sk-toggleable__label-arrow:before {content: \"▾\";}#sk-container-id-1 div.sk-estimator input.sk-toggleable__control:checked~label.sk-toggleable__label {background-color: #d4ebff;}#sk-container-id-1 div.sk-label input.sk-toggleable__control:checked~label.sk-toggleable__label {background-color: #d4ebff;}#sk-container-id-1 input.sk-hidden--visually {border: 0;clip: rect(1px 1px 1px 1px);clip: rect(1px, 1px, 1px, 1px);height: 1px;margin: -1px;overflow: hidden;padding: 0;position: absolute;width: 1px;}#sk-container-id-1 div.sk-estimator {font-family: monospace;background-color: #f0f8ff;border: 1px dotted black;border-radius: 0.25em;box-sizing: border-box;margin-bottom: 0.5em;}#sk-container-id-1 div.sk-estimator:hover {background-color: #d4ebff;}#sk-container-id-1 div.sk-parallel-item::after {content: \"\";width: 100%;border-bottom: 1px solid gray;flex-grow: 1;}#sk-container-id-1 div.sk-label:hover label.sk-toggleable__label {background-color: #d4ebff;}#sk-container-id-1 div.sk-serial::before {content: \"\";position: absolute;border-left: 1px solid gray;box-sizing: border-box;top: 0;bottom: 0;left: 50%;z-index: 0;}#sk-container-id-1 div.sk-serial {display: flex;flex-direction: column;align-items: center;background-color: white;padding-right: 0.2em;padding-left: 0.2em;position: relative;}#sk-container-id-1 div.sk-item {position: relative;z-index: 1;}#sk-container-id-1 div.sk-parallel {display: flex;align-items: stretch;justify-content: center;background-color: white;position: relative;}#sk-container-id-1 div.sk-item::before, #sk-container-id-1 div.sk-parallel-item::before {content: \"\";position: absolute;border-left: 1px solid gray;box-sizing: border-box;top: 0;bottom: 0;left: 50%;z-index: -1;}#sk-container-id-1 div.sk-parallel-item {display: flex;flex-direction: column;z-index: 1;position: relative;background-color: white;}#sk-container-id-1 div.sk-parallel-item:first-child::after {align-self: flex-end;width: 50%;}#sk-container-id-1 div.sk-parallel-item:last-child::after {align-self: flex-start;width: 50%;}#sk-container-id-1 div.sk-parallel-item:only-child::after {width: 0;}#sk-container-id-1 div.sk-dashed-wrapped {border: 1px dashed gray;margin: 0 0.4em 0.5em 0.4em;box-sizing: border-box;padding-bottom: 0.4em;background-color: white;}#sk-container-id-1 div.sk-label label {font-family: monospace;font-weight: bold;display: inline-block;line-height: 1.2em;}#sk-container-id-1 div.sk-label-container {text-align: center;}#sk-container-id-1 div.sk-container {/* jupyter's `normalize.less` sets `[hidden] { display: none; }` but bootstrap.min.css set `[hidden] { display: none !important; }` so we also need the `!important` here to be able to override the default hidden behavior on the sphinx rendered scikit-learn.org. See: https://github.com/scikit-learn/scikit-learn/issues/21755 */display: inline-block !important;position: relative;}#sk-container-id-1 div.sk-text-repr-fallback {display: none;}</style><div id=\"sk-container-id-1\" class=\"sk-top-container\"><div class=\"sk-text-repr-fallback\"><pre>StandardScaler()</pre><b>In a Jupyter environment, please rerun this cell to show the HTML representation or trust the notebook. <br />On GitHub, the HTML representation is unable to render, please try loading this page with nbviewer.org.</b></div><div class=\"sk-container\" hidden><div class=\"sk-item\"><div class=\"sk-estimator sk-toggleable\"><input class=\"sk-toggleable__control sk-hidden--visually\" id=\"sk-estimator-id-1\" type=\"checkbox\" checked><label for=\"sk-estimator-id-1\" class=\"sk-toggleable__label sk-toggleable__label-arrow\">StandardScaler</label><div class=\"sk-toggleable__content\"><pre>StandardScaler()</pre></div></div></div></div></div>"
      ],
      "text/plain": [
       "StandardScaler()"
      ]
     },
     "execution_count": 10,
     "metadata": {},
     "output_type": "execute_result"
    }
   ],
   "source": [
    "# normalize\n",
    "scaler = StandardScaler()\n",
    "scaler.fit(X_train)"
   ]
  },
  {
   "cell_type": "code",
   "execution_count": 11,
   "id": "20959006-f3ff-4e07-a69d-3daf9a0cebdf",
   "metadata": {},
   "outputs": [
    {
     "name": "stdout",
     "output_type": "stream",
     "text": [
      "Linear Regression:\n",
      "  - Train RMSE: 7.3450821827249495\n",
      "  - Train MAE: 2.6350890001975427\n",
      "  - Train R^2: 0.19123119446401282\n",
      "  - Test RMSE: 6.964478615366951\n",
      "  - Test MAE: 2.6591223307774987\n",
      "  - Test R^2: 0.20903444067963473\n"
     ]
    }
   ],
   "source": [
    "# regression analysis\n",
    "\n",
    "reg_models = {\n",
    "    'Linear Regression': LinearRegression(n_jobs=-1),\n",
    "    # 'GradientBoostingRegressor': GradientBoostingRegressor(random_state=SEED),\n",
    "    # 'SGDRegressor': SGDRegressor(random_state=SEED),\n",
    "    # 'XGBRegressor': XGBRegressor(random_state=SEED),\n",
    "    # 'MLPRegressor': MLPRegressor(random_state=SEED, max_iter=100),\n",
    "}\n",
    "\n",
    "def eval_regression(model, X_train, X_test, y_train, y_test):\n",
    "    # model eval\n",
    "    y_pred = model.predict(X_train)\n",
    "    rmse = metrics.mean_squared_error(y_true=y_train, y_pred=y_pred, squared=False)\n",
    "    print (f\"  - Train RMSE: {rmse}\")\n",
    "    mae = metrics.mean_absolute_error(y_true=y_train, y_pred=y_pred)\n",
    "    print (f\"  - Train MAE: {mae}\")\n",
    "    r2 = metrics.r2_score(y_true=y_train, y_pred=y_pred)\n",
    "    print (f\"  - Train R^2: {r2}\")\n",
    "    \n",
    "    y_pred = model.predict(X_test)\n",
    "    rmse = metrics.mean_squared_error(y_true=y_test, y_pred=y_pred, squared=False)\n",
    "    print (f\"  - Test RMSE: {rmse}\")\n",
    "    mae = metrics.mean_absolute_error(y_true=y_test, y_pred=y_pred)\n",
    "    print (f\"  - Test MAE: {mae}\")\n",
    "    r2 = metrics.r2_score(y_true=y_test, y_pred=y_pred)\n",
    "    print (f\"  - Test R^2: {r2}\")\n",
    "    \n",
    "    return\n",
    "    \n",
    "for model_name, model in reg_models.items():\n",
    "    # model train\n",
    "    model.fit(scaler.transform(X_train), y_train)\n",
    "\n",
    "    print (f\"{model_name}:\")\n",
    "    eval_regression(model, scaler.transform(X_train), scaler.transform(X_test),\n",
    "                   y_train, y_test)"
   ]
  },
  {
   "cell_type": "code",
   "execution_count": 12,
   "id": "89e8b642-e442-487c-816f-bb895aa73586",
   "metadata": {},
   "outputs": [
    {
     "name": "stdout",
     "output_type": "stream",
     "text": [
      "Feature: 0  Score: ('authors_mean_citations', 2.155604157842352)\n",
      "Feature: 1  Score: ('venue_significance', 2.060767187025631)\n",
      "Feature: 2  Score: ('venue_citations', 0.7024144480541049)\n",
      "Feature: 3  Score: ('open_access_is_oa', 0.6729418158481277)\n",
      "Feature: 4  Score: ('no_of_referenced_works', 0.5717382691049575)\n",
      "Feature: 5  Score: ('venue_works', 0.4606422932034325)\n",
      "Feature: 6  Score: ('insts_mean_citations', 0.39701780205079545)\n",
      "Feature: 7  Score: ('no_of_authors', 0.316712858434685)\n",
      "Feature: 8  Score: ('author_prominency', 0.29620075840995974)\n",
      "Feature: 9  Score: ('publication_month', -0.20895746493968223)\n",
      "Feature: 10  Score: ('insts_mean_works', -0.29086074260830963)\n",
      "Feature: 11  Score: ('authors_mean_works', -1.7643972430942838)\n"
     ]
    },
    {
     "data": {
      "image/png": "[encoded data removed]",
      "text/plain": [
       "<Figure size 640x480 with 1 Axes>"
      ]
     },
     "metadata": {},
     "output_type": "display_data"
    }
   ],
   "source": [
    "# get importance for linear regression\n",
    "importance = model.coef_\n",
    "indices = np.argsort(importance)[::-1]\n",
    "for i,v in enumerate(zip(X.columns[indices], importance[indices])):\n",
    "    print('Feature: {}  Score: {}' .format(i,v))\n",
    "\n",
    "# plot feature importance\n",
    "plt.bar([x for x in range(len(importance))], importance[indices])\n",
    "plt.show()"
   ]
  },
  {
   "cell_type": "markdown",
   "id": "0727e09d-e02f-48f1-aea2-65864bdf6035",
   "metadata": {},
   "source": [
    "### Classification"
   ]
  },
  {
   "cell_type": "code",
   "execution_count": 13,
   "id": "83097e4f-5899-4fa7-bed0-e0cf78597cb5",
   "metadata": {},
   "outputs": [],
   "source": [
    "X = df.drop(columns=['y_reg', 'y_clf'])\n",
    "y = df['y_clf']"
   ]
  },
  {
   "cell_type": "code",
   "execution_count": 14,
   "id": "b141c447-01bd-412f-8bcc-83fe7b2d3c7d",
   "metadata": {},
   "outputs": [
    {
     "data": {
      "text/plain": [
       "0    0.898833\n",
       "1    0.101167\n",
       "Name: y_clf, dtype: float64"
      ]
     },
     "execution_count": 14,
     "metadata": {},
     "output_type": "execute_result"
    }
   ],
   "source": [
    "y.value_counts(normalize=True)"
   ]
  },
  {
   "cell_type": "code",
   "execution_count": 15,
   "id": "0718a2a7-43f5-464b-971e-cdcc6172a9e5",
   "metadata": {},
   "outputs": [],
   "source": [
    "# train - test split\n",
    "TEST_SIZE = 0.2\n",
    "train_index, test_index = train_test_split(range(len(X)), test_size=TEST_SIZE, random_state=SEED)\n",
    "\n",
    "X_train, X_test = X.iloc[train_index], X.iloc[test_index]\n",
    "y_train, y_test = y.iloc[train_index], y.iloc[test_index]"
   ]
  },
  {
   "cell_type": "code",
   "execution_count": 16,
   "id": "ab9e64cf-97a3-41dd-8714-015d2bf97228",
   "metadata": {},
   "outputs": [
    {
     "data": {
      "text/html": [
       "<style>#sk-container-id-2 {color: black;background-color: white;}#sk-container-id-2 pre{padding: 0;}#sk-container-id-2 div.sk-toggleable {background-color: white;}#sk-container-id-2 label.sk-toggleable__label {cursor: pointer;display: block;width: 100%;margin-bottom: 0;padding: 0.3em;box-sizing: border-box;text-align: center;}#sk-container-id-2 label.sk-toggleable__label-arrow:before {content: \"▸\";float: left;margin-right: 0.25em;color: #696969;}#sk-container-id-2 label.sk-toggleable__label-arrow:hover:before {color: black;}#sk-container-id-2 div.sk-estimator:hover label.sk-toggleable__label-arrow:before {color: black;}#sk-container-id-2 div.sk-toggleable__content {max-height: 0;max-width: 0;overflow: hidden;text-align: left;background-color: #f0f8ff;}#sk-container-id-2 div.sk-toggleable__content pre {margin: 0.2em;color: black;border-radius: 0.25em;background-color: #f0f8ff;}#sk-container-id-2 input.sk-toggleable__control:checked~div.sk-toggleable__content {max-height: 200px;max-width: 100%;overflow: auto;}#sk-container-id-2 input.sk-toggleable__control:checked~label.sk-toggleable__label-arrow:before {content: \"▾\";}#sk-container-id-2 div.sk-estimator input.sk-toggleable__control:checked~label.sk-toggleable__label {background-color: #d4ebff;}#sk-container-id-2 div.sk-label input.sk-toggleable__control:checked~label.sk-toggleable__label {background-color: #d4ebff;}#sk-container-id-2 input.sk-hidden--visually {border: 0;clip: rect(1px 1px 1px 1px);clip: rect(1px, 1px, 1px, 1px);height: 1px;margin: -1px;overflow: hidden;padding: 0;position: absolute;width: 1px;}#sk-container-id-2 div.sk-estimator {font-family: monospace;background-color: #f0f8ff;border: 1px dotted black;border-radius: 0.25em;box-sizing: border-box;margin-bottom: 0.5em;}#sk-container-id-2 div.sk-estimator:hover {background-color: #d4ebff;}#sk-container-id-2 div.sk-parallel-item::after {content: \"\";width: 100%;border-bottom: 1px solid gray;flex-grow: 1;}#sk-container-id-2 div.sk-label:hover label.sk-toggleable__label {background-color: #d4ebff;}#sk-container-id-2 div.sk-serial::before {content: \"\";position: absolute;border-left: 1px solid gray;box-sizing: border-box;top: 0;bottom: 0;left: 50%;z-index: 0;}#sk-container-id-2 div.sk-serial {display: flex;flex-direction: column;align-items: center;background-color: white;padding-right: 0.2em;padding-left: 0.2em;position: relative;}#sk-container-id-2 div.sk-item {position: relative;z-index: 1;}#sk-container-id-2 div.sk-parallel {display: flex;align-items: stretch;justify-content: center;background-color: white;position: relative;}#sk-container-id-2 div.sk-item::before, #sk-container-id-2 div.sk-parallel-item::before {content: \"\";position: absolute;border-left: 1px solid gray;box-sizing: border-box;top: 0;bottom: 0;left: 50%;z-index: -1;}#sk-container-id-2 div.sk-parallel-item {display: flex;flex-direction: column;z-index: 1;position: relative;background-color: white;}#sk-container-id-2 div.sk-parallel-item:first-child::after {align-self: flex-end;width: 50%;}#sk-container-id-2 div.sk-parallel-item:last-child::after {align-self: flex-start;width: 50%;}#sk-container-id-2 div.sk-parallel-item:only-child::after {width: 0;}#sk-container-id-2 div.sk-dashed-wrapped {border: 1px dashed gray;margin: 0 0.4em 0.5em 0.4em;box-sizing: border-box;padding-bottom: 0.4em;background-color: white;}#sk-container-id-2 div.sk-label label {font-family: monospace;font-weight: bold;display: inline-block;line-height: 1.2em;}#sk-container-id-2 div.sk-label-container {text-align: center;}#sk-container-id-2 div.sk-container {/* jupyter's `normalize.less` sets `[hidden] { display: none; }` but bootstrap.min.css set `[hidden] { display: none !important; }` so we also need the `!important` here to be able to override the default hidden behavior on the sphinx rendered scikit-learn.org. See: https://github.com/scikit-learn/scikit-learn/issues/21755 */display: inline-block !important;position: relative;}#sk-container-id-2 div.sk-text-repr-fallback {display: none;}</style><div id=\"sk-container-id-2\" class=\"sk-top-container\"><div class=\"sk-text-repr-fallback\"><pre>StandardScaler()</pre><b>In a Jupyter environment, please rerun this cell to show the HTML representation or trust the notebook. <br />On GitHub, the HTML representation is unable to render, please try loading this page with nbviewer.org.</b></div><div class=\"sk-container\" hidden><div class=\"sk-item\"><div class=\"sk-estimator sk-toggleable\"><input class=\"sk-toggleable__control sk-hidden--visually\" id=\"sk-estimator-id-2\" type=\"checkbox\" checked><label for=\"sk-estimator-id-2\" class=\"sk-toggleable__label sk-toggleable__label-arrow\">StandardScaler</label><div class=\"sk-toggleable__content\"><pre>StandardScaler()</pre></div></div></div></div></div>"
      ],
      "text/plain": [
       "StandardScaler()"
      ]
     },
     "execution_count": 16,
     "metadata": {},
     "output_type": "execute_result"
    }
   ],
   "source": [
    "# normalize\n",
    "scaler = StandardScaler()\n",
    "scaler.fit(X_train)"
   ]
  },
  {
   "cell_type": "code",
   "execution_count": 17,
   "id": "d98a1769-68f4-4b50-8a86-936b03a9dd0f",
   "metadata": {},
   "outputs": [
    {
     "name": "stdout",
     "output_type": "stream",
     "text": [
      "LogisticRegression:\n",
      "  - Train Accuracy (in %): 0.9080601937744794\n",
      "  - Train F1: 0.884267681785363\n",
      "  - Train AUC: 0.8082181667334474\n",
      "  - Test Accuracy (in %): 0.9073762325213867\n",
      "  - Test F1: 0.8834210481129692\n",
      "  - Test AUC: 0.8026756578147983\n",
      "Classification Report:\n",
      "              precision    recall  f1-score   support\n",
      "\n",
      "           0       0.91      0.99      0.95     26120\n",
      "           1       0.67      0.19      0.30      2987\n",
      "\n",
      "    accuracy                           0.91     29107\n",
      "   macro avg       0.79      0.59      0.62     29107\n",
      "weighted avg       0.89      0.91      0.88     29107\n",
      "\n",
      "Confusion Matrix (0,1) (rows: actual, cols:predicted):\n",
      "[[25840   280]\n",
      " [ 2416   571]]\n"
     ]
    }
   ],
   "source": [
    "# classification analysis\n",
    "\n",
    "clf_models = {\n",
    "    'LogisticRegression': LogisticRegression(random_state=SEED, n_jobs=-1),\n",
    "    # 'XGBoost': xgboost.XGBClassifier(random_state=SEED),\n",
    "    # 'KNeighborsClassifier': KNeighborsClassifier(n_jobs=-1),\n",
    "    # 'GaussianNB': GaussianNB(),\n",
    "    # 'DecisionTreeClassifier': DecisionTreeClassifier(random_state=SEED),\n",
    "    # 'SVC': SVC(random_state=SEED, max_iter=100, probability=True),\n",
    "    # 'MLPClassifier': MLPClassifier(random_state=SEED, max_iter=100),\n",
    "}\n",
    "\n",
    "def eval_classification(model, X_train, X_test, y_train, y_test):\n",
    "    # model eval\n",
    "    y_pred = model.predict(X_train)\n",
    "    y_pred_proba = model.predict_proba(X_train)[:, 1]\n",
    "    acc = metrics.accuracy_score(y_true=y_train, y_pred=y_pred)\n",
    "    print (f'  - Train Accuracy (in %): {acc}')\n",
    "    f1 = metrics.f1_score(y_true=y_train, y_pred=y_pred, average='weighted')\n",
    "    print (f'  - Train F1: {f1}')\n",
    "    auc = metrics.roc_auc_score(y_true=y_train, y_score=y_pred_proba, average='weighted')\n",
    "    print (f'  - Train AUC: {auc}')\n",
    "    \n",
    "    y_pred = model.predict(X_test)\n",
    "    y_pred_proba = model.predict_proba(X_test)[:, 1]\n",
    "    acc = metrics.accuracy_score(y_true=y_test, y_pred=y_pred)\n",
    "    print (f'  - Test Accuracy (in %): {acc}')\n",
    "    f1 = metrics.f1_score(y_true=y_test, y_pred=y_pred, average='weighted')\n",
    "    print (f'  - Test F1: {f1}')\n",
    "    auc = metrics.roc_auc_score(y_true=y_test, y_score=y_pred_proba, average='weighted')\n",
    "    print (f'  - Test AUC: {auc}')\n",
    "    \n",
    "    print ('Classification Report:')\n",
    "    print (metrics.classification_report(y_true=y_test, y_pred=y_pred))\n",
    "    \n",
    "    print ('Confusion Matrix (0,1) (rows: actual, cols:predicted):')\n",
    "    print (metrics.confusion_matrix(y_true=y_test, y_pred=y_pred))\n",
    "    return\n",
    "    \n",
    "for model_name, model in clf_models.items():\n",
    "    # model train\n",
    "    model.fit(scaler.transform(X_train), y_train)\n",
    "\n",
    "    print (f\"{model_name}:\")\n",
    "    eval_classification(model, scaler.transform(X_train), scaler.transform(X_test),\n",
    "                   y_train, y_test)"
   ]
  },
  {
   "cell_type": "code",
   "execution_count": 18,
   "id": "a4f14949-a571-468e-ad7e-58e72af5db6d",
   "metadata": {},
   "outputs": [
    {
     "name": "stdout",
     "output_type": "stream",
     "text": [
      "Feature: 0  Score: ('venue_significance', 0.5259281692085306)\n",
      "Feature: 1  Score: ('author_prominency', 0.47450032389731844)\n",
      "Feature: 2  Score: ('no_of_referenced_works', 0.29996900621975625)\n",
      "Feature: 3  Score: ('open_access_is_oa', 0.23091583559797005)\n",
      "Feature: 4  Score: ('venue_works', 0.19425041402860255)\n",
      "Feature: 5  Score: ('authors_mean_citations', 0.17003365878359297)\n",
      "Feature: 6  Score: ('insts_mean_citations', 0.1683473885583534)\n",
      "Feature: 7  Score: ('no_of_authors', 0.10379774889107181)\n",
      "Feature: 8  Score: ('venue_citations', -0.06023577065125965)\n",
      "Feature: 9  Score: ('insts_mean_works', -0.06100792049518253)\n",
      "Feature: 10  Score: ('authors_mean_works', -0.113345426390688)\n",
      "Feature: 11  Score: ('publication_month', -0.24812572236133373)\n"
     ]
    },
    {
     "data": {
      "image/png": "[encoded data removed]",
      "text/plain": [
       "<Figure size 640x480 with 1 Axes>"
      ]
     },
     "metadata": {},
     "output_type": "display_data"
    }
   ],
   "source": [
    "# get importance for logistic regression\n",
    "importance = model.coef_[0]\n",
    "indices = np.argsort(importance)[::-1]\n",
    "for i,v in enumerate(zip(X.columns[indices], importance[indices])):\n",
    "    print('Feature: {}  Score: {}' .format(i,v))\n",
    "\n",
    "# plot feature importance\n",
    "plt.bar([x for x in range(len(importance))], importance[indices])\n",
    "plt.show()"
   ]
  },
  {
   "cell_type": "code",
   "execution_count": null,
   "id": "5811d363-8293-41bb-b17c-1b52137a2cd5",
   "metadata": {},
   "outputs": [],
   "source": []
  },
  {
   "cell_type": "code",
   "execution_count": null,
   "id": "d4fb8417-b495-4fe0-be89-813e209e3760",
   "metadata": {},
   "outputs": [],
   "source": []
  },
  {
   "cell_type": "markdown",
   "id": "f28454bb-a614-4f99-b4f1-e58601e309dc",
   "metadata": {},
   "source": [
    "## rough"
   ]
  },
  {
   "cell_type": "code",
   "execution_count": 19,
   "id": "d3a8d506-2a62-4981-a8bd-d6d07fe63fa8",
   "metadata": {},
   "outputs": [
    {
     "data": {
      "text/plain": [
       "count    145531.000000\n",
       "mean          2.516570\n",
       "std           8.101248\n",
       "min           0.000000\n",
       "0%            0.000000\n",
       "10%           0.000000\n",
       "20%           0.000000\n",
       "30%           0.000000\n",
       "40%           0.000000\n",
       "50%           1.000000\n",
       "60%           1.000000\n",
       "70%           2.000000\n",
       "80%           3.000000\n",
       "90%           6.000000\n",
       "max         662.000000\n",
       "Name: y_reg, dtype: float64"
      ]
     },
     "execution_count": 19,
     "metadata": {},
     "output_type": "execute_result"
    }
   ],
   "source": [
    "df['y_reg'].describe(percentiles=[i/100 for i in range(0,100,10)])"
   ]
  },
  {
   "cell_type": "code",
   "execution_count": 20,
   "id": "b0cbe15b-788d-4f1f-9080-b55a9ec02693",
   "metadata": {},
   "outputs": [
    {
     "data": {
      "text/plain": [
       "<AxesSubplot:xlabel='y_reg', ylabel='Count'>"
      ]
     },
     "execution_count": 20,
     "metadata": {},
     "output_type": "execute_result"
    },
    {
     "data": {
      "image/png": "[encoded data removed]",
      "text/plain": [
       "<Figure size 640x480 with 1 Axes>"
      ]
     },
     "metadata": {},
     "output_type": "display_data"
    }
   ],
   "source": [
    "temp = df[df['y_reg']<50000].reset_index()\n",
    "sns.histplot(data=temp, x=\"y_reg\", bins=100)"
   ]
  },
  {
   "cell_type": "code",
   "execution_count": null,
   "id": "6558c75b-727d-4f29-baf1-140ec9daa5e3",
   "metadata": {},
   "outputs": [],
   "source": []
  },
  {
   "cell_type": "code",
   "execution_count": null,
   "id": "35b89d6c-7537-482d-ab65-baf75531dc74",
   "metadata": {},
   "outputs": [],
   "source": []
  },
  {
   "cell_type": "code",
   "execution_count": 23,
   "id": "0405301a-0efe-4c58-bd68-42ca7a30d3c3",
   "metadata": {},
   "outputs": [
    {
     "data": {
      "text/html": [
       "<div>\n",
       "<style scoped>\n",
       "    .dataframe tbody tr th:only-of-type {\n",
       "        vertical-align: middle;\n",
       "    }\n",
       "\n",
       "    .dataframe tbody tr th {\n",
       "        vertical-align: top;\n",
       "    }\n",
       "\n",
       "    .dataframe thead th {\n",
       "        text-align: right;\n",
       "    }\n",
       "</style>\n",
       "<table border=\"1\" class=\"dataframe\">\n",
       "  <thead>\n",
       "    <tr style=\"text-align: right;\">\n",
       "      <th></th>\n",
       "      <th>doi</th>\n",
       "      <th>title</th>\n",
       "      <th>type</th>\n",
       "      <th>publication_date</th>\n",
       "      <th>host_venue</th>\n",
       "      <th>open_access_is_oa</th>\n",
       "      <th>open_access_oa_status</th>\n",
       "      <th>authorships</th>\n",
       "      <th>page_count</th>\n",
       "      <th>cited_by_count</th>\n",
       "      <th>concepts</th>\n",
       "      <th>referenced_works</th>\n",
       "      <th>abstract</th>\n",
       "      <th>counts_by_year</th>\n",
       "    </tr>\n",
       "    <tr>\n",
       "      <th>id</th>\n",
       "      <th></th>\n",
       "      <th></th>\n",
       "      <th></th>\n",
       "      <th></th>\n",
       "      <th></th>\n",
       "      <th></th>\n",
       "      <th></th>\n",
       "      <th></th>\n",
       "      <th></th>\n",
       "      <th></th>\n",
       "      <th></th>\n",
       "      <th></th>\n",
       "      <th></th>\n",
       "      <th></th>\n",
       "    </tr>\n",
       "  </thead>\n",
       "  <tbody>\n",
       "    <tr>\n",
       "      <th>W2555618208</th>\n",
       "      <td>https://doi.org/10.1109/cvpr.2017.691</td>\n",
       "      <td>Multi-view 3D Object Detection Network for Aut...</td>\n",
       "      <td>proceedings-article</td>\n",
       "      <td>2017-07-21</td>\n",
       "      <td>V4306417987</td>\n",
       "      <td>True</td>\n",
       "      <td>green</td>\n",
       "      <td>[[A2119051707, [I99065089]], [A2151001937, [I9...</td>\n",
       "      <td>-1</td>\n",
       "      <td>1409</td>\n",
       "      <td>[[C131979681, 0.86888766], [C41008148, 0.77201...</td>\n",
       "      <td>[W7746136, W1536680647, W1914646313, W19466097...</td>\n",
       "      <td>This paper aims at high-accuracy 3D object det...</td>\n",
       "      <td>[(2017, 13), (2018, 109), (2019, 308), (2020, ...</td>\n",
       "    </tr>\n",
       "    <tr>\n",
       "      <th>W2557641257</th>\n",
       "      <td>https://doi.org/10.1109/cvpr.2017.733</td>\n",
       "      <td>ECO: Efficient Convolution Operators for Tracking</td>\n",
       "      <td>proceedings-article</td>\n",
       "      <td>2017-07-21</td>\n",
       "      <td>V4306417987</td>\n",
       "      <td>True</td>\n",
       "      <td>green</td>\n",
       "      <td>[[A260882311, [I102134673]], [A2557978175, [I1...</td>\n",
       "      <td>-1</td>\n",
       "      <td>1322</td>\n",
       "      <td>[[C63479239, 0.8030945], [C68339613, 0.7788200...</td>\n",
       "      <td>[W1857884451, W1892578678, W1904671147, W19157...</td>\n",
       "      <td>In recent years, Discriminative Correlation Fi...</td>\n",
       "      <td>[(2017, 9), (2018, 133), (2019, 303), (2020, 3...</td>\n",
       "    </tr>\n",
       "    <tr>\n",
       "      <th>W2963709863</th>\n",
       "      <td>https://doi.org/10.1109/cvpr.2017.241</td>\n",
       "      <td>Learning from Simulated and Unsupervised Image...</td>\n",
       "      <td>proceedings-article</td>\n",
       "      <td>2017-07-21</td>\n",
       "      <td>V4306417987</td>\n",
       "      <td>True</td>\n",
       "      <td>green</td>\n",
       "      <td>[[A2183241032, [I1311269955]], [A2798413642, [...</td>\n",
       "      <td>-1</td>\n",
       "      <td>1277</td>\n",
       "      <td>[[C41008148, 0.8212265], [C2779803651, 0.78661...</td>\n",
       "      <td>[W1922126009, W1950149599, W1995694455, W20012...</td>\n",
       "      <td>With recent progress in graphics, it has becom...</td>\n",
       "      <td>[(2017, 55), (2018, 251), (2019, 356), (2020, ...</td>\n",
       "    </tr>\n",
       "    <tr>\n",
       "      <th>W2594519801</th>\n",
       "      <td>https://doi.org/10.1109/cvpr.2017.261</td>\n",
       "      <td>ScanNet: Richly-Annotated 3D Reconstructions o...</td>\n",
       "      <td>proceedings-article</td>\n",
       "      <td>2017-07-21</td>\n",
       "      <td>V4306417987</td>\n",
       "      <td>True</td>\n",
       "      <td>green</td>\n",
       "      <td>[[A2158018495, [I97018004]], [A2111957820, [I2...</td>\n",
       "      <td>-1</td>\n",
       "      <td>1116</td>\n",
       "      <td>[[C41008148, 0.8516614], [C82990744, 0.6491697...</td>\n",
       "      <td>[W218762409, W1509835260, W1565402342, W159436...</td>\n",
       "      <td>A key requirement for leveraging supervised de...</td>\n",
       "      <td>[(2017, 12), (2018, 76), (2019, 226), (2020, 3...</td>\n",
       "    </tr>\n",
       "    <tr>\n",
       "      <th>W2561715562</th>\n",
       "      <td>https://doi.org/10.1109/cvpr.2017.215</td>\n",
       "      <td>CLEVR: A Diagnostic Dataset for Compositional ...</td>\n",
       "      <td>proceedings-article</td>\n",
       "      <td>2017-07-01</td>\n",
       "      <td>V4306417987</td>\n",
       "      <td>True</td>\n",
       "      <td>green</td>\n",
       "      <td>[[A2345205178, [I97018004]], [A1988254826, [I2...</td>\n",
       "      <td>-1</td>\n",
       "      <td>1085</td>\n",
       "      <td>[[C41008148, 0.7745689], [C130440534, 0.751482...</td>\n",
       "      <td>[W1933349210, W1983927101, W1996418862, W20646...</td>\n",
       "      <td>When building artificial intelligence systems ...</td>\n",
       "      <td>[(2017, 38), (2018, 146), (2019, 232), (2020, ...</td>\n",
       "    </tr>\n",
       "    <tr>\n",
       "      <th>...</th>\n",
       "      <td>...</td>\n",
       "      <td>...</td>\n",
       "      <td>...</td>\n",
       "      <td>...</td>\n",
       "      <td>...</td>\n",
       "      <td>...</td>\n",
       "      <td>...</td>\n",
       "      <td>...</td>\n",
       "      <td>...</td>\n",
       "      <td>...</td>\n",
       "      <td>...</td>\n",
       "      <td>...</td>\n",
       "      <td>...</td>\n",
       "      <td>...</td>\n",
       "    </tr>\n",
       "    <tr>\n",
       "      <th>W2964297864</th>\n",
       "      <td>https://doi.org/10.1109/iccv.2017.137</td>\n",
       "      <td>Adversarial PoseNet: A Structure-Aware Convolu...</td>\n",
       "      <td>proceedings-article</td>\n",
       "      <td>2017-04-30</td>\n",
       "      <td>V4306419272</td>\n",
       "      <td>True</td>\n",
       "      <td>green</td>\n",
       "      <td>[[A2672142776, [I36399199]], [A2139473605, [I5...</td>\n",
       "      <td>-1</td>\n",
       "      <td>205</td>\n",
       "      <td>[[C2779803651, 0.8591261], [C177769412, 0.8495...</td>\n",
       "      <td>[W1936750108, W1994529670, W2013640163, W20318...</td>\n",
       "      <td>For human pose estimation in monocular images,...</td>\n",
       "      <td>[(2017, 2), (2018, 36), (2019, 65), (2020, 48)...</td>\n",
       "    </tr>\n",
       "    <tr>\n",
       "      <th>W2555428947</th>\n",
       "      <td>https://doi.org/10.18653/v1/d17-1039</td>\n",
       "      <td>Unsupervised Pretraining for Sequence to Seque...</td>\n",
       "      <td>proceedings-article</td>\n",
       "      <td>2017-09-01</td>\n",
       "      <td>V4306418267</td>\n",
       "      <td>True</td>\n",
       "      <td>hybrid</td>\n",
       "      <td>[[A2953580041, [I157725225]], [A2551433269, [I...</td>\n",
       "      <td>-1</td>\n",
       "      <td>204</td>\n",
       "      <td>[[C170858558, 0.8504702], [C203005215, 0.82808...</td>\n",
       "      <td>[W23305027, W1544827683, W1591801644, W1753482...</td>\n",
       "      <td>This work presents a general unsupervised lear...</td>\n",
       "      <td>[(2017, 11), (2018, 40), (2019, 78), (2020, 40...</td>\n",
       "    </tr>\n",
       "    <tr>\n",
       "      <th>W2963414781</th>\n",
       "      <td>https://doi.org/10.1109/asru.2017.8268935</td>\n",
       "      <td>Exploring architectures, data and units for st...</td>\n",
       "      <td>proceedings-article</td>\n",
       "      <td>2017-12-01</td>\n",
       "      <td>V4306498158</td>\n",
       "      <td>True</td>\n",
       "      <td>green</td>\n",
       "      <td>[[A2120260697, [I1291425158]], [A2639960128, [...</td>\n",
       "      <td>-1</td>\n",
       "      <td>204</td>\n",
       "      <td>[[C41008148, 0.85740614], [C147168706, 0.82748...</td>\n",
       "      <td>[W1531333757, W1593247906, W2064675550, W21271...</td>\n",
       "      <td>We investigate training end-to-end speech reco...</td>\n",
       "      <td>[(2017, 4), (2018, 27), (2019, 46), (2020, 62)...</td>\n",
       "    </tr>\n",
       "    <tr>\n",
       "      <th>W2579318729</th>\n",
       "      <td>https://doi.org/10.1145/3078971.3078974</td>\n",
       "      <td>Embedding Watermarks into Deep Neural Networks</td>\n",
       "      <td>proceedings-article</td>\n",
       "      <td>2017-06-06</td>\n",
       "      <td>V4306400194</td>\n",
       "      <td>True</td>\n",
       "      <td>green</td>\n",
       "      <td>[[A2238283888, [I4210164495]], [A2501945841, [...</td>\n",
       "      <td>-1</td>\n",
       "      <td>202</td>\n",
       "      <td>[[C150817343, 0.9055343], [C164112704, 0.89768...</td>\n",
       "      <td>[W1974418584, W2064675550, W2079792061, W21558...</td>\n",
       "      <td>Deep neural networks have recently achieved si...</td>\n",
       "      <td>[(2017, 1), (2018, 12), (2019, 35), (2020, 38)...</td>\n",
       "    </tr>\n",
       "    <tr>\n",
       "      <th>W2739716023</th>\n",
       "      <td>https://doi.org/10.18653/v1/p17-1021</td>\n",
       "      <td>An End-to-End Model for Question Answering ove...</td>\n",
       "      <td>proceedings-article</td>\n",
       "      <td>2017-07-01</td>\n",
       "      <td>V4306420508</td>\n",
       "      <td>True</td>\n",
       "      <td>hybrid</td>\n",
       "      <td>[[A2554738076, [I19820366]], [A2107248586, [I1...</td>\n",
       "      <td>-1</td>\n",
       "      <td>201</td>\n",
       "      <td>[[C41008148, 0.7852682], [C44291984, 0.7806166...</td>\n",
       "      <td>[W80422862, W580074167, W1496189301, W15448276...</td>\n",
       "      <td>With the rapid growth of knowledge bases (KBs)...</td>\n",
       "      <td>[(2017, 1), (2018, 22), (2019, 43), (2020, 55)...</td>\n",
       "    </tr>\n",
       "  </tbody>\n",
       "</table>\n",
       "<p>256 rows × 14 columns</p>\n",
       "</div>"
      ],
      "text/plain": [
       "                                                   doi  \\\n",
       "id                                                       \n",
       "W2555618208      https://doi.org/10.1109/cvpr.2017.691   \n",
       "W2557641257      https://doi.org/10.1109/cvpr.2017.733   \n",
       "W2963709863      https://doi.org/10.1109/cvpr.2017.241   \n",
       "W2594519801      https://doi.org/10.1109/cvpr.2017.261   \n",
       "W2561715562      https://doi.org/10.1109/cvpr.2017.215   \n",
       "...                                                ...   \n",
       "W2964297864      https://doi.org/10.1109/iccv.2017.137   \n",
       "W2555428947       https://doi.org/10.18653/v1/d17-1039   \n",
       "W2963414781  https://doi.org/10.1109/asru.2017.8268935   \n",
       "W2579318729    https://doi.org/10.1145/3078971.3078974   \n",
       "W2739716023       https://doi.org/10.18653/v1/p17-1021   \n",
       "\n",
       "                                                         title  \\\n",
       "id                                                               \n",
       "W2555618208  Multi-view 3D Object Detection Network for Aut...   \n",
       "W2557641257  ECO: Efficient Convolution Operators for Tracking   \n",
       "W2963709863  Learning from Simulated and Unsupervised Image...   \n",
       "W2594519801  ScanNet: Richly-Annotated 3D Reconstructions o...   \n",
       "W2561715562  CLEVR: A Diagnostic Dataset for Compositional ...   \n",
       "...                                                        ...   \n",
       "W2964297864  Adversarial PoseNet: A Structure-Aware Convolu...   \n",
       "W2555428947  Unsupervised Pretraining for Sequence to Seque...   \n",
       "W2963414781  Exploring architectures, data and units for st...   \n",
       "W2579318729     Embedding Watermarks into Deep Neural Networks   \n",
       "W2739716023  An End-to-End Model for Question Answering ove...   \n",
       "\n",
       "                            type publication_date   host_venue  \\\n",
       "id                                                               \n",
       "W2555618208  proceedings-article       2017-07-21  V4306417987   \n",
       "W2557641257  proceedings-article       2017-07-21  V4306417987   \n",
       "W2963709863  proceedings-article       2017-07-21  V4306417987   \n",
       "W2594519801  proceedings-article       2017-07-21  V4306417987   \n",
       "W2561715562  proceedings-article       2017-07-01  V4306417987   \n",
       "...                          ...              ...          ...   \n",
       "W2964297864  proceedings-article       2017-04-30  V4306419272   \n",
       "W2555428947  proceedings-article       2017-09-01  V4306418267   \n",
       "W2963414781  proceedings-article       2017-12-01  V4306498158   \n",
       "W2579318729  proceedings-article       2017-06-06  V4306400194   \n",
       "W2739716023  proceedings-article       2017-07-01  V4306420508   \n",
       "\n",
       "             open_access_is_oa open_access_oa_status  \\\n",
       "id                                                     \n",
       "W2555618208               True                 green   \n",
       "W2557641257               True                 green   \n",
       "W2963709863               True                 green   \n",
       "W2594519801               True                 green   \n",
       "W2561715562               True                 green   \n",
       "...                        ...                   ...   \n",
       "W2964297864               True                 green   \n",
       "W2555428947               True                hybrid   \n",
       "W2963414781               True                 green   \n",
       "W2579318729               True                 green   \n",
       "W2739716023               True                hybrid   \n",
       "\n",
       "                                                   authorships page_count  \\\n",
       "id                                                                          \n",
       "W2555618208  [[A2119051707, [I99065089]], [A2151001937, [I9...         -1   \n",
       "W2557641257  [[A260882311, [I102134673]], [A2557978175, [I1...         -1   \n",
       "W2963709863  [[A2183241032, [I1311269955]], [A2798413642, [...         -1   \n",
       "W2594519801  [[A2158018495, [I97018004]], [A2111957820, [I2...         -1   \n",
       "W2561715562  [[A2345205178, [I97018004]], [A1988254826, [I2...         -1   \n",
       "...                                                        ...        ...   \n",
       "W2964297864  [[A2672142776, [I36399199]], [A2139473605, [I5...         -1   \n",
       "W2555428947  [[A2953580041, [I157725225]], [A2551433269, [I...         -1   \n",
       "W2963414781  [[A2120260697, [I1291425158]], [A2639960128, [...         -1   \n",
       "W2579318729  [[A2238283888, [I4210164495]], [A2501945841, [...         -1   \n",
       "W2739716023  [[A2554738076, [I19820366]], [A2107248586, [I1...         -1   \n",
       "\n",
       "             cited_by_count  \\\n",
       "id                            \n",
       "W2555618208            1409   \n",
       "W2557641257            1322   \n",
       "W2963709863            1277   \n",
       "W2594519801            1116   \n",
       "W2561715562            1085   \n",
       "...                     ...   \n",
       "W2964297864             205   \n",
       "W2555428947             204   \n",
       "W2963414781             204   \n",
       "W2579318729             202   \n",
       "W2739716023             201   \n",
       "\n",
       "                                                      concepts  \\\n",
       "id                                                               \n",
       "W2555618208  [[C131979681, 0.86888766], [C41008148, 0.77201...   \n",
       "W2557641257  [[C63479239, 0.8030945], [C68339613, 0.7788200...   \n",
       "W2963709863  [[C41008148, 0.8212265], [C2779803651, 0.78661...   \n",
       "W2594519801  [[C41008148, 0.8516614], [C82990744, 0.6491697...   \n",
       "W2561715562  [[C41008148, 0.7745689], [C130440534, 0.751482...   \n",
       "...                                                        ...   \n",
       "W2964297864  [[C2779803651, 0.8591261], [C177769412, 0.8495...   \n",
       "W2555428947  [[C170858558, 0.8504702], [C203005215, 0.82808...   \n",
       "W2963414781  [[C41008148, 0.85740614], [C147168706, 0.82748...   \n",
       "W2579318729  [[C150817343, 0.9055343], [C164112704, 0.89768...   \n",
       "W2739716023  [[C41008148, 0.7852682], [C44291984, 0.7806166...   \n",
       "\n",
       "                                              referenced_works  \\\n",
       "id                                                               \n",
       "W2555618208  [W7746136, W1536680647, W1914646313, W19466097...   \n",
       "W2557641257  [W1857884451, W1892578678, W1904671147, W19157...   \n",
       "W2963709863  [W1922126009, W1950149599, W1995694455, W20012...   \n",
       "W2594519801  [W218762409, W1509835260, W1565402342, W159436...   \n",
       "W2561715562  [W1933349210, W1983927101, W1996418862, W20646...   \n",
       "...                                                        ...   \n",
       "W2964297864  [W1936750108, W1994529670, W2013640163, W20318...   \n",
       "W2555428947  [W23305027, W1544827683, W1591801644, W1753482...   \n",
       "W2963414781  [W1531333757, W1593247906, W2064675550, W21271...   \n",
       "W2579318729  [W1974418584, W2064675550, W2079792061, W21558...   \n",
       "W2739716023  [W80422862, W580074167, W1496189301, W15448276...   \n",
       "\n",
       "                                                      abstract  \\\n",
       "id                                                               \n",
       "W2555618208  This paper aims at high-accuracy 3D object det...   \n",
       "W2557641257  In recent years, Discriminative Correlation Fi...   \n",
       "W2963709863  With recent progress in graphics, it has becom...   \n",
       "W2594519801  A key requirement for leveraging supervised de...   \n",
       "W2561715562  When building artificial intelligence systems ...   \n",
       "...                                                        ...   \n",
       "W2964297864  For human pose estimation in monocular images,...   \n",
       "W2555428947  This work presents a general unsupervised lear...   \n",
       "W2963414781  We investigate training end-to-end speech reco...   \n",
       "W2579318729  Deep neural networks have recently achieved si...   \n",
       "W2739716023  With the rapid growth of knowledge bases (KBs)...   \n",
       "\n",
       "                                                counts_by_year  \n",
       "id                                                              \n",
       "W2555618208  [(2017, 13), (2018, 109), (2019, 308), (2020, ...  \n",
       "W2557641257  [(2017, 9), (2018, 133), (2019, 303), (2020, 3...  \n",
       "W2963709863  [(2017, 55), (2018, 251), (2019, 356), (2020, ...  \n",
       "W2594519801  [(2017, 12), (2018, 76), (2019, 226), (2020, 3...  \n",
       "W2561715562  [(2017, 38), (2018, 146), (2019, 232), (2020, ...  \n",
       "...                                                        ...  \n",
       "W2964297864  [(2017, 2), (2018, 36), (2019, 65), (2020, 48)...  \n",
       "W2555428947  [(2017, 11), (2018, 40), (2019, 78), (2020, 40...  \n",
       "W2963414781  [(2017, 4), (2018, 27), (2019, 46), (2020, 62)...  \n",
       "W2579318729  [(2017, 1), (2018, 12), (2019, 35), (2020, 38)...  \n",
       "W2739716023  [(2017, 1), (2018, 22), (2019, 43), (2020, 55)...  \n",
       "\n",
       "[256 rows x 14 columns]"
      ]
     },
     "execution_count": 23,
     "metadata": {},
     "output_type": "execute_result"
    }
   ],
   "source": [
    "works[works['cited_by_count']>200]"
   ]
  },
  {
   "cell_type": "code",
   "execution_count": 27,
   "id": "ac7bd2f2-c361-4227-a47f-1a4baaf20643",
   "metadata": {},
   "outputs": [
    {
     "data": {
      "text/plain": [
       "<AxesSubplot:xlabel='cited_by_count', ylabel='Count'>"
      ]
     },
     "execution_count": 27,
     "metadata": {},
     "output_type": "execute_result"
    },
    {
     "data": {
      "image/png": "[encoded data removed]",
      "text/plain": [
       "<Figure size 640x480 with 1 Axes>"
      ]
     },
     "metadata": {},
     "output_type": "display_data"
    }
   ],
   "source": [
    "temp = works[works['cited_by_count']<100].reset_index()\n",
    "sns.histplot(data=temp, x=\"cited_by_count\", bins=100)"
   ]
  },
  {
   "cell_type": "code",
   "execution_count": 28,
   "id": "5993869e-d742-4bcc-a153-d384c2e6bd77",
   "metadata": {},
   "outputs": [
    {
     "data": {
      "text/plain": [
       "<AxesSubplot:xlabel='cited_by_count', ylabel='Count'>"
      ]
     },
     "execution_count": 28,
     "metadata": {},
     "output_type": "execute_result"
    },
    {
     "data": {
      "image/png": "[encoded data removed]",
      "text/plain": [
       "<Figure size 640x480 with 1 Axes>"
      ]
     },
     "metadata": {},
     "output_type": "display_data"
    }
   ],
   "source": [
    "temp = works[works['cited_by_count']>100].reset_index()\n",
    "sns.histplot(data=temp, x=\"cited_by_count\", bins=100)"
   ]
  },
  {
   "cell_type": "code",
   "execution_count": null,
   "id": "87279a72-6fd0-455d-8352-1ceed6266389",
   "metadata": {},
   "outputs": [],
   "source": []
  },
  {
   "cell_type": "code",
   "execution_count": null,
   "id": "371f5c40-f5ec-48ef-a1d1-92bd2649ce2a",
   "metadata": {},
   "outputs": [],
   "source": []
  }
 ],
 "metadata": {
  "kernelspec": {
   "display_name": "Python (myenv)",
   "language": "python",
   "name": "myenv"
  },
  "language_info": {
   "codemirror_mode": {
    "name": "ipython",
    "version": 3
   },
   "file_extension": ".py",
   "mimetype": "text/x-python",
   "name": "python",
   "nbconvert_exporter": "python",
   "pygments_lexer": "ipython3",
   "version": "3.9.13"
  }
 },
 "nbformat": 4,
 "nbformat_minor": 5
}
