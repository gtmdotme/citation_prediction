{
 "cells": [
  {
   "cell_type": "code",
   "execution_count": 136,
   "metadata": {},
   "outputs": [],
   "source": [
    "import json\n",
    "import pdb\n",
    "import ast\n",
    "from tqdm import tqdm\n",
    "\n",
    "import numpy as np\n",
    "import pandas as pd\n",
    "from matplotlib import pyplot as plt\n",
    "%matplotlib inline\n",
    "import seaborn as sns\n",
    "import streamlit as st\n",
    "\n",
    "import os"
   ]
  },
  {
   "cell_type": "code",
   "execution_count": 3,
   "metadata": {},
   "outputs": [
    {
     "name": "stderr",
     "output_type": "stream",
     "text": [
      "100%|██████████| 823/823 [00:59<00:00, 13.80it/s]\n"
     ]
    },
    {
     "name": "stdout",
     "output_type": "stream",
     "text": [
      "                                                   doi  \\\n",
      "id                                                       \n",
      "W2150066425  https://doi.org/10.1109/cvpr.2012.6248074   \n",
      "W2158782408  https://doi.org/10.1109/iros.2012.6386109   \n",
      "W2141125852  https://doi.org/10.1109/cvpr.2012.6248110   \n",
      "W2021851106  https://doi.org/10.1109/iros.2012.6385773   \n",
      "W2100960835    https://doi.org/10.1145/2090236.2090255   \n",
      "\n",
      "                                                         title  \\\n",
      "id                                                               \n",
      "W2150066425  Are we ready for autonomous driving? The KITTI...   \n",
      "W2158782408   MuJoCo: A physics engine for model-based control   \n",
      "W2141125852  Multi-column deep neural networks for image cl...   \n",
      "W2021851106  A benchmark for the evaluation of RGB-D SLAM s...   \n",
      "W2100960835                         Fairness through awareness   \n",
      "\n",
      "                            type publication_date   host_venue  \\\n",
      "id                                                               \n",
      "W2150066425  proceedings-article       2012-06-16  V4306417987   \n",
      "W2158782408  proceedings-article       2012-12-24  V4306418941   \n",
      "W2141125852  proceedings-article       2012-06-16  V4306417987   \n",
      "W2021851106  proceedings-article       2012-12-24  V4306418941   \n",
      "W2100960835  proceedings-article       2012-01-08  V4306418069   \n",
      "\n",
      "             open_access_is_oa open_access_oa_status  \\\n",
      "id                                                     \n",
      "W2150066425              False                closed   \n",
      "W2158782408              False                closed   \n",
      "W2141125852               True                 green   \n",
      "W2021851106               True                 green   \n",
      "W2100960835               True                 green   \n",
      "\n",
      "                                                   authorships page_count  \\\n",
      "id                                                                          \n",
      "W2150066425  [[A2182886034, [I102335020]], [A2167431718, [I...         -1   \n",
      "W2158782408  [[A2028747364, [I201448701]], [A2086424281, [I...         -1   \n",
      "W2141125852  [[A1966905718, [I2614128279]], [A2343548174, [...         -1   \n",
      "W2021851106  [[A2973958393, [I62916508]], [A1927103669, [I3...         -1   \n",
      "W2100960835  [[A208343995, [I1290206253]], [A2301637896, [I...         -1   \n",
      "\n",
      "             cited_by_count  \\\n",
      "id                            \n",
      "W2150066425            6636   \n",
      "W2158782408            2177   \n",
      "W2141125852            1970   \n",
      "W2021851106            1888   \n",
      "W2100960835            1655   \n",
      "\n",
      "                                                      concepts  \\\n",
      "id                                                               \n",
      "W2150066425  [[C154945302, 0.7994821], [C5799516, 0.7514366...   \n",
      "W2158782408  [[C190390380, 0.9146959], [C169590947, 0.71768...   \n",
      "W2141125852  [[C190502265, 0.8540422], [C41008148, 0.794758...   \n",
      "W2021851106  [[C31972630, 0.78334284], [C154945302, 0.75840...   \n",
      "W2100960835  [[C41008148, 0.59133285], [C95623464, 0.542300...   \n",
      "\n",
      "                                              referenced_works  \\\n",
      "id                                                               \n",
      "W2150066425  [W1578985305, W1964814179, W1968799614, W19903...   \n",
      "W2158782408  [W154144259, W639693478, W1992116952, W2004116...   \n",
      "W2141125852  [W1601963269, W1968995181, W1987778624, W20268...   \n",
      "W2021851106  [W1514909517, W1556098723, W1656165940, W19652...   \n",
      "W2100960835  [W178579835, W632002811, W1599656298, W1873763...   \n",
      "\n",
      "                                                      abstract  \\\n",
      "id                                                               \n",
      "W2150066425  Today, visual recognition systems are still ra...   \n",
      "W2158782408  We describe a new physics engine tailored to m...   \n",
      "W2141125852  Traditional methods of computer vision and mac...   \n",
      "W2021851106  In this paper, we present a novel benchmark fo...   \n",
      "W2100960835  We study fairness in classification, where ind...   \n",
      "\n",
      "                                                counts_by_year  \n",
      "id                                                              \n",
      "W2150066425  [[2022, 570], [2021, 1427], [2020, 1363], [201...  \n",
      "W2158782408  [[2022, 155], [2021, 616], [2020, 601], [2019,...  \n",
      "W2141125852  [[2022, 126], [2021, 237], [2020, 269], [2019,...  \n",
      "W2021851106  [[2022, 132], [2021, 318], [2020, 326], [2019,...  \n",
      "W2100960835  [[2022, 229], [2021, 453], [2020, 353], [2019,...  \n"
     ]
    },
    {
     "name": "stderr",
     "output_type": "stream",
     "text": [
      "100%|██████████| 5653/5653 [00:51<00:00, 110.68it/s]\n"
     ]
    },
    {
     "name": "stdout",
     "output_type": "stream",
     "text": [
      "                                            orchid        display_name  \\\n",
      "id                                                                       \n",
      "A100176519   https://orcid.org/0000-0003-2813-2235  Dieter Schmalstieg   \n",
      "A100648250   https://orcid.org/0000-0003-4829-5533        Norman Sadeh   \n",
      "A100654205   https://orcid.org/0000-0003-3427-0909       Peter Forbrig   \n",
      "A1002842216                                   None      Claudio Fiegna   \n",
      "A1008309793  https://orcid.org/0000-0003-0565-9640        Fred Buchali   \n",
      "\n",
      "             works_count  cited_by_count created_date  \\\n",
      "id                                                      \n",
      "A100176519           538            7969   2016-06-24   \n",
      "A100648250           252            7525   2016-06-24   \n",
      "A100654205           208             550   2016-06-24   \n",
      "A1002842216          186            1671   2016-06-24   \n",
      "A1008309793          186            2131   2016-06-24   \n",
      "\n",
      "                                                      concepts  \\\n",
      "id                                                               \n",
      "A100176519   [[C41008148, 95.0], [C154945302, 81.8], [C3197...   \n",
      "A100648250   [[C41008148, 94.8], [C17744445, 48.0], [C19953...   \n",
      "A100654205   [[C41008148, 93.3], [C127413603, 74.0], [C1119...   \n",
      "A1002842216  [[C121332964, 98.4], [C127413603, 92.5], [C192...   \n",
      "A1008309793  [[C41008148, 98.4], [C127413603, 96.8], [C7615...   \n",
      "\n",
      "                                                counts_by_year  \n",
      "id                                                              \n",
      "A100176519   [[2022, 2, 366], [2021, 12, 691], [2020, 16, 7...  \n",
      "A100648250   [[2022, 0, 351], [2021, 9, 783], [2020, 9, 701...  \n",
      "A100654205   [[2022, 1, 11], [2021, 6, 34], [2020, 6, 34], ...  \n",
      "A1002842216  [[2022, 0, 74], [2021, 1, 154], [2020, 3, 108]...  \n",
      "A1008309793  [[2022, 1, 195], [2021, 15, 278], [2020, 14, 3...  \n"
     ]
    },
    {
     "name": "stderr",
     "output_type": "stream",
     "text": [
      "100%|██████████| 241/241 [00:04<00:00, 49.42it/s] \n"
     ]
    },
    {
     "name": "stdout",
     "output_type": "stream",
     "text": [
      "                         display_name country_code       type  \\\n",
      "id                                                              \n",
      "I100066346    University of Stuttgart           DE  education   \n",
      "I100930933  University College Dublin           IE  education   \n",
      "I10091056         Kanazawa University           JP  education   \n",
      "I100005738   Brigham Young University           US  education   \n",
      "I101202996      Semmelweis University           HU  education   \n",
      "\n",
      "                                              homepage_url  works_count  \\\n",
      "id                                                                        \n",
      "I100066346  http://www.uni-stuttgart.de/home/index.en.html        61341   \n",
      "I100930933                              http://www.ucd.ie/        58623   \n",
      "I10091056                     http://www.kanazawa-u.ac.jp/        45652   \n",
      "I100005738                       http://home.byu.edu/home/        45267   \n",
      "I101202996    http://semmelweis.hu/english/the-university/        37855   \n",
      "\n",
      "            cited_by_count                            associated_institutions  \\\n",
      "id                                                                              \n",
      "I100066346         2824228                             [[I4210113675, child]]   \n",
      "I100930933         3041073  [[I181231927, parent], [I2800368556, related],...   \n",
      "I10091056          2646647                           [[I4210104330, related]]   \n",
      "I100005738         2008257                                                 []   \n",
      "I101202996         1699853                                                 []   \n",
      "\n",
      "                                                     concepts  \\\n",
      "id                                                              \n",
      "I100066346  [[C121332964, 70.3], [C127413603, 55.1], [C625...   \n",
      "I100930933  [[C86803240, 62.1], [C71924100, 45.5], [C12133...   \n",
      "I10091056   [[C86803240, 75.7], [C71924100, 62.6], [C18559...   \n",
      "I100005738  [[C86803240, 46.8], [C41008148, 45.1], [C12133...   \n",
      "I101202996  [[C71924100, 90.2], [C86803240, 83.4], [C12632...   \n",
      "\n",
      "                                               counts_by_year created_date  \n",
      "id                                                                          \n",
      "I100066346  [[2022, 1853, 180997], [2021, 2942, 236833], [...   2016-06-24  \n",
      "I100930933  [[2022, 2947, 280728], [2021, 4229, 342595], [...   2016-06-24  \n",
      "I10091056   [[2022, 1402, 170389], [2021, 2003, 201527], [...   2016-06-24  \n",
      "I100005738  [[2022, 1301, 140666], [2021, 1886, 176502], [...   2016-06-24  \n",
      "I101202996  [[2022, 1469, 153691], [2021, 1882, 178560], [...   2016-06-24  \n"
     ]
    },
    {
     "name": "stderr",
     "output_type": "stream",
     "text": [
      "100%|██████████| 35/35 [00:00<00:00, 78.00it/s]"
     ]
    },
    {
     "name": "stdout",
     "output_type": "stream",
     "text": [
      "                                            display_name  works_count  \\\n",
      "id                                                                      \n",
      "V202381698                                      PLOS ONE       300815   \n",
      "V11296630   Journal of the Acoustical Society of America       162788   \n",
      "V168522863                               Cancer Research       152456   \n",
      "V183492911                           Proceedings of SPIE       133038   \n",
      "V10134376                                 Sustainability        57841   \n",
      "\n",
      "            cited_by_count  is_oa     type created_date  \\\n",
      "id                                                        \n",
      "V202381698         7199917   True  journal   2016-06-24   \n",
      "V11296630          1305935  False  journal   2016-06-24   \n",
      "V168522863         2711630  False  journal   2016-06-24   \n",
      "V183492911          563561  False  journal   2016-06-24   \n",
      "V10134376           474632   True  journal   2016-06-24   \n",
      "\n",
      "                                                     concepts  \\\n",
      "id                                                              \n",
      "V202381698  [[C86803240, 89.4], [C71924100, 77.4], [C18559...   \n",
      "V11296630   [[C121332964, 91.8], [C24890656, 81.6], [C4100...   \n",
      "V168522863  [[C86803240, 98.8], [C54355233, 97.0], [C71924...   \n",
      "V183492911  [[C121332964, 88.0], [C41008148, 78.7], [C1206...   \n",
      "V10134376   [[C86803240, 77.7], [C162324750, 67.7], [C1890...   \n",
      "\n",
      "                                               counts_by_year  \n",
      "id                                                             \n",
      "V202381698  [[2022, 14246, 816226], [2021, 16715, 1016810]...  \n",
      "V11296630   [[2022, 1433, 45311], [2021, 2355, 63354], [20...  \n",
      "V168522863  [[2022, 7677, 117012], [2021, 3692, 138081], [...  \n",
      "V183492911  [[2022, 107, 24263], [2021, 108, 31078], [2020...  \n",
      "V10134376   [[2022, 14162, 160784], [2021, 14236, 141242],...  \n"
     ]
    },
    {
     "name": "stderr",
     "output_type": "stream",
     "text": [
      "\n"
     ]
    }
   ],
   "source": [
    "input_types = ['works', 'authors', 'insts', 'venues']\n",
    "\n",
    "data = {}\n",
    "for input_type in input_types:\n",
    "    DATA_FILE = './data/data.' + input_type + '.2012.v1.txt'\n",
    "    with open(DATA_FILE, 'r') as f:\n",
    "        input_json = [ast.literal_eval(work) for work in tqdm(f.readlines())]\n",
    "        input_dict = [j for i in input_json for j in i]\n",
    "        data[input_type] = pd.DataFrame.from_dict(input_dict).set_index('id')\n",
    "        print(data[input_type].head())"
   ]
  },
  {
   "cell_type": "code",
   "execution_count": 4,
   "metadata": {},
   "outputs": [
    {
     "name": "stdout",
     "output_type": "stream",
     "text": [
      "<class 'pandas.core.frame.DataFrame'>\n",
      "Index: 128097 entries, W2150066425 to W995713601\n",
      "Data columns (total 14 columns):\n",
      " #   Column                 Non-Null Count   Dtype \n",
      "---  ------                 --------------   ----- \n",
      " 0   doi                    126967 non-null  object\n",
      " 1   title                  128097 non-null  object\n",
      " 2   type                   128097 non-null  object\n",
      " 3   publication_date       128097 non-null  object\n",
      " 4   host_venue             128097 non-null  object\n",
      " 5   open_access_is_oa      128097 non-null  bool  \n",
      " 6   open_access_oa_status  128097 non-null  object\n",
      " 7   authorships            128097 non-null  object\n",
      " 8   page_count             128097 non-null  object\n",
      " 9   cited_by_count         128097 non-null  int64 \n",
      " 10  concepts               128097 non-null  object\n",
      " 11  referenced_works       128097 non-null  object\n",
      " 12  abstract               128097 non-null  object\n",
      " 13  counts_by_year         128097 non-null  object\n",
      "dtypes: bool(1), int64(1), object(12)\n",
      "memory usage: 13.8+ MB\n",
      "None\n"
     ]
    }
   ],
   "source": [
    "print(data['works'].info())"
   ]
  },
  {
   "cell_type": "code",
   "execution_count": 5,
   "metadata": {},
   "outputs": [
    {
     "name": "stdout",
     "output_type": "stream",
     "text": [
      "<class 'pandas.core.frame.DataFrame'>\n",
      "Index: 141325 entries, A100176519 to A99634055\n",
      "Data columns (total 7 columns):\n",
      " #   Column          Non-Null Count   Dtype \n",
      "---  ------          --------------   ----- \n",
      " 0   orchid          60389 non-null   object\n",
      " 1   display_name    141325 non-null  object\n",
      " 2   works_count     141325 non-null  int64 \n",
      " 3   cited_by_count  141325 non-null  int64 \n",
      " 4   created_date    141325 non-null  object\n",
      " 5   concepts        141325 non-null  object\n",
      " 6   counts_by_year  141325 non-null  object\n",
      "dtypes: int64(2), object(5)\n",
      "memory usage: 8.6+ MB\n",
      "None\n"
     ]
    }
   ],
   "source": [
    "print(data['authors'].info())"
   ]
  },
  {
   "cell_type": "code",
   "execution_count": 6,
   "metadata": {},
   "outputs": [
    {
     "name": "stdout",
     "output_type": "stream",
     "text": [
      "<class 'pandas.core.frame.DataFrame'>\n",
      "Index: 863 entries, V202381698 to V80171551\n",
      "Data columns (total 8 columns):\n",
      " #   Column          Non-Null Count  Dtype \n",
      "---  ------          --------------  ----- \n",
      " 0   display_name    863 non-null    object\n",
      " 1   works_count     863 non-null    int64 \n",
      " 2   cited_by_count  863 non-null    int64 \n",
      " 3   is_oa           27 non-null     object\n",
      " 4   type            863 non-null    object\n",
      " 5   created_date    863 non-null    object\n",
      " 6   concepts        863 non-null    object\n",
      " 7   counts_by_year  863 non-null    object\n",
      "dtypes: int64(2), object(6)\n",
      "memory usage: 60.7+ KB\n",
      "None\n"
     ]
    }
   ],
   "source": [
    "print(data['venues'].info())"
   ]
  },
  {
   "cell_type": "code",
   "execution_count": 7,
   "metadata": {},
   "outputs": [
    {
     "name": "stdout",
     "output_type": "stream",
     "text": [
      "<class 'pandas.core.frame.DataFrame'>\n",
      "Index: 6015 entries, I100066346 to I99686982\n",
      "Data columns (total 10 columns):\n",
      " #   Column                   Non-Null Count  Dtype \n",
      "---  ------                   --------------  ----- \n",
      " 0   display_name             6015 non-null   object\n",
      " 1   country_code             5979 non-null   object\n",
      " 2   type                     5727 non-null   object\n",
      " 3   homepage_url             5941 non-null   object\n",
      " 4   works_count              6015 non-null   int64 \n",
      " 5   cited_by_count           6015 non-null   int64 \n",
      " 6   associated_institutions  6015 non-null   object\n",
      " 7   concepts                 6015 non-null   object\n",
      " 8   counts_by_year           6015 non-null   object\n",
      " 9   created_date             6015 non-null   object\n",
      "dtypes: int64(2), object(8)\n",
      "memory usage: 516.9+ KB\n",
      "None\n"
     ]
    }
   ],
   "source": [
    "print(data['insts'].info())"
   ]
  },
  {
   "cell_type": "code",
   "execution_count": null,
   "metadata": {},
   "outputs": [],
   "source": []
  },
  {
   "cell_type": "code",
   "execution_count": 100,
   "metadata": {},
   "outputs": [
    {
     "name": "stdout",
     "output_type": "stream",
     "text": [
      "<class 'pandas.core.frame.DataFrame'>\n",
      "Index: 128097 entries, W2150066425 to W995713601\n",
      "Data columns (total 11 columns):\n",
      " #   Column             Non-Null Count   Dtype \n",
      "---  ------             --------------   ----- \n",
      " 0   publication_date   128097 non-null  object\n",
      " 1   page_count         128097 non-null  object\n",
      " 2   title              128097 non-null  object\n",
      " 3   concepts           128097 non-null  object\n",
      " 4   abstract           128097 non-null  object\n",
      " 5   cited_by_count     128097 non-null  int64 \n",
      " 6   authorships        128097 non-null  object\n",
      " 7   host_venue         128097 non-null  object\n",
      " 8   open_access_is_oa  128097 non-null  bool  \n",
      " 9   referenced_works   128097 non-null  object\n",
      " 10  counts_by_year     128097 non-null  object\n",
      "dtypes: bool(1), int64(1), object(9)\n",
      "memory usage: 14.9+ MB\n",
      "None\n"
     ]
    }
   ],
   "source": [
    "# type - proceedings-article for all publications\n",
    "X = pd.DataFrame(data['works'].loc[:, ['publication_date', 'page_count', 'title', \\\n",
    "    'concepts', 'abstract', 'cited_by_count', 'authorships', 'host_venue', \\\n",
    "        'open_access_is_oa', 'referenced_works', 'counts_by_year']])\n",
    "X['page_count'].value_counts()\n",
    "print(X.info())"
   ]
  },
  {
   "cell_type": "code",
   "execution_count": 101,
   "metadata": {},
   "outputs": [
    {
     "data": {
      "text/plain": [
       "12    17613\n",
       "10    15331\n",
       "5     14596\n",
       "6     14321\n",
       "11    13521\n",
       "7     13269\n",
       "3     10382\n",
       "9      9406\n",
       "4      6590\n",
       "8      6059\n",
       "1      4800\n",
       "2      2209\n",
       "Name: publication_month, dtype: int64"
      ]
     },
     "execution_count": 101,
     "metadata": {},
     "output_type": "execute_result"
    }
   ],
   "source": [
    "# X.drop('page_count', axis='columns', inplace=True)\n",
    "\n",
    "X['publication_month'] = X['publication_date'].map(lambda x: x.split('-')[1]).astype(int)\n",
    "# X.drop('publication_date', axis='columns', inplace=True)\n",
    "X['publication_month'].value_counts()"
   ]
  },
  {
   "cell_type": "code",
   "execution_count": 102,
   "metadata": {},
   "outputs": [
    {
     "name": "stdout",
     "output_type": "stream",
     "text": [
      "0       30492\n",
      "1       19509\n",
      "2       14074\n",
      "3       10573\n",
      "4        8027\n",
      "        ...  \n",
      "326         1\n",
      "324         1\n",
      "323         1\n",
      "321         1\n",
      "6636        1\n",
      "Name: cited_by_count, Length: 402, dtype: int64\n"
     ]
    }
   ],
   "source": [
    "print(X['cited_by_count'].value_counts())"
   ]
  },
  {
   "cell_type": "code",
   "execution_count": 12,
   "metadata": {},
   "outputs": [
    {
     "data": {
      "text/plain": [
       "<AxesSubplot: xlabel='publication_month', ylabel='count'>"
      ]
     },
     "execution_count": 12,
     "metadata": {},
     "output_type": "execute_result"
    },
    {
     "data": {
      "image/png": "[encoded data removed]",
      "text/plain": [
       "<Figure size 640x480 with 1 Axes>"
      ]
     },
     "metadata": {},
     "output_type": "display_data"
    }
   ],
   "source": [
    "sns.countplot(data = X, x = 'publication_month')"
   ]
  },
  {
   "cell_type": "code",
   "execution_count": null,
   "metadata": {},
   "outputs": [
    {
     "data": {
      "text/plain": [
       "<AxesSubplot: >"
      ]
     },
     "execution_count": 17,
     "metadata": {},
     "output_type": "execute_result"
    }
   ],
   "source": [
    "sns.heatmap(X.corr(), annot=True, linewidth=2, cmap=plt.cm.Blues)"
   ]
  },
  {
   "cell_type": "code",
   "execution_count": null,
   "metadata": {},
   "outputs": [],
   "source": []
  },
  {
   "cell_type": "code",
   "execution_count": 119,
   "metadata": {},
   "outputs": [],
   "source": [
    "author_ids = set(np.intersect1d(np.concatenate(X['authorships'].map(lambda x: np.array([i[0] for i in x]))), data['authors'].index.values))"
   ]
  },
  {
   "cell_type": "code",
   "execution_count": 121,
   "metadata": {},
   "outputs": [
    {
     "data": {
      "text/plain": [
       "141325"
      ]
     },
     "execution_count": 121,
     "metadata": {},
     "output_type": "execute_result"
    }
   ],
   "source": [
    "len(author_ids)"
   ]
  },
  {
   "cell_type": "code",
   "execution_count": 125,
   "metadata": {},
   "outputs": [],
   "source": [
    "inst_ids = set(np.intersect1d(np.concatenate(X['authorships'].map(lambda x: np.array([j for i in x for j in i[1]]))), data['insts'].index.values))"
   ]
  },
  {
   "cell_type": "code",
   "execution_count": 126,
   "metadata": {},
   "outputs": [
    {
     "data": {
      "text/plain": [
       "6015"
      ]
     },
     "execution_count": 126,
     "metadata": {},
     "output_type": "execute_result"
    }
   ],
   "source": [
    "len(inst_ids)"
   ]
  },
  {
   "cell_type": "code",
   "execution_count": 127,
   "metadata": {},
   "outputs": [],
   "source": [
    "venue_ids = set(np.intersect1d(X['host_venue'].values, data['venues'].index.values))"
   ]
  },
  {
   "cell_type": "code",
   "execution_count": 128,
   "metadata": {},
   "outputs": [
    {
     "data": {
      "text/plain": [
       "863"
      ]
     },
     "execution_count": 128,
     "metadata": {},
     "output_type": "execute_result"
    }
   ],
   "source": [
    "len(venue_ids)"
   ]
  },
  {
   "cell_type": "code",
   "execution_count": 129,
   "metadata": {},
   "outputs": [],
   "source": [
    "X['authors'] = X['authorships'].map(lambda x: [i[0] for i in x if i[0] in author_ids])"
   ]
  },
  {
   "cell_type": "code",
   "execution_count": 131,
   "metadata": {},
   "outputs": [],
   "source": [
    "X['insts'] = X['authorships'].map(lambda x: [j for i in x for j in i[1] if j in inst_ids])"
   ]
  },
  {
   "cell_type": "code",
   "execution_count": null,
   "metadata": {},
   "outputs": [],
   "source": []
  },
  {
   "cell_type": "code",
   "execution_count": 123,
   "metadata": {},
   "outputs": [
    {
     "name": "stderr",
     "output_type": "stream",
     "text": [
      "/Users/shreyanasa/miniconda3/envs/anc/lib/python3.10/site-packages/numpy/core/fromnumeric.py:3432: RuntimeWarning: Mean of empty slice.\n",
      "  return _methods._mean(a, axis=axis, dtype=dtype,\n",
      "/Users/shreyanasa/miniconda3/envs/anc/lib/python3.10/site-packages/numpy/core/_methods.py:190: RuntimeWarning: invalid value encountered in double_scalars\n",
      "  ret = ret.dtype.type(ret / rcount)\n",
      "/Users/shreyanasa/miniconda3/envs/anc/lib/python3.10/site-packages/numpy/core/fromnumeric.py:3432: RuntimeWarning: Mean of empty slice.\n",
      "  return _methods._mean(a, axis=axis, dtype=dtype,\n",
      "/Users/shreyanasa/miniconda3/envs/anc/lib/python3.10/site-packages/numpy/core/_methods.py:190: RuntimeWarning: invalid value encountered in double_scalars\n",
      "  ret = ret.dtype.type(ret / rcount)\n"
     ]
    }
   ],
   "source": [
    "X['authors_mean_works'] = X['authors'].map(lambda author_ids : np.mean([data['authors'].loc[author_id, 'works_count'] for author_id in author_ids]))\n",
    "X['authors_mean_citations'] = X['authors'].map(lambda author_ids : np.mean([data['authors'].loc[author_id, 'cited_by_count'] for author_id in author_ids]))"
   ]
  },
  {
   "cell_type": "code",
   "execution_count": 117,
   "metadata": {},
   "outputs": [
    {
     "name": "stderr",
     "output_type": "stream",
     "text": [
      "/Users/shreyanasa/miniconda3/envs/anc/lib/python3.10/site-packages/numpy/core/fromnumeric.py:3432: RuntimeWarning: Mean of empty slice.\n",
      "  return _methods._mean(a, axis=axis, dtype=dtype,\n",
      "/Users/shreyanasa/miniconda3/envs/anc/lib/python3.10/site-packages/numpy/core/_methods.py:190: RuntimeWarning: invalid value encountered in double_scalars\n",
      "  ret = ret.dtype.type(ret / rcount)\n",
      "/Users/shreyanasa/miniconda3/envs/anc/lib/python3.10/site-packages/numpy/core/fromnumeric.py:3432: RuntimeWarning: Mean of empty slice.\n",
      "  return _methods._mean(a, axis=axis, dtype=dtype,\n",
      "/Users/shreyanasa/miniconda3/envs/anc/lib/python3.10/site-packages/numpy/core/_methods.py:190: RuntimeWarning: invalid value encountered in double_scalars\n",
      "  ret = ret.dtype.type(ret / rcount)\n"
     ]
    }
   ],
   "source": [
    "X['insts_mean_works'] = X['insts'].map(lambda inst_ids : np.mean([data['insts'].loc[inst_id, 'works_count'] for inst_id in inst_ids]))\n",
    "X['insts_mean_citations'] = X['insts'].map(lambda inst_ids : np.mean([data['insts'].loc[inst_id, 'cited_by_count'] for inst_id in inst_ids]))"
   ]
  },
  {
   "cell_type": "code",
   "execution_count": 132,
   "metadata": {},
   "outputs": [],
   "source": [
    "X['venue_works'] = X['host_venue'].map(lambda venue_id : data['venues'].loc[venue_id, 'works_count'] if venue_id in venue_ids else 0)\n",
    "X['venue_citations'] = X['host_venue'].map(lambda venue_id : data['venues'].loc[venue_id, 'cited_by_count'] if venue_id in venue_ids else 0)"
   ]
  },
  {
   "cell_type": "code",
   "execution_count": 133,
   "metadata": {},
   "outputs": [
    {
     "data": {
      "text/html": [
       "<div>\n",
       "<style scoped>\n",
       "    .dataframe tbody tr th:only-of-type {\n",
       "        vertical-align: middle;\n",
       "    }\n",
       "\n",
       "    .dataframe tbody tr th {\n",
       "        vertical-align: top;\n",
       "    }\n",
       "\n",
       "    .dataframe thead th {\n",
       "        text-align: right;\n",
       "    }\n",
       "</style>\n",
       "<table border=\"1\" class=\"dataframe\">\n",
       "  <thead>\n",
       "    <tr style=\"text-align: right;\">\n",
       "      <th></th>\n",
       "      <th>publication_date</th>\n",
       "      <th>page_count</th>\n",
       "      <th>title</th>\n",
       "      <th>concepts</th>\n",
       "      <th>abstract</th>\n",
       "      <th>cited_by_count</th>\n",
       "      <th>authorships</th>\n",
       "      <th>host_venue</th>\n",
       "      <th>open_access_is_oa</th>\n",
       "      <th>referenced_works</th>\n",
       "      <th>counts_by_year</th>\n",
       "      <th>publication_month</th>\n",
       "      <th>venue_works</th>\n",
       "      <th>venue_citations</th>\n",
       "      <th>insts</th>\n",
       "      <th>insts_mean_works</th>\n",
       "      <th>insts_mean_citations</th>\n",
       "      <th>authors</th>\n",
       "      <th>authors_mean_works</th>\n",
       "      <th>authors_mean_citations</th>\n",
       "    </tr>\n",
       "    <tr>\n",
       "      <th>id</th>\n",
       "      <th></th>\n",
       "      <th></th>\n",
       "      <th></th>\n",
       "      <th></th>\n",
       "      <th></th>\n",
       "      <th></th>\n",
       "      <th></th>\n",
       "      <th></th>\n",
       "      <th></th>\n",
       "      <th></th>\n",
       "      <th></th>\n",
       "      <th></th>\n",
       "      <th></th>\n",
       "      <th></th>\n",
       "      <th></th>\n",
       "      <th></th>\n",
       "      <th></th>\n",
       "      <th></th>\n",
       "      <th></th>\n",
       "      <th></th>\n",
       "    </tr>\n",
       "  </thead>\n",
       "  <tbody>\n",
       "    <tr>\n",
       "      <th>W2150066425</th>\n",
       "      <td>2012-06-16</td>\n",
       "      <td>-1</td>\n",
       "      <td>Are we ready for autonomous driving? The KITTI...</td>\n",
       "      <td>[[C154945302, 0.7994821], [C5799516, 0.7514366...</td>\n",
       "      <td>Today, visual recognition systems are still ra...</td>\n",
       "      <td>6636</td>\n",
       "      <td>[[A2182886034, [I102335020]], [A2167431718, [I...</td>\n",
       "      <td>V4306417987</td>\n",
       "      <td>False</td>\n",
       "      <td>[W1578985305, W1964814179, W1968799614, W19903...</td>\n",
       "      <td>[[2022, 570], [2021, 1427], [2020, 1363], [201...</td>\n",
       "      <td>6</td>\n",
       "      <td>17289</td>\n",
       "      <td>1459066</td>\n",
       "      <td>[I102335020, I102335020]</td>\n",
       "      <td>85487.0</td>\n",
       "      <td>6948506.0</td>\n",
       "      <td>[A2182886034, A2291154966]</td>\n",
       "      <td>282.500000</td>\n",
       "      <td>21755.500000</td>\n",
       "    </tr>\n",
       "    <tr>\n",
       "      <th>W2158782408</th>\n",
       "      <td>2012-12-24</td>\n",
       "      <td>-1</td>\n",
       "      <td>MuJoCo: A physics engine for model-based control</td>\n",
       "      <td>[[C190390380, 0.9146959], [C169590947, 0.71768...</td>\n",
       "      <td>We describe a new physics engine tailored to m...</td>\n",
       "      <td>2177</td>\n",
       "      <td>[[A2028747364, [I201448701]], [A2086424281, [I...</td>\n",
       "      <td>V4306418941</td>\n",
       "      <td>False</td>\n",
       "      <td>[W154144259, W639693478, W1992116952, W2004116...</td>\n",
       "      <td>[[2022, 155], [2021, 616], [2020, 601], [2019,...</td>\n",
       "      <td>12</td>\n",
       "      <td>19485</td>\n",
       "      <td>295598</td>\n",
       "      <td>[I201448701, I201448701, I201448701]</td>\n",
       "      <td>330243.0</td>\n",
       "      <td>37900809.0</td>\n",
       "      <td>[A2028747364, A2086424281, A158011298]</td>\n",
       "      <td>74.666667</td>\n",
       "      <td>7714.333333</td>\n",
       "    </tr>\n",
       "    <tr>\n",
       "      <th>W2141125852</th>\n",
       "      <td>2012-06-16</td>\n",
       "      <td>-1</td>\n",
       "      <td>Multi-column deep neural networks for image cl...</td>\n",
       "      <td>[[C190502265, 0.8540422], [C41008148, 0.794758...</td>\n",
       "      <td>Traditional methods of computer vision and mac...</td>\n",
       "      <td>1970</td>\n",
       "      <td>[[A1966905718, [I2614128279]], [A2343548174, [...</td>\n",
       "      <td>V4306417987</td>\n",
       "      <td>True</td>\n",
       "      <td>[W1601963269, W1968995181, W1987778624, W20268...</td>\n",
       "      <td>[[2022, 126], [2021, 237], [2020, 269], [2019,...</td>\n",
       "      <td>6</td>\n",
       "      <td>17289</td>\n",
       "      <td>1459066</td>\n",
       "      <td>[I2614128279, I2614128279, I2614128279]</td>\n",
       "      <td>1833.0</td>\n",
       "      <td>229438.0</td>\n",
       "      <td>[A2343548174, A2116333191]</td>\n",
       "      <td>294.500000</td>\n",
       "      <td>44196.500000</td>\n",
       "    </tr>\n",
       "    <tr>\n",
       "      <th>W2021851106</th>\n",
       "      <td>2012-12-24</td>\n",
       "      <td>-1</td>\n",
       "      <td>A benchmark for the evaluation of RGB-D SLAM s...</td>\n",
       "      <td>[[C31972630, 0.78334284], [C154945302, 0.75840...</td>\n",
       "      <td>In this paper, we present a novel benchmark fo...</td>\n",
       "      <td>1888</td>\n",
       "      <td>[[A2973958393, [I62916508]], [A1927103669, [I3...</td>\n",
       "      <td>V4306418941</td>\n",
       "      <td>True</td>\n",
       "      <td>[W1514909517, W1556098723, W1656165940, W19652...</td>\n",
       "      <td>[[2022, 132], [2021, 318], [2020, 326], [2019,...</td>\n",
       "      <td>12</td>\n",
       "      <td>19485</td>\n",
       "      <td>295598</td>\n",
       "      <td>[I62916508, I3133089283, I3133089283, I3133089...</td>\n",
       "      <td>50481.2</td>\n",
       "      <td>3329707.2</td>\n",
       "      <td>[A343811326, A2153496801]</td>\n",
       "      <td>709.000000</td>\n",
       "      <td>25753.000000</td>\n",
       "    </tr>\n",
       "    <tr>\n",
       "      <th>W2100960835</th>\n",
       "      <td>2012-01-08</td>\n",
       "      <td>-1</td>\n",
       "      <td>Fairness through awareness</td>\n",
       "      <td>[[C41008148, 0.59133285], [C95623464, 0.542300...</td>\n",
       "      <td>We study fairness in classification, where ind...</td>\n",
       "      <td>1655</td>\n",
       "      <td>[[A208343995, [I1290206253]], [A2301637896, [I...</td>\n",
       "      <td>V4306418069</td>\n",
       "      <td>True</td>\n",
       "      <td>[W178579835, W632002811, W1599656298, W1873763...</td>\n",
       "      <td>[[2022, 229], [2021, 453], [2020, 353], [2019,...</td>\n",
       "      <td>1</td>\n",
       "      <td>0</td>\n",
       "      <td>0</td>\n",
       "      <td>[I1290206253, I4210085935, I185261750, I129020...</td>\n",
       "      <td>126929.4</td>\n",
       "      <td>10680796.0</td>\n",
       "      <td>[A208343995, A2301637896, A672707272, A1093466...</td>\n",
       "      <td>209.600000</td>\n",
       "      <td>11635.800000</td>\n",
       "    </tr>\n",
       "  </tbody>\n",
       "</table>\n",
       "</div>"
      ],
      "text/plain": [
       "            publication_date page_count  \\\n",
       "id                                        \n",
       "W2150066425       2012-06-16         -1   \n",
       "W2158782408       2012-12-24         -1   \n",
       "W2141125852       2012-06-16         -1   \n",
       "W2021851106       2012-12-24         -1   \n",
       "W2100960835       2012-01-08         -1   \n",
       "\n",
       "                                                         title  \\\n",
       "id                                                               \n",
       "W2150066425  Are we ready for autonomous driving? The KITTI...   \n",
       "W2158782408   MuJoCo: A physics engine for model-based control   \n",
       "W2141125852  Multi-column deep neural networks for image cl...   \n",
       "W2021851106  A benchmark for the evaluation of RGB-D SLAM s...   \n",
       "W2100960835                         Fairness through awareness   \n",
       "\n",
       "                                                      concepts  \\\n",
       "id                                                               \n",
       "W2150066425  [[C154945302, 0.7994821], [C5799516, 0.7514366...   \n",
       "W2158782408  [[C190390380, 0.9146959], [C169590947, 0.71768...   \n",
       "W2141125852  [[C190502265, 0.8540422], [C41008148, 0.794758...   \n",
       "W2021851106  [[C31972630, 0.78334284], [C154945302, 0.75840...   \n",
       "W2100960835  [[C41008148, 0.59133285], [C95623464, 0.542300...   \n",
       "\n",
       "                                                      abstract  \\\n",
       "id                                                               \n",
       "W2150066425  Today, visual recognition systems are still ra...   \n",
       "W2158782408  We describe a new physics engine tailored to m...   \n",
       "W2141125852  Traditional methods of computer vision and mac...   \n",
       "W2021851106  In this paper, we present a novel benchmark fo...   \n",
       "W2100960835  We study fairness in classification, where ind...   \n",
       "\n",
       "             cited_by_count  \\\n",
       "id                            \n",
       "W2150066425            6636   \n",
       "W2158782408            2177   \n",
       "W2141125852            1970   \n",
       "W2021851106            1888   \n",
       "W2100960835            1655   \n",
       "\n",
       "                                                   authorships   host_venue  \\\n",
       "id                                                                            \n",
       "W2150066425  [[A2182886034, [I102335020]], [A2167431718, [I...  V4306417987   \n",
       "W2158782408  [[A2028747364, [I201448701]], [A2086424281, [I...  V4306418941   \n",
       "W2141125852  [[A1966905718, [I2614128279]], [A2343548174, [...  V4306417987   \n",
       "W2021851106  [[A2973958393, [I62916508]], [A1927103669, [I3...  V4306418941   \n",
       "W2100960835  [[A208343995, [I1290206253]], [A2301637896, [I...  V4306418069   \n",
       "\n",
       "             open_access_is_oa  \\\n",
       "id                               \n",
       "W2150066425              False   \n",
       "W2158782408              False   \n",
       "W2141125852               True   \n",
       "W2021851106               True   \n",
       "W2100960835               True   \n",
       "\n",
       "                                              referenced_works  \\\n",
       "id                                                               \n",
       "W2150066425  [W1578985305, W1964814179, W1968799614, W19903...   \n",
       "W2158782408  [W154144259, W639693478, W1992116952, W2004116...   \n",
       "W2141125852  [W1601963269, W1968995181, W1987778624, W20268...   \n",
       "W2021851106  [W1514909517, W1556098723, W1656165940, W19652...   \n",
       "W2100960835  [W178579835, W632002811, W1599656298, W1873763...   \n",
       "\n",
       "                                                counts_by_year  \\\n",
       "id                                                               \n",
       "W2150066425  [[2022, 570], [2021, 1427], [2020, 1363], [201...   \n",
       "W2158782408  [[2022, 155], [2021, 616], [2020, 601], [2019,...   \n",
       "W2141125852  [[2022, 126], [2021, 237], [2020, 269], [2019,...   \n",
       "W2021851106  [[2022, 132], [2021, 318], [2020, 326], [2019,...   \n",
       "W2100960835  [[2022, 229], [2021, 453], [2020, 353], [2019,...   \n",
       "\n",
       "             publication_month  venue_works  venue_citations  \\\n",
       "id                                                             \n",
       "W2150066425                  6        17289          1459066   \n",
       "W2158782408                 12        19485           295598   \n",
       "W2141125852                  6        17289          1459066   \n",
       "W2021851106                 12        19485           295598   \n",
       "W2100960835                  1            0                0   \n",
       "\n",
       "                                                         insts  \\\n",
       "id                                                               \n",
       "W2150066425                           [I102335020, I102335020]   \n",
       "W2158782408               [I201448701, I201448701, I201448701]   \n",
       "W2141125852            [I2614128279, I2614128279, I2614128279]   \n",
       "W2021851106  [I62916508, I3133089283, I3133089283, I3133089...   \n",
       "W2100960835  [I1290206253, I4210085935, I185261750, I129020...   \n",
       "\n",
       "             insts_mean_works  insts_mean_citations  \\\n",
       "id                                                    \n",
       "W2150066425           85487.0             6948506.0   \n",
       "W2158782408          330243.0            37900809.0   \n",
       "W2141125852            1833.0              229438.0   \n",
       "W2021851106           50481.2             3329707.2   \n",
       "W2100960835          126929.4            10680796.0   \n",
       "\n",
       "                                                       authors  \\\n",
       "id                                                               \n",
       "W2150066425                         [A2182886034, A2291154966]   \n",
       "W2158782408             [A2028747364, A2086424281, A158011298]   \n",
       "W2141125852                         [A2343548174, A2116333191]   \n",
       "W2021851106                          [A343811326, A2153496801]   \n",
       "W2100960835  [A208343995, A2301637896, A672707272, A1093466...   \n",
       "\n",
       "             authors_mean_works  authors_mean_citations  \n",
       "id                                                       \n",
       "W2150066425          282.500000            21755.500000  \n",
       "W2158782408           74.666667             7714.333333  \n",
       "W2141125852          294.500000            44196.500000  \n",
       "W2021851106          709.000000            25753.000000  \n",
       "W2100960835          209.600000            11635.800000  "
      ]
     },
     "execution_count": 133,
     "metadata": {},
     "output_type": "execute_result"
    }
   ],
   "source": [
    "X.head()"
   ]
  },
  {
   "cell_type": "code",
   "execution_count": 134,
   "metadata": {},
   "outputs": [
    {
     "name": "stdout",
     "output_type": "stream",
     "text": [
      "<class 'pandas.core.frame.DataFrame'>\n",
      "Index: 128097 entries, W2150066425 to W995713601\n",
      "Data columns (total 20 columns):\n",
      " #   Column                  Non-Null Count   Dtype  \n",
      "---  ------                  --------------   -----  \n",
      " 0   publication_date        128097 non-null  object \n",
      " 1   page_count              128097 non-null  object \n",
      " 2   title                   128097 non-null  object \n",
      " 3   concepts                128097 non-null  object \n",
      " 4   abstract                128097 non-null  object \n",
      " 5   cited_by_count          128097 non-null  int64  \n",
      " 6   authorships             128097 non-null  object \n",
      " 7   host_venue              128097 non-null  object \n",
      " 8   open_access_is_oa       128097 non-null  bool   \n",
      " 9   referenced_works        128097 non-null  object \n",
      " 10  counts_by_year          128097 non-null  object \n",
      " 11  publication_month       128097 non-null  int64  \n",
      " 12  venue_works             128097 non-null  int64  \n",
      " 13  venue_citations         128097 non-null  int64  \n",
      " 14  insts                   128097 non-null  object \n",
      " 15  insts_mean_works        116758 non-null  float64\n",
      " 16  insts_mean_citations    116758 non-null  float64\n",
      " 17  authors                 128097 non-null  object \n",
      " 18  authors_mean_works      112531 non-null  float64\n",
      " 19  authors_mean_citations  112531 non-null  float64\n",
      "dtypes: bool(1), float64(4), int64(4), object(11)\n",
      "memory usage: 23.7+ MB\n"
     ]
    }
   ],
   "source": [
    "X.info()"
   ]
  },
  {
   "cell_type": "code",
   "execution_count": 135,
   "metadata": {},
   "outputs": [
    {
     "data": {
      "text/html": [
       "<div>\n",
       "<style scoped>\n",
       "    .dataframe tbody tr th:only-of-type {\n",
       "        vertical-align: middle;\n",
       "    }\n",
       "\n",
       "    .dataframe tbody tr th {\n",
       "        vertical-align: top;\n",
       "    }\n",
       "\n",
       "    .dataframe thead th {\n",
       "        text-align: right;\n",
       "    }\n",
       "</style>\n",
       "<table border=\"1\" class=\"dataframe\">\n",
       "  <thead>\n",
       "    <tr style=\"text-align: right;\">\n",
       "      <th></th>\n",
       "      <th>cited_by_count</th>\n",
       "      <th>open_access_is_oa</th>\n",
       "      <th>publication_month</th>\n",
       "      <th>venue_works</th>\n",
       "      <th>venue_citations</th>\n",
       "      <th>insts_mean_works</th>\n",
       "      <th>insts_mean_citations</th>\n",
       "      <th>authors_mean_works</th>\n",
       "      <th>authors_mean_citations</th>\n",
       "    </tr>\n",
       "  </thead>\n",
       "  <tbody>\n",
       "    <tr>\n",
       "      <th>cited_by_count</th>\n",
       "      <td>1.000000</td>\n",
       "      <td>0.093667</td>\n",
       "      <td>-0.032664</td>\n",
       "      <td>0.018196</td>\n",
       "      <td>0.156656</td>\n",
       "      <td>0.086823</td>\n",
       "      <td>0.113346</td>\n",
       "      <td>0.035680</td>\n",
       "      <td>0.099836</td>\n",
       "    </tr>\n",
       "    <tr>\n",
       "      <th>open_access_is_oa</th>\n",
       "      <td>0.093667</td>\n",
       "      <td>1.000000</td>\n",
       "      <td>-0.051094</td>\n",
       "      <td>0.280095</td>\n",
       "      <td>0.145855</td>\n",
       "      <td>0.083927</td>\n",
       "      <td>0.123003</td>\n",
       "      <td>0.054708</td>\n",
       "      <td>0.078379</td>\n",
       "    </tr>\n",
       "    <tr>\n",
       "      <th>publication_month</th>\n",
       "      <td>-0.032664</td>\n",
       "      <td>-0.051094</td>\n",
       "      <td>1.000000</td>\n",
       "      <td>-0.050930</td>\n",
       "      <td>-0.097912</td>\n",
       "      <td>-0.015656</td>\n",
       "      <td>-0.030614</td>\n",
       "      <td>0.008234</td>\n",
       "      <td>-0.008246</td>\n",
       "    </tr>\n",
       "    <tr>\n",
       "      <th>venue_works</th>\n",
       "      <td>0.018196</td>\n",
       "      <td>0.280095</td>\n",
       "      <td>-0.050930</td>\n",
       "      <td>1.000000</td>\n",
       "      <td>0.397700</td>\n",
       "      <td>-0.002126</td>\n",
       "      <td>0.019048</td>\n",
       "      <td>0.031869</td>\n",
       "      <td>0.029724</td>\n",
       "    </tr>\n",
       "    <tr>\n",
       "      <th>venue_citations</th>\n",
       "      <td>0.156656</td>\n",
       "      <td>0.145855</td>\n",
       "      <td>-0.097912</td>\n",
       "      <td>0.397700</td>\n",
       "      <td>1.000000</td>\n",
       "      <td>0.118726</td>\n",
       "      <td>0.148036</td>\n",
       "      <td>0.084176</td>\n",
       "      <td>0.127512</td>\n",
       "    </tr>\n",
       "    <tr>\n",
       "      <th>insts_mean_works</th>\n",
       "      <td>0.086823</td>\n",
       "      <td>0.083927</td>\n",
       "      <td>-0.015656</td>\n",
       "      <td>-0.002126</td>\n",
       "      <td>0.118726</td>\n",
       "      <td>1.000000</td>\n",
       "      <td>0.904139</td>\n",
       "      <td>0.150013</td>\n",
       "      <td>0.176444</td>\n",
       "    </tr>\n",
       "    <tr>\n",
       "      <th>insts_mean_citations</th>\n",
       "      <td>0.113346</td>\n",
       "      <td>0.123003</td>\n",
       "      <td>-0.030614</td>\n",
       "      <td>0.019048</td>\n",
       "      <td>0.148036</td>\n",
       "      <td>0.904139</td>\n",
       "      <td>1.000000</td>\n",
       "      <td>0.150311</td>\n",
       "      <td>0.204923</td>\n",
       "    </tr>\n",
       "    <tr>\n",
       "      <th>authors_mean_works</th>\n",
       "      <td>0.035680</td>\n",
       "      <td>0.054708</td>\n",
       "      <td>0.008234</td>\n",
       "      <td>0.031869</td>\n",
       "      <td>0.084176</td>\n",
       "      <td>0.150013</td>\n",
       "      <td>0.150311</td>\n",
       "      <td>1.000000</td>\n",
       "      <td>0.862061</td>\n",
       "    </tr>\n",
       "    <tr>\n",
       "      <th>authors_mean_citations</th>\n",
       "      <td>0.099836</td>\n",
       "      <td>0.078379</td>\n",
       "      <td>-0.008246</td>\n",
       "      <td>0.029724</td>\n",
       "      <td>0.127512</td>\n",
       "      <td>0.176444</td>\n",
       "      <td>0.204923</td>\n",
       "      <td>0.862061</td>\n",
       "      <td>1.000000</td>\n",
       "    </tr>\n",
       "  </tbody>\n",
       "</table>\n",
       "</div>"
      ],
      "text/plain": [
       "                        cited_by_count  open_access_is_oa  publication_month  \\\n",
       "cited_by_count                1.000000           0.093667          -0.032664   \n",
       "open_access_is_oa             0.093667           1.000000          -0.051094   \n",
       "publication_month            -0.032664          -0.051094           1.000000   \n",
       "venue_works                   0.018196           0.280095          -0.050930   \n",
       "venue_citations               0.156656           0.145855          -0.097912   \n",
       "insts_mean_works              0.086823           0.083927          -0.015656   \n",
       "insts_mean_citations          0.113346           0.123003          -0.030614   \n",
       "authors_mean_works            0.035680           0.054708           0.008234   \n",
       "authors_mean_citations        0.099836           0.078379          -0.008246   \n",
       "\n",
       "                        venue_works  venue_citations  insts_mean_works  \\\n",
       "cited_by_count             0.018196         0.156656          0.086823   \n",
       "open_access_is_oa          0.280095         0.145855          0.083927   \n",
       "publication_month         -0.050930        -0.097912         -0.015656   \n",
       "venue_works                1.000000         0.397700         -0.002126   \n",
       "venue_citations            0.397700         1.000000          0.118726   \n",
       "insts_mean_works          -0.002126         0.118726          1.000000   \n",
       "insts_mean_citations       0.019048         0.148036          0.904139   \n",
       "authors_mean_works         0.031869         0.084176          0.150013   \n",
       "authors_mean_citations     0.029724         0.127512          0.176444   \n",
       "\n",
       "                        insts_mean_citations  authors_mean_works  \\\n",
       "cited_by_count                      0.113346            0.035680   \n",
       "open_access_is_oa                   0.123003            0.054708   \n",
       "publication_month                  -0.030614            0.008234   \n",
       "venue_works                         0.019048            0.031869   \n",
       "venue_citations                     0.148036            0.084176   \n",
       "insts_mean_works                    0.904139            0.150013   \n",
       "insts_mean_citations                1.000000            0.150311   \n",
       "authors_mean_works                  0.150311            1.000000   \n",
       "authors_mean_citations              0.204923            0.862061   \n",
       "\n",
       "                        authors_mean_citations  \n",
       "cited_by_count                        0.099836  \n",
       "open_access_is_oa                     0.078379  \n",
       "publication_month                    -0.008246  \n",
       "venue_works                           0.029724  \n",
       "venue_citations                       0.127512  \n",
       "insts_mean_works                      0.176444  \n",
       "insts_mean_citations                  0.204923  \n",
       "authors_mean_works                    0.862061  \n",
       "authors_mean_citations                1.000000  "
      ]
     },
     "execution_count": 135,
     "metadata": {},
     "output_type": "execute_result"
    }
   ],
   "source": [
    "X.corr()"
   ]
  },
  {
   "cell_type": "code",
   "execution_count": null,
   "metadata": {},
   "outputs": [],
   "source": [
    "X.to_csv('./data/input_intermediate1.csv')"
   ]
  },
  {
   "cell_type": "code",
   "execution_count": null,
   "metadata": {},
   "outputs": [],
   "source": []
  },
  {
   "cell_type": "code",
   "execution_count": null,
   "metadata": {},
   "outputs": [],
   "source": []
  }
 ],
 "metadata": {
  "kernelspec": {
   "display_name": "Python 3.10.6 ('anc')",
   "language": "python",
   "name": "python3"
  },
  "language_info": {
   "codemirror_mode": {
    "name": "ipython",
    "version": 3
   },
   "file_extension": ".py",
   "mimetype": "text/x-python",
   "name": "python",
   "nbconvert_exporter": "python",
   "pygments_lexer": "ipython3",
   "version": "3.10.6"
  },
  "orig_nbformat": 4,
  "vscode": {
   "interpreter": {
    "hash": "029bdf1cab8c123dcd5f1a1dcfaee4105fdcd6265dd14f71bc31d231a5f06aa9"
   }
  }
 },
 "nbformat": 4,
 "nbformat_minor": 2
}
