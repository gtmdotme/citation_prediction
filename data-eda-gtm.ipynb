{
 "cells": [
  {
   "cell_type": "markdown",
   "id": "e2f68347-52ca-4197-bd25-1c7c2e91e99c",
   "metadata": {},
   "source": [
    "## Exploratory Data Analysis"
   ]
  },
  {
   "cell_type": "code",
   "execution_count": 1,
   "id": "bdf867e6-99b7-4450-9e25-1f4ab648b89b",
   "metadata": {},
   "outputs": [],
   "source": [
    "import json\n",
    "import pdb\n",
    "import ast\n",
    "from tqdm import tqdm\n",
    "from collections import Counter\n",
    "import requests\n",
    "\n",
    "import numpy as np\n",
    "import pandas as pd\n",
    "\n",
    "from matplotlib import pyplot as plt\n",
    "%matplotlib inline\n",
    "import seaborn as sns\n",
    "\n",
    "# custom\n",
    "from utils import *"
   ]
  },
  {
   "cell_type": "code",
   "execution_count": 10,
   "id": "1156dfba-9a75-4be6-85dc-16a0fdfb23ac",
   "metadata": {},
   "outputs": [],
   "source": [
    "YEAR = 2017\n",
    "\n",
    "works = pd.read_csv(f'./data/{YEAR}/works.{YEAR}.v1.csv')\n",
    "authors = pd.read_csv(f'./data/{YEAR}/authors.{YEAR}.v1.csv')\n",
    "venues = pd.read_csv(f'./data/{YEAR}/venues.{YEAR}.v1.csv')\n",
    "insts = pd.read_csv(f'./data/{YEAR}/insts.{YEAR}.v1.csv')"
   ]
  },
  {
   "cell_type": "code",
   "execution_count": null,
   "id": "23a325a4-6387-4fd1-b772-8f3c92c67a97",
   "metadata": {},
   "outputs": [],
   "source": [
    "works = preprocess_works(works, YEAR, 2022)"
   ]
  },
  {
   "cell_type": "code",
   "execution_count": 11,
   "id": "40eac1a9-f358-4479-b46b-2e64c8daea6d",
   "metadata": {},
   "outputs": [
    {
     "name": "stdout",
     "output_type": "stream",
     "text": [
      "(147235, 15)\n"
     ]
    },
    {
     "data": {
      "text/html": [
       "<div>\n",
       "<style scoped>\n",
       "    .dataframe tbody tr th:only-of-type {\n",
       "        vertical-align: middle;\n",
       "    }\n",
       "\n",
       "    .dataframe tbody tr th {\n",
       "        vertical-align: top;\n",
       "    }\n",
       "\n",
       "    .dataframe thead th {\n",
       "        text-align: right;\n",
       "    }\n",
       "</style>\n",
       "<table border=\"1\" class=\"dataframe\">\n",
       "  <thead>\n",
       "    <tr style=\"text-align: right;\">\n",
       "      <th></th>\n",
       "      <th>id</th>\n",
       "      <th>doi</th>\n",
       "      <th>title</th>\n",
       "      <th>type</th>\n",
       "      <th>publication_date</th>\n",
       "      <th>host_venue</th>\n",
       "      <th>open_access_is_oa</th>\n",
       "      <th>open_access_oa_status</th>\n",
       "      <th>authorships</th>\n",
       "      <th>page_count</th>\n",
       "      <th>cited_by_count</th>\n",
       "      <th>concepts</th>\n",
       "      <th>referenced_works</th>\n",
       "      <th>abstract</th>\n",
       "      <th>counts_by_year</th>\n",
       "    </tr>\n",
       "  </thead>\n",
       "  <tbody>\n",
       "    <tr>\n",
       "      <th>0</th>\n",
       "      <td>W2963446712</td>\n",
       "      <td>https://doi.org/10.1109/cvpr.2017.243</td>\n",
       "      <td>Densely Connected Convolutional Networks</td>\n",
       "      <td>proceedings-article</td>\n",
       "      <td>2017-07-21</td>\n",
       "      <td>V4306400194</td>\n",
       "      <td>True</td>\n",
       "      <td>green</td>\n",
       "      <td>[[A2114281204, [I205783295]], [A2566736780, [I...</td>\n",
       "      <td>-1</td>\n",
       "      <td>16035</td>\n",
       "      <td>[[C41008148, 0.8167397], [C185798385, 0.806655...</td>\n",
       "      <td>[W1677182931, W1903029394, W2097117768, W21020...</td>\n",
       "      <td>Recent work has shown that convolutional netwo...</td>\n",
       "      <td>[[2022, 2671], [2021, 4520], [2020, 4269], [20...</td>\n",
       "    </tr>\n",
       "    <tr>\n",
       "      <th>1</th>\n",
       "      <td>W2963150697</td>\n",
       "      <td>https://doi.org/10.1109/iccv.2017.322</td>\n",
       "      <td>Mask R-CNN</td>\n",
       "      <td>proceedings-article</td>\n",
       "      <td>2017-03-20</td>\n",
       "      <td>V4306402512</td>\n",
       "      <td>False</td>\n",
       "      <td>closed</td>\n",
       "      <td>[[A2164292938, [I4210114444]], [A102740216, [I...</td>\n",
       "      <td>-1</td>\n",
       "      <td>11067</td>\n",
       "      <td>[[C41008148, 0.60304093], [C154945302, 0.41181...</td>\n",
       "      <td>[W1536680647, W1903029394, W1923115158, W19602...</td>\n",
       "      <td>We present a conceptually simple, flexible, an...</td>\n",
       "      <td>[[2022, 1721], [2021, 3369], [2020, 3040], [20...</td>\n",
       "    </tr>\n",
       "    <tr>\n",
       "      <th>2</th>\n",
       "      <td>W2962793481</td>\n",
       "      <td>https://doi.org/10.1109/iccv.2017.244</td>\n",
       "      <td>Unpaired Image-to-Image Translation Using Cycl...</td>\n",
       "      <td>proceedings-article</td>\n",
       "      <td>2017-10-01</td>\n",
       "      <td>V4306419272</td>\n",
       "      <td>True</td>\n",
       "      <td>green</td>\n",
       "      <td>[[A2112232458, [I95457486]], [A2604325483, [I9...</td>\n",
       "      <td>-1</td>\n",
       "      <td>9368</td>\n",
       "      <td>[[C2779757391, 0.87979054], [C115961682, 0.661...</td>\n",
       "      <td>[W845365781, W1530781137, W1896934482, W190302...</td>\n",
       "      <td>Image-to-image translation is a class of visio...</td>\n",
       "      <td>[[2022, 1278], [2021, 2657], [2020, 2620], [20...</td>\n",
       "    </tr>\n",
       "    <tr>\n",
       "      <th>3</th>\n",
       "      <td>W2963073614</td>\n",
       "      <td>https://doi.org/10.1109/cvpr.2017.632</td>\n",
       "      <td>Image-to-Image Translation with Conditional Ad...</td>\n",
       "      <td>proceedings-article</td>\n",
       "      <td>2017-07-21</td>\n",
       "      <td>V4306417987</td>\n",
       "      <td>True</td>\n",
       "      <td>green</td>\n",
       "      <td>[[A2077136294, [I95457486]], [A2112232458, [I9...</td>\n",
       "      <td>-1</td>\n",
       "      <td>9104</td>\n",
       "      <td>[[C2779757391, 0.80383134], [C115961682, 0.735...</td>\n",
       "      <td>[W845365781, W1903029394, W1905829557, W197242...</td>\n",
       "      <td>We investigate conditional adversarial network...</td>\n",
       "      <td>[[2022, 1118], [2021, 2501], [2020, 2440], [20...</td>\n",
       "    </tr>\n",
       "    <tr>\n",
       "      <th>4</th>\n",
       "      <td>W2963351448</td>\n",
       "      <td>https://doi.org/10.1109/iccv.2017.324</td>\n",
       "      <td>Focal Loss for Dense Object Detection</td>\n",
       "      <td>proceedings-article</td>\n",
       "      <td>2017-08-07</td>\n",
       "      <td>V4306400194</td>\n",
       "      <td>True</td>\n",
       "      <td>green</td>\n",
       "      <td>[[A2618037599, [I205783295]], [A2642611022, [I...</td>\n",
       "      <td>-1</td>\n",
       "      <td>7809</td>\n",
       "      <td>[[C94915269, 0.8226304], [C41008148, 0.777915]...</td>\n",
       "      <td>[W1536680647, W1903029394, W2031489346, W20369...</td>\n",
       "      <td>The highest accuracy object detectors to date ...</td>\n",
       "      <td>[[2022, 1549], [2021, 2795], [2020, 2048], [20...</td>\n",
       "    </tr>\n",
       "  </tbody>\n",
       "</table>\n",
       "</div>"
      ],
      "text/plain": [
       "            id                                    doi  \\\n",
       "0  W2963446712  https://doi.org/10.1109/cvpr.2017.243   \n",
       "1  W2963150697  https://doi.org/10.1109/iccv.2017.322   \n",
       "2  W2962793481  https://doi.org/10.1109/iccv.2017.244   \n",
       "3  W2963073614  https://doi.org/10.1109/cvpr.2017.632   \n",
       "4  W2963351448  https://doi.org/10.1109/iccv.2017.324   \n",
       "\n",
       "                                               title                 type  \\\n",
       "0           Densely Connected Convolutional Networks  proceedings-article   \n",
       "1                                         Mask R-CNN  proceedings-article   \n",
       "2  Unpaired Image-to-Image Translation Using Cycl...  proceedings-article   \n",
       "3  Image-to-Image Translation with Conditional Ad...  proceedings-article   \n",
       "4              Focal Loss for Dense Object Detection  proceedings-article   \n",
       "\n",
       "  publication_date   host_venue  open_access_is_oa open_access_oa_status  \\\n",
       "0       2017-07-21  V4306400194               True                 green   \n",
       "1       2017-03-20  V4306402512              False                closed   \n",
       "2       2017-10-01  V4306419272               True                 green   \n",
       "3       2017-07-21  V4306417987               True                 green   \n",
       "4       2017-08-07  V4306400194               True                 green   \n",
       "\n",
       "                                         authorships page_count  \\\n",
       "0  [[A2114281204, [I205783295]], [A2566736780, [I...         -1   \n",
       "1  [[A2164292938, [I4210114444]], [A102740216, [I...         -1   \n",
       "2  [[A2112232458, [I95457486]], [A2604325483, [I9...         -1   \n",
       "3  [[A2077136294, [I95457486]], [A2112232458, [I9...         -1   \n",
       "4  [[A2618037599, [I205783295]], [A2642611022, [I...         -1   \n",
       "\n",
       "   cited_by_count                                           concepts  \\\n",
       "0           16035  [[C41008148, 0.8167397], [C185798385, 0.806655...   \n",
       "1           11067  [[C41008148, 0.60304093], [C154945302, 0.41181...   \n",
       "2            9368  [[C2779757391, 0.87979054], [C115961682, 0.661...   \n",
       "3            9104  [[C2779757391, 0.80383134], [C115961682, 0.735...   \n",
       "4            7809  [[C94915269, 0.8226304], [C41008148, 0.777915]...   \n",
       "\n",
       "                                    referenced_works  \\\n",
       "0  [W1677182931, W1903029394, W2097117768, W21020...   \n",
       "1  [W1536680647, W1903029394, W1923115158, W19602...   \n",
       "2  [W845365781, W1530781137, W1896934482, W190302...   \n",
       "3  [W845365781, W1903029394, W1905829557, W197242...   \n",
       "4  [W1536680647, W1903029394, W2031489346, W20369...   \n",
       "\n",
       "                                            abstract  \\\n",
       "0  Recent work has shown that convolutional netwo...   \n",
       "1  We present a conceptually simple, flexible, an...   \n",
       "2  Image-to-image translation is a class of visio...   \n",
       "3  We investigate conditional adversarial network...   \n",
       "4  The highest accuracy object detectors to date ...   \n",
       "\n",
       "                                      counts_by_year  \n",
       "0  [[2022, 2671], [2021, 4520], [2020, 4269], [20...  \n",
       "1  [[2022, 1721], [2021, 3369], [2020, 3040], [20...  \n",
       "2  [[2022, 1278], [2021, 2657], [2020, 2620], [20...  \n",
       "3  [[2022, 1118], [2021, 2501], [2020, 2440], [20...  \n",
       "4  [[2022, 1549], [2021, 2795], [2020, 2048], [20...  "
      ]
     },
     "execution_count": 11,
     "metadata": {},
     "output_type": "execute_result"
    }
   ],
   "source": [
    "print (works.shape)\n",
    "works.head()"
   ]
  },
  {
   "cell_type": "code",
   "execution_count": 12,
   "id": "49c97bc1-5324-46f3-9673-2972c4e4f18b",
   "metadata": {},
   "outputs": [
    {
     "name": "stdout",
     "output_type": "stream",
     "text": [
      "(1854, 9)\n"
     ]
    },
    {
     "data": {
      "text/html": [
       "<div>\n",
       "<style scoped>\n",
       "    .dataframe tbody tr th:only-of-type {\n",
       "        vertical-align: middle;\n",
       "    }\n",
       "\n",
       "    .dataframe tbody tr th {\n",
       "        vertical-align: top;\n",
       "    }\n",
       "\n",
       "    .dataframe thead th {\n",
       "        text-align: right;\n",
       "    }\n",
       "</style>\n",
       "<table border=\"1\" class=\"dataframe\">\n",
       "  <thead>\n",
       "    <tr style=\"text-align: right;\">\n",
       "      <th></th>\n",
       "      <th>id</th>\n",
       "      <th>display_name</th>\n",
       "      <th>works_count</th>\n",
       "      <th>cited_by_count</th>\n",
       "      <th>is_oa</th>\n",
       "      <th>type</th>\n",
       "      <th>created_date</th>\n",
       "      <th>concepts</th>\n",
       "      <th>counts_by_year</th>\n",
       "    </tr>\n",
       "  </thead>\n",
       "  <tbody>\n",
       "    <tr>\n",
       "      <th>0</th>\n",
       "      <td>V192814187</td>\n",
       "      <td>BMJ</td>\n",
       "      <td>430759</td>\n",
       "      <td>3368207</td>\n",
       "      <td>False</td>\n",
       "      <td>journal</td>\n",
       "      <td>2016-06-24</td>\n",
       "      <td>[['C41008148', 85.2], ['C71924100', 73.9], ['C...</td>\n",
       "      <td>[[2022, 87, 102346], [2021, 475, 134220], [202...</td>\n",
       "    </tr>\n",
       "    <tr>\n",
       "      <th>1</th>\n",
       "      <td>V11296630</td>\n",
       "      <td>Journal of the Acoustical Society of America</td>\n",
       "      <td>162796</td>\n",
       "      <td>1306573</td>\n",
       "      <td>False</td>\n",
       "      <td>journal</td>\n",
       "      <td>2016-06-24</td>\n",
       "      <td>[['C121332964', 91.7], ['C24890656', 81.6], ['...</td>\n",
       "      <td>[[2022, 1441, 45661], [2021, 2355, 63376], [20...</td>\n",
       "    </tr>\n",
       "    <tr>\n",
       "      <th>2</th>\n",
       "      <td>V183492911</td>\n",
       "      <td>Proceedings of SPIE</td>\n",
       "      <td>133134</td>\n",
       "      <td>565093</td>\n",
       "      <td>False</td>\n",
       "      <td>journal</td>\n",
       "      <td>2016-06-24</td>\n",
       "      <td>[['C121332964', 88.0], ['C41008148', 78.7], ['...</td>\n",
       "      <td>[[2022, 107, 24427], [2021, 108, 31122], [2020...</td>\n",
       "    </tr>\n",
       "    <tr>\n",
       "      <th>3</th>\n",
       "      <td>V25650217</td>\n",
       "      <td>Annals of the Rheumatic Diseases</td>\n",
       "      <td>62237</td>\n",
       "      <td>854138</td>\n",
       "      <td>False</td>\n",
       "      <td>journal</td>\n",
       "      <td>2016-06-24</td>\n",
       "      <td>[['C71924100', 99.8], ['C126322002', 91.6], ['...</td>\n",
       "      <td>[[2022, 3732, 52328], [2021, 3153, 66206], [20...</td>\n",
       "    </tr>\n",
       "    <tr>\n",
       "      <th>4</th>\n",
       "      <td>V101949793</td>\n",
       "      <td>Sensors</td>\n",
       "      <td>49531</td>\n",
       "      <td>678177</td>\n",
       "      <td>True</td>\n",
       "      <td>journal</td>\n",
       "      <td>2016-06-24</td>\n",
       "      <td>[['C41008148', 85.4], ['C127413603', 80.2], ['...</td>\n",
       "      <td>[[2022, 8540, 134535], [2021, 8689, 141480], [...</td>\n",
       "    </tr>\n",
       "  </tbody>\n",
       "</table>\n",
       "</div>"
      ],
      "text/plain": [
       "           id                                  display_name  works_count  \\\n",
       "0  V192814187                                           BMJ       430759   \n",
       "1   V11296630  Journal of the Acoustical Society of America       162796   \n",
       "2  V183492911                           Proceedings of SPIE       133134   \n",
       "3   V25650217              Annals of the Rheumatic Diseases        62237   \n",
       "4  V101949793                                       Sensors        49531   \n",
       "\n",
       "   cited_by_count  is_oa     type created_date  \\\n",
       "0         3368207  False  journal   2016-06-24   \n",
       "1         1306573  False  journal   2016-06-24   \n",
       "2          565093  False  journal   2016-06-24   \n",
       "3          854138  False  journal   2016-06-24   \n",
       "4          678177   True  journal   2016-06-24   \n",
       "\n",
       "                                            concepts  \\\n",
       "0  [['C41008148', 85.2], ['C71924100', 73.9], ['C...   \n",
       "1  [['C121332964', 91.7], ['C24890656', 81.6], ['...   \n",
       "2  [['C121332964', 88.0], ['C41008148', 78.7], ['...   \n",
       "3  [['C71924100', 99.8], ['C126322002', 91.6], ['...   \n",
       "4  [['C41008148', 85.4], ['C127413603', 80.2], ['...   \n",
       "\n",
       "                                      counts_by_year  \n",
       "0  [[2022, 87, 102346], [2021, 475, 134220], [202...  \n",
       "1  [[2022, 1441, 45661], [2021, 2355, 63376], [20...  \n",
       "2  [[2022, 107, 24427], [2021, 108, 31122], [2020...  \n",
       "3  [[2022, 3732, 52328], [2021, 3153, 66206], [20...  \n",
       "4  [[2022, 8540, 134535], [2021, 8689, 141480], [...  "
      ]
     },
     "execution_count": 12,
     "metadata": {},
     "output_type": "execute_result"
    }
   ],
   "source": [
    "print (venues.shape)\n",
    "venues.head()"
   ]
  },
  {
   "cell_type": "code",
   "execution_count": 13,
   "id": "4489647a-7e58-4a24-a501-eb82834e490d",
   "metadata": {},
   "outputs": [
    {
     "name": "stdout",
     "output_type": "stream",
     "text": [
      "(13227, 11)\n"
     ]
    },
    {
     "data": {
      "text/html": [
       "<div>\n",
       "<style scoped>\n",
       "    .dataframe tbody tr th:only-of-type {\n",
       "        vertical-align: middle;\n",
       "    }\n",
       "\n",
       "    .dataframe tbody tr th {\n",
       "        vertical-align: top;\n",
       "    }\n",
       "\n",
       "    .dataframe thead th {\n",
       "        text-align: right;\n",
       "    }\n",
       "</style>\n",
       "<table border=\"1\" class=\"dataframe\">\n",
       "  <thead>\n",
       "    <tr style=\"text-align: right;\">\n",
       "      <th></th>\n",
       "      <th>id</th>\n",
       "      <th>display_name</th>\n",
       "      <th>country_code</th>\n",
       "      <th>type</th>\n",
       "      <th>homepage_url</th>\n",
       "      <th>works_count</th>\n",
       "      <th>cited_by_count</th>\n",
       "      <th>associated_institutions</th>\n",
       "      <th>concepts</th>\n",
       "      <th>counts_by_year</th>\n",
       "      <th>created_date</th>\n",
       "    </tr>\n",
       "  </thead>\n",
       "  <tbody>\n",
       "    <tr>\n",
       "      <th>0</th>\n",
       "      <td>I100066346</td>\n",
       "      <td>University of Stuttgart</td>\n",
       "      <td>DE</td>\n",
       "      <td>education</td>\n",
       "      <td>http://www.uni-stuttgart.de/home/index.en.html</td>\n",
       "      <td>61363</td>\n",
       "      <td>2826118</td>\n",
       "      <td>[['I4210113675', 'child']]</td>\n",
       "      <td>[['C121332964', 70.3], ['C127413603', 55.1], [...</td>\n",
       "      <td>[[2022, 1861, 182233], [2021, 2941, 236829], [...</td>\n",
       "      <td>2016-06-24</td>\n",
       "    </tr>\n",
       "    <tr>\n",
       "      <th>1</th>\n",
       "      <td>I100930933</td>\n",
       "      <td>University College Dublin</td>\n",
       "      <td>IE</td>\n",
       "      <td>education</td>\n",
       "      <td>http://www.ucd.ie/</td>\n",
       "      <td>58635</td>\n",
       "      <td>3043553</td>\n",
       "      <td>[['I181231927', 'parent'], ['I2800368556', 're...</td>\n",
       "      <td>[['C86803240', 62.1], ['C71924100', 45.5], ['C...</td>\n",
       "      <td>[[2022, 2955, 282480], [2021, 4228, 342585], [...</td>\n",
       "      <td>2016-06-24</td>\n",
       "    </tr>\n",
       "    <tr>\n",
       "      <th>2</th>\n",
       "      <td>I10091056</td>\n",
       "      <td>Kanazawa University</td>\n",
       "      <td>JP</td>\n",
       "      <td>education</td>\n",
       "      <td>http://www.kanazawa-u.ac.jp/</td>\n",
       "      <td>45658</td>\n",
       "      <td>2648047</td>\n",
       "      <td>[['I4210104330', 'related']]</td>\n",
       "      <td>[['C86803240', 75.7], ['C71924100', 62.6], ['C...</td>\n",
       "      <td>[[2022, 1409, 171862], [2021, 2002, 201524], [...</td>\n",
       "      <td>2016-06-24</td>\n",
       "    </tr>\n",
       "    <tr>\n",
       "      <th>3</th>\n",
       "      <td>I100005738</td>\n",
       "      <td>Brigham Young University</td>\n",
       "      <td>US</td>\n",
       "      <td>education</td>\n",
       "      <td>http://home.byu.edu/home/</td>\n",
       "      <td>45273</td>\n",
       "      <td>2009563</td>\n",
       "      <td>[]</td>\n",
       "      <td>[['C86803240', 46.8], ['C41008148', 45.0], ['C...</td>\n",
       "      <td>[[2022, 1306, 141716], [2021, 1886, 176444], [...</td>\n",
       "      <td>2016-06-24</td>\n",
       "    </tr>\n",
       "    <tr>\n",
       "      <th>4</th>\n",
       "      <td>I100532134</td>\n",
       "      <td>Claude Bernard University Lyon 1</td>\n",
       "      <td>FR</td>\n",
       "      <td>education</td>\n",
       "      <td>http://www.univ-lyon1.fr/home-759942.kjsp</td>\n",
       "      <td>34665</td>\n",
       "      <td>3520320</td>\n",
       "      <td>[['I4210115427', 'child'], ['I4210143168', 'ch...</td>\n",
       "      <td>[['C86803240', 63.7], ['C185592680', 55.0], ['...</td>\n",
       "      <td>[[2022, 1394, 230930], [2021, 2060, 324532], [...</td>\n",
       "      <td>2016-06-24</td>\n",
       "    </tr>\n",
       "  </tbody>\n",
       "</table>\n",
       "</div>"
      ],
      "text/plain": [
       "           id                      display_name country_code       type  \\\n",
       "0  I100066346           University of Stuttgart           DE  education   \n",
       "1  I100930933         University College Dublin           IE  education   \n",
       "2   I10091056               Kanazawa University           JP  education   \n",
       "3  I100005738          Brigham Young University           US  education   \n",
       "4  I100532134  Claude Bernard University Lyon 1           FR  education   \n",
       "\n",
       "                                     homepage_url  works_count  \\\n",
       "0  http://www.uni-stuttgart.de/home/index.en.html        61363   \n",
       "1                              http://www.ucd.ie/        58635   \n",
       "2                    http://www.kanazawa-u.ac.jp/        45658   \n",
       "3                       http://home.byu.edu/home/        45273   \n",
       "4       http://www.univ-lyon1.fr/home-759942.kjsp        34665   \n",
       "\n",
       "   cited_by_count                            associated_institutions  \\\n",
       "0         2826118                         [['I4210113675', 'child']]   \n",
       "1         3043553  [['I181231927', 'parent'], ['I2800368556', 're...   \n",
       "2         2648047                       [['I4210104330', 'related']]   \n",
       "3         2009563                                                 []   \n",
       "4         3520320  [['I4210115427', 'child'], ['I4210143168', 'ch...   \n",
       "\n",
       "                                            concepts  \\\n",
       "0  [['C121332964', 70.3], ['C127413603', 55.1], [...   \n",
       "1  [['C86803240', 62.1], ['C71924100', 45.5], ['C...   \n",
       "2  [['C86803240', 75.7], ['C71924100', 62.6], ['C...   \n",
       "3  [['C86803240', 46.8], ['C41008148', 45.0], ['C...   \n",
       "4  [['C86803240', 63.7], ['C185592680', 55.0], ['...   \n",
       "\n",
       "                                      counts_by_year created_date  \n",
       "0  [[2022, 1861, 182233], [2021, 2941, 236829], [...   2016-06-24  \n",
       "1  [[2022, 2955, 282480], [2021, 4228, 342585], [...   2016-06-24  \n",
       "2  [[2022, 1409, 171862], [2021, 2002, 201524], [...   2016-06-24  \n",
       "3  [[2022, 1306, 141716], [2021, 1886, 176444], [...   2016-06-24  \n",
       "4  [[2022, 1394, 230930], [2021, 2060, 324532], [...   2016-06-24  "
      ]
     },
     "execution_count": 13,
     "metadata": {},
     "output_type": "execute_result"
    }
   ],
   "source": [
    "print (insts.shape)\n",
    "insts.head()"
   ]
  },
  {
   "cell_type": "code",
   "execution_count": 14,
   "id": "b147aefa-cf69-40a9-b96e-72755bb6fcf8",
   "metadata": {},
   "outputs": [
    {
     "data": {
      "text/plain": [
       "<AxesSubplot:xlabel='month', ylabel='count'>"
      ]
     },
     "execution_count": 14,
     "metadata": {},
     "output_type": "execute_result"
    },
    {
     "data": {
      "image/png": "[encoded data removed]",
      "text/plain": [
       "<Figure size 640x480 with 1 Axes>"
      ]
     },
     "metadata": {},
     "output_type": "display_data"
    }
   ],
   "source": [
    "# works by month\n",
    "works['month'] = works['publication_date'].map(lambda x: x.split('-')[1]).astype(int)\n",
    "sns.countplot(data=works, x='month')"
   ]
  },
  {
   "cell_type": "code",
   "execution_count": 15,
   "id": "4a58addd-307a-4a34-8694-566f910b0c31",
   "metadata": {},
   "outputs": [
    {
     "data": {
      "text/plain": [
       "344607"
      ]
     },
     "execution_count": 15,
     "metadata": {},
     "output_type": "execute_result"
    }
   ],
   "source": [
    "# no. of unique authors\n",
    "authors_ = np.unique(flatten(works['authorships'].map(lambda x: [i[0] for i in x]).tolist()))\n",
    "len(authors_)"
   ]
  },
  {
   "cell_type": "code",
   "execution_count": 16,
   "id": "9cc8cb89-9309-4c4f-96b9-08153025d99c",
   "metadata": {},
   "outputs": [
    {
     "data": {
      "text/plain": [
       "13227"
      ]
     },
     "execution_count": 16,
     "metadata": {},
     "output_type": "execute_result"
    }
   ],
   "source": [
    "# institutions\n",
    "insts_ = np.unique(flatten(works['authorships'].map(lambda x: [i[1] for i in x]).tolist(), level=3))\n",
    "len(insts_)"
   ]
  },
  {
   "cell_type": "code",
   "execution_count": 17,
   "id": "d8121407-4ba1-4d61-b692-87ca271da19b",
   "metadata": {},
   "outputs": [
    {
     "data": {
      "text/plain": [
       "1854"
      ]
     },
     "execution_count": 17,
     "metadata": {},
     "output_type": "execute_result"
    }
   ],
   "source": [
    "# host venues\n",
    "venues_ = np.unique(works['host_venue'].tolist())\n",
    "len(venues_)"
   ]
  },
  {
   "cell_type": "code",
   "execution_count": 18,
   "id": "d0587a10-07aa-4ff9-99b3-c6205aa94275",
   "metadata": {},
   "outputs": [
    {
     "data": {
      "text/plain": [
       "[('V183492911', 2712),\n",
       " ('V4306417896', 1567),\n",
       " ('V4306419201', 1365),\n",
       " ('V4306400194', 1280),\n",
       " ('V4306417620', 1089),\n",
       " ('V4306417895', 1079),\n",
       " ('V4306418012', 1076),\n",
       " ('V4306420091', 1065),\n",
       " ('V4306418488', 1024),\n",
       " ('V4306419087', 1023)]"
      ]
     },
     "execution_count": 18,
     "metadata": {},
     "output_type": "execute_result"
    }
   ],
   "source": [
    "# top-k venues\n",
    "Counter(works['host_venue'].tolist()).most_common(10)"
   ]
  },
  {
   "cell_type": "code",
   "execution_count": 19,
   "id": "50a3e2e3-6e01-40b2-a3f2-783c0d9d0413",
   "metadata": {},
   "outputs": [
    {
     "data": {
      "text/plain": [
       "1011252"
      ]
     },
     "execution_count": 19,
     "metadata": {},
     "output_type": "execute_result"
    }
   ],
   "source": [
    "# referenced works\n",
    "ref_works = np.unique([j for i in works['referenced_works'].tolist() for j in i])\n",
    "len(ref_works)"
   ]
  },
  {
   "cell_type": "code",
   "execution_count": 13,
   "id": "37255e4e-f731-4f58-a0df-321484fca67c",
   "metadata": {},
   "outputs": [
    {
     "data": {
      "text/plain": [
       "128097"
      ]
     },
     "execution_count": 13,
     "metadata": {},
     "output_type": "execute_result"
    }
   ],
   "source": [
    "# works in our data\n",
    "works_in_df = works['id'].tolist()\n",
    "len(works_in_df)"
   ]
  },
  {
   "cell_type": "code",
   "execution_count": 14,
   "id": "f2939308-fb91-4650-b02b-a668a6a1902f",
   "metadata": {},
   "outputs": [
    {
     "data": {
      "text/plain": [
       "8896"
      ]
     },
     "execution_count": 14,
     "metadata": {},
     "output_type": "execute_result"
    }
   ],
   "source": [
    "# works in common\n",
    "len(set(works_in_df).intersection(ref_works))"
   ]
  },
  {
   "cell_type": "code",
   "execution_count": 28,
   "id": "44a7ca9f-7431-407a-ab95-19f33842b4de",
   "metadata": {},
   "outputs": [
    {
     "data": {
      "text/html": [
       "<div>\n",
       "<style scoped>\n",
       "    .dataframe tbody tr th:only-of-type {\n",
       "        vertical-align: middle;\n",
       "    }\n",
       "\n",
       "    .dataframe tbody tr th {\n",
       "        vertical-align: top;\n",
       "    }\n",
       "\n",
       "    .dataframe thead th {\n",
       "        text-align: right;\n",
       "    }\n",
       "</style>\n",
       "<table border=\"1\" class=\"dataframe\">\n",
       "  <thead>\n",
       "    <tr style=\"text-align: right;\">\n",
       "      <th></th>\n",
       "      <th>id</th>\n",
       "      <th>doi</th>\n",
       "      <th>title</th>\n",
       "      <th>type</th>\n",
       "      <th>publication_date</th>\n",
       "      <th>host_venue</th>\n",
       "      <th>open_access_is_oa</th>\n",
       "      <th>open_access_oa_status</th>\n",
       "      <th>authorships</th>\n",
       "      <th>page_count</th>\n",
       "      <th>cited_by_count</th>\n",
       "      <th>concepts</th>\n",
       "      <th>referenced_works</th>\n",
       "      <th>abstract</th>\n",
       "      <th>counts_by_year</th>\n",
       "      <th>month</th>\n",
       "      <th>prior_citation_counts</th>\n",
       "    </tr>\n",
       "  </thead>\n",
       "  <tbody>\n",
       "    <tr>\n",
       "      <th>0</th>\n",
       "      <td>W2963446712</td>\n",
       "      <td>https://doi.org/10.1109/cvpr.2017.243</td>\n",
       "      <td>Densely Connected Convolutional Networks</td>\n",
       "      <td>proceedings-article</td>\n",
       "      <td>2017-07-21</td>\n",
       "      <td>V4306400194</td>\n",
       "      <td>True</td>\n",
       "      <td>green</td>\n",
       "      <td>[[A2114281204, [I205783295]], [A2566736780, [I...</td>\n",
       "      <td>-1</td>\n",
       "      <td>16035</td>\n",
       "      <td>[[C41008148, 0.8167397], [C185798385, 0.806655...</td>\n",
       "      <td>[W1677182931, W1903029394, W2097117768, W21020...</td>\n",
       "      <td>Recent work has shown that convolutional netwo...</td>\n",
       "      <td>[[2022, 2671], [2021, 4520], [2020, 4269], [20...</td>\n",
       "      <td>7</td>\n",
       "      <td>8.0</td>\n",
       "    </tr>\n",
       "    <tr>\n",
       "      <th>1</th>\n",
       "      <td>W2963150697</td>\n",
       "      <td>https://doi.org/10.1109/iccv.2017.322</td>\n",
       "      <td>Mask R-CNN</td>\n",
       "      <td>proceedings-article</td>\n",
       "      <td>2017-03-20</td>\n",
       "      <td>V4306402512</td>\n",
       "      <td>False</td>\n",
       "      <td>closed</td>\n",
       "      <td>[[A2164292938, [I4210114444]], [A102740216, [I...</td>\n",
       "      <td>-1</td>\n",
       "      <td>11067</td>\n",
       "      <td>[[C41008148, 0.60304093], [C154945302, 0.41181...</td>\n",
       "      <td>[W1536680647, W1903029394, W1923115158, W19602...</td>\n",
       "      <td>We present a conceptually simple, flexible, an...</td>\n",
       "      <td>[[2022, 1721], [2021, 3369], [2020, 3040], [20...</td>\n",
       "      <td>3</td>\n",
       "      <td>0.0</td>\n",
       "    </tr>\n",
       "    <tr>\n",
       "      <th>2</th>\n",
       "      <td>W2962793481</td>\n",
       "      <td>https://doi.org/10.1109/iccv.2017.244</td>\n",
       "      <td>Unpaired Image-to-Image Translation Using Cycl...</td>\n",
       "      <td>proceedings-article</td>\n",
       "      <td>2017-10-01</td>\n",
       "      <td>V4306419272</td>\n",
       "      <td>True</td>\n",
       "      <td>green</td>\n",
       "      <td>[[A2112232458, [I95457486]], [A2604325483, [I9...</td>\n",
       "      <td>-1</td>\n",
       "      <td>9368</td>\n",
       "      <td>[[C2779757391, 0.87979054], [C115961682, 0.661...</td>\n",
       "      <td>[W845365781, W1530781137, W1896934482, W190302...</td>\n",
       "      <td>Image-to-image translation is a class of visio...</td>\n",
       "      <td>[[2022, 1278], [2021, 2657], [2020, 2620], [20...</td>\n",
       "      <td>10</td>\n",
       "      <td>2.0</td>\n",
       "    </tr>\n",
       "    <tr>\n",
       "      <th>3</th>\n",
       "      <td>W2963073614</td>\n",
       "      <td>https://doi.org/10.1109/cvpr.2017.632</td>\n",
       "      <td>Image-to-Image Translation with Conditional Ad...</td>\n",
       "      <td>proceedings-article</td>\n",
       "      <td>2017-07-21</td>\n",
       "      <td>V4306417987</td>\n",
       "      <td>True</td>\n",
       "      <td>green</td>\n",
       "      <td>[[A2077136294, [I95457486]], [A2112232458, [I9...</td>\n",
       "      <td>-1</td>\n",
       "      <td>9104</td>\n",
       "      <td>[[C2779757391, 0.80383134], [C115961682, 0.735...</td>\n",
       "      <td>[W845365781, W1903029394, W1905829557, W197242...</td>\n",
       "      <td>We investigate conditional adversarial network...</td>\n",
       "      <td>[[2022, 1118], [2021, 2501], [2020, 2440], [20...</td>\n",
       "      <td>7</td>\n",
       "      <td>1.0</td>\n",
       "    </tr>\n",
       "    <tr>\n",
       "      <th>4</th>\n",
       "      <td>W2963351448</td>\n",
       "      <td>https://doi.org/10.1109/iccv.2017.324</td>\n",
       "      <td>Focal Loss for Dense Object Detection</td>\n",
       "      <td>proceedings-article</td>\n",
       "      <td>2017-08-07</td>\n",
       "      <td>V4306400194</td>\n",
       "      <td>True</td>\n",
       "      <td>green</td>\n",
       "      <td>[[A2618037599, [I205783295]], [A2642611022, [I...</td>\n",
       "      <td>-1</td>\n",
       "      <td>7809</td>\n",
       "      <td>[[C94915269, 0.8226304], [C41008148, 0.777915]...</td>\n",
       "      <td>[W1536680647, W1903029394, W2031489346, W20369...</td>\n",
       "      <td>The highest accuracy object detectors to date ...</td>\n",
       "      <td>[[2022, 1549], [2021, 2795], [2020, 2048], [20...</td>\n",
       "      <td>8</td>\n",
       "      <td>1.0</td>\n",
       "    </tr>\n",
       "  </tbody>\n",
       "</table>\n",
       "</div>"
      ],
      "text/plain": [
       "            id                                    doi  \\\n",
       "0  W2963446712  https://doi.org/10.1109/cvpr.2017.243   \n",
       "1  W2963150697  https://doi.org/10.1109/iccv.2017.322   \n",
       "2  W2962793481  https://doi.org/10.1109/iccv.2017.244   \n",
       "3  W2963073614  https://doi.org/10.1109/cvpr.2017.632   \n",
       "4  W2963351448  https://doi.org/10.1109/iccv.2017.324   \n",
       "\n",
       "                                               title                 type  \\\n",
       "0           Densely Connected Convolutional Networks  proceedings-article   \n",
       "1                                         Mask R-CNN  proceedings-article   \n",
       "2  Unpaired Image-to-Image Translation Using Cycl...  proceedings-article   \n",
       "3  Image-to-Image Translation with Conditional Ad...  proceedings-article   \n",
       "4              Focal Loss for Dense Object Detection  proceedings-article   \n",
       "\n",
       "  publication_date   host_venue  open_access_is_oa open_access_oa_status  \\\n",
       "0       2017-07-21  V4306400194               True                 green   \n",
       "1       2017-03-20  V4306402512              False                closed   \n",
       "2       2017-10-01  V4306419272               True                 green   \n",
       "3       2017-07-21  V4306417987               True                 green   \n",
       "4       2017-08-07  V4306400194               True                 green   \n",
       "\n",
       "                                         authorships page_count  \\\n",
       "0  [[A2114281204, [I205783295]], [A2566736780, [I...         -1   \n",
       "1  [[A2164292938, [I4210114444]], [A102740216, [I...         -1   \n",
       "2  [[A2112232458, [I95457486]], [A2604325483, [I9...         -1   \n",
       "3  [[A2077136294, [I95457486]], [A2112232458, [I9...         -1   \n",
       "4  [[A2618037599, [I205783295]], [A2642611022, [I...         -1   \n",
       "\n",
       "   cited_by_count                                           concepts  \\\n",
       "0           16035  [[C41008148, 0.8167397], [C185798385, 0.806655...   \n",
       "1           11067  [[C41008148, 0.60304093], [C154945302, 0.41181...   \n",
       "2            9368  [[C2779757391, 0.87979054], [C115961682, 0.661...   \n",
       "3            9104  [[C2779757391, 0.80383134], [C115961682, 0.735...   \n",
       "4            7809  [[C94915269, 0.8226304], [C41008148, 0.777915]...   \n",
       "\n",
       "                                    referenced_works  \\\n",
       "0  [W1677182931, W1903029394, W2097117768, W21020...   \n",
       "1  [W1536680647, W1903029394, W1923115158, W19602...   \n",
       "2  [W845365781, W1530781137, W1896934482, W190302...   \n",
       "3  [W845365781, W1903029394, W1905829557, W197242...   \n",
       "4  [W1536680647, W1903029394, W2031489346, W20369...   \n",
       "\n",
       "                                            abstract  \\\n",
       "0  Recent work has shown that convolutional netwo...   \n",
       "1  We present a conceptually simple, flexible, an...   \n",
       "2  Image-to-image translation is a class of visio...   \n",
       "3  We investigate conditional adversarial network...   \n",
       "4  The highest accuracy object detectors to date ...   \n",
       "\n",
       "                                      counts_by_year  month  \\\n",
       "0  [[2022, 2671], [2021, 4520], [2020, 4269], [20...      7   \n",
       "1  [[2022, 1721], [2021, 3369], [2020, 3040], [20...      3   \n",
       "2  [[2022, 1278], [2021, 2657], [2020, 2620], [20...     10   \n",
       "3  [[2022, 1118], [2021, 2501], [2020, 2440], [20...      7   \n",
       "4  [[2022, 1549], [2021, 2795], [2020, 2048], [20...      8   \n",
       "\n",
       "   prior_citation_counts  \n",
       "0                    8.0  \n",
       "1                    0.0  \n",
       "2                    2.0  \n",
       "3                    1.0  \n",
       "4                    1.0  "
      ]
     },
     "execution_count": 28,
     "metadata": {},
     "output_type": "execute_result"
    }
   ],
   "source": [
    "works.head()"
   ]
  },
  {
   "cell_type": "code",
   "execution_count": 25,
   "id": "0a80cc9d-855d-4c18-ba58-a89a2fd69fa1",
   "metadata": {},
   "outputs": [],
   "source": [
    "## sanity checks in data\n",
    "\n",
    "# 1. do papers have citations prior to publishing?\n",
    "works['prior_citation_counts'] = works['counts_by_year'].map(\n",
    "    lambda x: np.sum([item[1] for item in x if item[0] < YEAR])\n",
    ")"
   ]
  },
  {
   "cell_type": "code",
   "execution_count": 27,
   "id": "6038dbd7-8aec-4923-892e-5c655266daa8",
   "metadata": {},
   "outputs": [
    {
     "data": {
      "text/plain": [
       "0.0     146381\n",
       "1.0        706\n",
       "2.0         96\n",
       "3.0         21\n",
       "4.0         11\n",
       "5.0          5\n",
       "6.0          4\n",
       "8.0          2\n",
       "7.0          2\n",
       "11.0         1\n",
       "13.0         1\n",
       "70.0         1\n",
       "12.0         1\n",
       "19.0         1\n",
       "23.0         1\n",
       "17.0         1\n",
       "Name: prior_citation_counts, dtype: int64"
      ]
     },
     "execution_count": 27,
     "metadata": {},
     "output_type": "execute_result"
    }
   ],
   "source": [
    "works['prior_citation_counts'].value_counts()"
   ]
  },
  {
   "cell_type": "code",
   "execution_count": 32,
   "id": "25ce08bb-87d6-4503-abab-49b50c5d732c",
   "metadata": {},
   "outputs": [
    {
     "data": {
      "text/plain": [
       "count      854.000000\n",
       "mean       182.028103\n",
       "std        895.963668\n",
       "min          1.000000\n",
       "25%          6.000000\n",
       "50%         20.000000\n",
       "75%         66.000000\n",
       "max      16035.000000\n",
       "Name: cited_by_count, dtype: float64"
      ]
     },
     "execution_count": 32,
     "metadata": {},
     "output_type": "execute_result"
    }
   ],
   "source": [
    "works[works['prior_citation_counts']>0]['cited_by_count'].describe()"
   ]
  },
  {
   "cell_type": "code",
   "execution_count": null,
   "id": "f0d7b9ac-818c-441d-b9d2-d8da10841393",
   "metadata": {},
   "outputs": [],
   "source": []
  },
  {
   "cell_type": "code",
   "execution_count": 102,
   "id": "bd573858-e50f-44ab-99b1-40c46b2a2f12",
   "metadata": {},
   "outputs": [],
   "source": [
    "def preprocess_counts_by_year(counts_by_year, from_publication_year, to_current_year):\n",
    "    citations = [0]*(to_current_year - from_publication_year + 1)\n",
    "    counts_by_year_after = [item for item in counts_by_year if item[0] >= from_publication_year]\n",
    "    for year_i, cc_i in counts_by_year_after:\n",
    "        citations[year_i-from_publication_year] = cc_i\n",
    "    return citations    \n",
    "    \n",
    "works[f'cc_from{YEAR}_to{2022}'] = works['counts_by_year'].map(\n",
    "    lambda x: preprocess_counts_by_year(x, YEAR, 2022)\n",
    ")"
   ]
  },
  {
   "cell_type": "code",
   "execution_count": 105,
   "id": "ad753c8b-7bb6-4af0-b837-a8ce8d942067",
   "metadata": {},
   "outputs": [
    {
     "data": {
      "text/plain": [
       "(145694, 35)"
      ]
     },
     "execution_count": 105,
     "metadata": {},
     "output_type": "execute_result"
    }
   ],
   "source": [
    "works[works[f'cc_from{YEAR}_to{2022}'].map(sum) == works['cited_by_count']].shape"
   ]
  },
  {
   "cell_type": "code",
   "execution_count": 107,
   "id": "2b4da02d-07d6-4480-a1a5-128cb3267a7a",
   "metadata": {},
   "outputs": [
    {
     "data": {
      "text/html": [
       "<div>\n",
       "<style scoped>\n",
       "    .dataframe tbody tr th:only-of-type {\n",
       "        vertical-align: middle;\n",
       "    }\n",
       "\n",
       "    .dataframe tbody tr th {\n",
       "        vertical-align: top;\n",
       "    }\n",
       "\n",
       "    .dataframe thead th {\n",
       "        text-align: right;\n",
       "    }\n",
       "</style>\n",
       "<table border=\"1\" class=\"dataframe\">\n",
       "  <thead>\n",
       "    <tr style=\"text-align: right;\">\n",
       "      <th></th>\n",
       "      <th>id</th>\n",
       "      <th>doi</th>\n",
       "      <th>title</th>\n",
       "      <th>type</th>\n",
       "      <th>publication_date</th>\n",
       "      <th>host_venue</th>\n",
       "      <th>open_access_is_oa</th>\n",
       "      <th>open_access_oa_status</th>\n",
       "      <th>authorships</th>\n",
       "      <th>page_count</th>\n",
       "      <th>...</th>\n",
       "      <th>citations_2021</th>\n",
       "      <th>citations_2022</th>\n",
       "      <th>normalized_citation_2017</th>\n",
       "      <th>normalized_citation_2018</th>\n",
       "      <th>normalized_citation_2019</th>\n",
       "      <th>normalized_citation_2020</th>\n",
       "      <th>normalized_citation_2021</th>\n",
       "      <th>normalized_citation_2022</th>\n",
       "      <th>cc_from{YEAR}_to{2022}</th>\n",
       "      <th>cc_from2017_to2022</th>\n",
       "    </tr>\n",
       "  </thead>\n",
       "  <tbody>\n",
       "    <tr>\n",
       "      <th>29</th>\n",
       "      <td>W2555618208</td>\n",
       "      <td>https://doi.org/10.1109/cvpr.2017.691</td>\n",
       "      <td>Multi-view 3D Object Detection Network for Aut...</td>\n",
       "      <td>proceedings-article</td>\n",
       "      <td>2017-07-21</td>\n",
       "      <td>V4306417987</td>\n",
       "      <td>True</td>\n",
       "      <td>green</td>\n",
       "      <td>[[A2119051707, [I99065089]], [A2151001937, [I9...</td>\n",
       "      <td>-1</td>\n",
       "      <td>...</td>\n",
       "      <td>1237</td>\n",
       "      <td>1409</td>\n",
       "      <td>0.009226</td>\n",
       "      <td>0.077360</td>\n",
       "      <td>0.218595</td>\n",
       "      <td>0.295245</td>\n",
       "      <td>0.277502</td>\n",
       "      <td>0.122072</td>\n",
       "      <td>[13, 109, 308, 416, 391, 172]</td>\n",
       "      <td>[13, 109, 308, 416, 391, 172]</td>\n",
       "    </tr>\n",
       "    <tr>\n",
       "      <th>33</th>\n",
       "      <td>W2557641257</td>\n",
       "      <td>https://doi.org/10.1109/cvpr.2017.733</td>\n",
       "      <td>ECO: Efficient Convolution Operators for Tracking</td>\n",
       "      <td>proceedings-article</td>\n",
       "      <td>2017-07-21</td>\n",
       "      <td>V4306417987</td>\n",
       "      <td>True</td>\n",
       "      <td>green</td>\n",
       "      <td>[[A260882311, [I102134673]], [A2557978175, [I1...</td>\n",
       "      <td>-1</td>\n",
       "      <td>...</td>\n",
       "      <td>1111</td>\n",
       "      <td>1322</td>\n",
       "      <td>0.006808</td>\n",
       "      <td>0.100605</td>\n",
       "      <td>0.229198</td>\n",
       "      <td>0.243570</td>\n",
       "      <td>0.260212</td>\n",
       "      <td>0.159607</td>\n",
       "      <td>[9, 133, 303, 322, 344, 211]</td>\n",
       "      <td>[9, 133, 303, 322, 344, 211]</td>\n",
       "    </tr>\n",
       "    <tr>\n",
       "      <th>34</th>\n",
       "      <td>W2963709863</td>\n",
       "      <td>https://doi.org/10.1109/cvpr.2017.241</td>\n",
       "      <td>Learning from Simulated and Unsupervised Image...</td>\n",
       "      <td>proceedings-article</td>\n",
       "      <td>2017-07-21</td>\n",
       "      <td>V4306417987</td>\n",
       "      <td>True</td>\n",
       "      <td>green</td>\n",
       "      <td>[[A2183241032, [I1311269955]], [A2798413642, [...</td>\n",
       "      <td>-1</td>\n",
       "      <td>...</td>\n",
       "      <td>1205</td>\n",
       "      <td>1277</td>\n",
       "      <td>0.043070</td>\n",
       "      <td>0.196554</td>\n",
       "      <td>0.278778</td>\n",
       "      <td>0.235709</td>\n",
       "      <td>0.189507</td>\n",
       "      <td>0.056382</td>\n",
       "      <td>[55, 251, 356, 301, 242, 72]</td>\n",
       "      <td>[55, 251, 356, 301, 242, 72]</td>\n",
       "    </tr>\n",
       "    <tr>\n",
       "      <th>45</th>\n",
       "      <td>W2594519801</td>\n",
       "      <td>https://doi.org/10.1109/cvpr.2017.261</td>\n",
       "      <td>ScanNet: Richly-Annotated 3D Reconstructions o...</td>\n",
       "      <td>proceedings-article</td>\n",
       "      <td>2017-07-21</td>\n",
       "      <td>V4306417987</td>\n",
       "      <td>True</td>\n",
       "      <td>green</td>\n",
       "      <td>[[A2158018495, [I97018004]], [A2111957820, [I2...</td>\n",
       "      <td>-1</td>\n",
       "      <td>...</td>\n",
       "      <td>1014</td>\n",
       "      <td>1116</td>\n",
       "      <td>0.010753</td>\n",
       "      <td>0.068100</td>\n",
       "      <td>0.202509</td>\n",
       "      <td>0.288530</td>\n",
       "      <td>0.338710</td>\n",
       "      <td>0.091398</td>\n",
       "      <td>[12, 76, 226, 322, 378, 102]</td>\n",
       "      <td>[12, 76, 226, 322, 378, 102]</td>\n",
       "    </tr>\n",
       "    <tr>\n",
       "      <th>49</th>\n",
       "      <td>W2561715562</td>\n",
       "      <td>https://doi.org/10.1109/cvpr.2017.215</td>\n",
       "      <td>CLEVR: A Diagnostic Dataset for Compositional ...</td>\n",
       "      <td>proceedings-article</td>\n",
       "      <td>2017-07-01</td>\n",
       "      <td>V4306417987</td>\n",
       "      <td>True</td>\n",
       "      <td>green</td>\n",
       "      <td>[[A2345205178, [I97018004]], [A1988254826, [I2...</td>\n",
       "      <td>-1</td>\n",
       "      <td>...</td>\n",
       "      <td>1008</td>\n",
       "      <td>1085</td>\n",
       "      <td>0.035023</td>\n",
       "      <td>0.134562</td>\n",
       "      <td>0.213825</td>\n",
       "      <td>0.257143</td>\n",
       "      <td>0.288479</td>\n",
       "      <td>0.070968</td>\n",
       "      <td>[38, 146, 232, 279, 313, 77]</td>\n",
       "      <td>[38, 146, 232, 279, 313, 77]</td>\n",
       "    </tr>\n",
       "  </tbody>\n",
       "</table>\n",
       "<p>5 rows × 35 columns</p>\n",
       "</div>"
      ],
      "text/plain": [
       "             id                                    doi  \\\n",
       "29  W2555618208  https://doi.org/10.1109/cvpr.2017.691   \n",
       "33  W2557641257  https://doi.org/10.1109/cvpr.2017.733   \n",
       "34  W2963709863  https://doi.org/10.1109/cvpr.2017.241   \n",
       "45  W2594519801  https://doi.org/10.1109/cvpr.2017.261   \n",
       "49  W2561715562  https://doi.org/10.1109/cvpr.2017.215   \n",
       "\n",
       "                                                title                 type  \\\n",
       "29  Multi-view 3D Object Detection Network for Aut...  proceedings-article   \n",
       "33  ECO: Efficient Convolution Operators for Tracking  proceedings-article   \n",
       "34  Learning from Simulated and Unsupervised Image...  proceedings-article   \n",
       "45  ScanNet: Richly-Annotated 3D Reconstructions o...  proceedings-article   \n",
       "49  CLEVR: A Diagnostic Dataset for Compositional ...  proceedings-article   \n",
       "\n",
       "   publication_date   host_venue  open_access_is_oa open_access_oa_status  \\\n",
       "29       2017-07-21  V4306417987               True                 green   \n",
       "33       2017-07-21  V4306417987               True                 green   \n",
       "34       2017-07-21  V4306417987               True                 green   \n",
       "45       2017-07-21  V4306417987               True                 green   \n",
       "49       2017-07-01  V4306417987               True                 green   \n",
       "\n",
       "                                          authorships page_count  ...  \\\n",
       "29  [[A2119051707, [I99065089]], [A2151001937, [I9...         -1  ...   \n",
       "33  [[A260882311, [I102134673]], [A2557978175, [I1...         -1  ...   \n",
       "34  [[A2183241032, [I1311269955]], [A2798413642, [...         -1  ...   \n",
       "45  [[A2158018495, [I97018004]], [A2111957820, [I2...         -1  ...   \n",
       "49  [[A2345205178, [I97018004]], [A1988254826, [I2...         -1  ...   \n",
       "\n",
       "    citations_2021 citations_2022 normalized_citation_2017  \\\n",
       "29            1237           1409                 0.009226   \n",
       "33            1111           1322                 0.006808   \n",
       "34            1205           1277                 0.043070   \n",
       "45            1014           1116                 0.010753   \n",
       "49            1008           1085                 0.035023   \n",
       "\n",
       "   normalized_citation_2018 normalized_citation_2019  \\\n",
       "29                 0.077360                 0.218595   \n",
       "33                 0.100605                 0.229198   \n",
       "34                 0.196554                 0.278778   \n",
       "45                 0.068100                 0.202509   \n",
       "49                 0.134562                 0.213825   \n",
       "\n",
       "    normalized_citation_2020  normalized_citation_2021  \\\n",
       "29                  0.295245                  0.277502   \n",
       "33                  0.243570                  0.260212   \n",
       "34                  0.235709                  0.189507   \n",
       "45                  0.288530                  0.338710   \n",
       "49                  0.257143                  0.288479   \n",
       "\n",
       "   normalized_citation_2022         cc_from{YEAR}_to{2022}  \\\n",
       "29                 0.122072  [13, 109, 308, 416, 391, 172]   \n",
       "33                 0.159607   [9, 133, 303, 322, 344, 211]   \n",
       "34                 0.056382   [55, 251, 356, 301, 242, 72]   \n",
       "45                 0.091398   [12, 76, 226, 322, 378, 102]   \n",
       "49                 0.070968   [38, 146, 232, 279, 313, 77]   \n",
       "\n",
       "               cc_from2017_to2022  \n",
       "29  [13, 109, 308, 416, 391, 172]  \n",
       "33   [9, 133, 303, 322, 344, 211]  \n",
       "34   [55, 251, 356, 301, 242, 72]  \n",
       "45   [12, 76, 226, 322, 378, 102]  \n",
       "49   [38, 146, 232, 279, 313, 77]  \n",
       "\n",
       "[5 rows x 35 columns]"
      ]
     },
     "execution_count": 107,
     "metadata": {},
     "output_type": "execute_result"
    }
   ],
   "source": [
    "works[works[f'cc_from{YEAR}_to{2022}'].map(sum) == works['cited_by_count']].head()"
   ]
  },
  {
   "cell_type": "code",
   "execution_count": null,
   "id": "556ee00c-2d39-4244-b269-fc18c9d5abe8",
   "metadata": {},
   "outputs": [],
   "source": []
  },
  {
   "cell_type": "code",
   "execution_count": 92,
   "id": "24e87dcc-6fc8-4d88-ad84-26c919237102",
   "metadata": {},
   "outputs": [
    {
     "data": {
      "text/plain": [
       "(147235, 35)"
      ]
     },
     "execution_count": 92,
     "metadata": {},
     "output_type": "execute_result"
    }
   ],
   "source": [
    "works.shape"
   ]
  },
  {
   "cell_type": "code",
   "execution_count": 33,
   "id": "40a8c1e1-3903-4a01-96c7-a97a1a3cc9cc",
   "metadata": {},
   "outputs": [],
   "source": [
    "# 2. years of data before/after publishishing\n",
    "works['years_prior'] = works['counts_by_year'].map(\n",
    "    lambda x: [item[0] for item in x if item[0] < YEAR]\n",
    ")\n",
    "\n",
    "works['years_after'] = works['counts_by_year'].map(\n",
    "    lambda x: [item[0] for item in x if item[0] >= YEAR]\n",
    ")\n",
    "\n",
    "works['citations_prior'] = works['counts_by_year'].map(\n",
    "    lambda x: [item[1] for item in x if item[0] < YEAR]\n",
    ")\n",
    "\n",
    "works['citations_after'] = works['counts_by_year'].map(\n",
    "    lambda x: [item[1] for item in x if item[0] >= YEAR]\n",
    ")"
   ]
  },
  {
   "cell_type": "code",
   "execution_count": 35,
   "id": "cff1b25a-950d-420a-a599-5b5018ffba7a",
   "metadata": {},
   "outputs": [
    {
     "data": {
      "text/plain": [
       "(854, 21)"
      ]
     },
     "execution_count": 35,
     "metadata": {},
     "output_type": "execute_result"
    }
   ],
   "source": [
    "works[works['years_prior'].map(len) > 0].shape"
   ]
  },
  {
   "cell_type": "code",
   "execution_count": 37,
   "id": "70617946-d229-4b01-90c8-b92a6ea88117",
   "metadata": {},
   "outputs": [
    {
     "data": {
      "text/plain": [
       "count    147235.000000\n",
       "mean          1.960329\n",
       "std           1.802551\n",
       "min           0.000000\n",
       "25%           0.000000\n",
       "50%           2.000000\n",
       "75%           3.000000\n",
       "max           6.000000\n",
       "Name: years_after, dtype: float64"
      ]
     },
     "execution_count": 37,
     "metadata": {},
     "output_type": "execute_result"
    }
   ],
   "source": [
    "# works[ > 0].shape\n",
    "works['years_after'].map(len).describe()"
   ]
  },
  {
   "cell_type": "code",
   "execution_count": 51,
   "id": "fb27c2f1-83dc-4d87-803d-380d088fb6bc",
   "metadata": {},
   "outputs": [],
   "source": [
    "def find_citation(counts_by_year, year_i, year_0):\n",
    "    result = [item[1] for item in counts_by_year if item[0] <= year_i and item[0] >= year_0]\n",
    "    if len(result):\n",
    "        return np.sum(result)\n",
    "    else:\n",
    "        return 0\n",
    "\n",
    "for year_i in [2017, 2018, 2019, 2020, 2021, 2022]:\n",
    "    works[f'citations_{year_i}'] = works['counts_by_year'].map(\n",
    "        lambda x: find_citation(x, year_i, YEAR)\n",
    "    )"
   ]
  },
  {
   "cell_type": "code",
   "execution_count": 52,
   "id": "93691337-1551-47dd-94c7-8a67ec2287b4",
   "metadata": {},
   "outputs": [
    {
     "data": {
      "text/plain": [
       "count    147235.000000\n",
       "mean          7.457296\n",
       "std          81.308274\n",
       "min           0.000000\n",
       "25%           0.000000\n",
       "50%           2.000000\n",
       "75%           5.000000\n",
       "max       15995.000000\n",
       "Name: citations_2022, dtype: float64"
      ]
     },
     "execution_count": 52,
     "metadata": {},
     "output_type": "execute_result"
    }
   ],
   "source": [
    "works[f'citations_2022'].describe()"
   ]
  },
  {
   "cell_type": "code",
   "execution_count": 66,
   "id": "f3ac8332-ff43-4226-872a-d8518281cc30",
   "metadata": {},
   "outputs": [
    {
     "data": {
      "text/plain": [
       "count    145694.000000\n",
       "mean          5.794034\n",
       "std          21.158617\n",
       "min           0.000000\n",
       "25%           0.000000\n",
       "50%           2.000000\n",
       "75%           5.000000\n",
       "max        1409.000000\n",
       "Name: cited_by_count, dtype: float64"
      ]
     },
     "execution_count": 66,
     "metadata": {},
     "output_type": "execute_result"
    }
   ],
   "source": [
    "works[works['cited_by_count'] - works['citations_2022'] == 0]['cited_by_count'].describe()"
   ]
  },
  {
   "cell_type": "code",
   "execution_count": 76,
   "id": "5a757720-29d4-48bb-aec5-33fa7f0710e2",
   "metadata": {},
   "outputs": [],
   "source": [
    "def find_normalized_citation(counts_by_year, year_i, year_0):\n",
    "    total = [item[1] for item in counts_by_year if item[0] >= year_0]\n",
    "    till_year_i = [item[1] for item in counts_by_year if item[0] == year_i]\n",
    "    if len(till_year_i):\n",
    "        return np.sum(till_year_i)/np.sum(total)\n",
    "    else:\n",
    "        return 0\n",
    "    \n",
    "for year_i in [2017, 2018, 2019, 2020, 2021, 2022]:\n",
    "    works[f'normalized_citation_{year_i}'] = works['counts_by_year'].map(\n",
    "        lambda x: find_normalized_citation(x, year_i, YEAR)\n",
    "    )"
   ]
  },
  {
   "cell_type": "code",
   "execution_count": 78,
   "id": "6f67acb4-b68d-4498-a5c1-3098008c3f74",
   "metadata": {},
   "outputs": [
    {
     "data": {
      "text/plain": [
       "normalized_citation_2017    0.030750\n",
       "normalized_citation_2018    0.145307\n",
       "normalized_citation_2019    0.172004\n",
       "normalized_citation_2020    0.156738\n",
       "normalized_citation_2021    0.138050\n",
       "normalized_citation_2022    0.077606\n",
       "dtype: float64"
      ]
     },
     "execution_count": 78,
     "metadata": {},
     "output_type": "execute_result"
    }
   ],
   "source": [
    "works[\n",
    "    [\n",
    "        f'normalized_citation_{year_i}' \n",
    "            for year_i in [2017, 2018, 2019, 2020, 2021, 2022]\n",
    "    ]\n",
    "].mean()\n",
    "\n",
    "works[\n",
    "    [\n",
    "        f'normalized_citation_{year_i}' \n",
    "            for year_i in [2017, 2018, 2019, 2020, 2021, 2022]\n",
    "    ]\n",
    "].std()"
   ]
  },
  {
   "cell_type": "code",
   "execution_count": 82,
   "id": "477edaee-16aa-4ed9-aa4f-eca7679bbd1d",
   "metadata": {},
   "outputs": [
    {
     "data": {
      "text/plain": [
       "<AxesSubplot:>"
      ]
     },
     "execution_count": 82,
     "metadata": {},
     "output_type": "execute_result"
    },
    {
     "data": {
      "image/png": "[encoded data removed]",
      "text/plain": [
       "<Figure size 640x480 with 1 Axes>"
      ]
     },
     "metadata": {},
     "output_type": "display_data"
    }
   ],
   "source": [
    "sns.boxplot(data=works[\n",
    "    [f'normalized_citation_{year_i}' for year_i in [2017, 2018, 2019, 2020, 2021, 2022]]\n",
    "])"
   ]
  },
  {
   "cell_type": "code",
   "execution_count": null,
   "id": "7136c944-46ef-4132-91d7-d2236e1e6d3b",
   "metadata": {},
   "outputs": [],
   "source": []
  },
  {
   "cell_type": "code",
   "execution_count": null,
   "id": "c102adff-67ea-4dcd-8976-4472aa2b06c3",
   "metadata": {},
   "outputs": [],
   "source": []
  },
  {
   "cell_type": "code",
   "execution_count": null,
   "id": "4d1510c9-50c7-4cbb-b4bb-3d2bd4a7c6a3",
   "metadata": {},
   "outputs": [],
   "source": []
  },
  {
   "cell_type": "code",
   "execution_count": 57,
   "id": "07591ea8-e807-4abc-8803-86a2481a2665",
   "metadata": {},
   "outputs": [
    {
     "data": {
      "text/plain": [
       "<AxesSubplot:xlabel='cited_by_count', ylabel='Count'>"
      ]
     },
     "execution_count": 57,
     "metadata": {},
     "output_type": "execute_result"
    },
    {
     "data": {
      "image/png": "[encoded data removed]",
      "text/plain": [
       "<Figure size 640x480 with 1 Axes>"
      ]
     },
     "metadata": {},
     "output_type": "display_data"
    }
   ],
   "source": [
    "sns.histplot(data=works[works['cited_by_count']< 100], x='cited_by_count', bins=100)"
   ]
  },
  {
   "cell_type": "code",
   "execution_count": null,
   "id": "3ddac8c6-64ba-4747-acca-4ed00601e214",
   "metadata": {},
   "outputs": [],
   "source": []
  },
  {
   "cell_type": "code",
   "execution_count": 53,
   "id": "7467a9b4-7964-4b0a-872b-8a1dc0e2a4fe",
   "metadata": {},
   "outputs": [
    {
     "data": {
      "text/plain": [
       "count    147235.000000\n",
       "mean          7.472082\n",
       "std          81.461850\n",
       "min           0.000000\n",
       "25%           0.000000\n",
       "50%           2.000000\n",
       "75%           5.000000\n",
       "max       16035.000000\n",
       "Name: cited_by_count, dtype: float64"
      ]
     },
     "execution_count": 53,
     "metadata": {},
     "output_type": "execute_result"
    }
   ],
   "source": [
    "works[f'cited_by_count'].describe()"
   ]
  },
  {
   "cell_type": "code",
   "execution_count": null,
   "id": "491cebac-186a-47d2-a03d-bd7342562e48",
   "metadata": {},
   "outputs": [],
   "source": [
    "works['citations_after'].map(\n",
    "    lambda x: \n",
    ")"
   ]
  },
  {
   "cell_type": "code",
   "execution_count": 49,
   "id": "3aa4b4f2-26dd-44eb-bd4a-91a01b61c063",
   "metadata": {},
   "outputs": [
    {
     "data": {
      "text/plain": [
       "0         [2671, 4520, 4269, 3019, 1367, 149]\n",
       "1           [1721, 3369, 3040, 2237, 650, 40]\n",
       "2           [1278, 2657, 2620, 1945, 767, 85]\n",
       "3          [1118, 2501, 2440, 1984, 896, 149]\n",
       "4            [1549, 2795, 2048, 1133, 258, 8]\n",
       "                         ...                 \n",
       "147230                                     []\n",
       "147231                                     []\n",
       "147232                                     []\n",
       "147233                                     []\n",
       "147234                                     []\n",
       "Name: citations_after, Length: 147235, dtype: object"
      ]
     },
     "execution_count": 49,
     "metadata": {},
     "output_type": "execute_result"
    }
   ],
   "source": [
    "works['citations_after']"
   ]
  },
  {
   "cell_type": "code",
   "execution_count": null,
   "id": "0ef6497f-6439-46f3-8b99-7dd5d8be6db6",
   "metadata": {},
   "outputs": [],
   "source": []
  },
  {
   "cell_type": "code",
   "execution_count": null,
   "id": "1e8a1bc8-9816-4f9d-b3a1-a0bb54149284",
   "metadata": {},
   "outputs": [],
   "source": []
  },
  {
   "cell_type": "code",
   "execution_count": null,
   "id": "b83053e1-f359-4f31-a3eb-fbc05c9c9ea5",
   "metadata": {},
   "outputs": [],
   "source": []
  },
  {
   "cell_type": "code",
   "execution_count": null,
   "id": "66502c1f-f209-483a-9683-21c9ab922fa7",
   "metadata": {},
   "outputs": [],
   "source": []
  },
  {
   "cell_type": "code",
   "execution_count": 20,
   "id": "5f54c0e3-77fb-49e6-9935-9f30c2e290f9",
   "metadata": {},
   "outputs": [],
   "source": [
    "## Distribution of 2012 CS paper types"
   ]
  },
  {
   "attachments": {
    "37cfbe96-0fa9-4b77-8bb2-f5db024b164f.png": {
     "image/png": "[encoded data removed]"
    }
   },
   "cell_type": "markdown",
   "id": "11d683df-fe83-47e5-83d2-58e1b29b57cd",
   "metadata": {},
   "source": [
    "![2012-cs-paper-type-distribution.png](attachment:37cfbe96-0fa9-4b77-8bb2-f5db024b164f.png)"
   ]
  },
  {
   "cell_type": "code",
   "execution_count": 17,
   "id": "718e96c3-9792-434b-918f-10cea97bb256",
   "metadata": {},
   "outputs": [
    {
     "name": "stderr",
     "output_type": "stream",
     "text": [
      "100%|██████████████████████████████████████████████████████████████████████████████████████████████████████████| 23/23 [00:16<00:00,  1.37it/s]\n"
     ]
    },
    {
     "data": {
      "text/plain": [
       "Text(0, 0.5, 'Count')"
      ]
     },
     "execution_count": 17,
     "metadata": {},
     "output_type": "execute_result"
    },
    {
     "data": {
      "image/png": "[encoded data removed]",
      "text/plain": [
       "<Figure size 640x480 with 1 Axes>"
      ]
     },
     "metadata": {},
     "output_type": "display_data"
    }
   ],
   "source": [
    "DATA_URL = 'https://api.openalex.org/works?'\\\n",
    "                'filter=from_publication_date:{}-01-01,'\\\n",
    "                'to_publication_date:{}-12-31,'\\\n",
    "                'has_abstract:true,'\\\n",
    "                'has_references:true,'\\\n",
    "                'is_paratext:false,'\\\n",
    "                'is_retracted:false,'\\\n",
    "                'type:proceedings-article,'\\\n",
    "                'concepts.id:C41008148'\n",
    "\n",
    "papers_over_years = []\n",
    "years = list(range(2000, 2023))\n",
    "for year_i in tqdm(years):\n",
    "    try:\n",
    "        response = requests.get(DATA_URL.format(year_i, year_i)).json()\n",
    "        counts = response['meta']['count']\n",
    "        papers_over_years.append(counts)\n",
    "    except Exception as err:\n",
    "        print (err)\n",
    "        print (response)\n",
    "        break\n",
    "\n",
    "sns.barplot(x=years, y=papers_over_years)\n",
    "plt.gca().set_title(\"CS Proceeding Paper Count as Variation of Time\")\n",
    "plt.xticks(rotation=70)\n",
    "plt.gca().set_xlabel(\"Year\")\n",
    "plt.gca().set_ylabel(\"Count\")"
   ]
  },
  {
   "cell_type": "code",
   "execution_count": 18,
   "id": "b70bfa97-d0e8-426a-a878-6a86c3f2c273",
   "metadata": {},
   "outputs": [
    {
     "name": "stderr",
     "output_type": "stream",
     "text": [
      "100%|██████████████████████████████████████████████████████████████████████████████████████████████████████████| 23/23 [00:20<00:00,  1.13it/s]\n"
     ]
    },
    {
     "data": {
      "text/plain": [
       "Text(0, 0.5, 'Count')"
      ]
     },
     "execution_count": 18,
     "metadata": {},
     "output_type": "execute_result"
    },
    {
     "data": {
      "image/png": "[encoded data removed]",
      "text/plain": [
       "<Figure size 640x480 with 1 Axes>"
      ]
     },
     "metadata": {},
     "output_type": "display_data"
    }
   ],
   "source": [
    "DATA_URL = 'https://api.openalex.org/works?'\\\n",
    "                'filter=from_publication_date:{}-01-01,'\\\n",
    "                'to_publication_date:{}-12-31,'\\\n",
    "                'has_abstract:true,'\\\n",
    "                'has_references:true,'\\\n",
    "                'is_paratext:false,'\\\n",
    "                'is_retracted:false,'\\\n",
    "                'type:journal-article,'\\\n",
    "                'concepts.id:C41008148'\n",
    "\n",
    "papers_over_years = []\n",
    "years = list(range(2000, 2023))\n",
    "for year_i in tqdm(years):\n",
    "    try:\n",
    "        response = requests.get(DATA_URL.format(year_i, year_i)).json()\n",
    "        counts = response['meta']['count']\n",
    "        papers_over_years.append(counts)\n",
    "    except Exception as err:\n",
    "        print (err)\n",
    "        print (response)\n",
    "        break\n",
    "\n",
    "sns.barplot(x=years, y=papers_over_years)\n",
    "plt.xticks(rotation=70)\n",
    "plt.gca().set_title(\"CS Journal-Article Paper Count as Variation of Time\")\n",
    "plt.gca().set_xlabel(\"Year\")\n",
    "plt.gca().set_ylabel(\"Count\")"
   ]
  },
  {
   "cell_type": "code",
   "execution_count": null,
   "id": "9a3537ee-573d-45c7-a5d6-dbdf6c648702",
   "metadata": {},
   "outputs": [],
   "source": []
  },
  {
   "cell_type": "code",
   "execution_count": 1,
   "id": "1ceab632-5091-44ff-8479-125476ff55c5",
   "metadata": {},
   "outputs": [
    {
     "data": {
      "image/png": "[encoded data removed]",
      "text/plain": [
       "<Figure size 640x480 with 2 Axes>"
      ]
     },
     "metadata": {},
     "output_type": "display_data"
    }
   ],
   "source": [
    "import numpy as np\n",
    "import pandas as pd\n",
    "\n",
    "from matplotlib import pyplot as plt\n",
    "%matplotlib inline\n",
    "import seaborn as sns\n",
    "\n",
    "df = pd.read_csv('./data/data2012.csv')\n",
    "\n",
    "corr = df.corr()\n",
    "\n",
    "# plot the heatmap\n",
    "sns.heatmap(corr, \n",
    "        xticklabels=corr.columns,\n",
    "        yticklabels=corr.columns)\n",
    "\n",
    "plt.savefig('corr.png', dpi=350, bbox_inches='tight')\n",
    "plt.xticks(rotation=70)\n",
    "plt.show()"
   ]
  },
  {
   "cell_type": "code",
   "execution_count": null,
   "id": "9c047101-12c9-4ad6-bded-709038914de3",
   "metadata": {},
   "outputs": [],
   "source": []
  }
 ],
 "metadata": {
  "kernelspec": {
   "display_name": "Python (myenv)",
   "language": "python",
   "name": "myenv"
  },
  "language_info": {
   "codemirror_mode": {
    "name": "ipython",
    "version": 3
   },
   "file_extension": ".py",
   "mimetype": "text/x-python",
   "name": "python",
   "nbconvert_exporter": "python",
   "pygments_lexer": "ipython3",
   "version": "3.9.13"
  }
 },
 "nbformat": 4,
 "nbformat_minor": 5
}
