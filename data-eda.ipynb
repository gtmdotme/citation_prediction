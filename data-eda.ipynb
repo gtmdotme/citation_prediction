{
 "cells": [
  {
   "cell_type": "markdown",
   "id": "e2f68347-52ca-4197-bd25-1c7c2e91e99c",
   "metadata": {},
   "source": [
    "## Exploratory Data Analysis"
   ]
  },
  {
   "cell_type": "code",
   "execution_count": 1,
   "id": "bdf867e6-99b7-4450-9e25-1f4ab648b89b",
   "metadata": {},
   "outputs": [],
   "source": [
    "import json\n",
    "import pdb\n",
    "import ast\n",
    "from tqdm import tqdm\n",
    "\n",
    "import numpy as np\n",
    "import pandas as pd\n",
    "from matplotlib import pyplot as plt\n",
    "%matplotlib inline\n",
    "import seaborn as sns"
   ]
  },
  {
   "cell_type": "code",
   "execution_count": 2,
   "id": "1156dfba-9a75-4be6-85dc-16a0fdfb23ac",
   "metadata": {},
   "outputs": [
    {
     "name": "stderr",
     "output_type": "stream",
     "text": [
      "100%|██████████| 3/3 [00:00<00:00,  9.67it/s]\n"
     ]
    }
   ],
   "source": [
    "DATA_FILE = './sample-data.txt'\n",
    "with open(DATA_FILE, 'r') as f:\n",
    "    works = [ast.literal_eval(work) for work in tqdm(f.readlines())]"
   ]
  },
  {
   "cell_type": "code",
   "execution_count": 3,
   "id": "40eac1a9-f358-4479-b46b-2e64c8daea6d",
   "metadata": {},
   "outputs": [
    {
     "name": "stdout",
     "output_type": "stream",
     "text": [
      "(460, 14)\n"
     ]
    },
    {
     "data": {
      "text/html": [
       "<div>\n",
       "<style scoped>\n",
       "    .dataframe tbody tr th:only-of-type {\n",
       "        vertical-align: middle;\n",
       "    }\n",
       "\n",
       "    .dataframe tbody tr th {\n",
       "        vertical-align: top;\n",
       "    }\n",
       "\n",
       "    .dataframe thead th {\n",
       "        text-align: right;\n",
       "    }\n",
       "</style>\n",
       "<table border=\"1\" class=\"dataframe\">\n",
       "  <thead>\n",
       "    <tr style=\"text-align: right;\">\n",
       "      <th></th>\n",
       "      <th>id</th>\n",
       "      <th>doi</th>\n",
       "      <th>title</th>\n",
       "      <th>type</th>\n",
       "      <th>publication_date</th>\n",
       "      <th>host_venue</th>\n",
       "      <th>open_access_is_oa</th>\n",
       "      <th>open_access_oa_status</th>\n",
       "      <th>authorships</th>\n",
       "      <th>cited_by_count</th>\n",
       "      <th>concepts</th>\n",
       "      <th>referenced_works</th>\n",
       "      <th>abstract</th>\n",
       "      <th>counts_by_year</th>\n",
       "    </tr>\n",
       "  </thead>\n",
       "  <tbody>\n",
       "    <tr>\n",
       "      <th>0</th>\n",
       "      <td>W2194775991</td>\n",
       "      <td>https://doi.org/10.1109/cvpr.2016.90</td>\n",
       "      <td>Deep Residual Learning for Image Recognition</td>\n",
       "      <td>proceedings-article</td>\n",
       "      <td>2016-06-27</td>\n",
       "      <td>V4306417987</td>\n",
       "      <td>True</td>\n",
       "      <td>green</td>\n",
       "      <td>[[A2164292938, [I4210164937]], [A2499063207, [...</td>\n",
       "      <td>82989</td>\n",
       "      <td>[[C155512373, 0.9166446], [C41008148, 0.779227...</td>\n",
       "      <td>[W1536680647, W1677182931, W1903029394, W19328...</td>\n",
       "      <td>Deeper neural networks are more difficult to t...</td>\n",
       "      <td>[[2022, 11945], [2021, 23636], [2020, 20114], ...</td>\n",
       "    </tr>\n",
       "    <tr>\n",
       "      <th>1</th>\n",
       "      <td>W2311203695</td>\n",
       "      <td>https://doi.org/10.1093/molbev/msw054</td>\n",
       "      <td>MEGA7: Molecular Evolutionary Genetics Analysi...</td>\n",
       "      <td>journal-article</td>\n",
       "      <td>2016-03-22</td>\n",
       "      <td>V57552105</td>\n",
       "      <td>True</td>\n",
       "      <td>bronze</td>\n",
       "      <td>[[A2149898553, [I185163786]], [A2307130762, [I...</td>\n",
       "      <td>27959</td>\n",
       "      <td>[[C2776784076, 0.7593913], [C41008148, 0.63809...</td>\n",
       "      <td>[W1519266993, W1992566665, W2034285706, W21032...</td>\n",
       "      <td>Abstract We present the latest version of the ...</td>\n",
       "      <td>[[2022, 3469], [2021, 5252], [2020, 6079], [20...</td>\n",
       "    </tr>\n",
       "    <tr>\n",
       "      <th>2</th>\n",
       "      <td>W2963341956</td>\n",
       "      <td>https://doi.org/10.18653/v1/n19-1423</td>\n",
       "      <td>None</td>\n",
       "      <td>proceedings-article</td>\n",
       "      <td>2018-10-11</td>\n",
       "      <td>V4306420633</td>\n",
       "      <td>False</td>\n",
       "      <td>closed</td>\n",
       "      <td>[[A2153797812, [I1291425158]], [A2142444093, [...</td>\n",
       "      <td>20600</td>\n",
       "      <td>[[C41008148, 0.785668], [C137293760, 0.6452642...</td>\n",
       "      <td>[W131533222, W1486649854, W1566289585, W159901...</td>\n",
       "      <td>We introduce a new language representation mod...</td>\n",
       "      <td>[[2022, 736], [2021, 9119], [2020, 7596], [201...</td>\n",
       "    </tr>\n",
       "    <tr>\n",
       "      <th>3</th>\n",
       "      <td>W2799524357</td>\n",
       "      <td>https://doi.org/10.1093/molbev/msy096</td>\n",
       "      <td>MEGA X: Molecular Evolutionary Genetics Analys...</td>\n",
       "      <td>journal-article</td>\n",
       "      <td>2018-06-01</td>\n",
       "      <td>V57552105</td>\n",
       "      <td>True</td>\n",
       "      <td>green</td>\n",
       "      <td>[[A2149898553, [I185163786, I84392919]], [A230...</td>\n",
       "      <td>16432</td>\n",
       "      <td>[[C2781078984, 0.95899737], [C149810388, 0.721...</td>\n",
       "      <td>[W2097403532, W2121552166, W2156434383, W23112...</td>\n",
       "      <td>The Molecular Evolutionary Genetics Analysis (...</td>\n",
       "      <td>[[2022, 4753], [2021, 6184], [2020, 3982], [20...</td>\n",
       "    </tr>\n",
       "    <tr>\n",
       "      <th>4</th>\n",
       "      <td>W2963446712</td>\n",
       "      <td>https://doi.org/10.1109/cvpr.2017.243</td>\n",
       "      <td>Densely Connected Convolutional Networks</td>\n",
       "      <td>proceedings-article</td>\n",
       "      <td>2017-07-21</td>\n",
       "      <td>V4306400194</td>\n",
       "      <td>True</td>\n",
       "      <td>green</td>\n",
       "      <td>[[A2114281204, [I205783295]], [A2566736780, [I...</td>\n",
       "      <td>15939</td>\n",
       "      <td>[[C41008148, 0.8167397], [C185798385, 0.806655...</td>\n",
       "      <td>[W1677182931, W1903029394, W2097117768, W21020...</td>\n",
       "      <td>Recent work has shown that convolutional netwo...</td>\n",
       "      <td>[[2022, 2581], [2021, 4523], [2020, 4265], [20...</td>\n",
       "    </tr>\n",
       "  </tbody>\n",
       "</table>\n",
       "</div>"
      ],
      "text/plain": [
       "            id                                    doi  \\\n",
       "0  W2194775991   https://doi.org/10.1109/cvpr.2016.90   \n",
       "1  W2311203695  https://doi.org/10.1093/molbev/msw054   \n",
       "2  W2963341956   https://doi.org/10.18653/v1/n19-1423   \n",
       "3  W2799524357  https://doi.org/10.1093/molbev/msy096   \n",
       "4  W2963446712  https://doi.org/10.1109/cvpr.2017.243   \n",
       "\n",
       "                                               title                 type  \\\n",
       "0       Deep Residual Learning for Image Recognition  proceedings-article   \n",
       "1  MEGA7: Molecular Evolutionary Genetics Analysi...      journal-article   \n",
       "2                                               None  proceedings-article   \n",
       "3  MEGA X: Molecular Evolutionary Genetics Analys...      journal-article   \n",
       "4           Densely Connected Convolutional Networks  proceedings-article   \n",
       "\n",
       "  publication_date   host_venue  open_access_is_oa open_access_oa_status  \\\n",
       "0       2016-06-27  V4306417987               True                 green   \n",
       "1       2016-03-22    V57552105               True                bronze   \n",
       "2       2018-10-11  V4306420633              False                closed   \n",
       "3       2018-06-01    V57552105               True                 green   \n",
       "4       2017-07-21  V4306400194               True                 green   \n",
       "\n",
       "                                         authorships  cited_by_count  \\\n",
       "0  [[A2164292938, [I4210164937]], [A2499063207, [...           82989   \n",
       "1  [[A2149898553, [I185163786]], [A2307130762, [I...           27959   \n",
       "2  [[A2153797812, [I1291425158]], [A2142444093, [...           20600   \n",
       "3  [[A2149898553, [I185163786, I84392919]], [A230...           16432   \n",
       "4  [[A2114281204, [I205783295]], [A2566736780, [I...           15939   \n",
       "\n",
       "                                            concepts  \\\n",
       "0  [[C155512373, 0.9166446], [C41008148, 0.779227...   \n",
       "1  [[C2776784076, 0.7593913], [C41008148, 0.63809...   \n",
       "2  [[C41008148, 0.785668], [C137293760, 0.6452642...   \n",
       "3  [[C2781078984, 0.95899737], [C149810388, 0.721...   \n",
       "4  [[C41008148, 0.8167397], [C185798385, 0.806655...   \n",
       "\n",
       "                                    referenced_works  \\\n",
       "0  [W1536680647, W1677182931, W1903029394, W19328...   \n",
       "1  [W1519266993, W1992566665, W2034285706, W21032...   \n",
       "2  [W131533222, W1486649854, W1566289585, W159901...   \n",
       "3  [W2097403532, W2121552166, W2156434383, W23112...   \n",
       "4  [W1677182931, W1903029394, W2097117768, W21020...   \n",
       "\n",
       "                                            abstract  \\\n",
       "0  Deeper neural networks are more difficult to t...   \n",
       "1  Abstract We present the latest version of the ...   \n",
       "2  We introduce a new language representation mod...   \n",
       "3  The Molecular Evolutionary Genetics Analysis (...   \n",
       "4  Recent work has shown that convolutional netwo...   \n",
       "\n",
       "                                      counts_by_year  \n",
       "0  [[2022, 11945], [2021, 23636], [2020, 20114], ...  \n",
       "1  [[2022, 3469], [2021, 5252], [2020, 6079], [20...  \n",
       "2  [[2022, 736], [2021, 9119], [2020, 7596], [201...  \n",
       "3  [[2022, 4753], [2021, 6184], [2020, 3982], [20...  \n",
       "4  [[2022, 2581], [2021, 4523], [2020, 4265], [20...  "
      ]
     },
     "execution_count": 3,
     "metadata": {},
     "output_type": "execute_result"
    }
   ],
   "source": [
    "works_x = [j for i in works for j in i]\n",
    "df = pd.DataFrame.from_dict(works_x)\n",
    "print (df.shape)\n",
    "df.head()"
   ]
  },
  {
   "cell_type": "code",
   "execution_count": 4,
   "id": "da69cd40-8be1-4bd2-aea7-04d566bbc6db",
   "metadata": {},
   "outputs": [
    {
     "data": {
      "text/plain": [
       "id                                                             W2194775991\n",
       "doi                                   https://doi.org/10.1109/cvpr.2016.90\n",
       "title                         Deep Residual Learning for Image Recognition\n",
       "type                                                   proceedings-article\n",
       "publication_date                                                2016-06-27\n",
       "host_venue                                                     V4306417987\n",
       "open_access_is_oa                                                     True\n",
       "open_access_oa_status                                                green\n",
       "authorships              [[A2164292938, [I4210164937]], [A2499063207, [...\n",
       "cited_by_count                                                       82989\n",
       "concepts                 [[C155512373, 0.9166446], [C41008148, 0.779227...\n",
       "referenced_works         [W1536680647, W1677182931, W1903029394, W19328...\n",
       "abstract                 Deeper neural networks are more difficult to t...\n",
       "counts_by_year           [[2022, 11945], [2021, 23636], [2020, 20114], ...\n",
       "Name: 0, dtype: object"
      ]
     },
     "execution_count": 4,
     "metadata": {},
     "output_type": "execute_result"
    }
   ],
   "source": [
    "# sample row\n",
    "df.iloc[0]"
   ]
  },
  {
   "cell_type": "code",
   "execution_count": 5,
   "id": "7482d071-34e7-4442-a1b4-0f5682fe9875",
   "metadata": {},
   "outputs": [
    {
     "data": {
      "text/plain": [
       "[['A2164292938', ['I4210164937']],\n",
       " ['A2499063207', ['I4210164937']],\n",
       " ['A2119543935', ['I4210164937']],\n",
       " ['A2200192130', ['I4210164937']]]"
      ]
     },
     "execution_count": 5,
     "metadata": {},
     "output_type": "execute_result"
    }
   ],
   "source": [
    "# sample cell\n",
    "df.iloc[0]['authorships']"
   ]
  },
  {
   "cell_type": "code",
   "execution_count": null,
   "id": "bc446d51-7dec-442a-9638-82b63e5a0368",
   "metadata": {},
   "outputs": [],
   "source": []
  },
  {
   "cell_type": "code",
   "execution_count": 6,
   "id": "ca1845ae-9b7c-4028-bfa0-8cb27247c21d",
   "metadata": {},
   "outputs": [
    {
     "data": {
      "text/plain": [
       "<AxesSubplot:xlabel='count', ylabel='type'>"
      ]
     },
     "execution_count": 6,
     "metadata": {},
     "output_type": "execute_result"
    },
    {
     "data": {
      "image/png": "[encoded data removed]",
      "text/plain": [
       "<Figure size 640x480 with 1 Axes>"
      ]
     },
     "metadata": {},
     "output_type": "display_data"
    }
   ],
   "source": [
    "# works by type\n",
    "sns.countplot(data=df, y='type')"
   ]
  },
  {
   "cell_type": "code",
   "execution_count": 7,
   "id": "b147aefa-cf69-40a9-b96e-72755bb6fcf8",
   "metadata": {},
   "outputs": [
    {
     "data": {
      "text/plain": [
       "<AxesSubplot:xlabel='year', ylabel='count'>"
      ]
     },
     "execution_count": 7,
     "metadata": {},
     "output_type": "execute_result"
    },
    {
     "data": {
      "image/png": "[encoded data removed]",
      "text/plain": [
       "<Figure size 640x480 with 1 Axes>"
      ]
     },
     "metadata": {},
     "output_type": "display_data"
    }
   ],
   "source": [
    "# works by year\n",
    "df['year'] = df['publication_date'].map(lambda x: x.split('-')[0])\n",
    "df['month'] = df['publication_date'].map(lambda x: x.split('-')[1])\n",
    "sns.countplot(data=df, x='year', hue='month')"
   ]
  },
  {
   "cell_type": "code",
   "execution_count": null,
   "id": "206dd92e-3406-48f8-bd89-13d3d39e064e",
   "metadata": {},
   "outputs": [],
   "source": []
  }
 ],
 "metadata": {
  "kernelspec": {
   "display_name": "Python 3",
   "language": "python",
   "name": "python3"
  },
  "language_info": {
   "codemirror_mode": {
    "name": "ipython",
    "version": 3
   },
   "file_extension": ".py",
   "mimetype": "text/x-python",
   "name": "python",
   "nbconvert_exporter": "python",
   "pygments_lexer": "ipython3",
   "version": "3.9.13"
  }
 },
 "nbformat": 4,
 "nbformat_minor": 5
}
