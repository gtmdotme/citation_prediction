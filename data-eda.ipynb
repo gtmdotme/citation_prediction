{
 "cells": [
  {
   "cell_type": "markdown",
   "id": "e2f68347-52ca-4197-bd25-1c7c2e91e99c",
   "metadata": {},
   "source": [
    "## Exploratory Data Analysis"
   ]
  },
  {
   "cell_type": "code",
   "execution_count": 1,
   "id": "bdf867e6-99b7-4450-9e25-1f4ab648b89b",
   "metadata": {},
   "outputs": [
    {
     "name": "stderr",
     "output_type": "stream",
     "text": [
      "[nltk_data] Downloading package punkt to\n",
      "[nltk_data]     /Users/gautamchoudhary/nltk_data...\n",
      "[nltk_data]   Package punkt is already up-to-date!\n"
     ]
    }
   ],
   "source": [
    "import json\n",
    "import pdb\n",
    "import ast\n",
    "from tqdm import tqdm\n",
    "from collections import Counter\n",
    "import requests\n",
    "\n",
    "import numpy as np\n",
    "import pandas as pd\n",
    "\n",
    "from matplotlib import pyplot as plt\n",
    "%matplotlib inline\n",
    "import seaborn as sns\n",
    "\n",
    "from sklearn.model_selection import KFold, StratifiedKFold, train_test_split\n",
    "\n",
    "# custom\n",
    "from utils import *\n",
    "\n",
    "SEED = 0"
   ]
  },
  {
   "cell_type": "code",
   "execution_count": 2,
   "id": "90237790-95b3-4c34-bf80-2d9212868f26",
   "metadata": {},
   "outputs": [
    {
     "name": "stdout",
     "output_type": "stream",
     "text": [
      "CPU times: user 3.93 s, sys: 383 ms, total: 4.32 s\n",
      "Wall time: 4.41 s\n"
     ]
    }
   ],
   "source": [
    "%%time\n",
    "YEAR = 2017\n",
    "\n",
    "works = pd.read_pickle(f'./data/{YEAR}/works.{YEAR}.v2.pkl').set_index('id')\n",
    "authors = pd.read_pickle(f'./data/{YEAR}/authors.{YEAR}.v2.pkl').set_index('id')\n",
    "venues = pd.read_pickle(f'./data/{YEAR}/venues.{YEAR}.v2.pkl').set_index('id')\n",
    "insts = pd.read_pickle(f'./data/{YEAR}/insts.{YEAR}.v2.pkl').set_index('id')"
   ]
  },
  {
   "cell_type": "code",
   "execution_count": 3,
   "id": "d6bf37d3-fd38-4f84-9d69-76478bd61a1c",
   "metadata": {},
   "outputs": [
    {
     "name": "stdout",
     "output_type": "stream",
     "text": [
      "CPU times: user 633 ms, sys: 167 ms, total: 799 ms\n",
      "Wall time: 862 ms\n"
     ]
    }
   ],
   "source": [
    "%%time\n",
    "works = preprocess_works(works, YEAR, 2022)\n",
    "authors = preprocess_authors(authors)\n",
    "venues = preprocess_venues(venues)\n",
    "insts = preprocess_insts(insts)"
   ]
  },
  {
   "cell_type": "code",
   "execution_count": 4,
   "id": "4bf29d7a-ba5a-4a86-aae1-0d66bcc62304",
   "metadata": {},
   "outputs": [],
   "source": [
    "# Train Test Split: based on `works`\n",
    "TEST_SIZE = 0.2\n",
    "train_index, test_index = train_test_split(range(len(works)),\n",
    "                                           test_size=TEST_SIZE, random_state=SEED)\n",
    "\n",
    "# to access `works` in training set:\n",
    "# works_train = works.iloc[train_index]"
   ]
  },
  {
   "cell_type": "code",
   "execution_count": 1,
   "id": "725272e7-8799-4930-a6a4-7e51ca1fce50",
   "metadata": {},
   "outputs": [],
   "source": [
    "### Start EDA from here for consistency and reproducibility"
   ]
  },
  {
   "cell_type": "code",
   "execution_count": 6,
   "id": "40eac1a9-f358-4479-b46b-2e64c8daea6d",
   "metadata": {},
   "outputs": [
    {
     "name": "stdout",
     "output_type": "stream",
     "text": [
      "(145531, 14) 145531\n"
     ]
    }
   ],
   "source": [
    "print (works.shape, works.index.nunique())\n",
    "# works.head()"
   ]
  },
  {
   "cell_type": "code",
   "execution_count": null,
   "id": "834d0aba-7f89-464c-a4fe-0ebbf9f34543",
   "metadata": {},
   "outputs": [],
   "source": []
  },
  {
   "cell_type": "code",
   "execution_count": null,
   "id": "d1c176c4-522a-4299-98ac-28d66a557b97",
   "metadata": {},
   "outputs": [],
   "source": []
  },
  {
   "cell_type": "code",
   "execution_count": null,
   "id": "c20e9da6-5c3f-43f9-82c3-0963c94f1aca",
   "metadata": {},
   "outputs": [],
   "source": []
  }
 ],
 "metadata": {
  "kernelspec": {
   "display_name": "Python (myenv)",
   "language": "python",
   "name": "myenv"
  },
  "language_info": {
   "codemirror_mode": {
    "name": "ipython",
    "version": 3
   },
   "file_extension": ".py",
   "mimetype": "text/x-python",
   "name": "python",
   "nbconvert_exporter": "python",
   "pygments_lexer": "ipython3",
   "version": "3.9.13"
  }
 },
 "nbformat": 4,
 "nbformat_minor": 5
}
