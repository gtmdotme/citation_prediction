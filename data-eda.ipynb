{
 "cells": [
  {
   "cell_type": "markdown",
   "id": "e2f68347-52ca-4197-bd25-1c7c2e91e99c",
   "metadata": {},
   "source": [
    "## Exploratory Data Analysis"
   ]
  },
  {
   "cell_type": "code",
   "execution_count": 16,
   "id": "bdf867e6-99b7-4450-9e25-1f4ab648b89b",
   "metadata": {},
   "outputs": [],
   "source": [
    "import json\n",
    "import pdb\n",
    "import ast\n",
    "from tqdm import tqdm\n",
    "from collections import Counter\n",
    "import requests\n",
    "\n",
    "import numpy as np\n",
    "import pandas as pd\n",
    "\n",
    "from matplotlib import pyplot as plt\n",
    "%matplotlib inline\n",
    "import seaborn as sns"
   ]
  },
  {
   "cell_type": "code",
   "execution_count": 2,
   "id": "1156dfba-9a75-4be6-85dc-16a0fdfb23ac",
   "metadata": {},
   "outputs": [
    {
     "name": "stderr",
     "output_type": "stream",
     "text": [
      "100%|████████████████████████████████████████████████████████████████████████████████████████████████████████| 823/823 [00:23<00:00, 35.63it/s]\n",
      "100%|█████████████████████████████████████████████████████████████████████████████████████████████████████| 5653/5653 [00:41<00:00, 136.55it/s]\n",
      "100%|█████████████████████████████████████████████████████████████████████████████████████████████████████████| 35/35 [00:00<00:00, 184.04it/s]\n",
      "100%|████████████████████████████████████████████████████████████████████████████████████████████████████████| 241/241 [00:06<00:00, 36.36it/s]\n"
     ]
    }
   ],
   "source": [
    "def read_data(file_name):\n",
    "    with open(file_name, 'r') as f:\n",
    "        data = [ast.literal_eval(result) for result in tqdm(f.readlines())]\n",
    "    return data\n",
    "\n",
    "works_ = read_data('./data/data.works.2012.v1.txt')\n",
    "authors_ = read_data('./data/data.authors.2012.v1.txt')\n",
    "venues_ = read_data('./data/data.venues.2012.v1.txt')\n",
    "insts_ = read_data('./data/data.insts.2012.v1.txt')\n",
    "\n",
    "def flatten(list_of_lists, level=2):\n",
    "    if level == 2:\n",
    "        flattened_list = [\n",
    "            j for i in list_of_lists \n",
    "                for j in i\n",
    "        ]\n",
    "    elif level == 3:\n",
    "        flattened_list = [\n",
    "            k for i in list_of_lists\n",
    "                for j in i\n",
    "                    for k in j\n",
    "        ]\n",
    "    return flattened_list\n",
    "        \n",
    "works = pd.DataFrame.from_dict(flatten(works_))\n",
    "authors = pd.DataFrame.from_dict(flatten(authors_))\n",
    "venues = pd.DataFrame.from_dict(flatten(venues_))\n",
    "insts = pd.DataFrame.from_dict(flatten(insts_))"
   ]
  },
  {
   "cell_type": "code",
   "execution_count": 3,
   "id": "40eac1a9-f358-4479-b46b-2e64c8daea6d",
   "metadata": {},
   "outputs": [
    {
     "name": "stdout",
     "output_type": "stream",
     "text": [
      "(128097, 15)\n"
     ]
    },
    {
     "data": {
      "text/html": [
       "<div>\n",
       "<style scoped>\n",
       "    .dataframe tbody tr th:only-of-type {\n",
       "        vertical-align: middle;\n",
       "    }\n",
       "\n",
       "    .dataframe tbody tr th {\n",
       "        vertical-align: top;\n",
       "    }\n",
       "\n",
       "    .dataframe thead th {\n",
       "        text-align: right;\n",
       "    }\n",
       "</style>\n",
       "<table border=\"1\" class=\"dataframe\">\n",
       "  <thead>\n",
       "    <tr style=\"text-align: right;\">\n",
       "      <th></th>\n",
       "      <th>id</th>\n",
       "      <th>doi</th>\n",
       "      <th>title</th>\n",
       "      <th>type</th>\n",
       "      <th>publication_date</th>\n",
       "      <th>host_venue</th>\n",
       "      <th>open_access_is_oa</th>\n",
       "      <th>open_access_oa_status</th>\n",
       "      <th>authorships</th>\n",
       "      <th>page_count</th>\n",
       "      <th>cited_by_count</th>\n",
       "      <th>concepts</th>\n",
       "      <th>referenced_works</th>\n",
       "      <th>abstract</th>\n",
       "      <th>counts_by_year</th>\n",
       "    </tr>\n",
       "  </thead>\n",
       "  <tbody>\n",
       "    <tr>\n",
       "      <th>0</th>\n",
       "      <td>W2150066425</td>\n",
       "      <td>https://doi.org/10.1109/cvpr.2012.6248074</td>\n",
       "      <td>Are we ready for autonomous driving? The KITTI...</td>\n",
       "      <td>proceedings-article</td>\n",
       "      <td>2012-06-16</td>\n",
       "      <td>V4306417987</td>\n",
       "      <td>False</td>\n",
       "      <td>closed</td>\n",
       "      <td>[[A2182886034, [I102335020]], [A2167431718, [I...</td>\n",
       "      <td>-1</td>\n",
       "      <td>6636</td>\n",
       "      <td>[[C154945302, 0.7994821], [C5799516, 0.7514366...</td>\n",
       "      <td>[W1578985305, W1964814179, W1968799614, W19903...</td>\n",
       "      <td>Today, visual recognition systems are still ra...</td>\n",
       "      <td>[[2022, 570], [2021, 1427], [2020, 1363], [201...</td>\n",
       "    </tr>\n",
       "    <tr>\n",
       "      <th>1</th>\n",
       "      <td>W2158782408</td>\n",
       "      <td>https://doi.org/10.1109/iros.2012.6386109</td>\n",
       "      <td>MuJoCo: A physics engine for model-based control</td>\n",
       "      <td>proceedings-article</td>\n",
       "      <td>2012-12-24</td>\n",
       "      <td>V4306418941</td>\n",
       "      <td>False</td>\n",
       "      <td>closed</td>\n",
       "      <td>[[A2028747364, [I201448701]], [A2086424281, [I...</td>\n",
       "      <td>-1</td>\n",
       "      <td>2177</td>\n",
       "      <td>[[C190390380, 0.9146959], [C169590947, 0.71768...</td>\n",
       "      <td>[W154144259, W639693478, W1992116952, W2004116...</td>\n",
       "      <td>We describe a new physics engine tailored to m...</td>\n",
       "      <td>[[2022, 155], [2021, 616], [2020, 601], [2019,...</td>\n",
       "    </tr>\n",
       "    <tr>\n",
       "      <th>2</th>\n",
       "      <td>W2141125852</td>\n",
       "      <td>https://doi.org/10.1109/cvpr.2012.6248110</td>\n",
       "      <td>Multi-column deep neural networks for image cl...</td>\n",
       "      <td>proceedings-article</td>\n",
       "      <td>2012-06-16</td>\n",
       "      <td>V4306417987</td>\n",
       "      <td>True</td>\n",
       "      <td>green</td>\n",
       "      <td>[[A1966905718, [I2614128279]], [A2343548174, [...</td>\n",
       "      <td>-1</td>\n",
       "      <td>1970</td>\n",
       "      <td>[[C190502265, 0.8540422], [C41008148, 0.794758...</td>\n",
       "      <td>[W1601963269, W1968995181, W1987778624, W20268...</td>\n",
       "      <td>Traditional methods of computer vision and mac...</td>\n",
       "      <td>[[2022, 126], [2021, 237], [2020, 269], [2019,...</td>\n",
       "    </tr>\n",
       "    <tr>\n",
       "      <th>3</th>\n",
       "      <td>W2021851106</td>\n",
       "      <td>https://doi.org/10.1109/iros.2012.6385773</td>\n",
       "      <td>A benchmark for the evaluation of RGB-D SLAM s...</td>\n",
       "      <td>proceedings-article</td>\n",
       "      <td>2012-12-24</td>\n",
       "      <td>V4306418941</td>\n",
       "      <td>True</td>\n",
       "      <td>green</td>\n",
       "      <td>[[A2973958393, [I62916508]], [A1927103669, [I3...</td>\n",
       "      <td>-1</td>\n",
       "      <td>1901</td>\n",
       "      <td>[[C31972630, 0.78334284], [C154945302, 0.75840...</td>\n",
       "      <td>[W1514909517, W1556098723, W1656165940, W19652...</td>\n",
       "      <td>In this paper, we present a novel benchmark fo...</td>\n",
       "      <td>[[2022, 142], [2021, 317], [2020, 330], [2019,...</td>\n",
       "    </tr>\n",
       "    <tr>\n",
       "      <th>4</th>\n",
       "      <td>W2100960835</td>\n",
       "      <td>https://doi.org/10.1145/2090236.2090255</td>\n",
       "      <td>Fairness through awareness</td>\n",
       "      <td>proceedings-article</td>\n",
       "      <td>2012-01-08</td>\n",
       "      <td>V4306418069</td>\n",
       "      <td>True</td>\n",
       "      <td>green</td>\n",
       "      <td>[[A208343995, [I1290206253]], [A2301637896, [I...</td>\n",
       "      <td>-1</td>\n",
       "      <td>1655</td>\n",
       "      <td>[[C41008148, 0.59133285], [C95623464, 0.542300...</td>\n",
       "      <td>[W178579835, W632002811, W1599656298, W1873763...</td>\n",
       "      <td>We study fairness in classification, where ind...</td>\n",
       "      <td>[[2022, 229], [2021, 453], [2020, 353], [2019,...</td>\n",
       "    </tr>\n",
       "  </tbody>\n",
       "</table>\n",
       "</div>"
      ],
      "text/plain": [
       "            id                                        doi  \\\n",
       "0  W2150066425  https://doi.org/10.1109/cvpr.2012.6248074   \n",
       "1  W2158782408  https://doi.org/10.1109/iros.2012.6386109   \n",
       "2  W2141125852  https://doi.org/10.1109/cvpr.2012.6248110   \n",
       "3  W2021851106  https://doi.org/10.1109/iros.2012.6385773   \n",
       "4  W2100960835    https://doi.org/10.1145/2090236.2090255   \n",
       "\n",
       "                                               title                 type  \\\n",
       "0  Are we ready for autonomous driving? The KITTI...  proceedings-article   \n",
       "1   MuJoCo: A physics engine for model-based control  proceedings-article   \n",
       "2  Multi-column deep neural networks for image cl...  proceedings-article   \n",
       "3  A benchmark for the evaluation of RGB-D SLAM s...  proceedings-article   \n",
       "4                         Fairness through awareness  proceedings-article   \n",
       "\n",
       "  publication_date   host_venue  open_access_is_oa open_access_oa_status  \\\n",
       "0       2012-06-16  V4306417987              False                closed   \n",
       "1       2012-12-24  V4306418941              False                closed   \n",
       "2       2012-06-16  V4306417987               True                 green   \n",
       "3       2012-12-24  V4306418941               True                 green   \n",
       "4       2012-01-08  V4306418069               True                 green   \n",
       "\n",
       "                                         authorships page_count  \\\n",
       "0  [[A2182886034, [I102335020]], [A2167431718, [I...         -1   \n",
       "1  [[A2028747364, [I201448701]], [A2086424281, [I...         -1   \n",
       "2  [[A1966905718, [I2614128279]], [A2343548174, [...         -1   \n",
       "3  [[A2973958393, [I62916508]], [A1927103669, [I3...         -1   \n",
       "4  [[A208343995, [I1290206253]], [A2301637896, [I...         -1   \n",
       "\n",
       "   cited_by_count                                           concepts  \\\n",
       "0            6636  [[C154945302, 0.7994821], [C5799516, 0.7514366...   \n",
       "1            2177  [[C190390380, 0.9146959], [C169590947, 0.71768...   \n",
       "2            1970  [[C190502265, 0.8540422], [C41008148, 0.794758...   \n",
       "3            1901  [[C31972630, 0.78334284], [C154945302, 0.75840...   \n",
       "4            1655  [[C41008148, 0.59133285], [C95623464, 0.542300...   \n",
       "\n",
       "                                    referenced_works  \\\n",
       "0  [W1578985305, W1964814179, W1968799614, W19903...   \n",
       "1  [W154144259, W639693478, W1992116952, W2004116...   \n",
       "2  [W1601963269, W1968995181, W1987778624, W20268...   \n",
       "3  [W1514909517, W1556098723, W1656165940, W19652...   \n",
       "4  [W178579835, W632002811, W1599656298, W1873763...   \n",
       "\n",
       "                                            abstract  \\\n",
       "0  Today, visual recognition systems are still ra...   \n",
       "1  We describe a new physics engine tailored to m...   \n",
       "2  Traditional methods of computer vision and mac...   \n",
       "3  In this paper, we present a novel benchmark fo...   \n",
       "4  We study fairness in classification, where ind...   \n",
       "\n",
       "                                      counts_by_year  \n",
       "0  [[2022, 570], [2021, 1427], [2020, 1363], [201...  \n",
       "1  [[2022, 155], [2021, 616], [2020, 601], [2019,...  \n",
       "2  [[2022, 126], [2021, 237], [2020, 269], [2019,...  \n",
       "3  [[2022, 142], [2021, 317], [2020, 330], [2019,...  \n",
       "4  [[2022, 229], [2021, 453], [2020, 353], [2019,...  "
      ]
     },
     "execution_count": 3,
     "metadata": {},
     "output_type": "execute_result"
    }
   ],
   "source": [
    "print (works.shape)\n",
    "works.head()"
   ]
  },
  {
   "cell_type": "code",
   "execution_count": 4,
   "id": "49c97bc1-5324-46f3-9673-2972c4e4f18b",
   "metadata": {},
   "outputs": [
    {
     "name": "stdout",
     "output_type": "stream",
     "text": [
      "(1713, 9)\n"
     ]
    },
    {
     "data": {
      "text/html": [
       "<div>\n",
       "<style scoped>\n",
       "    .dataframe tbody tr th:only-of-type {\n",
       "        vertical-align: middle;\n",
       "    }\n",
       "\n",
       "    .dataframe tbody tr th {\n",
       "        vertical-align: top;\n",
       "    }\n",
       "\n",
       "    .dataframe thead th {\n",
       "        text-align: right;\n",
       "    }\n",
       "</style>\n",
       "<table border=\"1\" class=\"dataframe\">\n",
       "  <thead>\n",
       "    <tr style=\"text-align: right;\">\n",
       "      <th></th>\n",
       "      <th>id</th>\n",
       "      <th>display_name</th>\n",
       "      <th>works_count</th>\n",
       "      <th>cited_by_count</th>\n",
       "      <th>is_oa</th>\n",
       "      <th>type</th>\n",
       "      <th>created_date</th>\n",
       "      <th>concepts</th>\n",
       "      <th>counts_by_year</th>\n",
       "    </tr>\n",
       "  </thead>\n",
       "  <tbody>\n",
       "    <tr>\n",
       "      <th>0</th>\n",
       "      <td>V202381698</td>\n",
       "      <td>PLOS ONE</td>\n",
       "      <td>300996</td>\n",
       "      <td>7206361</td>\n",
       "      <td>True</td>\n",
       "      <td>journal</td>\n",
       "      <td>2016-06-24</td>\n",
       "      <td>[[C86803240, 89.3], [C71924100, 77.4], [C18559...</td>\n",
       "      <td>[[2022, 14277, 818110], [2021, 16714, 1016760]...</td>\n",
       "    </tr>\n",
       "    <tr>\n",
       "      <th>1</th>\n",
       "      <td>V11296630</td>\n",
       "      <td>Journal of the Acoustical Society of America</td>\n",
       "      <td>162791</td>\n",
       "      <td>1306296</td>\n",
       "      <td>False</td>\n",
       "      <td>journal</td>\n",
       "      <td>2016-06-24</td>\n",
       "      <td>[[C121332964, 91.8], [C24890656, 81.6], [C4100...</td>\n",
       "      <td>[[2022, 1436, 45398], [2021, 2355, 63374], [20...</td>\n",
       "    </tr>\n",
       "    <tr>\n",
       "      <th>2</th>\n",
       "      <td>V168522863</td>\n",
       "      <td>Cancer Research</td>\n",
       "      <td>152472</td>\n",
       "      <td>2712052</td>\n",
       "      <td>False</td>\n",
       "      <td>journal</td>\n",
       "      <td>2016-06-24</td>\n",
       "      <td>[[C86803240, 98.8], [C54355233, 97.0], [C71924...</td>\n",
       "      <td>[[2022, 7677, 117324], [2021, 3694, 138097], [...</td>\n",
       "    </tr>\n",
       "    <tr>\n",
       "      <th>3</th>\n",
       "      <td>V183492911</td>\n",
       "      <td>Proceedings of SPIE</td>\n",
       "      <td>133134</td>\n",
       "      <td>565093</td>\n",
       "      <td>False</td>\n",
       "      <td>journal</td>\n",
       "      <td>2016-06-24</td>\n",
       "      <td>[[C121332964, 88.0], [C41008148, 78.7], [C1206...</td>\n",
       "      <td>[[2022, 107, 24323], [2021, 108, 31105], [2020...</td>\n",
       "    </tr>\n",
       "    <tr>\n",
       "      <th>4</th>\n",
       "      <td>V10134376</td>\n",
       "      <td>Sustainability</td>\n",
       "      <td>57942</td>\n",
       "      <td>475877</td>\n",
       "      <td>True</td>\n",
       "      <td>journal</td>\n",
       "      <td>2016-06-24</td>\n",
       "      <td>[[C86803240, 77.5], [C162324750, 67.6], [C1890...</td>\n",
       "      <td>[[2022, 14165, 161157], [2021, 14235, 141246],...</td>\n",
       "    </tr>\n",
       "  </tbody>\n",
       "</table>\n",
       "</div>"
      ],
      "text/plain": [
       "           id                                  display_name  works_count  \\\n",
       "0  V202381698                                      PLOS ONE       300996   \n",
       "1   V11296630  Journal of the Acoustical Society of America       162791   \n",
       "2  V168522863                               Cancer Research       152472   \n",
       "3  V183492911                           Proceedings of SPIE       133134   \n",
       "4   V10134376                                Sustainability        57942   \n",
       "\n",
       "   cited_by_count  is_oa     type created_date  \\\n",
       "0         7206361   True  journal   2016-06-24   \n",
       "1         1306296  False  journal   2016-06-24   \n",
       "2         2712052  False  journal   2016-06-24   \n",
       "3          565093  False  journal   2016-06-24   \n",
       "4          475877   True  journal   2016-06-24   \n",
       "\n",
       "                                            concepts  \\\n",
       "0  [[C86803240, 89.3], [C71924100, 77.4], [C18559...   \n",
       "1  [[C121332964, 91.8], [C24890656, 81.6], [C4100...   \n",
       "2  [[C86803240, 98.8], [C54355233, 97.0], [C71924...   \n",
       "3  [[C121332964, 88.0], [C41008148, 78.7], [C1206...   \n",
       "4  [[C86803240, 77.5], [C162324750, 67.6], [C1890...   \n",
       "\n",
       "                                      counts_by_year  \n",
       "0  [[2022, 14277, 818110], [2021, 16714, 1016760]...  \n",
       "1  [[2022, 1436, 45398], [2021, 2355, 63374], [20...  \n",
       "2  [[2022, 7677, 117324], [2021, 3694, 138097], [...  \n",
       "3  [[2022, 107, 24323], [2021, 108, 31105], [2020...  \n",
       "4  [[2022, 14165, 161157], [2021, 14235, 141246],...  "
      ]
     },
     "execution_count": 4,
     "metadata": {},
     "output_type": "execute_result"
    }
   ],
   "source": [
    "print (venues.shape)\n",
    "venues.head()"
   ]
  },
  {
   "cell_type": "code",
   "execution_count": 5,
   "id": "4489647a-7e58-4a24-a501-eb82834e490d",
   "metadata": {},
   "outputs": [
    {
     "name": "stdout",
     "output_type": "stream",
     "text": [
      "(12015, 11)\n"
     ]
    },
    {
     "data": {
      "text/html": [
       "<div>\n",
       "<style scoped>\n",
       "    .dataframe tbody tr th:only-of-type {\n",
       "        vertical-align: middle;\n",
       "    }\n",
       "\n",
       "    .dataframe tbody tr th {\n",
       "        vertical-align: top;\n",
       "    }\n",
       "\n",
       "    .dataframe thead th {\n",
       "        text-align: right;\n",
       "    }\n",
       "</style>\n",
       "<table border=\"1\" class=\"dataframe\">\n",
       "  <thead>\n",
       "    <tr style=\"text-align: right;\">\n",
       "      <th></th>\n",
       "      <th>id</th>\n",
       "      <th>display_name</th>\n",
       "      <th>country_code</th>\n",
       "      <th>type</th>\n",
       "      <th>homepage_url</th>\n",
       "      <th>works_count</th>\n",
       "      <th>cited_by_count</th>\n",
       "      <th>associated_institutions</th>\n",
       "      <th>concepts</th>\n",
       "      <th>counts_by_year</th>\n",
       "      <th>created_date</th>\n",
       "    </tr>\n",
       "  </thead>\n",
       "  <tbody>\n",
       "    <tr>\n",
       "      <th>0</th>\n",
       "      <td>I100066346</td>\n",
       "      <td>University of Stuttgart</td>\n",
       "      <td>DE</td>\n",
       "      <td>education</td>\n",
       "      <td>http://www.uni-stuttgart.de/home/index.en.html</td>\n",
       "      <td>61357</td>\n",
       "      <td>2825411</td>\n",
       "      <td>[[I4210113675, child]]</td>\n",
       "      <td>[[C121332964, 70.3], [C127413603, 55.1], [C625...</td>\n",
       "      <td>[[2022, 1858, 181662], [2021, 2942, 236840], [...</td>\n",
       "      <td>2016-06-24</td>\n",
       "    </tr>\n",
       "    <tr>\n",
       "      <th>1</th>\n",
       "      <td>I100930933</td>\n",
       "      <td>University College Dublin</td>\n",
       "      <td>IE</td>\n",
       "      <td>education</td>\n",
       "      <td>http://www.ucd.ie/</td>\n",
       "      <td>58631</td>\n",
       "      <td>3042892</td>\n",
       "      <td>[[I181231927, parent], [I2800368556, related],...</td>\n",
       "      <td>[[C86803240, 62.1], [C71924100, 45.5], [C12133...</td>\n",
       "      <td>[[2022, 2951, 281273], [2021, 4228, 342610], [...</td>\n",
       "      <td>2016-06-24</td>\n",
       "    </tr>\n",
       "    <tr>\n",
       "      <th>2</th>\n",
       "      <td>I10091056</td>\n",
       "      <td>Kanazawa University</td>\n",
       "      <td>JP</td>\n",
       "      <td>education</td>\n",
       "      <td>http://www.kanazawa-u.ac.jp/</td>\n",
       "      <td>45655</td>\n",
       "      <td>2647707</td>\n",
       "      <td>[[I4210104330, related]]</td>\n",
       "      <td>[[C86803240, 75.7], [C71924100, 62.6], [C18559...</td>\n",
       "      <td>[[2022, 1407, 171095], [2021, 2003, 201528], [...</td>\n",
       "      <td>2016-06-24</td>\n",
       "    </tr>\n",
       "    <tr>\n",
       "      <th>3</th>\n",
       "      <td>I100005738</td>\n",
       "      <td>Brigham Young University</td>\n",
       "      <td>US</td>\n",
       "      <td>education</td>\n",
       "      <td>http://home.byu.edu/home/</td>\n",
       "      <td>45270</td>\n",
       "      <td>2009099</td>\n",
       "      <td>[]</td>\n",
       "      <td>[[C86803240, 46.8], [C41008148, 45.0], [C12133...</td>\n",
       "      <td>[[2022, 1304, 141077], [2021, 1886, 176453], [...</td>\n",
       "      <td>2016-06-24</td>\n",
       "    </tr>\n",
       "    <tr>\n",
       "      <th>4</th>\n",
       "      <td>I101202996</td>\n",
       "      <td>Semmelweis University</td>\n",
       "      <td>HU</td>\n",
       "      <td>education</td>\n",
       "      <td>http://semmelweis.hu/english/the-university/</td>\n",
       "      <td>37862</td>\n",
       "      <td>1700782</td>\n",
       "      <td>[]</td>\n",
       "      <td>[[C71924100, 90.2], [C86803240, 83.4], [C12632...</td>\n",
       "      <td>[[2022, 1475, 154020], [2021, 1882, 178534], [...</td>\n",
       "      <td>2016-06-24</td>\n",
       "    </tr>\n",
       "  </tbody>\n",
       "</table>\n",
       "</div>"
      ],
      "text/plain": [
       "           id               display_name country_code       type  \\\n",
       "0  I100066346    University of Stuttgart           DE  education   \n",
       "1  I100930933  University College Dublin           IE  education   \n",
       "2   I10091056        Kanazawa University           JP  education   \n",
       "3  I100005738   Brigham Young University           US  education   \n",
       "4  I101202996      Semmelweis University           HU  education   \n",
       "\n",
       "                                     homepage_url  works_count  \\\n",
       "0  http://www.uni-stuttgart.de/home/index.en.html        61357   \n",
       "1                              http://www.ucd.ie/        58631   \n",
       "2                    http://www.kanazawa-u.ac.jp/        45655   \n",
       "3                       http://home.byu.edu/home/        45270   \n",
       "4    http://semmelweis.hu/english/the-university/        37862   \n",
       "\n",
       "   cited_by_count                            associated_institutions  \\\n",
       "0         2825411                             [[I4210113675, child]]   \n",
       "1         3042892  [[I181231927, parent], [I2800368556, related],...   \n",
       "2         2647707                           [[I4210104330, related]]   \n",
       "3         2009099                                                 []   \n",
       "4         1700782                                                 []   \n",
       "\n",
       "                                            concepts  \\\n",
       "0  [[C121332964, 70.3], [C127413603, 55.1], [C625...   \n",
       "1  [[C86803240, 62.1], [C71924100, 45.5], [C12133...   \n",
       "2  [[C86803240, 75.7], [C71924100, 62.6], [C18559...   \n",
       "3  [[C86803240, 46.8], [C41008148, 45.0], [C12133...   \n",
       "4  [[C71924100, 90.2], [C86803240, 83.4], [C12632...   \n",
       "\n",
       "                                      counts_by_year created_date  \n",
       "0  [[2022, 1858, 181662], [2021, 2942, 236840], [...   2016-06-24  \n",
       "1  [[2022, 2951, 281273], [2021, 4228, 342610], [...   2016-06-24  \n",
       "2  [[2022, 1407, 171095], [2021, 2003, 201528], [...   2016-06-24  \n",
       "3  [[2022, 1304, 141077], [2021, 1886, 176453], [...   2016-06-24  \n",
       "4  [[2022, 1475, 154020], [2021, 1882, 178534], [...   2016-06-24  "
      ]
     },
     "execution_count": 5,
     "metadata": {},
     "output_type": "execute_result"
    }
   ],
   "source": [
    "print (insts.shape)\n",
    "insts.head()"
   ]
  },
  {
   "cell_type": "code",
   "execution_count": 6,
   "id": "b147aefa-cf69-40a9-b96e-72755bb6fcf8",
   "metadata": {},
   "outputs": [
    {
     "data": {
      "text/plain": [
       "<AxesSubplot:xlabel='month', ylabel='count'>"
      ]
     },
     "execution_count": 6,
     "metadata": {},
     "output_type": "execute_result"
    },
    {
     "data": {
      "image/png": "[encoded data removed]",
      "text/plain": [
       "<Figure size 640x480 with 1 Axes>"
      ]
     },
     "metadata": {},
     "output_type": "display_data"
    }
   ],
   "source": [
    "# works by month\n",
    "works['month'] = works['publication_date'].map(lambda x: x.split('-')[1])\n",
    "sns.countplot(data=works, x='month')"
   ]
  },
  {
   "cell_type": "code",
   "execution_count": null,
   "id": "206dd92e-3406-48f8-bd89-13d3d39e064e",
   "metadata": {},
   "outputs": [],
   "source": []
  },
  {
   "cell_type": "code",
   "execution_count": 7,
   "id": "4a58addd-307a-4a34-8694-566f910b0c31",
   "metadata": {},
   "outputs": [
    {
     "data": {
      "text/plain": [
       "282636"
      ]
     },
     "execution_count": 7,
     "metadata": {},
     "output_type": "execute_result"
    }
   ],
   "source": [
    "# no. of unique authors\n",
    "authors_ = np.unique(flatten(works['authorships'].map(lambda x: [i[0] for i in x]).tolist() ))\n",
    "len(authors_)"
   ]
  },
  {
   "cell_type": "code",
   "execution_count": 8,
   "id": "9cc8cb89-9309-4c4f-96b9-08153025d99c",
   "metadata": {},
   "outputs": [
    {
     "data": {
      "text/plain": [
       "12015"
      ]
     },
     "execution_count": 8,
     "metadata": {},
     "output_type": "execute_result"
    }
   ],
   "source": [
    "# institutions\n",
    "insts_ = np.unique(flatten(works['authorships'].map(lambda x: [i[1] for i in x]).tolist(), level=3))\n",
    "len(insts_)"
   ]
  },
  {
   "cell_type": "code",
   "execution_count": 10,
   "id": "d8121407-4ba1-4d61-b692-87ca271da19b",
   "metadata": {},
   "outputs": [
    {
     "data": {
      "text/plain": [
       "1713"
      ]
     },
     "execution_count": 10,
     "metadata": {},
     "output_type": "execute_result"
    }
   ],
   "source": [
    "# host venues\n",
    "venues_ = np.unique(works['host_venue'].tolist())\n",
    "len(venues_)"
   ]
  },
  {
   "cell_type": "code",
   "execution_count": 11,
   "id": "d0587a10-07aa-4ff9-99b3-c6205aa94275",
   "metadata": {},
   "outputs": [
    {
     "data": {
      "text/plain": [
       "[('V183492911', 2002),\n",
       " ('V4306419201', 1732),\n",
       " ('V4306419087', 1131),\n",
       " ('V4306417620', 1107),\n",
       " ('V4306419991', 1102),\n",
       " ('V4306418488', 1070),\n",
       " ('V4306419084', 1013),\n",
       " ('V4306418043', 988),\n",
       " ('V4306419295', 887),\n",
       " ('V4306400562', 848)]"
      ]
     },
     "execution_count": 11,
     "metadata": {},
     "output_type": "execute_result"
    }
   ],
   "source": [
    "# top-k venues\n",
    "Counter(works['host_venue'].tolist()).most_common(10)"
   ]
  },
  {
   "cell_type": "code",
   "execution_count": 12,
   "id": "50a3e2e3-6e01-40b2-a3f2-783c0d9d0413",
   "metadata": {},
   "outputs": [
    {
     "data": {
      "text/plain": [
       "810375"
      ]
     },
     "execution_count": 12,
     "metadata": {},
     "output_type": "execute_result"
    }
   ],
   "source": [
    "# referenced works\n",
    "ref_works = np.unique([j for i in works['referenced_works'].tolist() for j in i])\n",
    "len(ref_works)"
   ]
  },
  {
   "cell_type": "code",
   "execution_count": 13,
   "id": "37255e4e-f731-4f58-a0df-321484fca67c",
   "metadata": {},
   "outputs": [
    {
     "data": {
      "text/plain": [
       "128097"
      ]
     },
     "execution_count": 13,
     "metadata": {},
     "output_type": "execute_result"
    }
   ],
   "source": [
    "# works in our data\n",
    "works_in_df = works['id'].tolist()\n",
    "len(works_in_df)"
   ]
  },
  {
   "cell_type": "code",
   "execution_count": 14,
   "id": "f2939308-fb91-4650-b02b-a668a6a1902f",
   "metadata": {},
   "outputs": [
    {
     "data": {
      "text/plain": [
       "8896"
      ]
     },
     "execution_count": 14,
     "metadata": {},
     "output_type": "execute_result"
    }
   ],
   "source": [
    "# works in common\n",
    "len(set(works_in_df).intersection(ref_works))"
   ]
  },
  {
   "cell_type": "code",
   "execution_count": null,
   "id": "44a7ca9f-7431-407a-ab95-19f33842b4de",
   "metadata": {},
   "outputs": [],
   "source": []
  },
  {
   "cell_type": "code",
   "execution_count": null,
   "id": "5f54c0e3-77fb-49e6-9935-9f30c2e290f9",
   "metadata": {},
   "outputs": [],
   "source": [
    "## Distribution of 2012 CS paper types"
   ]
  },
  {
   "attachments": {
    "37cfbe96-0fa9-4b77-8bb2-f5db024b164f.png": {
     "image/png": "[encoded data removed]"
    }
   },
   "cell_type": "markdown",
   "id": "11d683df-fe83-47e5-83d2-58e1b29b57cd",
   "metadata": {},
   "source": [
    "![2012-cs-paper-type-distribution.png](attachment:37cfbe96-0fa9-4b77-8bb2-f5db024b164f.png)"
   ]
  },
  {
   "cell_type": "code",
   "execution_count": 17,
   "id": "718e96c3-9792-434b-918f-10cea97bb256",
   "metadata": {},
   "outputs": [
    {
     "name": "stderr",
     "output_type": "stream",
     "text": [
      "100%|██████████████████████████████████████████████████████████████████████████████████████████████████████████| 23/23 [00:16<00:00,  1.37it/s]\n"
     ]
    },
    {
     "data": {
      "text/plain": [
       "Text(0, 0.5, 'Count')"
      ]
     },
     "execution_count": 17,
     "metadata": {},
     "output_type": "execute_result"
    },
    {
     "data": {
      "image/png": "[encoded data removed]",
      "text/plain": [
       "<Figure size 640x480 with 1 Axes>"
      ]
     },
     "metadata": {},
     "output_type": "display_data"
    }
   ],
   "source": [
    "DATA_URL = 'https://api.openalex.org/works?'\\\n",
    "                'filter=from_publication_date:{}-01-01,'\\\n",
    "                'to_publication_date:{}-12-31,'\\\n",
    "                'has_abstract:true,'\\\n",
    "                'has_references:true,'\\\n",
    "                'is_paratext:false,'\\\n",
    "                'is_retracted:false,'\\\n",
    "                'type:proceedings-article,'\\\n",
    "                'concepts.id:C41008148'\n",
    "\n",
    "papers_over_years = []\n",
    "years = list(range(2000, 2023))\n",
    "for year_i in tqdm(years):\n",
    "    try:\n",
    "        response = requests.get(DATA_URL.format(year_i, year_i)).json()\n",
    "        counts = response['meta']['count']\n",
    "        papers_over_years.append(counts)\n",
    "    except Exception as err:\n",
    "        print (err)\n",
    "        print (response)\n",
    "        break\n",
    "\n",
    "sns.barplot(x=years, y=papers_over_years)\n",
    "plt.gca().set_title(\"CS Proceeding Paper Count as Variation of Time\")\n",
    "plt.xticks(rotation=70)\n",
    "plt.gca().set_xlabel(\"Year\")\n",
    "plt.gca().set_ylabel(\"Count\")"
   ]
  },
  {
   "cell_type": "code",
   "execution_count": 18,
   "id": "b70bfa97-d0e8-426a-a878-6a86c3f2c273",
   "metadata": {},
   "outputs": [
    {
     "name": "stderr",
     "output_type": "stream",
     "text": [
      "100%|██████████████████████████████████████████████████████████████████████████████████████████████████████████| 23/23 [00:20<00:00,  1.13it/s]\n"
     ]
    },
    {
     "data": {
      "text/plain": [
       "Text(0, 0.5, 'Count')"
      ]
     },
     "execution_count": 18,
     "metadata": {},
     "output_type": "execute_result"
    },
    {
     "data": {
      "image/png": "[encoded data removed]",
      "text/plain": [
       "<Figure size 640x480 with 1 Axes>"
      ]
     },
     "metadata": {},
     "output_type": "display_data"
    }
   ],
   "source": [
    "DATA_URL = 'https://api.openalex.org/works?'\\\n",
    "                'filter=from_publication_date:{}-01-01,'\\\n",
    "                'to_publication_date:{}-12-31,'\\\n",
    "                'has_abstract:true,'\\\n",
    "                'has_references:true,'\\\n",
    "                'is_paratext:false,'\\\n",
    "                'is_retracted:false,'\\\n",
    "                'type:journal-article,'\\\n",
    "                'concepts.id:C41008148'\n",
    "\n",
    "papers_over_years = []\n",
    "years = list(range(2000, 2023))\n",
    "for year_i in tqdm(years):\n",
    "    try:\n",
    "        response = requests.get(DATA_URL.format(year_i, year_i)).json()\n",
    "        counts = response['meta']['count']\n",
    "        papers_over_years.append(counts)\n",
    "    except Exception as err:\n",
    "        print (err)\n",
    "        print (response)\n",
    "        break\n",
    "\n",
    "sns.barplot(x=years, y=papers_over_years)\n",
    "plt.xticks(rotation=70)\n",
    "plt.gca().set_title(\"CS Journal-Article Paper Count as Variation of Time\")\n",
    "plt.gca().set_xlabel(\"Year\")\n",
    "plt.gca().set_ylabel(\"Count\")"
   ]
  },
  {
   "cell_type": "code",
   "execution_count": null,
   "id": "9a3537ee-573d-45c7-a5d6-dbdf6c648702",
   "metadata": {},
   "outputs": [],
   "source": []
  },
  {
   "cell_type": "code",
   "execution_count": null,
   "id": "1ceab632-5091-44ff-8479-125476ff55c5",
   "metadata": {},
   "outputs": [],
   "source": []
  },
  {
   "cell_type": "code",
   "execution_count": null,
   "id": "9c047101-12c9-4ad6-bded-709038914de3",
   "metadata": {},
   "outputs": [],
   "source": []
  }
 ],
 "metadata": {
  "kernelspec": {
   "display_name": "Python (clg-myenv)",
   "language": "python",
   "name": "clg-myenv"
  },
  "language_info": {
   "codemirror_mode": {
    "name": "ipython",
    "version": 3
   },
   "file_extension": ".py",
   "mimetype": "text/x-python",
   "name": "python",
   "nbconvert_exporter": "python",
   "pygments_lexer": "ipython3",
   "version": "3.9.13"
  }
 },
 "nbformat": 4,
 "nbformat_minor": 5
}
